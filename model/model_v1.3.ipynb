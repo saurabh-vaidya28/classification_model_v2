{
 "cells": [
  {
   "cell_type": "code",
   "execution_count": 21,
   "id": "13019234",
   "metadata": {},
   "outputs": [],
   "source": [
    "import numpy as np\n",
    "import pandas as pd\n",
    "import matplotlib.pyplot as plt\n",
    "%matplotlib inline\n",
    "import seaborn as sns\n",
    "\n",
    "import warnings\n",
    "warnings.simplefilter(action='ignore', category=FutureWarning)\n",
    "warnings.filterwarnings(\"ignore\")\n",
    "\n",
    "pd.set_option('display.max_rows', 500)\n",
    "pd.set_option('display.max_columns', 500)"
   ]
  },
  {
   "cell_type": "code",
   "execution_count": 22,
   "id": "374041c1",
   "metadata": {},
   "outputs": [],
   "source": [
    "from sklearn.preprocessing import StandardScaler\n",
    "from sklearn.linear_model import LogisticRegression\n",
    "from sklearn import svm\n",
    "from sklearn.tree import DecisionTreeClassifier\n",
    "from sklearn.ensemble import RandomForestClassifier\n",
    "from xgboost import XGBClassifier\n",
    "import xgboost as xgb"
   ]
  },
  {
   "cell_type": "code",
   "execution_count": 23,
   "id": "76c7d247",
   "metadata": {},
   "outputs": [],
   "source": [
    "\n",
    "from sklearn.metrics import accuracy_score\n",
    "from sklearn.metrics import recall_score\n",
    "from sklearn.metrics import precision_score\n",
    "from sklearn.metrics import f1_score\n",
    "from sklearn.metrics import jaccard_score\n",
    "from sklearn.metrics import log_loss\n",
    "from sklearn.metrics import roc_auc_score\n",
    "from sklearn.metrics import classification_report, confusion_matrix\n",
    "from sklearn.model_selection import GridSearchCV"
   ]
  },
  {
   "cell_type": "code",
   "execution_count": 24,
   "id": "42748d25",
   "metadata": {},
   "outputs": [],
   "source": [
    "df_train = pd.read_csv(r'C:\\Users\\100_rabh\\1. protium\\Train_v1.2.csv',sep=',',encoding='utf-8',parse_dates=True)\n",
    "df_test = pd.read_csv(r'C:\\Users\\100_rabh\\1. protium\\Test_v1.2.csv',sep=',',encoding='utf-8',parse_dates=True)"
   ]
  },
  {
   "cell_type": "code",
   "execution_count": 25,
   "id": "5c21ac63",
   "metadata": {},
   "outputs": [
    {
     "name": "stdout",
     "output_type": "stream",
     "text": [
      "Shape of train: (97480, 34)\n",
      "Shape of test: (24370, 34)\n"
     ]
    }
   ],
   "source": [
    "print(\"Shape of train:\", df_train.shape)\n",
    "print(\"Shape of test:\", df_test.shape)"
   ]
  },
  {
   "cell_type": "code",
   "execution_count": 26,
   "id": "804a32d8",
   "metadata": {
    "scrolled": true
   },
   "outputs": [
    {
     "name": "stdout",
     "output_type": "stream",
     "text": [
      "<class 'pandas.core.frame.DataFrame'>\n",
      "RangeIndex: 97480 entries, 0 to 97479\n",
      "Data columns (total 34 columns):\n",
      " #   Column                                      Non-Null Count  Dtype  \n",
      "---  ------                                      --------------  -----  \n",
      " 0   Patron_Salary                               97480 non-null  float64\n",
      " 1   Automobile_Possession                       97480 non-null  float64\n",
      " 2   Two-Wheeler_Ownership                       97480 non-null  float64\n",
      " 3   Ongoing_Borrowing                           97480 non-null  float64\n",
      " 4   Residence_Proprietorship                    97480 non-null  float64\n",
      " 5   Offspring_Number                            97480 non-null  float64\n",
      " 6   Loan_Capital                                97480 non-null  float64\n",
      " 7   Borrowing_Periodic_Payment                  97480 non-null  float64\n",
      " 8   Customer_Revenue_Category                   97480 non-null  object \n",
      " 9   Patron_Academic_Qualification               97480 non-null  object \n",
      " 10  Customer_Conjugal_State                     97480 non-null  object \n",
      " 11  Patron_Sex                                  97480 non-null  object \n",
      " 12  Borrowing_Agreement_Category                97480 non-null  object \n",
      " 13  Customer_Living_Arrangement                 97480 non-null  object \n",
      " 14  Population_Fraction_by_Region               97480 non-null  float64\n",
      " 15  Elderliness_in_Days                         97480 non-null  float64\n",
      " 16  Work_Duration_in_Days                       97480 non-null  float64\n",
      " 17  Enlistment_Period_in_Days                   97480 non-null  float64\n",
      " 18  Identity_Age_in_Days                        97480 non-null  float64\n",
      " 19  Cellphone_Marker                            97480 non-null  float64\n",
      " 20  Residential_Phone_Marker                    97480 non-null  float64\n",
      " 21  Employment_Phone_Operation                  97480 non-null  float64\n",
      " 22  Patron_Kin_Count                            97480 non-null  float64\n",
      " 23  Customer_Urban_Area_Ranking                 97480 non-null  float64\n",
      " 24  Request_Submission_Day                      97480 non-null  float64\n",
      " 25  Request_Submission_Hour                     97480 non-null  float64\n",
      " 26  Patron_Constant_Correspondence_Marker       97480 non-null  object \n",
      " 27  Customer_Professional_Communication_Marker  97480 non-null  object \n",
      " 28  Sort_of_Institution                         97480 non-null  object \n",
      " 29  Rating_Origin_2                             97480 non-null  float64\n",
      " 30  Rating_Origin_3                             97480 non-null  float64\n",
      " 31  Telecommunication_Switch                    97480 non-null  float64\n",
      " 32  Solvency_Information_Agency                 97480 non-null  float64\n",
      " 33  Default                                     97480 non-null  int64  \n",
      "dtypes: float64(24), int64(1), object(9)\n",
      "memory usage: 25.3+ MB\n"
     ]
    }
   ],
   "source": [
    "df_train.info()"
   ]
  },
  {
   "cell_type": "code",
   "execution_count": 27,
   "id": "654bc3ed",
   "metadata": {},
   "outputs": [],
   "source": [
    "for i in df_train.columns:\n",
    "    if df_train[i].dtypes == 'object':\n",
    "        df_train[i] = df_train[i].str.upper()\n",
    "        df_train[i] = df_train[i].str.strip()\n",
    "        \n",
    "        df_test[i] = df_test[i].str.upper()\n",
    "        df_test[i] = df_test[i].str.strip()"
   ]
  },
  {
   "cell_type": "code",
   "execution_count": 28,
   "id": "3e07b1b2",
   "metadata": {},
   "outputs": [],
   "source": [
    "# converting float to integer if column have 2 unique value\n",
    "for i in df_train.columns:\n",
    "    if df_train[i].dtypes == 'float':\n",
    "        if df_train[i].nunique() <= 2:\n",
    "            df_train[i] = df_train[i].astype(int)"
   ]
  },
  {
   "cell_type": "code",
   "execution_count": 29,
   "id": "05901bb9",
   "metadata": {},
   "outputs": [],
   "source": [
    "# converting float to integer if column have 2 unique value\n",
    "for i in df_test.columns:\n",
    "    if df_test[i].dtypes == 'float':\n",
    "        if df_test[i].nunique() <= 2:\n",
    "            df_test[i] = df_test[i].astype(int)"
   ]
  },
  {
   "cell_type": "markdown",
   "id": "9c5e75c4",
   "metadata": {},
   "source": [
    "### IV"
   ]
  },
  {
   "cell_type": "code",
   "execution_count": 30,
   "id": "bf938eff",
   "metadata": {},
   "outputs": [],
   "source": [
    "def iv_woe(data, target, bins, show_woe=False):\n",
    "    \n",
    "    #Empty Dataframe\n",
    "    newDF,woeDF = pd.DataFrame(), pd.DataFrame()\n",
    "    \n",
    "    #Extract Column Names\n",
    "    cols = data.columns\n",
    "    \n",
    "    #Run WOE and IV on all the independent variables\n",
    "    for ivars in cols[~cols.isin([target])]:\n",
    "        if (data[ivars].dtype.kind in 'bifc') and (len(np.unique(data[ivars]))>10):\n",
    "            binned_x = pd.qcut(data[ivars], bins,  duplicates='drop')\n",
    "            d0 = pd.DataFrame({'x': binned_x, 'y': data[target]})\n",
    "        else:\n",
    "            d0 = pd.DataFrame({'x': data[ivars], 'y': data[target]})\n",
    "        d = d0.groupby(\"x\", as_index=False).agg({\"y\": [\"count\", \"sum\"]})\n",
    "        d.columns = ['Cutoff', 'N', 'Events']\n",
    "        d['% of Events'] = np.maximum(d['Events'], 0.5) / d['Events'].sum()\n",
    "        d['Non-Events'] = d['N'] - d['Events']\n",
    "        d['% of Non-Events'] = np.maximum(d['Non-Events'], 0.5) / d['Non-Events'].sum()\n",
    "        d['WoE'] = np.log(d['% of Events']/d['% of Non-Events'])\n",
    "        d['IV'] = d['WoE'] * (d['% of Events'] - d['% of Non-Events'])\n",
    "        d.insert(loc=0, column='Variable', value=ivars)\n",
    "        print(\"Information value of \" + ivars + \" is \" + str(round(d['IV'].sum(),6)))\n",
    "        temp =pd.DataFrame({\"Variable\" : [ivars], \"IV\" : [d['IV'].sum()]}, columns = [\"Variable\", \"IV\"])\n",
    "        newDF=pd.concat([newDF,temp], axis=0)\n",
    "        woeDF=pd.concat([woeDF,d], axis=0)\n",
    "\n",
    "        #Show WOE Table\n",
    "        if show_woe == True:\n",
    "            print(d)\n",
    "    return newDF, woeDF"
   ]
  },
  {
   "cell_type": "code",
   "execution_count": 31,
   "id": "0db1e8d8",
   "metadata": {
    "scrolled": true
   },
   "outputs": [
    {
     "name": "stdout",
     "output_type": "stream",
     "text": [
      "Information value of Patron_Salary is 0.010128\n",
      "        Variable               Cutoff      N  Events  % of Events  Non-Events  \\\n",
      "0  Patron_Salary  (6749.999, 11250.0]  30980    2570     0.326349       28410   \n",
      "1  Patron_Salary   (11250.0, 14400.0]  18366    1596     0.202667       16770   \n",
      "2  Patron_Salary   (14400.0, 20250.0]  26138    2223     0.282286       23915   \n",
      "3  Patron_Salary   (20250.0, 33750.0]  21996    1486     0.188698       20510   \n",
      "\n",
      "   % of Non-Events       WoE        IV  \n",
      "0         0.317058  0.028883  0.000268  \n",
      "1         0.187155  0.079627  0.001235  \n",
      "2         0.266894  0.056070  0.000863  \n",
      "3         0.228893 -0.193107  0.007762  \n",
      "Information value of Automobile_Possession is 0.007117\n",
      "                Variable  Cutoff      N  Events  % of Events  Non-Events  \\\n",
      "0  Automobile_Possession       0  65025    5537     0.703111       59488   \n",
      "1  Automobile_Possession       1  32455    2338     0.296889       30117   \n",
      "\n",
      "   % of Non-Events       WoE        IV  \n",
      "0         0.663892  0.057396  0.002251  \n",
      "1         0.336108 -0.124076  0.004866  \n",
      "Information value of Two-Wheeler_Ownership is 3.5e-05\n",
      "                Variable  Cutoff      N  Events  % of Events  Non-Events  \\\n",
      "0  Two-Wheeler_Ownership       0  66076    5318     0.675302       60758   \n",
      "1  Two-Wheeler_Ownership       1  31404    2557     0.324698       28847   \n",
      "\n",
      "   % of Non-Events       WoE        IV  \n",
      "0         0.678065 -0.004084  0.000011  \n",
      "1         0.321935  0.008547  0.000024  \n",
      "Information value of Ongoing_Borrowing is 2e-06\n",
      "            Variable  Cutoff      N  Events  % of Events  Non-Events  \\\n",
      "0  Ongoing_Borrowing       0  49583    4011     0.509333       45572   \n",
      "1  Ongoing_Borrowing       1  47897    3864     0.490667       44033   \n",
      "\n",
      "   % of Non-Events       WoE        IV  \n",
      "0         0.508588  0.001465  0.000001  \n",
      "1         0.491412 -0.001518  0.000001  \n",
      "Information value of Residence_Proprietorship is 6e-06\n",
      "                   Variable  Cutoff      N  Events  % of Events  Non-Events  \\\n",
      "0  Residence_Proprietorship       0  29178    2349     0.298286       26829   \n",
      "1  Residence_Proprietorship       1  68302    5526     0.701714       62776   \n",
      "\n",
      "   % of Non-Events       WoE        IV  \n",
      "0         0.299414 -0.003776  0.000004  \n",
      "1         0.700586  0.001609  0.000002  \n",
      "Information value of Offspring_Number is 0.007183\n",
      "           Variable  Cutoff      N  Events  % of Events  Non-Events  \\\n",
      "0  Offspring_Number     0.0  69192    5308     0.674032       63884   \n",
      "1  Offspring_Number     1.0  18700    1711     0.217270       16989   \n",
      "2  Offspring_Number     2.0   9588     856     0.108698        8732   \n",
      "\n",
      "   % of Non-Events       WoE        IV  \n",
      "0         0.712951 -0.056136  0.002185  \n",
      "1         0.189599  0.136230  0.003770  \n",
      "2         0.097450  0.109239  0.001229  \n",
      "Information value of Loan_Capital is 0.036958\n",
      "       Variable                Cutoff      N  Events  % of Events  Non-Events  \\\n",
      "0  Loan_Capital  (14219.999, 27504.0]  24392    1738     0.220698       22654   \n",
      "1  Loan_Capital   (27504.0, 50849.55]  24364    2328     0.295619       22036   \n",
      "2  Loan_Capital   (50849.55, 80865.0]  25355    2356     0.299175       22999   \n",
      "3  Loan_Capital   (80865.0, 135000.0]  23369    1453     0.184508       21916   \n",
      "\n",
      "   % of Non-Events       WoE        IV  \n",
      "0         0.252821 -0.135883  0.004365  \n",
      "1         0.245924  0.184050  0.009146  \n",
      "2         0.256671  0.153232  0.006513  \n",
      "3         0.244585 -0.281869  0.016934  \n",
      "Information value of Borrowing_Periodic_Payment is 0.01401\n",
      "                     Variable              Cutoff      N  Events  % of Events  \\\n",
      "0  Borrowing_Periodic_Payment   (899.999, 1687.5]  24499    1726     0.219175   \n",
      "1  Borrowing_Periodic_Payment   (1687.5, 2484.45]  24463    2156     0.273778   \n",
      "2  Borrowing_Periodic_Payment  (2484.45, 3411.45]  24175    2194     0.278603   \n",
      "3  Borrowing_Periodic_Payment   (3411.45, 5322.6]  24343    1799     0.228444   \n",
      "\n",
      "   Non-Events  % of Non-Events       WoE        IV  \n",
      "0       22773         0.254149 -0.148051  0.005178  \n",
      "1       22307         0.248948  0.095072  0.002361  \n",
      "2       21981         0.245310  0.127266  0.004237  \n",
      "3       22544         0.251593 -0.096520  0.002234  \n",
      "Information value of Customer_Revenue_Category is 0.048111\n",
      "                    Variable           Cutoff      N  Events  % of Events  \\\n",
      "0  Customer_Revenue_Category      BUSINESSMAN      1       0     0.000063   \n",
      "1  Customer_Revenue_Category       COMMERCIAL  22237    1690     0.214603   \n",
      "2  Customer_Revenue_Category         GOVT JOB   6678     391     0.049651   \n",
      "3  Customer_Revenue_Category  MATERNITY LEAVE      1       0     0.000063   \n",
      "4  Customer_Revenue_Category          RETIRED  16895     935     0.118730   \n",
      "5  Customer_Revenue_Category          SERVICE  51662    4859     0.617016   \n",
      "6  Customer_Revenue_Category          STUDENT      6       0     0.000063   \n",
      "\n",
      "   Non-Events  % of Non-Events       WoE            IV  \n",
      "0           1         0.000011  1.738571  9.098284e-05  \n",
      "1       20547         0.229306 -0.066268  9.743604e-04  \n",
      "2        6287         0.070163 -0.345814  7.093575e-03  \n",
      "3           1         0.000011  1.738571  9.098284e-05  \n",
      "4       15960         0.178115 -0.405576  2.408511e-02  \n",
      "5       46803         0.522326  0.166603  1.577568e-02  \n",
      "6           6         0.000067 -0.053189  1.844843e-07  \n",
      "Information value of Patron_Academic_Qualification is 0.059378\n",
      "                        Variable              Cutoff      N  Events  \\\n",
      "0  Patron_Academic_Qualification          GRADUATION  23092    1176   \n",
      "1  Patron_Academic_Qualification  GRADUATION DROPOUT   3160     272   \n",
      "2  Patron_Academic_Qualification    JUNIOR SECONDARY   1151     118   \n",
      "3  Patron_Academic_Qualification           POST GRAD     50       1   \n",
      "4  Patron_Academic_Qualification           SECONDARY  70027    6308   \n",
      "\n",
      "   % of Events  Non-Events  % of Non-Events       WoE        IV  \n",
      "0     0.149333       21916         0.244585 -0.493380  0.046995  \n",
      "1     0.034540        2888         0.032230  0.069201  0.000160  \n",
      "2     0.014984        1033         0.011528  0.262180  0.000906  \n",
      "3     0.000127          49         0.000547 -1.460102  0.000613  \n",
      "4     0.801016       63719         0.711110  0.119054  0.010704  \n",
      "Information value of Customer_Conjugal_State is 0.01041\n",
      "                  Variable Cutoff      N  Events  % of Events  Non-Events  \\\n",
      "0  Customer_Conjugal_State      D   6015     449     0.057016        5566   \n",
      "1  Customer_Conjugal_State      M  72636    5758     0.731175       66878   \n",
      "2  Customer_Conjugal_State      S  13951    1359     0.172571       12592   \n",
      "3  Customer_Conjugal_State      W   4878     309     0.039238        4569   \n",
      "\n",
      "   % of Non-Events       WoE        IV  \n",
      "0         0.062117 -0.085691  0.000437  \n",
      "1         0.746365 -0.020562  0.000312  \n",
      "2         0.140528  0.205405  0.006582  \n",
      "3         0.050990 -0.261990  0.003079  \n",
      "Information value of Patron_Sex is 0.031529\n",
      "     Variable  Cutoff      N  Events  % of Events  Non-Events  \\\n",
      "0  Patron_Sex  FEMALE  32834    3273     0.415619       29561   \n",
      "1  Patron_Sex    MALE  64646    4602     0.584381       60044   \n",
      "\n",
      "   % of Non-Events       WoE        IV  \n",
      "0         0.329903  0.230969  0.019798  \n",
      "1         0.670097 -0.136869  0.011732  \n",
      "Information value of Borrowing_Agreement_Category is 0.011536\n",
      "                       Variable Cutoff      N  Events  % of Events  \\\n",
      "0  Borrowing_Agreement_Category     CL  88654    7370     0.935873   \n",
      "1  Borrowing_Agreement_Category     RL   8826     505     0.064127   \n",
      "\n",
      "   Non-Events  % of Non-Events       WoE        IV  \n",
      "0       81284         0.907137  0.031186  0.000896  \n",
      "1        8321         0.092863 -0.370261  0.010640  \n",
      "Information value of Customer_Living_Arrangement is 0.013305\n",
      "                      Variable     Cutoff      N  Events  % of Events  \\\n",
      "0  Customer_Living_Arrangement     FAMILY   4635     516     0.065524   \n",
      "1  Customer_Living_Arrangement       HOME  86836    6789     0.862095   \n",
      "2  Customer_Living_Arrangement  MUNICIPAL   3406     293     0.037206   \n",
      "3  Customer_Living_Arrangement     OFFICE    807      57     0.007238   \n",
      "4  Customer_Living_Arrangement     RENTAL   1446     183     0.023238   \n",
      "5  Customer_Living_Arrangement     SHARED    350      37     0.004698   \n",
      "\n",
      "   Non-Events  % of Non-Events       WoE        IV  \n",
      "0        4119         0.045968  0.354459  0.006932  \n",
      "1       80047         0.893332 -0.035592  0.001112  \n",
      "2        3113         0.034741  0.068548  0.000169  \n",
      "3         750         0.008370 -0.145304  0.000164  \n",
      "4        1263         0.014095  0.499959  0.004571  \n",
      "5         313         0.003493  0.296433  0.000357  \n",
      "Information value of Population_Fraction_by_Region is 0.009864\n",
      "                        Variable            Cutoff      N  Events  \\\n",
      "0  Population_Fraction_by_Region     (0.004, 0.01]  24975    2170   \n",
      "1  Population_Fraction_by_Region    (0.01, 0.0188]  25944    2223   \n",
      "2  Population_Fraction_by_Region  (0.0188, 0.0264]  22201    1807   \n",
      "3  Population_Fraction_by_Region  (0.0264, 0.0462]  24360    1675   \n",
      "\n",
      "   % of Events  Non-Events  % of Non-Events       WoE        IV  \n",
      "0     0.275556       22805         0.254506  0.079465  0.001673  \n",
      "1     0.282286       23721         0.264729  0.064215  0.001127  \n",
      "2     0.229460       20394         0.227599  0.008145  0.000015  \n",
      "3     0.212698       22685         0.253167 -0.174173  0.007048  \n",
      "Information value of Elderliness_in_Days is 0.071282\n",
      "              Variable               Cutoff      N  Events  % of Events  \\\n",
      "0  Elderliness_in_Days  (9443.999, 12502.0]  24373    2649     0.336381   \n",
      "1  Elderliness_in_Days   (12502.0, 15583.0]  24371    2073     0.263238   \n",
      "2  Elderliness_in_Days   (15583.0, 19625.0]  24368    1832     0.232635   \n",
      "3  Elderliness_in_Days   (19625.0, 23191.0]  24368    1321     0.167746   \n",
      "\n",
      "   Non-Events  % of Non-Events       WoE        IV  \n",
      "0       21724         0.242442  0.327483  0.030763  \n",
      "1       22298         0.248848  0.056218  0.000809  \n",
      "2       22536         0.251504 -0.077988  0.001472  \n",
      "3       23047         0.257207 -0.427429  0.038238  \n",
      "Information value of Work_Duration_in_Days is 0.102266\n",
      "                Variable              Cutoff      N  Events  % of Events  \\\n",
      "0  Work_Duration_in_Days    (231.999, 964.0]  24388    2734     0.347175   \n",
      "1  Work_Duration_in_Days     (964.0, 2159.0]  24367    2288     0.290540   \n",
      "2  Work_Duration_in_Days    (2159.0, 5563.0]  24359    1570     0.199365   \n",
      "3  Work_Duration_in_Days  (5563.0, 365243.0]  24366    1283     0.162921   \n",
      "\n",
      "   Non-Events  % of Non-Events       WoE        IV  \n",
      "0       21654         0.241661  0.362293  0.038227  \n",
      "1       22079         0.246404  0.164769  0.007272  \n",
      "2       22789         0.254327 -0.243484  0.013382  \n",
      "3       23083         0.257608 -0.458177  0.043384  \n"
     ]
    },
    {
     "name": "stdout",
     "output_type": "stream",
     "text": [
      "Information value of Enlistment_Period_in_Days is 0.019159\n",
      "                    Variable              Cutoff      N  Events  % of Events  \\\n",
      "0  Enlistment_Period_in_Days  (343.999, 2087.75]  24370    2187     0.277714   \n",
      "1  Enlistment_Period_in_Days   (2087.75, 4406.0]  24376    2123     0.269587   \n",
      "2  Enlistment_Period_in_Days   (4406.0, 7352.25]  24364    2001     0.254095   \n",
      "3  Enlistment_Period_in_Days  (7352.25, 11339.0]  24370    1564     0.198603   \n",
      "\n",
      "   Non-Events  % of Non-Events       WoE        IV  \n",
      "0       22183         0.247564  0.114922  0.003465  \n",
      "1       22253         0.248346  0.082071  0.001743  \n",
      "2       22363         0.249573  0.017957  0.000081  \n",
      "3       22806         0.254517 -0.248059  0.013870  \n",
      "Information value of Identity_Age_in_Days is 0.04018\n",
      "               Variable             Cutoff      N  Events  % of Events  \\\n",
      "0  Identity_Age_in_Days  (383.999, 1789.0]  24373    2442     0.310095   \n",
      "1  Identity_Age_in_Days   (1789.0, 3148.0]  24377    2093     0.265778   \n",
      "2  Identity_Age_in_Days   (3148.0, 4262.0]  24379    1886     0.239492   \n",
      "3  Identity_Age_in_Days   (4262.0, 4927.0]  24351    1454     0.184635   \n",
      "\n",
      "   Non-Events  % of Non-Events       WoE        IV  \n",
      "0       21931         0.244752  0.236634  0.015462  \n",
      "1       22284         0.248691  0.066447  0.001135  \n",
      "2       22493         0.251024 -0.047028  0.000542  \n",
      "3       22897         0.255533 -0.324970  0.023040  \n",
      "Information value of Cellphone_Marker is 0.0\n",
      "           Variable  Cutoff      N  Events  % of Events  Non-Events  \\\n",
      "0  Cellphone_Marker       1  97480    7875          1.0       89605   \n",
      "\n",
      "   % of Non-Events  WoE   IV  \n",
      "0              1.0  0.0  0.0  \n",
      "Information value of Residential_Phone_Marker is 0.007277\n",
      "                   Variable  Cutoff      N  Events  % of Events  Non-Events  \\\n",
      "0  Residential_Phone_Marker       0  77976    6046     0.767746       71930   \n",
      "1  Residential_Phone_Marker       1  19504    1829     0.232254       17675   \n",
      "\n",
      "   % of Non-Events       WoE        IV  \n",
      "0         0.802745 -0.044579  0.001560  \n",
      "1         0.197255  0.163336  0.005717  \n",
      "Information value of Employment_Phone_Operation is 0.007908\n",
      "                     Variable  Cutoff      N  Events  % of Events  Non-Events  \\\n",
      "0  Employment_Phone_Operation       0  70064    5944     0.754794       64120   \n",
      "1  Employment_Phone_Operation       1  27416    1931     0.245206       25485   \n",
      "\n",
      "   % of Non-Events       WoE        IV  \n",
      "0         0.715585  0.053344  0.002092  \n",
      "1         0.284415 -0.148334  0.005816  \n",
      "Information value of Patron_Kin_Count is 0.005816\n",
      "           Variable  Cutoff      N  Events  % of Events  Non-Events  \\\n",
      "0  Patron_Kin_Count     1.0  21050    1745     0.221587       19305   \n",
      "1  Patron_Kin_Count     2.0  51138    3875     0.492063       47263   \n",
      "2  Patron_Kin_Count     3.0  16360    1448     0.183873       14912   \n",
      "3  Patron_Kin_Count     4.0   8932     807     0.102476        8125   \n",
      "\n",
      "   % of Non-Events       WoE        IV  \n",
      "0         0.215446  0.028108  0.000173  \n",
      "1         0.527459 -0.069464  0.002459  \n",
      "2         0.166419  0.099735  0.001741  \n",
      "3         0.090676  0.122341  0.001444  \n",
      "Information value of Customer_Urban_Area_Ranking is 0.04305\n",
      "                      Variable  Cutoff      N  Events  % of Events  \\\n",
      "0  Customer_Urban_Area_Ranking     1.0  10767     567     0.072000   \n",
      "1  Customer_Urban_Area_Ranking     2.0  73049    5756     0.730921   \n",
      "2  Customer_Urban_Area_Ranking     3.0  13664    1552     0.197079   \n",
      "\n",
      "   Non-Events  % of Non-Events       WoE        IV  \n",
      "0       10200         0.113833 -0.458066  0.019162  \n",
      "1       67293         0.750996 -0.027095  0.000544  \n",
      "2       12112         0.135171  0.377066  0.023344  \n",
      "Information value of Request_Submission_Day is 0.00226\n",
      "                 Variable  Cutoff      N  Events  % of Events  Non-Events  \\\n",
      "0  Request_Submission_Day     0.0   5001     366     0.046476        4635   \n",
      "1  Request_Submission_Day     1.0  15790    1186     0.150603       14604   \n",
      "2  Request_Submission_Day     2.0  16741    1412     0.179302       15329   \n",
      "3  Request_Submission_Day     3.0  18048    1502     0.190730       16546   \n",
      "4  Request_Submission_Day     4.0  15721    1261     0.160127       14460   \n",
      "5  Request_Submission_Day     5.0  15699    1275     0.161905       14424   \n",
      "6  Request_Submission_Day     6.0  10480     873     0.110857        9607   \n",
      "\n",
      "   % of Non-Events       WoE        IV  \n",
      "0         0.051727 -0.107040  0.000562  \n",
      "1         0.162982 -0.078991  0.000978  \n",
      "2         0.171073  0.046979  0.000387  \n",
      "3         0.184655  0.032371  0.000197  \n",
      "4         0.161375 -0.007763  0.000010  \n",
      "5         0.160973  0.005771  0.000005  \n",
      "6         0.107215  0.033406  0.000122  \n",
      "Information value of Request_Submission_Hour is 0.003925\n",
      "                  Variable         Cutoff      N  Events  % of Events  \\\n",
      "0  Request_Submission_Hour  (6.999, 10.0]  31589    2742     0.348190   \n",
      "1  Request_Submission_Hour   (10.0, 12.0]  24808    2005     0.254603   \n",
      "2  Request_Submission_Hour   (12.0, 14.0]  17924    1394     0.177016   \n",
      "3  Request_Submission_Hour   (14.0, 17.0]  23159    1734     0.220190   \n",
      "\n",
      "   Non-Events  % of Non-Events       WoE            IV  \n",
      "0       28847         0.321935  0.078400  2.058404e-03  \n",
      "1       22803         0.254484  0.000470  5.620274e-08  \n",
      "2       16530         0.184476 -0.041282  3.079794e-04  \n",
      "3       21425         0.239105 -0.082410  1.558736e-03  \n",
      "Information value of Patron_Constant_Correspondence_Marker is 0.020859\n",
      "                                Variable Cutoff      N  Events  % of Events  \\\n",
      "0  Patron_Constant_Correspondence_Marker     NO   7547     914     0.116063   \n",
      "1  Patron_Constant_Correspondence_Marker    YES  89933    6961     0.883937   \n",
      "\n",
      "   Non-Events  % of Non-Events       WoE        IV  \n",
      "0        6633         0.074025  0.449736  0.018906  \n",
      "1       82972         0.925975 -0.046462  0.001953  \n",
      "Information value of Customer_Professional_Communication_Marker is 0.010489\n",
      "                                     Variable Cutoff      N  Events  \\\n",
      "0  Customer_Professional_Communication_Marker     NO  17374    1697   \n",
      "1  Customer_Professional_Communication_Marker    YES  80106    6178   \n",
      "\n",
      "   % of Events  Non-Events  % of Non-Events       WoE        IV  \n",
      "0     0.215492       15677         0.174957  0.208385  0.008447  \n",
      "1     0.784508       73928         0.825043 -0.050379  0.002042  \n",
      "Information value of Sort_of_Institution is 0.075148\n",
      "               Variable                  Cutoff      N  Events  % of Events  \\\n",
      "0   Sort_of_Institution             ADVERTISING    125       9     0.001143   \n",
      "1   Sort_of_Institution             AGRICULTURE    813      93     0.011810   \n",
      "2   Sort_of_Institution                    BANK    829      42     0.005333   \n",
      "3   Sort_of_Institution  BUSINESS ENTITY TYPE 1   1841     174     0.022095   \n",
      "4   Sort_of_Institution  BUSINESS ENTITY TYPE 2  20192    1204     0.152889   \n",
      "5   Sort_of_Institution  BUSINESS ENTITY TYPE 3  23806    2151     0.273143   \n",
      "6   Sort_of_Institution                CLEANING    104      11     0.001397   \n",
      "7   Sort_of_Institution            CONSTRUCTION   2087     245     0.031111   \n",
      "8   Sort_of_Institution                 CULTURE    107       7     0.000889   \n",
      "9   Sort_of_Institution             ELECTRICITY    295      15     0.001905   \n",
      "10  Sort_of_Institution               EMERGENCY    157      21     0.002667   \n",
      "11  Sort_of_Institution              GOVERNMENT   3176     209     0.026540   \n",
      "12  Sort_of_Institution                   HOTEL    320      21     0.002667   \n",
      "13  Sort_of_Institution                 HOUSING    926      81     0.010286   \n",
      "14  Sort_of_Institution        INDUSTRY: TYPE 1    316      39     0.004952   \n",
      "15  Sort_of_Institution       INDUSTRY: TYPE 10     34       4     0.000508   \n",
      "16  Sort_of_Institution       INDUSTRY: TYPE 11    821      78     0.009905   \n",
      "17  Sort_of_Institution       INDUSTRY: TYPE 12    125       6     0.000762   \n",
      "18  Sort_of_Institution       INDUSTRY: TYPE 13     28       2     0.000254   \n",
      "19  Sort_of_Institution        INDUSTRY: TYPE 2    147       8     0.001016   \n",
      "20  Sort_of_Institution        INDUSTRY: TYPE 3    979      97     0.012317   \n",
      "21  Sort_of_Institution        INDUSTRY: TYPE 4    278      33     0.004190   \n",
      "22  Sort_of_Institution        INDUSTRY: TYPE 5    187      12     0.001524   \n",
      "23  Sort_of_Institution        INDUSTRY: TYPE 6     31       1     0.000127   \n",
      "24  Sort_of_Institution        INDUSTRY: TYPE 7    380      27     0.003429   \n",
      "25  Sort_of_Institution        INDUSTRY: TYPE 8      5       1     0.000127   \n",
      "26  Sort_of_Institution        INDUSTRY: TYPE 9   1027      67     0.008508   \n",
      "27  Sort_of_Institution               INSURANCE    170       2     0.000254   \n",
      "28  Sort_of_Institution            KINDERGARTEN   2112     138     0.017524   \n",
      "29  Sort_of_Institution          LEGAL SERVICES     93      10     0.001270   \n",
      "30  Sort_of_Institution                MEDICINE   3630     263     0.033397   \n",
      "31  Sort_of_Institution                MILITARY    835      40     0.005079   \n",
      "32  Sort_of_Institution                  MOBILE    100      10     0.001270   \n",
      "33  Sort_of_Institution                   OTHER   4980     387     0.049143   \n",
      "34  Sort_of_Institution                  POLICE    738      34     0.004317   \n",
      "35  Sort_of_Institution                  POSTAL    692      64     0.008127   \n",
      "36  Sort_of_Institution                 REALTOR    123      11     0.001397   \n",
      "37  Sort_of_Institution                RELIGION     31       2     0.000254   \n",
      "38  Sort_of_Institution              RESTAURANT    554      61     0.007746   \n",
      "39  Sort_of_Institution                  SCHOOL   2696     141     0.017905   \n",
      "40  Sort_of_Institution                SECURITY   1035     116     0.014730   \n",
      "41  Sort_of_Institution     SECURITY MINISTRIES    601      28     0.003556   \n",
      "42  Sort_of_Institution           SELF-EMPLOYED  11782    1186     0.150603   \n",
      "43  Sort_of_Institution                SERVICES    453      26     0.003302   \n",
      "44  Sort_of_Institution                 TELECOM    175      12     0.001524   \n",
      "45  Sort_of_Institution           TRADE: TYPE 1    107       6     0.000762   \n",
      "46  Sort_of_Institution           TRADE: TYPE 2    568      31     0.003937   \n",
      "47  Sort_of_Institution           TRADE: TYPE 3   1055     106     0.013460   \n",
      "48  Sort_of_Institution           TRADE: TYPE 4     23       1     0.000127   \n",
      "49  Sort_of_Institution           TRADE: TYPE 5     11       3     0.000381   \n",
      "50  Sort_of_Institution           TRADE: TYPE 6    211       9     0.001143   \n",
      "51  Sort_of_Institution           TRADE: TYPE 7   2377     227     0.028825   \n",
      "52  Sort_of_Institution       TRANSPORT: TYPE 1     62       3     0.000381   \n",
      "53  Sort_of_Institution       TRANSPORT: TYPE 2    639      44     0.005587   \n",
      "54  Sort_of_Institution       TRANSPORT: TYPE 3    401      60     0.007619   \n",
      "55  Sort_of_Institution       TRANSPORT: TYPE 4   1648     176     0.022349   \n",
      "56  Sort_of_Institution              UNIVERSITY    442      20     0.002540   \n",
      "\n",
      "    Non-Events  % of Non-Events       WoE        IV  \n",
      "0          116         0.001295 -0.124648  0.000019  \n",
      "1          720         0.008035  0.385066  0.001453  \n",
      "2          787         0.008783 -0.498841  0.001721  \n",
      "3         1667         0.018604  0.171992  0.000600  \n",
      "4        18988         0.211908 -0.326440  0.019266  \n",
      "5        21655         0.241672  0.122414  0.003853  \n",
      "6           93         0.001038  0.297014  0.000107  \n",
      "7         1842         0.020557  0.414369  0.004373  \n",
      "8          100         0.001116 -0.227542  0.000052  \n",
      "9          280         0.003125 -0.495021  0.000604  \n",
      "10         136         0.001518  0.563585  0.000648  \n",
      "11        2967         0.033112 -0.221254  0.001454  \n",
      "12         299         0.003337 -0.224203  0.000150  \n",
      "13         845         0.009430  0.086830  0.000074  \n",
      "14         277         0.003091  0.471262  0.000877  \n",
      "15          30         0.000335  0.416815  0.000072  \n",
      "16         743         0.008292  0.177731  0.000287  \n",
      "17         119         0.001328 -0.555646  0.000315  \n",
      "18          26         0.000290 -0.133231  0.000005  \n",
      "19         139         0.001551 -0.423314  0.000227  \n",
      "20         882         0.009843  0.224237  0.000555  \n",
      "21         245         0.002734  0.426967  0.000622  \n",
      "22         175         0.001953 -0.248161  0.000107  \n",
      "23          30         0.000335 -0.969479  0.000201  \n",
      "24         353         0.003940 -0.138913  0.000071  \n",
      "25           4         0.000045  1.045424  0.000086  \n",
      "26         960         0.010714 -0.230523  0.000508  \n",
      "27         168         0.001875 -1.999099  0.003240  \n",
      "28        1974         0.022030 -0.228846  0.001031  \n",
      "29          83         0.000926  0.315462  0.000108  \n",
      "30        3367         0.037576 -0.117905  0.000493  \n",
      "31         795         0.008872 -0.557745  0.002115  \n",
      "32          90         0.001004  0.234493  0.000062  \n",
      "33        4593         0.051258 -0.042146  0.000089  \n",
      "34         704         0.007857 -0.598700  0.002119  \n",
      "35         628         0.007009  0.148061  0.000166  \n",
      "36         112         0.001250  0.111114  0.000016  \n",
      "37          29         0.000324 -0.242431  0.000017  \n",
      "38         493         0.005502  0.342083  0.000768  \n",
      "39        2555         0.028514 -0.465330  0.004937  \n",
      "40         919         0.010256  0.362022  0.001620  \n",
      "41         573         0.006395 -0.586963  0.001666  \n",
      "42       10596         0.118252  0.241828  0.007823  \n",
      "43         427         0.004765 -0.366970  0.000537  \n",
      "44         163         0.001819 -0.177126  0.000052  \n",
      "45         101         0.001127 -0.391643  0.000143  \n",
      "46         537         0.005993 -0.420293  0.000864  \n",
      "47         949         0.010591  0.239748  0.000688  \n",
      "48          22         0.000246 -0.659325  0.000078  \n",
      "49           8         0.000089  1.450889  0.000423  \n",
      "50         202         0.002254 -0.679325  0.000755  \n",
      "51        2150         0.023994  0.183445  0.000886  \n",
      "52          59         0.000658 -0.547207  0.000152  \n",
      "53         595         0.006640 -0.172654  0.000182  \n",
      "54         341         0.003806  0.694180  0.002647  \n",
      "55        1472         0.016428  0.307825  0.001823  \n",
      "56         422         0.004710 -0.617555  0.001340  \n"
     ]
    },
    {
     "name": "stdout",
     "output_type": "stream",
     "text": [
      "Information value of Rating_Origin_2 is 0.227251\n",
      "          Variable          Cutoff      N  Events  % of Events  Non-Events  \\\n",
      "0  Rating_Origin_2  (0.137, 0.403]  24370    3341     0.424254       21029   \n",
      "1  Rating_Origin_2  (0.403, 0.561]  24371    1960     0.248889       22411   \n",
      "2  Rating_Origin_2   (0.561, 0.66]  24369    1605     0.203810       22764   \n",
      "3  Rating_Origin_2   (0.66, 0.746]  24370     969     0.123048       23401   \n",
      "\n",
      "   % of Non-Events       WoE        IV  \n",
      "0         0.234686  0.592086  0.112241  \n",
      "1         0.250109 -0.004889  0.000006  \n",
      "2         0.254048 -0.220339  0.011070  \n",
      "3         0.261157 -0.752551  0.103935  \n",
      "Information value of Rating_Origin_3 is 0.246068\n",
      "          Variable          Cutoff      N  Events  % of Events  Non-Events  \\\n",
      "0  Rating_Origin_3  (0.179, 0.424]  24458    3359     0.426540       21099   \n",
      "1  Rating_Origin_3  (0.424, 0.521]  28208    2390     0.303492       25818   \n",
      "2  Rating_Origin_3  (0.521, 0.631]  20631    1178     0.149587       19453   \n",
      "3  Rating_Origin_3  (0.631, 0.774]  24183     948     0.120381       23235   \n",
      "\n",
      "   % of Non-Events       WoE        IV  \n",
      "0         0.235467  0.594136  0.113523  \n",
      "1         0.288131  0.051939  0.000798  \n",
      "2         0.217097 -0.372465  0.025145  \n",
      "3         0.259305 -0.767343  0.106602  \n",
      "Information value of Telecommunication_Switch is 0.042074\n",
      "                   Variable            Cutoff      N  Events  % of Events  \\\n",
      "0  Telecommunication_Switch   (-0.001, 287.0]  24412    2342     0.297397   \n",
      "1  Telecommunication_Switch    (287.0, 752.0]  24906    2320     0.294603   \n",
      "2  Telecommunication_Switch   (752.0, 1548.0]  23827    1768     0.224508   \n",
      "3  Telecommunication_Switch  (1548.0, 2513.0]  24335    1445     0.183492   \n",
      "\n",
      "   Non-Events  % of Non-Events       WoE        IV  \n",
      "0       22070         0.246303  0.188504  0.009631  \n",
      "1       22586         0.252062  0.155955  0.006635  \n",
      "2       22059         0.246180 -0.092154  0.001997  \n",
      "3       22890         0.255454 -0.330873  0.023810  \n",
      "Information value of Solvency_Information_Agency is 0.005584\n",
      "                      Variable  Cutoff      N  Events  % of Events  \\\n",
      "0  Solvency_Information_Agency     0.0  22404    1626     0.206476   \n",
      "1  Solvency_Information_Agency     1.0  31953    2711     0.344254   \n",
      "2  Solvency_Information_Agency     2.0  18252    1499     0.190349   \n",
      "3  Solvency_Information_Agency     3.0  10369     792     0.100571   \n",
      "4  Solvency_Information_Agency     4.0   6408     518     0.065778   \n",
      "5  Solvency_Information_Agency     5.0   8094     729     0.092571   \n",
      "\n",
      "   Non-Events  % of Non-Events       WoE            IV  \n",
      "0       20778         0.231884 -0.116054  2.948717e-03  \n",
      "1       29242         0.326343  0.053429  9.569525e-04  \n",
      "2       16753         0.186965  0.017939  6.070840e-05  \n",
      "3        9577         0.106880 -0.060840  3.838276e-04  \n",
      "4        5890         0.065733  0.000682  3.057569e-08  \n",
      "5        7365         0.082194  0.118897  1.233840e-03  \n"
     ]
    }
   ],
   "source": [
    "iv, woe = iv_woe(data = df_train, target = 'Default', bins = 4, show_woe = True)"
   ]
  },
  {
   "cell_type": "code",
   "execution_count": 32,
   "id": "4e3b106e",
   "metadata": {},
   "outputs": [],
   "source": [
    "# iv.to_excel('IV.xlsx', index = False)"
   ]
  },
  {
   "cell_type": "markdown",
   "id": "0e90a2e9",
   "metadata": {},
   "source": [
    "### VIF"
   ]
  },
  {
   "cell_type": "code",
   "execution_count": 33,
   "id": "937daf53",
   "metadata": {},
   "outputs": [],
   "source": [
    "from statsmodels.stats.outliers_influence import variance_inflation_factor\n",
    "\n",
    "def calc_vif(df1):\n",
    "\n",
    "    # Calculating VIF\n",
    "    vif = pd.DataFrame()\n",
    "    vif[\"variables\"] = df1.columns\n",
    "    vif[\"VIF\"] = [float(format(variance_inflation_factor(df1.values, i),'f') )for i in range(df1.shape[1])]\n",
    "\n",
    "    return(vif)"
   ]
  },
  {
   "cell_type": "code",
   "execution_count": 34,
   "id": "19abeedd",
   "metadata": {},
   "outputs": [],
   "source": [
    "df2 = df_train._get_numeric_data()"
   ]
  },
  {
   "cell_type": "code",
   "execution_count": 35,
   "id": "215cfbde",
   "metadata": {},
   "outputs": [],
   "source": [
    "# VIF=calc_vif(df2)"
   ]
  },
  {
   "cell_type": "code",
   "execution_count": 40,
   "id": "b78e8710",
   "metadata": {
    "scrolled": true
   },
   "outputs": [],
   "source": [
    "# VIF.sort_values('VIF',ascending=False)"
   ]
  },
  {
   "cell_type": "code",
   "execution_count": 41,
   "id": "a6f575c1",
   "metadata": {},
   "outputs": [],
   "source": [
    "# VIF.to_excel('VIF.xlsx', index = False)"
   ]
  },
  {
   "cell_type": "markdown",
   "id": "58569332",
   "metadata": {},
   "source": [
    "### Information Gain"
   ]
  },
  {
   "cell_type": "code",
   "execution_count": 42,
   "id": "aa953bcd",
   "metadata": {},
   "outputs": [],
   "source": [
    "def calc_entropy(column):\n",
    "    \"\"\"\n",
    "    Calculate entropy given a series, list, or numpy array.\n",
    "    \"\"\"\n",
    "    # Compute the counts of each given value in the column\n",
    "    counts = np.bincount(column)\n",
    "    # Divide by the total column length to get a probability\n",
    "    probabilities = counts / len(column)\n",
    "    \n",
    "    # Initialize the entropy to 0\n",
    "    entropy = 0\n",
    "    # Loop through the probabilities, and add each one to the total entropy\n",
    "    for prob in probabilities:\n",
    "        if prob > 0:\n",
    "            # use log from math and set base to 2\n",
    "            entropy += prob * math.log(prob, 2)\n",
    "    \n",
    "    return -entropy"
   ]
  },
  {
   "cell_type": "code",
   "execution_count": 43,
   "id": "0dcde03e",
   "metadata": {},
   "outputs": [],
   "source": [
    "def calc_information_gain(data, split_name, target_name):\n",
    "    \"\"\"\n",
    "    Calculate information gain given a data set, column to split on and target.\n",
    "    \"\"\"\n",
    "    # Calculate the original entropy\n",
    "    original_entropy = calc_entropy(data[target_name])\n",
    "    \n",
    "    # Find the unique values in the column\n",
    "    values = data[split_name].unique()\n",
    "    \n",
    "    print(split_name, ':', values)\n",
    "    left_split = (data[data[split_name] == values[0]])\n",
    "    right_split = (data[data[split_name] == values[1]])\n",
    "    \n",
    "    # Loop through the splits and calculate the subset entropies\n",
    "    to_subtract = 0\n",
    "    for subset in [left_split, right_split]:\n",
    "        prob = (subset.shape[0] / data.shape[0])\n",
    "        to_subtract += prob * calc_entropy(subset[target_name])\n",
    "        \n",
    "    # Return information gain\n",
    "    return original_entropy - to_subtract"
   ]
  },
  {
   "cell_type": "code",
   "execution_count": 44,
   "id": "3127fc8d",
   "metadata": {
    "scrolled": true
   },
   "outputs": [],
   "source": [
    "inf_gain = []\n",
    "\n",
    "for i in df_train.columns:\n",
    "    try:\n",
    "        inf = calc_information_gain(df_train, i, 'Default')\n",
    "    except:\n",
    "        inf = \"error\"\n",
    "        \n",
    "    inf_gain.append({\n",
    "        'VARIABLE': i,\n",
    "        'Information Gain': inf\n",
    "    })\n",
    "\n",
    "df_inf_gain = pd.DataFrame(inf_gain)\n",
    "df_inf_gain.to_excel('IG.xlsx', index = False)"
   ]
  },
  {
   "cell_type": "code",
   "execution_count": 46,
   "id": "57db03b7",
   "metadata": {},
   "outputs": [],
   "source": [
    "model_var = [\n",
    "    'Patron_Salary',\n",
    "    'Automobile_Possession',\n",
    "    'Offspring_Number',\n",
    "    'Loan_Capital',\n",
    "    'Patron_Academic_Qualification',\n",
    "    'Patron_Sex',\n",
    "    'Borrowing_Agreement_Category',\n",
    "    'Customer_Living_Arrangement',\n",
    "    'Elderliness_in_Days',\n",
    "    'Work_Duration_in_Days',\n",
    "    'Identity_Age_in_Days',\n",
    "    'Employment_Phone_Operation',\n",
    "    'Patron_Constant_Correspondence_Marker',\n",
    "    'Rating_Origin_2',\n",
    "    'Telecommunication_Switch',\n",
    "]"
   ]
  },
  {
   "cell_type": "markdown",
   "id": "98b3d755",
   "metadata": {},
   "source": [
    "### WOE Binning"
   ]
  },
  {
   "cell_type": "code",
   "execution_count": 23,
   "id": "9459be1c",
   "metadata": {},
   "outputs": [],
   "source": [
    "num_biv = pd.read_excel(r'C:\\Users\\100_rabh\\1. protium\\model\\bivariate\\numerical_bi_variate.xlsx')"
   ]
  },
  {
   "cell_type": "code",
   "execution_count": 24,
   "id": "e9080e23",
   "metadata": {
    "scrolled": true
   },
   "outputs": [
    {
     "data": {
      "text/html": [
       "<div>\n",
       "<style scoped>\n",
       "    .dataframe tbody tr th:only-of-type {\n",
       "        vertical-align: middle;\n",
       "    }\n",
       "\n",
       "    .dataframe tbody tr th {\n",
       "        vertical-align: top;\n",
       "    }\n",
       "\n",
       "    .dataframe thead th {\n",
       "        text-align: right;\n",
       "    }\n",
       "</style>\n",
       "<table border=\"1\" class=\"dataframe\">\n",
       "  <thead>\n",
       "    <tr style=\"text-align: right;\">\n",
       "      <th></th>\n",
       "      <th>variable</th>\n",
       "      <th>bin</th>\n",
       "      <th>good</th>\n",
       "      <th>bad</th>\n",
       "      <th>count</th>\n",
       "      <th>percentage</th>\n",
       "    </tr>\n",
       "  </thead>\n",
       "  <tbody>\n",
       "    <tr>\n",
       "      <th>0</th>\n",
       "      <td>Patron_Salary</td>\n",
       "      <td>[-inf,22500.0)</td>\n",
       "      <td>70132</td>\n",
       "      <td>6491</td>\n",
       "      <td>76623</td>\n",
       "      <td>0.085</td>\n",
       "    </tr>\n",
       "    <tr>\n",
       "      <th>1</th>\n",
       "      <td>Patron_Salary</td>\n",
       "      <td>[22500.0,26500.0)</td>\n",
       "      <td>8468</td>\n",
       "      <td>665</td>\n",
       "      <td>9133</td>\n",
       "      <td>0.073</td>\n",
       "    </tr>\n",
       "    <tr>\n",
       "      <th>2</th>\n",
       "      <td>Patron_Salary</td>\n",
       "      <td>[26500.0,inf)</td>\n",
       "      <td>11007</td>\n",
       "      <td>722</td>\n",
       "      <td>11729</td>\n",
       "      <td>0.062</td>\n",
       "    </tr>\n",
       "    <tr>\n",
       "      <th>3</th>\n",
       "      <td>Automobile_Possession</td>\n",
       "      <td>[-inf,1.0)</td>\n",
       "      <td>59488</td>\n",
       "      <td>5539</td>\n",
       "      <td>65027</td>\n",
       "      <td>0.085</td>\n",
       "    </tr>\n",
       "    <tr>\n",
       "      <th>4</th>\n",
       "      <td>Automobile_Possession</td>\n",
       "      <td>[1.0,inf)</td>\n",
       "      <td>30119</td>\n",
       "      <td>2339</td>\n",
       "      <td>32458</td>\n",
       "      <td>0.072</td>\n",
       "    </tr>\n",
       "  </tbody>\n",
       "</table>\n",
       "</div>"
      ],
      "text/plain": [
       "                variable                bin   good   bad  count  percentage\n",
       "0          Patron_Salary     [-inf,22500.0)  70132  6491  76623       0.085\n",
       "1          Patron_Salary  [22500.0,26500.0)   8468   665   9133       0.073\n",
       "2          Patron_Salary      [26500.0,inf)  11007   722  11729       0.062\n",
       "3  Automobile_Possession         [-inf,1.0)  59488  5539  65027       0.085\n",
       "4  Automobile_Possession          [1.0,inf)  30119  2339  32458       0.072"
      ]
     },
     "execution_count": 24,
     "metadata": {},
     "output_type": "execute_result"
    }
   ],
   "source": [
    "num_biv.head()"
   ]
  },
  {
   "cell_type": "code",
   "execution_count": 25,
   "id": "a3d5867e",
   "metadata": {},
   "outputs": [],
   "source": [
    "def find(text):\n",
    "    str1 = text\n",
    "\n",
    "    return (str1.translate({ord(i): None for i in '%'}))"
   ]
  },
  {
   "cell_type": "code",
   "execution_count": 26,
   "id": "44e48212",
   "metadata": {},
   "outputs": [],
   "source": [
    "num_biv['bin'] = num_biv.apply(lambda x: find(x['bin']), axis=1)"
   ]
  },
  {
   "cell_type": "markdown",
   "id": "2bff5665",
   "metadata": {},
   "source": [
    "### NUMERICAL VARIABLE BINNING"
   ]
  },
  {
   "cell_type": "code",
   "execution_count": 27,
   "id": "eee3d9c8",
   "metadata": {},
   "outputs": [],
   "source": [
    "def num_label(row, col, conditions):\n",
    "    if len(conditions) == 2:\n",
    "        if (row[col] < conditions[0]):\n",
    "            return 'Group0'\n",
    "        elif (conditions[0] <= row[col]) & (row[col] < conditions[1]):\n",
    "            return 'Group1'\n",
    "        else:\n",
    "            return 'Group2'\n",
    "        \n",
    "    elif len(conditions) == 3:\n",
    "        if (row[col] < conditions[0]):\n",
    "            return 'Group0'\n",
    "        elif (conditions[0] <= row[col]) & (row[col] < conditions[1]):\n",
    "            return 'Group1'\n",
    "        elif (conditions[1] <= row[col]) & (row[col] < conditions[2]):\n",
    "            return 'Group2'\n",
    "        else:\n",
    "            return 'Group3'\n",
    "        \n",
    "    elif len(conditions) == 4:\n",
    "        if (row[col] < conditions[0]):\n",
    "            return 'Group0'\n",
    "        elif (conditions[0] <= row[col]) & (row[col] < conditions[1]):\n",
    "            return 'Group1'\n",
    "        elif (conditions[1] <= row[col]) & (row[col] < conditions[2]):\n",
    "            return 'Group2'\n",
    "        elif (conditions[2] <= row[col]) & (row[col] < conditions[3]):\n",
    "            return 'Group3'\n",
    "        else:\n",
    "            return'Group4'\n",
    "    \n",
    "    elif len(conditions) == 5:\n",
    "        if (row[col] < conditions[0]):\n",
    "            return 'Group0'\n",
    "        elif (conditions[0] <= row[col]) & (row[col] < conditions[1]):\n",
    "            return 'Group1'\n",
    "        elif (conditions[1] <= row[col]) & (row[col] < conditions[2]):\n",
    "            return 'Group2'\n",
    "        elif (conditions[2] <= row[col]) & (row[col] < conditions[3]):\n",
    "            return 'Group3'\n",
    "        elif (conditions[3] <= row[col]) & (row[col] < conditions[4]):\n",
    "            return'Group4'\n",
    "        else:\n",
    "            return 'Group5'\n",
    "    \n",
    "    else:\n",
    "        return 'NONE'\n",
    "        \n",
    "def catg_bin_num(row, col, num_biv):\n",
    "    num_biv_1 = num_biv[num_biv['variable'] == col].reset_index(drop = True)\n",
    "    conditions = []\n",
    "    for i in num_biv_1.index:\n",
    "        conditions.append(float(num_biv_1['bin'][i][1:-1].split(',')[1]))\n",
    "    conditions = conditions[:-1]\n",
    "    print(conditions)\n",
    "    row[col + str('_BIN')] = row.apply(lambda row: num_label(row, col, conditions), axis=1)\n",
    "    return row"
   ]
  },
  {
   "cell_type": "code",
   "execution_count": 28,
   "id": "e80ffa43",
   "metadata": {},
   "outputs": [
    {
     "name": "stdout",
     "output_type": "stream",
     "text": [
      "[22500.0, 26500.0]\n",
      "[22500.0, 26500.0]\n"
     ]
    }
   ],
   "source": [
    "df_train = catg_bin_num(df_train, 'Patron_Salary', num_biv)\n",
    "df_test = catg_bin_num(df_test, 'Patron_Salary', num_biv)"
   ]
  },
  {
   "cell_type": "code",
   "execution_count": 29,
   "id": "9b42c9f2",
   "metadata": {},
   "outputs": [
    {
     "data": {
      "text/plain": [
       "Group0    76618\n",
       "Group2    11729\n",
       "Group1     9133\n",
       "Name: Patron_Salary_BIN, dtype: int64"
      ]
     },
     "execution_count": 29,
     "metadata": {},
     "output_type": "execute_result"
    }
   ],
   "source": [
    "df_train['Patron_Salary_BIN'].value_counts()"
   ]
  },
  {
   "cell_type": "code",
   "execution_count": 30,
   "id": "ced78eae",
   "metadata": {},
   "outputs": [
    {
     "name": "stdout",
     "output_type": "stream",
     "text": [
      "[66000.0, 90000.0, 108000.0]\n",
      "[66000.0, 90000.0, 108000.0]\n"
     ]
    }
   ],
   "source": [
    "df_train = catg_bin_num(df_train, 'Loan_Capital', num_biv)\n",
    "df_test = catg_bin_num(df_test, 'Loan_Capital', num_biv)"
   ]
  },
  {
   "cell_type": "code",
   "execution_count": 31,
   "id": "eb85621d",
   "metadata": {},
   "outputs": [
    {
     "data": {
      "text/plain": [
       "Group0    62404\n",
       "Group1    15042\n",
       "Group3    11781\n",
       "Group2     8253\n",
       "Name: Loan_Capital_BIN, dtype: int64"
      ]
     },
     "execution_count": 31,
     "metadata": {},
     "output_type": "execute_result"
    }
   ],
   "source": [
    "df_train['Loan_Capital_BIN'].value_counts()"
   ]
  },
  {
   "cell_type": "code",
   "execution_count": 32,
   "id": "8089d5a1",
   "metadata": {},
   "outputs": [
    {
     "name": "stdout",
     "output_type": "stream",
     "text": [
      "[12600.0, 14800.0, 20200.0]\n",
      "[12600.0, 14800.0, 20200.0]\n"
     ]
    }
   ],
   "source": [
    "df_train = catg_bin_num(df_train, 'Elderliness_in_Days', num_biv)\n",
    "df_test = catg_bin_num(df_test, 'Elderliness_in_Days', num_biv)"
   ]
  },
  {
   "cell_type": "code",
   "execution_count": 33,
   "id": "0a896108",
   "metadata": {},
   "outputs": [
    {
     "data": {
      "text/plain": [
       "Group2    33732\n",
       "Group0    24987\n",
       "Group3    20835\n",
       "Group1    17926\n",
       "Name: Elderliness_in_Days_BIN, dtype: int64"
      ]
     },
     "execution_count": 33,
     "metadata": {},
     "output_type": "execute_result"
    }
   ],
   "source": [
    "df_train['Elderliness_in_Days_BIN'].value_counts()"
   ]
  },
  {
   "cell_type": "code",
   "execution_count": 34,
   "id": "eaf4f89d",
   "metadata": {},
   "outputs": [
    {
     "name": "stdout",
     "output_type": "stream",
     "text": [
      "[1000.0, 2000.0, 4000.0]\n",
      "[1000.0, 2000.0, 4000.0]\n"
     ]
    }
   ],
   "source": [
    "df_train = catg_bin_num(df_train, 'Work_Duration_in_Days', num_biv)\n",
    "df_test = catg_bin_num(df_test, 'Work_Duration_in_Days', num_biv)"
   ]
  },
  {
   "cell_type": "code",
   "execution_count": 35,
   "id": "7ce8b3a2",
   "metadata": {},
   "outputs": [
    {
     "data": {
      "text/plain": [
       "Group3    30908\n",
       "Group0    25241\n",
       "Group1    21446\n",
       "Group2    19885\n",
       "Name: Work_Duration_in_Days_BIN, dtype: int64"
      ]
     },
     "execution_count": 35,
     "metadata": {},
     "output_type": "execute_result"
    }
   ],
   "source": [
    "df_train['Work_Duration_in_Days_BIN'].value_counts()"
   ]
  },
  {
   "cell_type": "code",
   "execution_count": 36,
   "id": "756ff3c6",
   "metadata": {},
   "outputs": [
    {
     "name": "stdout",
     "output_type": "stream",
     "text": [
      "[1600.0, 4100.0, 4600.0]\n",
      "[1600.0, 4100.0, 4600.0]\n"
     ]
    }
   ],
   "source": [
    "df_train = catg_bin_num(df_train, 'Identity_Age_in_Days', num_biv)\n",
    "df_test = catg_bin_num(df_test, 'Identity_Age_in_Days', num_biv)"
   ]
  },
  {
   "cell_type": "code",
   "execution_count": 37,
   "id": "4db115be",
   "metadata": {},
   "outputs": [
    {
     "data": {
      "text/plain": [
       "Group1    44491\n",
       "Group0    21721\n",
       "Group2    18522\n",
       "Group3    12746\n",
       "Name: Identity_Age_in_Days_BIN, dtype: int64"
      ]
     },
     "execution_count": 37,
     "metadata": {},
     "output_type": "execute_result"
    }
   ],
   "source": [
    "df_train['Identity_Age_in_Days_BIN'].value_counts()"
   ]
  },
  {
   "cell_type": "code",
   "execution_count": 38,
   "id": "1008f516",
   "metadata": {
    "scrolled": true
   },
   "outputs": [
    {
     "name": "stdout",
     "output_type": "stream",
     "text": [
      "[1600.0, 4100.0, 4600.0]\n",
      "[1600.0, 4100.0, 4600.0]\n"
     ]
    }
   ],
   "source": [
    "df_train = catg_bin_num(df_train, 'Identity_Age_in_Days', num_biv)\n",
    "df_test = catg_bin_num(df_test, 'Identity_Age_in_Days', num_biv)"
   ]
  },
  {
   "cell_type": "code",
   "execution_count": 39,
   "id": "d70db514",
   "metadata": {},
   "outputs": [
    {
     "data": {
      "text/plain": [
       "Group1    44491\n",
       "Group0    21721\n",
       "Group2    18522\n",
       "Group3    12746\n",
       "Name: Identity_Age_in_Days_BIN, dtype: int64"
      ]
     },
     "execution_count": 39,
     "metadata": {},
     "output_type": "execute_result"
    }
   ],
   "source": [
    "df_train['Identity_Age_in_Days_BIN'].value_counts()"
   ]
  },
  {
   "cell_type": "code",
   "execution_count": 40,
   "id": "f9d7fc68",
   "metadata": {
    "scrolled": true
   },
   "outputs": [
    {
     "name": "stdout",
     "output_type": "stream",
     "text": [
      "[0.23, 0.4600000000000002, 0.6700000000000004, 0.7200000000000004]\n",
      "[0.23, 0.4600000000000002, 0.6700000000000004, 0.7200000000000004]\n"
     ]
    }
   ],
   "source": [
    "df_train = catg_bin_num(df_train, 'Rating_Origin_2', num_biv)\n",
    "df_test = catg_bin_num(df_test, 'Rating_Origin_2', num_biv)"
   ]
  },
  {
   "cell_type": "code",
   "execution_count": 41,
   "id": "586ee6a2",
   "metadata": {},
   "outputs": [
    {
     "data": {
      "text/plain": [
       "Group2    45488\n",
       "Group1    20036\n",
       "Group3    11919\n",
       "Group0    10269\n",
       "Group4     9768\n",
       "Name: Rating_Origin_2_BIN, dtype: int64"
      ]
     },
     "execution_count": 41,
     "metadata": {},
     "output_type": "execute_result"
    }
   ],
   "source": [
    "df_train['Rating_Origin_2_BIN'].value_counts()"
   ]
  },
  {
   "cell_type": "code",
   "execution_count": 42,
   "id": "097f3561",
   "metadata": {
    "scrolled": true
   },
   "outputs": [
    {
     "name": "stdout",
     "output_type": "stream",
     "text": [
      "[1050.0, 1950.0]\n",
      "[1050.0, 1950.0]\n"
     ]
    }
   ],
   "source": [
    "df_train = catg_bin_num(df_train, 'Telecommunication_Switch', num_biv)\n",
    "df_test = catg_bin_num(df_test, 'Telecommunication_Switch', num_biv)"
   ]
  },
  {
   "cell_type": "code",
   "execution_count": 43,
   "id": "1719a192",
   "metadata": {},
   "outputs": [
    {
     "data": {
      "text/plain": [
       "Group0    59528\n",
       "Group1    25116\n",
       "Group2    12836\n",
       "Name: Telecommunication_Switch_BIN, dtype: int64"
      ]
     },
     "execution_count": 43,
     "metadata": {},
     "output_type": "execute_result"
    }
   ],
   "source": [
    "df_train['Telecommunication_Switch_BIN'].value_counts()"
   ]
  },
  {
   "cell_type": "markdown",
   "id": "ac770559",
   "metadata": {},
   "source": [
    "### CATEGORICAL VARIABLE BINNING "
   ]
  },
  {
   "cell_type": "code",
   "execution_count": 44,
   "id": "1bd4ea45",
   "metadata": {},
   "outputs": [],
   "source": [
    "def label(row, col, conditions):\n",
    "    for i in range(len(conditions)):\n",
    "        if row[col] in conditions[i]:\n",
    "            return 'Group' + str(i)\n",
    "        \n",
    "    \n",
    "def catg_bin(row, col, num_biv):\n",
    "    num_biv_1 = num_biv[num_biv['variable'] == col].reset_index(drop = True)\n",
    "    conditions = []\n",
    "    for i in num_biv_1.index:\n",
    "        conditions.append(num_biv_1['bin'][i].split(','))\n",
    "    \n",
    "    print(conditions)\n",
    "    row[col + str('_BIN')] = row.apply(lambda row: label(row, col, conditions), axis=1)\n",
    "    return row"
   ]
  },
  {
   "cell_type": "code",
   "execution_count": 45,
   "id": "7415d41e",
   "metadata": {},
   "outputs": [
    {
     "name": "stdout",
     "output_type": "stream",
     "text": [
      "[['POST GRAD', 'GRADUATION'], ['GRADUATION DROPOUT', 'SECONDARY', 'JUNIOR SECONDARY']]\n",
      "[['POST GRAD', 'GRADUATION'], ['GRADUATION DROPOUT', 'SECONDARY', 'JUNIOR SECONDARY']]\n"
     ]
    }
   ],
   "source": [
    "df_train = catg_bin(df_train, 'Patron_Academic_Qualification', num_biv)\n",
    "df_test = catg_bin(df_test, 'Patron_Academic_Qualification', num_biv)"
   ]
  },
  {
   "cell_type": "code",
   "execution_count": 46,
   "id": "8ff7a05b",
   "metadata": {},
   "outputs": [
    {
     "data": {
      "text/plain": [
       "Group1    74338\n",
       "Group0    23142\n",
       "Name: Patron_Academic_Qualification_BIN, dtype: int64"
      ]
     },
     "execution_count": 46,
     "metadata": {},
     "output_type": "execute_result"
    }
   ],
   "source": [
    "df_train['Patron_Academic_Qualification_BIN'].value_counts()"
   ]
  },
  {
   "cell_type": "code",
   "execution_count": 47,
   "id": "91054902",
   "metadata": {},
   "outputs": [],
   "source": [
    "df_train['Patron_Academic_Qualification_BIN'].replace({'Group0': 0, 'Group1': 1}, inplace = True)\n",
    "df_test['Patron_Academic_Qualification_BIN'].replace({'Group0': 0, 'Group1': 1}, inplace = True)"
   ]
  },
  {
   "cell_type": "code",
   "execution_count": 48,
   "id": "50481bf5",
   "metadata": {},
   "outputs": [
    {
     "data": {
      "text/plain": [
       "1    74338\n",
       "0    23142\n",
       "Name: Patron_Academic_Qualification_BIN, dtype: int64"
      ]
     },
     "execution_count": 48,
     "metadata": {},
     "output_type": "execute_result"
    }
   ],
   "source": [
    "df_train['Patron_Academic_Qualification_BIN'].value_counts()"
   ]
  },
  {
   "cell_type": "code",
   "execution_count": 49,
   "id": "d23ae8e5",
   "metadata": {},
   "outputs": [
    {
     "data": {
      "text/plain": [
       "SECONDARY             17524\n",
       "GRADUATION             5727\n",
       "GRADUATION DROPOUT      799\n",
       "JUNIOR SECONDARY        304\n",
       "POST GRAD                16\n",
       "Name: Patron_Academic_Qualification, dtype: int64"
      ]
     },
     "execution_count": 49,
     "metadata": {},
     "output_type": "execute_result"
    }
   ],
   "source": [
    "df_test['Patron_Academic_Qualification'].value_counts()"
   ]
  },
  {
   "cell_type": "code",
   "execution_count": 50,
   "id": "fecc472c",
   "metadata": {},
   "outputs": [
    {
     "data": {
      "text/plain": [
       "1    18627\n",
       "0     5743\n",
       "Name: Patron_Academic_Qualification_BIN, dtype: int64"
      ]
     },
     "execution_count": 50,
     "metadata": {},
     "output_type": "execute_result"
    }
   ],
   "source": [
    "df_test['Patron_Academic_Qualification_BIN'].value_counts()"
   ]
  },
  {
   "cell_type": "code",
   "execution_count": 51,
   "id": "f408b792",
   "metadata": {
    "scrolled": true
   },
   "outputs": [
    {
     "name": "stdout",
     "output_type": "stream",
     "text": [
      "[['MALE'], ['FEMALE']]\n",
      "[['MALE'], ['FEMALE']]\n"
     ]
    }
   ],
   "source": [
    "df_train = catg_bin(df_train, 'Patron_Sex', num_biv)\n",
    "df_test = catg_bin(df_test, 'Patron_Sex', num_biv)"
   ]
  },
  {
   "cell_type": "code",
   "execution_count": 52,
   "id": "45e9466b",
   "metadata": {},
   "outputs": [
    {
     "data": {
      "text/plain": [
       "Group0    64646\n",
       "Group1    32834\n",
       "Name: Patron_Sex_BIN, dtype: int64"
      ]
     },
     "execution_count": 52,
     "metadata": {},
     "output_type": "execute_result"
    }
   ],
   "source": [
    "df_train['Patron_Sex_BIN'].value_counts()"
   ]
  },
  {
   "cell_type": "code",
   "execution_count": 53,
   "id": "186d329f",
   "metadata": {},
   "outputs": [],
   "source": [
    "df_train['Patron_Sex_BIN'].replace({'Group0': 0, 'Group1': 1}, inplace = True)\n",
    "df_test['Patron_Sex_BIN'].replace({'Group0': 0, 'Group1': 1}, inplace = True)"
   ]
  },
  {
   "cell_type": "code",
   "execution_count": 54,
   "id": "f2014291",
   "metadata": {},
   "outputs": [
    {
     "data": {
      "text/plain": [
       "0    64646\n",
       "1    32834\n",
       "Name: Patron_Sex_BIN, dtype: int64"
      ]
     },
     "execution_count": 54,
     "metadata": {},
     "output_type": "execute_result"
    }
   ],
   "source": [
    "df_train['Patron_Sex_BIN'].value_counts()"
   ]
  },
  {
   "cell_type": "code",
   "execution_count": 55,
   "id": "80a37443",
   "metadata": {},
   "outputs": [
    {
     "name": "stdout",
     "output_type": "stream",
     "text": [
      "[['RL'], ['CL']]\n",
      "[['RL'], ['CL']]\n"
     ]
    }
   ],
   "source": [
    "df_train = catg_bin(df_train, 'Borrowing_Agreement_Category', num_biv)\n",
    "df_test = catg_bin(df_test, 'Borrowing_Agreement_Category', num_biv)"
   ]
  },
  {
   "cell_type": "code",
   "execution_count": 56,
   "id": "50c228d2",
   "metadata": {},
   "outputs": [
    {
     "data": {
      "text/plain": [
       "Group1    88654\n",
       "Group0     8826\n",
       "Name: Borrowing_Agreement_Category_BIN, dtype: int64"
      ]
     },
     "execution_count": 56,
     "metadata": {},
     "output_type": "execute_result"
    }
   ],
   "source": [
    "df_train['Borrowing_Agreement_Category_BIN'].value_counts()"
   ]
  },
  {
   "cell_type": "code",
   "execution_count": 57,
   "id": "a287193c",
   "metadata": {},
   "outputs": [],
   "source": [
    "df_train['Borrowing_Agreement_Category_BIN'].replace({'Group0': 0, 'Group1': 1}, inplace = True)\n",
    "df_test['Borrowing_Agreement_Category_BIN'].replace({'Group0': 0, 'Group1': 1}, inplace = True)"
   ]
  },
  {
   "cell_type": "code",
   "execution_count": 58,
   "id": "8f550ba8",
   "metadata": {},
   "outputs": [
    {
     "data": {
      "text/plain": [
       "1    88654\n",
       "0     8826\n",
       "Name: Borrowing_Agreement_Category_BIN, dtype: int64"
      ]
     },
     "execution_count": 58,
     "metadata": {},
     "output_type": "execute_result"
    }
   ],
   "source": [
    "df_train['Borrowing_Agreement_Category_BIN'].value_counts()"
   ]
  },
  {
   "cell_type": "code",
   "execution_count": 59,
   "id": "2df80200",
   "metadata": {},
   "outputs": [
    {
     "name": "stdout",
     "output_type": "stream",
     "text": [
      "[['OFFICE', 'HOME', 'MUNICIPAL'], ['SHARED', 'FAMILY', 'RENTAL']]\n",
      "[['OFFICE', 'HOME', 'MUNICIPAL'], ['SHARED', 'FAMILY', 'RENTAL']]\n"
     ]
    }
   ],
   "source": [
    "df_train = catg_bin(df_train, 'Customer_Living_Arrangement', num_biv)\n",
    "df_test = catg_bin(df_test, 'Customer_Living_Arrangement', num_biv)"
   ]
  },
  {
   "cell_type": "code",
   "execution_count": 60,
   "id": "0469f9d0",
   "metadata": {},
   "outputs": [
    {
     "data": {
      "text/plain": [
       "Group0    91049\n",
       "Group1     6431\n",
       "Name: Customer_Living_Arrangement_BIN, dtype: int64"
      ]
     },
     "execution_count": 60,
     "metadata": {},
     "output_type": "execute_result"
    }
   ],
   "source": [
    "df_train['Customer_Living_Arrangement_BIN'].value_counts()"
   ]
  },
  {
   "cell_type": "code",
   "execution_count": 61,
   "id": "9907b6b5",
   "metadata": {},
   "outputs": [],
   "source": [
    "df_train['Customer_Living_Arrangement_BIN'].replace({'Group0': 0, 'Group1': 1}, inplace = True)\n",
    "df_test['Customer_Living_Arrangement_BIN'].replace({'Group0': 0, 'Group1': 1}, inplace = True)\n"
   ]
  },
  {
   "cell_type": "code",
   "execution_count": 62,
   "id": "5ec113b0",
   "metadata": {},
   "outputs": [
    {
     "data": {
      "text/plain": [
       "0    91049\n",
       "1     6431\n",
       "Name: Customer_Living_Arrangement_BIN, dtype: int64"
      ]
     },
     "execution_count": 62,
     "metadata": {},
     "output_type": "execute_result"
    }
   ],
   "source": [
    "df_train['Customer_Living_Arrangement_BIN'].value_counts()"
   ]
  },
  {
   "cell_type": "code",
   "execution_count": 63,
   "id": "fcdc4885",
   "metadata": {},
   "outputs": [
    {
     "name": "stdout",
     "output_type": "stream",
     "text": [
      "[['YES'], ['NO']]\n",
      "[['YES'], ['NO']]\n"
     ]
    }
   ],
   "source": [
    "df_train = catg_bin(df_train, 'Patron_Constant_Correspondence_Marker', num_biv)\n",
    "df_test = catg_bin(df_test, 'Patron_Constant_Correspondence_Marker', num_biv)"
   ]
  },
  {
   "cell_type": "code",
   "execution_count": 64,
   "id": "b51335a2",
   "metadata": {},
   "outputs": [
    {
     "data": {
      "text/plain": [
       "Group0    89933\n",
       "Group1     7547\n",
       "Name: Patron_Constant_Correspondence_Marker_BIN, dtype: int64"
      ]
     },
     "execution_count": 64,
     "metadata": {},
     "output_type": "execute_result"
    }
   ],
   "source": [
    "df_train['Patron_Constant_Correspondence_Marker_BIN'].value_counts()"
   ]
  },
  {
   "cell_type": "code",
   "execution_count": 65,
   "id": "4302c0e1",
   "metadata": {},
   "outputs": [],
   "source": [
    "df_train['Patron_Constant_Correspondence_Marker_BIN'].replace({'Group0': 0, 'Group1': 1}, inplace = True)\n",
    "df_test['Patron_Constant_Correspondence_Marker_BIN'].replace({'Group0': 0, 'Group1': 1}, inplace = True)\n"
   ]
  },
  {
   "cell_type": "code",
   "execution_count": 66,
   "id": "45c2e268",
   "metadata": {},
   "outputs": [
    {
     "data": {
      "text/plain": [
       "0    89933\n",
       "1     7547\n",
       "Name: Patron_Constant_Correspondence_Marker_BIN, dtype: int64"
      ]
     },
     "execution_count": 66,
     "metadata": {},
     "output_type": "execute_result"
    }
   ],
   "source": [
    "df_train['Patron_Constant_Correspondence_Marker_BIN'].value_counts()"
   ]
  },
  {
   "cell_type": "code",
   "execution_count": 67,
   "id": "135b6fa3",
   "metadata": {},
   "outputs": [],
   "source": [
    "train = df_train.copy()\n",
    "test = df_test.copy()"
   ]
  },
  {
   "cell_type": "markdown",
   "id": "e459c2bb",
   "metadata": {},
   "source": [
    "### Model Development"
   ]
  },
  {
   "cell_type": "code",
   "execution_count": 134,
   "id": "e98f8ccc",
   "metadata": {},
   "outputs": [],
   "source": [
    "df_train = train.copy()\n",
    "df_test = test.copy()"
   ]
  },
  {
   "cell_type": "code",
   "execution_count": 135,
   "id": "233bd13e",
   "metadata": {},
   "outputs": [],
   "source": [
    "model_var = [\n",
    "#     'Patron_Salary_BIN',\n",
    "    'Patron_Salary',\n",
    "    'Automobile_Possession',\n",
    "#     'Offspring_Number',\n",
    "    'Loan_Capital',\n",
    "#     'Loan_Capital_BIN',\n",
    "    'Patron_Academic_Qualification_BIN',\n",
    "#     'Patron_Sex_BIN',\n",
    "    'Borrowing_Agreement_Category_BIN',\n",
    "    'Customer_Living_Arrangement_BIN',\n",
    "    'Elderliness_in_Days',\n",
    "#     'Elderliness_in_Days_BIN',\n",
    "    'Work_Duration_in_Days',\n",
    "#     'Work_Duration_in_Days_BIN',\n",
    "    'Identity_Age_in_Days',\n",
    "#     'Identity_Age_in_Days_BIN',\n",
    "    'Employment_Phone_Operation',\n",
    "    'Patron_Constant_Correspondence_Marker_BIN',\n",
    "    'Rating_Origin_2',\n",
    "#     'Rating_Origin_2_BIN',\n",
    "    'Telecommunication_Switch',\n",
    "#     'Telecommunication_Switch_BIN',\n",
    "    'Rating_Origin_3',\n",
    "]"
   ]
  },
  {
   "cell_type": "code",
   "execution_count": 136,
   "id": "cf115dec",
   "metadata": {},
   "outputs": [
    {
     "data": {
      "text/plain": [
       "Index(['Patron_Salary', 'Automobile_Possession', 'Two-Wheeler_Ownership',\n",
       "       'Ongoing_Borrowing', 'Residence_Proprietorship', 'Offspring_Number',\n",
       "       'Loan_Capital', 'Borrowing_Periodic_Payment',\n",
       "       'Customer_Revenue_Category', 'Patron_Academic_Qualification',\n",
       "       'Customer_Conjugal_State', 'Patron_Sex', 'Borrowing_Agreement_Category',\n",
       "       'Customer_Living_Arrangement', 'Population_Fraction_by_Region',\n",
       "       'Elderliness_in_Days', 'Work_Duration_in_Days',\n",
       "       'Enlistment_Period_in_Days', 'Identity_Age_in_Days', 'Cellphone_Marker',\n",
       "       'Residential_Phone_Marker', 'Employment_Phone_Operation',\n",
       "       'Patron_Kin_Count', 'Customer_Urban_Area_Ranking',\n",
       "       'Request_Submission_Day', 'Request_Submission_Hour',\n",
       "       'Patron_Constant_Correspondence_Marker',\n",
       "       'Customer_Professional_Communication_Marker', 'Sort_of_Institution',\n",
       "       'Rating_Origin_2', 'Rating_Origin_3', 'Telecommunication_Switch',\n",
       "       'Solvency_Information_Agency', 'Default', 'Patron_Salary_BIN',\n",
       "       'Loan_Capital_BIN', 'Elderliness_in_Days_BIN',\n",
       "       'Work_Duration_in_Days_BIN', 'Identity_Age_in_Days_BIN',\n",
       "       'Rating_Origin_2_BIN', 'Telecommunication_Switch_BIN',\n",
       "       'Patron_Academic_Qualification_BIN', 'Patron_Sex_BIN',\n",
       "       'Borrowing_Agreement_Category_BIN', 'Customer_Living_Arrangement_BIN',\n",
       "       'Patron_Constant_Correspondence_Marker_BIN', 'Prob_score_XGB',\n",
       "       'target_xgb', 'bucket'],\n",
       "      dtype='object')"
      ]
     },
     "execution_count": 136,
     "metadata": {},
     "output_type": "execute_result"
    }
   ],
   "source": [
    "df_train.columns"
   ]
  },
  {
   "cell_type": "code",
   "execution_count": 137,
   "id": "11eb87b9",
   "metadata": {},
   "outputs": [
    {
     "name": "stdout",
     "output_type": "stream",
     "text": [
      "Training set :  (97480, 14)\n",
      "Test set :  (24370, 14)\n"
     ]
    }
   ],
   "source": [
    "df_train1 = df_train[model_var]\n",
    "\n",
    "cat_vars = [i for i in df_train1.columns if df_train1[i].dtype == 'object']\n",
    "\n",
    "for var in cat_vars:\n",
    "    cat_list='var'+'_'+var\n",
    "    cat_list = pd.get_dummies(df_train1[var], prefix=var)\n",
    "    df_train1=df_train1.join(cat_list)\n",
    "    \n",
    "df_train1=df_train1.drop(cat_vars,axis=1)\n",
    "\n",
    "df_test1 = df_test[model_var]\n",
    "for var in cat_vars:\n",
    "    cat_list='var'+'_'+var\n",
    "    cat_list = pd.get_dummies(df_test1[var], prefix=var)\n",
    "    df_test1=df_test1.join(cat_list)\n",
    "    \n",
    "df_test1=df_test1.drop(cat_vars,axis=1)\n",
    "\n",
    "print(\"Training set : \",df_train1.shape)\n",
    "print(\"Test set : \",df_test1.shape)"
   ]
  },
  {
   "cell_type": "code",
   "execution_count": 138,
   "id": "21032d90",
   "metadata": {},
   "outputs": [
    {
     "name": "stdout",
     "output_type": "stream",
     "text": [
      "Maximum shape of train dataframe!!!\n"
     ]
    }
   ],
   "source": [
    "def maximum(a, b):\n",
    "    if a != b:\n",
    "        if a[0] >= b[0]:\n",
    "            largest = a[1]\n",
    "        else:\n",
    "            largest = b[1]\n",
    "            \n",
    "        return largest\n",
    "    else:\n",
    "        print(\"Equal shapes\")\n",
    "        \n",
    "tr1 = [len(df_train1.columns), \"train\"]\n",
    "te1 = [len(df_test1.columns), \"test\"]\n",
    "\n",
    "largest = maximum(tr1, te1)\n",
    "print(\"Maximum shape of\", largest, \"dataframe!!!\")"
   ]
  },
  {
   "cell_type": "code",
   "execution_count": 139,
   "id": "4c36c710",
   "metadata": {},
   "outputs": [
    {
     "name": "stdout",
     "output_type": "stream",
     "text": [
      "----------------------------------------\n",
      "Training set:  (97480, 14)\n",
      "Testing set:  (24370, 14)\n"
     ]
    }
   ],
   "source": [
    "tr_col = set(df_train1.columns.to_list())\n",
    "te_col = set(df_test1.columns.to_list())\n",
    "\n",
    "if largest == 'train':\n",
    "    x = tr_col.intersection(te_col)\n",
    "    for i in list(tr_col):\n",
    "        if i not in list(x):\n",
    "            print(\"test:\", i)\n",
    "            df_test1[i] = 0\n",
    "\n",
    "if largest == 'test':\n",
    "    x = te_col.intersection(tr_col)\n",
    "    for i in list(tr_col):\n",
    "        if i not in list(x):\n",
    "            print(\"train:\", i)\n",
    "            df_train1[i] = 0\n",
    "\n",
    "else:\n",
    "    pass\n",
    "\n",
    "print(\"----------------------------------------\")\n",
    "print(\"Training set: \", df_train1.shape)\n",
    "print(\"Testing set: \", df_test1.shape)"
   ]
  },
  {
   "cell_type": "code",
   "execution_count": 140,
   "id": "8f636098",
   "metadata": {},
   "outputs": [
    {
     "name": "stdout",
     "output_type": "stream",
     "text": [
      "Shape of X_train:  (97480, 14)\n",
      "Shape of y_train:  (97480,)\n",
      "\n",
      "\n",
      "Shape of X_test:  (24370, 14)\n",
      "Shape of y_test:  (24370,)\n",
      "\n",
      "\n"
     ]
    }
   ],
   "source": [
    "X_train = df_train1.copy()\n",
    "y_train = df_train['Default']\n",
    "print(\"Shape of X_train: \", X_train.shape)\n",
    "print(\"Shape of y_train: \", y_train.shape)\n",
    "print(\"\\n\")\n",
    "\n",
    "X_test = df_test1.copy()\n",
    "y_test = df_test['Default']\n",
    "print(\"Shape of X_test: \", X_test.shape)\n",
    "print(\"Shape of y_test: \", y_test.shape)\n",
    "print(\"\\n\")"
   ]
  },
  {
   "cell_type": "code",
   "execution_count": 144,
   "id": "ac5f6f77",
   "metadata": {},
   "outputs": [],
   "source": [
    "f_imp = [\n",
    "    'Rating_Origin_2', 'Work_Duration_in_Days',\n",
    "       'Patron_Academic_Qualification_BIN', 'Elderliness_in_Days',\n",
    "       'Telecommunication_Switch',\n",
    "       'Customer_Living_Arrangement_BIN', 'Automobile_Possession',\n",
    "       'Patron_Constant_Correspondence_Marker_BIN',\n",
    "       'Identity_Age_in_Days', 'Loan_Capital', 'Rating_Origin_3',\n",
    "#        'Borrowing_Agreement_Category_BIN', 'Patron_Salary',\n",
    "#        'Employment_Phone_Operation'\n",
    "]"
   ]
  },
  {
   "cell_type": "code",
   "execution_count": 145,
   "id": "11609063",
   "metadata": {},
   "outputs": [],
   "source": [
    "X_train = X_train[f_imp]\n",
    "X_test = X_test[f_imp]"
   ]
  },
  {
   "cell_type": "code",
   "execution_count": 146,
   "id": "1712c172",
   "metadata": {},
   "outputs": [
    {
     "data": {
      "text/plain": [
       "(97480, 11)"
      ]
     },
     "execution_count": 146,
     "metadata": {},
     "output_type": "execute_result"
    }
   ],
   "source": [
    "X_train.shape"
   ]
  },
  {
   "cell_type": "code",
   "execution_count": 147,
   "id": "5a614b0f",
   "metadata": {},
   "outputs": [
    {
     "data": {
      "text/html": [
       "<div>\n",
       "<style scoped>\n",
       "    .dataframe tbody tr th:only-of-type {\n",
       "        vertical-align: middle;\n",
       "    }\n",
       "\n",
       "    .dataframe tbody tr th {\n",
       "        vertical-align: top;\n",
       "    }\n",
       "\n",
       "    .dataframe thead th {\n",
       "        text-align: right;\n",
       "    }\n",
       "</style>\n",
       "<table border=\"1\" class=\"dataframe\">\n",
       "  <thead>\n",
       "    <tr style=\"text-align: right;\">\n",
       "      <th></th>\n",
       "      <th>Rating_Origin_2</th>\n",
       "      <th>Work_Duration_in_Days</th>\n",
       "      <th>Patron_Academic_Qualification_BIN</th>\n",
       "      <th>Elderliness_in_Days</th>\n",
       "      <th>Telecommunication_Switch</th>\n",
       "      <th>Customer_Living_Arrangement_BIN</th>\n",
       "      <th>Automobile_Possession</th>\n",
       "      <th>Patron_Constant_Correspondence_Marker_BIN</th>\n",
       "      <th>Identity_Age_in_Days</th>\n",
       "      <th>Loan_Capital</th>\n",
       "      <th>Rating_Origin_3</th>\n",
       "    </tr>\n",
       "  </thead>\n",
       "  <tbody>\n",
       "    <tr>\n",
       "      <th>0</th>\n",
       "      <td>0.205747</td>\n",
       "      <td>365243.0</td>\n",
       "      <td>1</td>\n",
       "      <td>20099.0</td>\n",
       "      <td>0.0</td>\n",
       "      <td>0</td>\n",
       "      <td>0</td>\n",
       "      <td>0</td>\n",
       "      <td>3514.0</td>\n",
       "      <td>101961.0</td>\n",
       "      <td>0.593718</td>\n",
       "    </tr>\n",
       "    <tr>\n",
       "      <th>1</th>\n",
       "      <td>0.679736</td>\n",
       "      <td>365243.0</td>\n",
       "      <td>1</td>\n",
       "      <td>22293.0</td>\n",
       "      <td>1046.0</td>\n",
       "      <td>0</td>\n",
       "      <td>0</td>\n",
       "      <td>0</td>\n",
       "      <td>4492.0</td>\n",
       "      <td>18201.6</td>\n",
       "      <td>0.600658</td>\n",
       "    </tr>\n",
       "  </tbody>\n",
       "</table>\n",
       "</div>"
      ],
      "text/plain": [
       "   Rating_Origin_2  Work_Duration_in_Days  Patron_Academic_Qualification_BIN  \\\n",
       "0         0.205747               365243.0                                  1   \n",
       "1         0.679736               365243.0                                  1   \n",
       "\n",
       "   Elderliness_in_Days  Telecommunication_Switch  \\\n",
       "0              20099.0                       0.0   \n",
       "1              22293.0                    1046.0   \n",
       "\n",
       "   Customer_Living_Arrangement_BIN  Automobile_Possession  \\\n",
       "0                                0                      0   \n",
       "1                                0                      0   \n",
       "\n",
       "   Patron_Constant_Correspondence_Marker_BIN  Identity_Age_in_Days  \\\n",
       "0                                          0                3514.0   \n",
       "1                                          0                4492.0   \n",
       "\n",
       "   Loan_Capital  Rating_Origin_3  \n",
       "0      101961.0         0.593718  \n",
       "1       18201.6         0.600658  "
      ]
     },
     "execution_count": 147,
     "metadata": {},
     "output_type": "execute_result"
    }
   ],
   "source": [
    "X_train.head(2)"
   ]
  },
  {
   "cell_type": "code",
   "execution_count": 148,
   "id": "a86eefff",
   "metadata": {},
   "outputs": [
    {
     "data": {
      "text/plain": [
       "(24370, 11)"
      ]
     },
     "execution_count": 148,
     "metadata": {},
     "output_type": "execute_result"
    }
   ],
   "source": [
    "X_test.shape"
   ]
  },
  {
   "cell_type": "code",
   "execution_count": 149,
   "id": "01d25c5d",
   "metadata": {},
   "outputs": [
    {
     "data": {
      "text/html": [
       "<div>\n",
       "<style scoped>\n",
       "    .dataframe tbody tr th:only-of-type {\n",
       "        vertical-align: middle;\n",
       "    }\n",
       "\n",
       "    .dataframe tbody tr th {\n",
       "        vertical-align: top;\n",
       "    }\n",
       "\n",
       "    .dataframe thead th {\n",
       "        text-align: right;\n",
       "    }\n",
       "</style>\n",
       "<table border=\"1\" class=\"dataframe\">\n",
       "  <thead>\n",
       "    <tr style=\"text-align: right;\">\n",
       "      <th></th>\n",
       "      <th>Rating_Origin_2</th>\n",
       "      <th>Work_Duration_in_Days</th>\n",
       "      <th>Patron_Academic_Qualification_BIN</th>\n",
       "      <th>Elderliness_in_Days</th>\n",
       "      <th>Telecommunication_Switch</th>\n",
       "      <th>Customer_Living_Arrangement_BIN</th>\n",
       "      <th>Automobile_Possession</th>\n",
       "      <th>Patron_Constant_Correspondence_Marker_BIN</th>\n",
       "      <th>Identity_Age_in_Days</th>\n",
       "      <th>Loan_Capital</th>\n",
       "      <th>Rating_Origin_3</th>\n",
       "    </tr>\n",
       "  </thead>\n",
       "  <tbody>\n",
       "    <tr>\n",
       "      <th>0</th>\n",
       "      <td>0.552795</td>\n",
       "      <td>5102.0</td>\n",
       "      <td>1</td>\n",
       "      <td>16790.0</td>\n",
       "      <td>277.0</td>\n",
       "      <td>1</td>\n",
       "      <td>0</td>\n",
       "      <td>0</td>\n",
       "      <td>393.0</td>\n",
       "      <td>59527.35</td>\n",
       "      <td>0.329655</td>\n",
       "    </tr>\n",
       "    <tr>\n",
       "      <th>1</th>\n",
       "      <td>0.418630</td>\n",
       "      <td>2504.0</td>\n",
       "      <td>1</td>\n",
       "      <td>14630.0</td>\n",
       "      <td>2458.0</td>\n",
       "      <td>0</td>\n",
       "      <td>0</td>\n",
       "      <td>0</td>\n",
       "      <td>1191.0</td>\n",
       "      <td>22500.00</td>\n",
       "      <td>0.595456</td>\n",
       "    </tr>\n",
       "  </tbody>\n",
       "</table>\n",
       "</div>"
      ],
      "text/plain": [
       "   Rating_Origin_2  Work_Duration_in_Days  Patron_Academic_Qualification_BIN  \\\n",
       "0         0.552795                 5102.0                                  1   \n",
       "1         0.418630                 2504.0                                  1   \n",
       "\n",
       "   Elderliness_in_Days  Telecommunication_Switch  \\\n",
       "0              16790.0                     277.0   \n",
       "1              14630.0                    2458.0   \n",
       "\n",
       "   Customer_Living_Arrangement_BIN  Automobile_Possession  \\\n",
       "0                                1                      0   \n",
       "1                                0                      0   \n",
       "\n",
       "   Patron_Constant_Correspondence_Marker_BIN  Identity_Age_in_Days  \\\n",
       "0                                          0                 393.0   \n",
       "1                                          0                1191.0   \n",
       "\n",
       "   Loan_Capital  Rating_Origin_3  \n",
       "0      59527.35         0.329655  \n",
       "1      22500.00         0.595456  "
      ]
     },
     "execution_count": 149,
     "metadata": {},
     "output_type": "execute_result"
    }
   ],
   "source": [
    "X_test.head(2)"
   ]
  },
  {
   "cell_type": "code",
   "execution_count": 150,
   "id": "79785658",
   "metadata": {},
   "outputs": [
    {
     "data": {
      "text/plain": [
       "Index(['Rating_Origin_2', 'Work_Duration_in_Days',\n",
       "       'Patron_Academic_Qualification_BIN', 'Elderliness_in_Days',\n",
       "       'Telecommunication_Switch', 'Customer_Living_Arrangement_BIN',\n",
       "       'Automobile_Possession', 'Patron_Constant_Correspondence_Marker_BIN',\n",
       "       'Identity_Age_in_Days', 'Loan_Capital', 'Rating_Origin_3'],\n",
       "      dtype='object')"
      ]
     },
     "execution_count": 150,
     "metadata": {},
     "output_type": "execute_result"
    }
   ],
   "source": [
    "X_train.columns"
   ]
  },
  {
   "cell_type": "markdown",
   "id": "da7dba95",
   "metadata": {},
   "source": [
    "### XG Boost"
   ]
  },
  {
   "cell_type": "code",
   "execution_count": 151,
   "id": "081e0873",
   "metadata": {},
   "outputs": [],
   "source": [
    "import xgboost as xgb\n",
    "xgb_cl = xgb.XGBClassifier(objective='binary:logistic', booster='gbtree',learning_rate=0.01,max_depth=7,\n",
    "                               base_score=0.5, n_estimators=200, num_parallel_tree=6, eval_metric='auc',\n",
    "                               tree_method='hist', grow_policy='lossguide', scale_pos_weight = 10,\n",
    "                               gamma = 30, colsample_bytree = 0.5\n",
    "                              ).fit(X_train, y_train)\n",
    "\n",
    "y_pred_xg1 = xgb_cl.predict(X_train)\n",
    "y_pred_xg = xgb_cl.predict(X_test)\n",
    "\n",
    "X_train_prob = list(xgb_cl.predict_proba(X_train)[:,1])\n",
    "X_test_prob = list(xgb_cl.predict_proba(X_test)[:,1])\n",
    "\n",
    "train['Prob_score_XGB'] = X_train_prob\n",
    "test['Prob_score_XGB'] = X_test_prob"
   ]
  },
  {
   "cell_type": "code",
   "execution_count": 152,
   "id": "4a6b6ded",
   "metadata": {},
   "outputs": [
    {
     "name": "stdout",
     "output_type": "stream",
     "text": [
      "ROC AUC Score for train: 75.8812624366377\n",
      "ROC AUC Score for test: 73.80209151576834\n"
     ]
    }
   ],
   "source": [
    "print(\"ROC AUC Score for train:\", roc_auc_score(y_train, X_train_prob) * 100)\n",
    "print(\"ROC AUC Score for test:\", roc_auc_score(y_test, X_test_prob) * 100)"
   ]
  },
  {
   "cell_type": "code",
   "execution_count": 153,
   "id": "a04fe90f",
   "metadata": {
    "scrolled": true
   },
   "outputs": [
    {
     "data": {
      "text/html": [
       "<div>\n",
       "<style scoped>\n",
       "    .dataframe tbody tr th:only-of-type {\n",
       "        vertical-align: middle;\n",
       "    }\n",
       "\n",
       "    .dataframe tbody tr th {\n",
       "        vertical-align: top;\n",
       "    }\n",
       "\n",
       "    .dataframe thead th {\n",
       "        text-align: right;\n",
       "    }\n",
       "</style>\n",
       "<table border=\"1\" class=\"dataframe\">\n",
       "  <thead>\n",
       "    <tr style=\"text-align: right;\">\n",
       "      <th></th>\n",
       "      <th>0</th>\n",
       "      <th>1</th>\n",
       "    </tr>\n",
       "  </thead>\n",
       "  <tbody>\n",
       "    <tr>\n",
       "      <th>10</th>\n",
       "      <td>Rating_Origin_3</td>\n",
       "      <td>25.178265</td>\n",
       "    </tr>\n",
       "    <tr>\n",
       "      <th>0</th>\n",
       "      <td>Rating_Origin_2</td>\n",
       "      <td>22.332323</td>\n",
       "    </tr>\n",
       "    <tr>\n",
       "      <th>2</th>\n",
       "      <td>Patron_Academic_Qualification_BIN</td>\n",
       "      <td>16.748718</td>\n",
       "    </tr>\n",
       "    <tr>\n",
       "      <th>1</th>\n",
       "      <td>Work_Duration_in_Days</td>\n",
       "      <td>7.556044</td>\n",
       "    </tr>\n",
       "    <tr>\n",
       "      <th>3</th>\n",
       "      <td>Elderliness_in_Days</td>\n",
       "      <td>4.879126</td>\n",
       "    </tr>\n",
       "    <tr>\n",
       "      <th>4</th>\n",
       "      <td>Telecommunication_Switch</td>\n",
       "      <td>4.162874</td>\n",
       "    </tr>\n",
       "    <tr>\n",
       "      <th>9</th>\n",
       "      <td>Loan_Capital</td>\n",
       "      <td>4.127804</td>\n",
       "    </tr>\n",
       "    <tr>\n",
       "      <th>7</th>\n",
       "      <td>Patron_Constant_Correspondence_Marker_BIN</td>\n",
       "      <td>4.086364</td>\n",
       "    </tr>\n",
       "    <tr>\n",
       "      <th>8</th>\n",
       "      <td>Identity_Age_in_Days</td>\n",
       "      <td>3.925455</td>\n",
       "    </tr>\n",
       "    <tr>\n",
       "      <th>6</th>\n",
       "      <td>Automobile_Possession</td>\n",
       "      <td>3.832746</td>\n",
       "    </tr>\n",
       "    <tr>\n",
       "      <th>5</th>\n",
       "      <td>Customer_Living_Arrangement_BIN</td>\n",
       "      <td>3.170283</td>\n",
       "    </tr>\n",
       "  </tbody>\n",
       "</table>\n",
       "</div>"
      ],
      "text/plain": [
       "                                            0          1\n",
       "10                            Rating_Origin_3  25.178265\n",
       "0                             Rating_Origin_2  22.332323\n",
       "2           Patron_Academic_Qualification_BIN  16.748718\n",
       "1                       Work_Duration_in_Days   7.556044\n",
       "3                         Elderliness_in_Days   4.879126\n",
       "4                    Telecommunication_Switch   4.162874\n",
       "9                                Loan_Capital   4.127804\n",
       "7   Patron_Constant_Correspondence_Marker_BIN   4.086364\n",
       "8                        Identity_Age_in_Days   3.925455\n",
       "6                       Automobile_Possession   3.832746\n",
       "5             Customer_Living_Arrangement_BIN   3.170283"
      ]
     },
     "execution_count": 153,
     "metadata": {},
     "output_type": "execute_result"
    }
   ],
   "source": [
    "feat_imp = pd.DataFrame.from_dict(zip(list(X_train.columns), xgb_cl.feature_importances_*100)).sort_values(by = 1, ascending = False)\n",
    "# feat_imp.to_excel('feature_imp_xgb.xlsx', index = False)\n",
    "feat_imp"
   ]
  },
  {
   "cell_type": "code",
   "execution_count": 154,
   "id": "ea0efba2",
   "metadata": {},
   "outputs": [
    {
     "data": {
      "text/plain": [
       "array(['Rating_Origin_3', 'Rating_Origin_2',\n",
       "       'Patron_Academic_Qualification_BIN', 'Work_Duration_in_Days',\n",
       "       'Elderliness_in_Days', 'Telecommunication_Switch', 'Loan_Capital',\n",
       "       'Patron_Constant_Correspondence_Marker_BIN',\n",
       "       'Identity_Age_in_Days', 'Automobile_Possession',\n",
       "       'Customer_Living_Arrangement_BIN'], dtype=object)"
      ]
     },
     "execution_count": 154,
     "metadata": {},
     "output_type": "execute_result"
    }
   ],
   "source": [
    "feat_imp[0].values"
   ]
  },
  {
   "cell_type": "code",
   "execution_count": 155,
   "id": "4a9afa1c",
   "metadata": {},
   "outputs": [],
   "source": [
    "def ks(data=None,target=None, prob=None):\n",
    "    data['target_xgb'] = 1 - data[target]\n",
    "    data['bucket'] = pd.qcut(data[prob], 10)\n",
    "    grouped = data.groupby('bucket', as_index = False)\n",
    "    kstable = pd.DataFrame()\n",
    "    kstable['min_prob'] = grouped.min()[prob]\n",
    "    kstable['max_prob'] = grouped.max()[prob]\n",
    "    kstable['total'] = (grouped.sum()[target] + grouped.sum()['target_xgb'])\n",
    "    kstable['events']   = grouped.sum()[target]\n",
    "    kstable['nonevents'] = grouped.sum()['target_xgb']\n",
    "    kstable = kstable.sort_values(by=\"min_prob\", ascending=False).reset_index(drop = True)\n",
    "    kstable['event_rate'] = (kstable.events / data[target].sum()).apply('{0:.2%}'.format)\n",
    "    kstable['nonevent_rate'] = (kstable.nonevents / data['target_xgb'].sum()).apply('{0:.2%}'.format)\n",
    "    kstable['cum_eventrate']=(kstable.events / data[target].sum()).cumsum()\n",
    "    kstable['cum_noneventrate']=(kstable.nonevents / data['target_xgb'].sum()).cumsum()\n",
    "    kstable['KS'] = np.round(kstable['cum_eventrate']-kstable['cum_noneventrate'], 3) * 100\n",
    "\n",
    "    #Formating\n",
    "    kstable['cum_eventrate']= kstable['cum_eventrate'].apply('{0:.2%}'.format)\n",
    "    kstable['cum_noneventrate']= kstable['cum_noneventrate'].apply('{0:.2%}'.format)\n",
    "    \n",
    "    kstable['ks_stats'] = np.round(((kstable['events'] / kstable['events'].sum()).cumsum() -(kstable['nonevents'] / kstable['nonevents'].sum()).cumsum()), 4) * 100\n",
    "    kstable['max_ks'] = kstable['ks_stats'].apply(lambda x: '*****' if x == kstable['ks_stats'].max() else '')\n",
    "    \n",
    "    kstable.index = range(1,11)\n",
    "    kstable.index.rename('Decile', inplace=True)\n",
    "    pd.set_option('display.max_columns', 20)\n",
    "#    print(kstable)\n",
    "#    print(type(kstable))    \n",
    "    #Display KS\n",
    "    from colorama import Fore\n",
    "#   print(Fore.RED + \"KS is \" + str(max(kstable['KS']))+\"%\"+ \" at decile \" + str((kstable.index[kstable['KS']==max(kstable['KS'])][0])))\n",
    "#     print(type(kstable))\n",
    "    return(kstable)\n"
   ]
  },
  {
   "cell_type": "code",
   "execution_count": 156,
   "id": "906503e7",
   "metadata": {},
   "outputs": [],
   "source": [
    "xg_train_ks = ks(train,'Default','Prob_score_XGB')\n",
    "xg_test_ks = ks(test,'Default','Prob_score_XGB')"
   ]
  },
  {
   "cell_type": "code",
   "execution_count": 157,
   "id": "238f9393",
   "metadata": {},
   "outputs": [
    {
     "data": {
      "text/html": [
       "<div>\n",
       "<style scoped>\n",
       "    .dataframe tbody tr th:only-of-type {\n",
       "        vertical-align: middle;\n",
       "    }\n",
       "\n",
       "    .dataframe tbody tr th {\n",
       "        vertical-align: top;\n",
       "    }\n",
       "\n",
       "    .dataframe thead th {\n",
       "        text-align: right;\n",
       "    }\n",
       "</style>\n",
       "<table border=\"1\" class=\"dataframe\">\n",
       "  <thead>\n",
       "    <tr style=\"text-align: right;\">\n",
       "      <th></th>\n",
       "      <th>min_prob</th>\n",
       "      <th>max_prob</th>\n",
       "      <th>total</th>\n",
       "      <th>events</th>\n",
       "      <th>nonevents</th>\n",
       "      <th>event_rate</th>\n",
       "      <th>nonevent_rate</th>\n",
       "      <th>cum_eventrate</th>\n",
       "      <th>cum_noneventrate</th>\n",
       "      <th>KS</th>\n",
       "      <th>ks_stats</th>\n",
       "      <th>max_ks</th>\n",
       "    </tr>\n",
       "    <tr>\n",
       "      <th>Decile</th>\n",
       "      <th></th>\n",
       "      <th></th>\n",
       "      <th></th>\n",
       "      <th></th>\n",
       "      <th></th>\n",
       "      <th></th>\n",
       "      <th></th>\n",
       "      <th></th>\n",
       "      <th></th>\n",
       "      <th></th>\n",
       "      <th></th>\n",
       "      <th></th>\n",
       "    </tr>\n",
       "  </thead>\n",
       "  <tbody>\n",
       "    <tr>\n",
       "      <th>1</th>\n",
       "      <td>0.596795</td>\n",
       "      <td>0.785409</td>\n",
       "      <td>9748</td>\n",
       "      <td>2566</td>\n",
       "      <td>7182</td>\n",
       "      <td>32.58%</td>\n",
       "      <td>8.02%</td>\n",
       "      <td>32.58%</td>\n",
       "      <td>8.02%</td>\n",
       "      <td>24.6</td>\n",
       "      <td>24.57</td>\n",
       "      <td></td>\n",
       "    </tr>\n",
       "    <tr>\n",
       "      <th>2</th>\n",
       "      <td>0.534761</td>\n",
       "      <td>0.596793</td>\n",
       "      <td>9748</td>\n",
       "      <td>1472</td>\n",
       "      <td>8276</td>\n",
       "      <td>18.69%</td>\n",
       "      <td>9.24%</td>\n",
       "      <td>51.28%</td>\n",
       "      <td>17.25%</td>\n",
       "      <td>34.0</td>\n",
       "      <td>34.02</td>\n",
       "      <td></td>\n",
       "    </tr>\n",
       "    <tr>\n",
       "      <th>3</th>\n",
       "      <td>0.487891</td>\n",
       "      <td>0.534748</td>\n",
       "      <td>9748</td>\n",
       "      <td>1056</td>\n",
       "      <td>8692</td>\n",
       "      <td>13.41%</td>\n",
       "      <td>9.70%</td>\n",
       "      <td>64.69%</td>\n",
       "      <td>26.95%</td>\n",
       "      <td>37.7</td>\n",
       "      <td>37.73</td>\n",
       "      <td>*****</td>\n",
       "    </tr>\n",
       "    <tr>\n",
       "      <th>4</th>\n",
       "      <td>0.448647</td>\n",
       "      <td>0.487885</td>\n",
       "      <td>9748</td>\n",
       "      <td>786</td>\n",
       "      <td>8962</td>\n",
       "      <td>9.98%</td>\n",
       "      <td>10.00%</td>\n",
       "      <td>74.67%</td>\n",
       "      <td>36.95%</td>\n",
       "      <td>37.7</td>\n",
       "      <td>37.71</td>\n",
       "      <td></td>\n",
       "    </tr>\n",
       "    <tr>\n",
       "      <th>5</th>\n",
       "      <td>0.414545</td>\n",
       "      <td>0.448641</td>\n",
       "      <td>9748</td>\n",
       "      <td>650</td>\n",
       "      <td>9098</td>\n",
       "      <td>8.25%</td>\n",
       "      <td>10.15%</td>\n",
       "      <td>82.92%</td>\n",
       "      <td>47.11%</td>\n",
       "      <td>35.8</td>\n",
       "      <td>35.81</td>\n",
       "      <td></td>\n",
       "    </tr>\n",
       "    <tr>\n",
       "      <th>6</th>\n",
       "      <td>0.383045</td>\n",
       "      <td>0.414544</td>\n",
       "      <td>9748</td>\n",
       "      <td>459</td>\n",
       "      <td>9289</td>\n",
       "      <td>5.83%</td>\n",
       "      <td>10.37%</td>\n",
       "      <td>88.75%</td>\n",
       "      <td>57.47%</td>\n",
       "      <td>31.3</td>\n",
       "      <td>31.28</td>\n",
       "      <td></td>\n",
       "    </tr>\n",
       "    <tr>\n",
       "      <th>7</th>\n",
       "      <td>0.352345</td>\n",
       "      <td>0.383041</td>\n",
       "      <td>9748</td>\n",
       "      <td>363</td>\n",
       "      <td>9385</td>\n",
       "      <td>4.61%</td>\n",
       "      <td>10.47%</td>\n",
       "      <td>93.36%</td>\n",
       "      <td>67.95%</td>\n",
       "      <td>25.4</td>\n",
       "      <td>25.41</td>\n",
       "      <td></td>\n",
       "    </tr>\n",
       "    <tr>\n",
       "      <th>8</th>\n",
       "      <td>0.319696</td>\n",
       "      <td>0.352343</td>\n",
       "      <td>9748</td>\n",
       "      <td>272</td>\n",
       "      <td>9476</td>\n",
       "      <td>3.45%</td>\n",
       "      <td>10.58%</td>\n",
       "      <td>96.81%</td>\n",
       "      <td>78.52%</td>\n",
       "      <td>18.3</td>\n",
       "      <td>18.29</td>\n",
       "      <td></td>\n",
       "    </tr>\n",
       "    <tr>\n",
       "      <th>9</th>\n",
       "      <td>0.280606</td>\n",
       "      <td>0.319689</td>\n",
       "      <td>9748</td>\n",
       "      <td>162</td>\n",
       "      <td>9586</td>\n",
       "      <td>2.06%</td>\n",
       "      <td>10.70%</td>\n",
       "      <td>98.87%</td>\n",
       "      <td>89.22%</td>\n",
       "      <td>9.6</td>\n",
       "      <td>9.65</td>\n",
       "      <td></td>\n",
       "    </tr>\n",
       "    <tr>\n",
       "      <th>10</th>\n",
       "      <td>0.161461</td>\n",
       "      <td>0.280597</td>\n",
       "      <td>9748</td>\n",
       "      <td>89</td>\n",
       "      <td>9659</td>\n",
       "      <td>1.13%</td>\n",
       "      <td>10.78%</td>\n",
       "      <td>100.00%</td>\n",
       "      <td>100.00%</td>\n",
       "      <td>-0.0</td>\n",
       "      <td>-0.00</td>\n",
       "      <td></td>\n",
       "    </tr>\n",
       "  </tbody>\n",
       "</table>\n",
       "</div>"
      ],
      "text/plain": [
       "        min_prob  max_prob  total  events  nonevents event_rate nonevent_rate  \\\n",
       "Decile                                                                          \n",
       "1       0.596795  0.785409   9748    2566       7182     32.58%         8.02%   \n",
       "2       0.534761  0.596793   9748    1472       8276     18.69%         9.24%   \n",
       "3       0.487891  0.534748   9748    1056       8692     13.41%         9.70%   \n",
       "4       0.448647  0.487885   9748     786       8962      9.98%        10.00%   \n",
       "5       0.414545  0.448641   9748     650       9098      8.25%        10.15%   \n",
       "6       0.383045  0.414544   9748     459       9289      5.83%        10.37%   \n",
       "7       0.352345  0.383041   9748     363       9385      4.61%        10.47%   \n",
       "8       0.319696  0.352343   9748     272       9476      3.45%        10.58%   \n",
       "9       0.280606  0.319689   9748     162       9586      2.06%        10.70%   \n",
       "10      0.161461  0.280597   9748      89       9659      1.13%        10.78%   \n",
       "\n",
       "       cum_eventrate cum_noneventrate    KS  ks_stats max_ks  \n",
       "Decile                                                        \n",
       "1             32.58%            8.02%  24.6     24.57         \n",
       "2             51.28%           17.25%  34.0     34.02         \n",
       "3             64.69%           26.95%  37.7     37.73  *****  \n",
       "4             74.67%           36.95%  37.7     37.71         \n",
       "5             82.92%           47.11%  35.8     35.81         \n",
       "6             88.75%           57.47%  31.3     31.28         \n",
       "7             93.36%           67.95%  25.4     25.41         \n",
       "8             96.81%           78.52%  18.3     18.29         \n",
       "9             98.87%           89.22%   9.6      9.65         \n",
       "10           100.00%          100.00%  -0.0     -0.00         "
      ]
     },
     "execution_count": 157,
     "metadata": {},
     "output_type": "execute_result"
    }
   ],
   "source": [
    "# xg_train_ks.to_csv('xgboost_ks_train.csv', index = False)\n",
    "xg_train_ks"
   ]
  },
  {
   "cell_type": "code",
   "execution_count": 158,
   "id": "de697c2e",
   "metadata": {},
   "outputs": [
    {
     "data": {
      "text/html": [
       "<div>\n",
       "<style scoped>\n",
       "    .dataframe tbody tr th:only-of-type {\n",
       "        vertical-align: middle;\n",
       "    }\n",
       "\n",
       "    .dataframe tbody tr th {\n",
       "        vertical-align: top;\n",
       "    }\n",
       "\n",
       "    .dataframe thead th {\n",
       "        text-align: right;\n",
       "    }\n",
       "</style>\n",
       "<table border=\"1\" class=\"dataframe\">\n",
       "  <thead>\n",
       "    <tr style=\"text-align: right;\">\n",
       "      <th></th>\n",
       "      <th>min_prob</th>\n",
       "      <th>max_prob</th>\n",
       "      <th>total</th>\n",
       "      <th>events</th>\n",
       "      <th>nonevents</th>\n",
       "      <th>event_rate</th>\n",
       "      <th>nonevent_rate</th>\n",
       "      <th>cum_eventrate</th>\n",
       "      <th>cum_noneventrate</th>\n",
       "      <th>KS</th>\n",
       "      <th>ks_stats</th>\n",
       "      <th>max_ks</th>\n",
       "    </tr>\n",
       "    <tr>\n",
       "      <th>Decile</th>\n",
       "      <th></th>\n",
       "      <th></th>\n",
       "      <th></th>\n",
       "      <th></th>\n",
       "      <th></th>\n",
       "      <th></th>\n",
       "      <th></th>\n",
       "      <th></th>\n",
       "      <th></th>\n",
       "      <th></th>\n",
       "      <th></th>\n",
       "      <th></th>\n",
       "    </tr>\n",
       "  </thead>\n",
       "  <tbody>\n",
       "    <tr>\n",
       "      <th>1</th>\n",
       "      <td>0.595794</td>\n",
       "      <td>0.777810</td>\n",
       "      <td>2437</td>\n",
       "      <td>581</td>\n",
       "      <td>1856</td>\n",
       "      <td>29.54%</td>\n",
       "      <td>8.28%</td>\n",
       "      <td>29.54%</td>\n",
       "      <td>8.28%</td>\n",
       "      <td>21.3</td>\n",
       "      <td>21.25</td>\n",
       "      <td></td>\n",
       "    </tr>\n",
       "    <tr>\n",
       "      <th>2</th>\n",
       "      <td>0.535189</td>\n",
       "      <td>0.595771</td>\n",
       "      <td>2437</td>\n",
       "      <td>364</td>\n",
       "      <td>2073</td>\n",
       "      <td>18.51%</td>\n",
       "      <td>9.25%</td>\n",
       "      <td>48.04%</td>\n",
       "      <td>17.54%</td>\n",
       "      <td>30.5</td>\n",
       "      <td>30.50</td>\n",
       "      <td></td>\n",
       "    </tr>\n",
       "    <tr>\n",
       "      <th>3</th>\n",
       "      <td>0.488813</td>\n",
       "      <td>0.535177</td>\n",
       "      <td>2437</td>\n",
       "      <td>289</td>\n",
       "      <td>2148</td>\n",
       "      <td>14.69%</td>\n",
       "      <td>9.59%</td>\n",
       "      <td>62.74%</td>\n",
       "      <td>27.13%</td>\n",
       "      <td>35.6</td>\n",
       "      <td>35.61</td>\n",
       "      <td></td>\n",
       "    </tr>\n",
       "    <tr>\n",
       "      <th>4</th>\n",
       "      <td>0.448875</td>\n",
       "      <td>0.488811</td>\n",
       "      <td>2437</td>\n",
       "      <td>203</td>\n",
       "      <td>2234</td>\n",
       "      <td>10.32%</td>\n",
       "      <td>9.97%</td>\n",
       "      <td>73.06%</td>\n",
       "      <td>37.10%</td>\n",
       "      <td>36.0</td>\n",
       "      <td>35.96</td>\n",
       "      <td>*****</td>\n",
       "    </tr>\n",
       "    <tr>\n",
       "      <th>5</th>\n",
       "      <td>0.414391</td>\n",
       "      <td>0.448871</td>\n",
       "      <td>2437</td>\n",
       "      <td>148</td>\n",
       "      <td>2289</td>\n",
       "      <td>7.52%</td>\n",
       "      <td>10.22%</td>\n",
       "      <td>80.58%</td>\n",
       "      <td>47.32%</td>\n",
       "      <td>33.3</td>\n",
       "      <td>33.26</td>\n",
       "      <td></td>\n",
       "    </tr>\n",
       "    <tr>\n",
       "      <th>6</th>\n",
       "      <td>0.383272</td>\n",
       "      <td>0.414367</td>\n",
       "      <td>2437</td>\n",
       "      <td>131</td>\n",
       "      <td>2306</td>\n",
       "      <td>6.66%</td>\n",
       "      <td>10.29%</td>\n",
       "      <td>87.24%</td>\n",
       "      <td>57.61%</td>\n",
       "      <td>29.6</td>\n",
       "      <td>29.63</td>\n",
       "      <td></td>\n",
       "    </tr>\n",
       "    <tr>\n",
       "      <th>7</th>\n",
       "      <td>0.352425</td>\n",
       "      <td>0.383266</td>\n",
       "      <td>2437</td>\n",
       "      <td>87</td>\n",
       "      <td>2350</td>\n",
       "      <td>4.42%</td>\n",
       "      <td>10.49%</td>\n",
       "      <td>91.66%</td>\n",
       "      <td>68.10%</td>\n",
       "      <td>23.6</td>\n",
       "      <td>23.56</td>\n",
       "      <td></td>\n",
       "    </tr>\n",
       "    <tr>\n",
       "      <th>8</th>\n",
       "      <td>0.319611</td>\n",
       "      <td>0.352391</td>\n",
       "      <td>2437</td>\n",
       "      <td>60</td>\n",
       "      <td>2377</td>\n",
       "      <td>3.05%</td>\n",
       "      <td>10.61%</td>\n",
       "      <td>94.71%</td>\n",
       "      <td>78.71%</td>\n",
       "      <td>16.0</td>\n",
       "      <td>16.00</td>\n",
       "      <td></td>\n",
       "    </tr>\n",
       "    <tr>\n",
       "      <th>9</th>\n",
       "      <td>0.281139</td>\n",
       "      <td>0.319606</td>\n",
       "      <td>2437</td>\n",
       "      <td>62</td>\n",
       "      <td>2375</td>\n",
       "      <td>3.15%</td>\n",
       "      <td>10.60%</td>\n",
       "      <td>97.86%</td>\n",
       "      <td>89.31%</td>\n",
       "      <td>8.6</td>\n",
       "      <td>8.56</td>\n",
       "      <td></td>\n",
       "    </tr>\n",
       "    <tr>\n",
       "      <th>10</th>\n",
       "      <td>0.163150</td>\n",
       "      <td>0.281104</td>\n",
       "      <td>2437</td>\n",
       "      <td>42</td>\n",
       "      <td>2395</td>\n",
       "      <td>2.14%</td>\n",
       "      <td>10.69%</td>\n",
       "      <td>100.00%</td>\n",
       "      <td>100.00%</td>\n",
       "      <td>0.0</td>\n",
       "      <td>0.00</td>\n",
       "      <td></td>\n",
       "    </tr>\n",
       "  </tbody>\n",
       "</table>\n",
       "</div>"
      ],
      "text/plain": [
       "        min_prob  max_prob  total  events  nonevents event_rate nonevent_rate  \\\n",
       "Decile                                                                          \n",
       "1       0.595794  0.777810   2437     581       1856     29.54%         8.28%   \n",
       "2       0.535189  0.595771   2437     364       2073     18.51%         9.25%   \n",
       "3       0.488813  0.535177   2437     289       2148     14.69%         9.59%   \n",
       "4       0.448875  0.488811   2437     203       2234     10.32%         9.97%   \n",
       "5       0.414391  0.448871   2437     148       2289      7.52%        10.22%   \n",
       "6       0.383272  0.414367   2437     131       2306      6.66%        10.29%   \n",
       "7       0.352425  0.383266   2437      87       2350      4.42%        10.49%   \n",
       "8       0.319611  0.352391   2437      60       2377      3.05%        10.61%   \n",
       "9       0.281139  0.319606   2437      62       2375      3.15%        10.60%   \n",
       "10      0.163150  0.281104   2437      42       2395      2.14%        10.69%   \n",
       "\n",
       "       cum_eventrate cum_noneventrate    KS  ks_stats max_ks  \n",
       "Decile                                                        \n",
       "1             29.54%            8.28%  21.3     21.25         \n",
       "2             48.04%           17.54%  30.5     30.50         \n",
       "3             62.74%           27.13%  35.6     35.61         \n",
       "4             73.06%           37.10%  36.0     35.96  *****  \n",
       "5             80.58%           47.32%  33.3     33.26         \n",
       "6             87.24%           57.61%  29.6     29.63         \n",
       "7             91.66%           68.10%  23.6     23.56         \n",
       "8             94.71%           78.71%  16.0     16.00         \n",
       "9             97.86%           89.31%   8.6      8.56         \n",
       "10           100.00%          100.00%   0.0      0.00         "
      ]
     },
     "execution_count": 158,
     "metadata": {},
     "output_type": "execute_result"
    }
   ],
   "source": [
    "# xg_test_ks.to_csv('xgboost_ks_test.csv', index = False)\n",
    "xg_test_ks"
   ]
  },
  {
   "cell_type": "code",
   "execution_count": null,
   "id": "6cac2246",
   "metadata": {},
   "outputs": [],
   "source": []
  },
  {
   "cell_type": "code",
   "execution_count": null,
   "id": "9c41c7df",
   "metadata": {},
   "outputs": [],
   "source": []
  },
  {
   "cell_type": "code",
   "execution_count": null,
   "id": "b53066d7",
   "metadata": {},
   "outputs": [],
   "source": []
  },
  {
   "cell_type": "code",
   "execution_count": 89,
   "id": "a0f9ca67",
   "metadata": {},
   "outputs": [],
   "source": [
    "\n",
    "\n",
    "# Init classifier\n",
    "def best_result(eta, md, npt, gam, train, test):\n",
    "    xgb_cl = xgb.XGBClassifier(objective='binary:logistic', booster='gbtree',learning_rate=eta,max_depth=md,\n",
    "                               base_score=0.4, n_estimators=200, num_parallel_tree=npt, eval_metric='auc',\n",
    "                               tree_method='hist', grow_policy='lossguide', scale_pos_weight = 9,\n",
    "                               gamma = gam, colsample_bytree = 0.5\n",
    "                              ).fit(X_train, y_train)\n",
    "\n",
    "    y_pred_xg1 = xgb_cl.predict(X_train)\n",
    "    y_pred_xg = xgb_cl.predict(X_test)\n",
    "    \n",
    "    X_train_prob = list(xgb_cl.predict_proba(X_train)[:,1])\n",
    "    X_test_prob = list(xgb_cl.predict_proba(X_test)[:,1])\n",
    "#     print(\"max depth: \" , md , \", num parallel tree: \" , npt , \"gamma: \" , gam)\n",
    "    train_res = roc_auc_score(y_train, X_train_prob) * 100\n",
    "    test_res = roc_auc_score(y_test, X_test_prob) * 100\n",
    "    \n",
    "    train['Prob_score_XGB'] = X_train_prob\n",
    "    test['Prob_score_XGB'] = X_test_prob\n",
    "\n",
    "    xg_train_ks = ks(train,'Default','Prob_score_XGB')\n",
    "    xg_test_ks = ks(test,'Default','Prob_score_XGB')\n",
    "    \n",
    "    train_3rd_cap = xg_train_ks.reset_index()['cum_eventrate'][2]\n",
    "    test_3rd_cap = xg_test_ks.reset_index()['cum_eventrate'][2]\n",
    "#     print(train_3rd_cap, test_3rd_cap)\n",
    "#     print(\"ROC AUC Score for train:\", train_res)\n",
    "#     print(\"ROC AUC Score for test:\", test_res)\n",
    "    return eta, md, npt, gam, train_res, test_res, train_3rd_cap, test_3rd_cap"
   ]
  },
  {
   "cell_type": "code",
   "execution_count": null,
   "id": "e020aa18",
   "metadata": {
    "scrolled": true
   },
   "outputs": [
    {
     "name": "stdout",
     "output_type": "stream",
     "text": [
      "------------------------------------------------------------\n",
      "------------------------------------------------------------\n",
      "------------------------------------------------------------\n",
      "------------------------------------------------------------\n",
      "------------------------------------------------------------\n",
      "------------------------------------------------------------\n",
      "------------------------------------------------------------\n",
      "------------------------------------------------------------\n",
      "------------------------------------------------------------\n",
      "------------------------------------------------------------\n",
      "------------------------------------------------------------\n",
      "------------------------------------------------------------\n",
      "------------------------------------------------------------\n",
      "------------------------------------------------------------\n",
      "------------------------------------------------------------\n",
      "------------------------------------------------------------\n",
      "------------------------------------------------------------\n",
      "------------------------------------------------------------\n",
      "------------------------------------------------------------\n",
      "------------------------------------------------------------\n",
      "------------------------------------------------------------\n",
      "------------------------------------------------------------\n",
      "------------------------------------------------------------\n",
      "------------------------------------------------------------\n",
      "------------------------------------------------------------\n",
      "------------------------------------------------------------\n",
      "------------------------------------------------------------\n",
      "------------------------------------------------------------\n",
      "------------------------------------------------------------\n",
      "------------------------------------------------------------\n",
      "------------------------------------------------------------\n",
      "------------------------------------------------------------\n",
      "------------------------------------------------------------\n",
      "------------------------------------------------------------\n",
      "------------------------------------------------------------\n",
      "------------------------------------------------------------\n",
      "------------------------------------------------------------\n",
      "------------------------------------------------------------\n",
      "------------------------------------------------------------\n",
      "------------------------------------------------------------\n",
      "------------------------------------------------------------\n",
      "------------------------------------------------------------\n",
      "------------------------------------------------------------\n",
      "------------------------------------------------------------\n",
      "------------------------------------------------------------\n",
      "------------------------------------------------------------\n",
      "------------------------------------------------------------\n",
      "------------------------------------------------------------\n",
      "------------------------------------------------------------\n",
      "------------------------------------------------------------\n",
      "------------------------------------------------------------\n",
      "------------------------------------------------------------\n",
      "------------------------------------------------------------\n",
      "------------------------------------------------------------\n",
      "------------------------------------------------------------\n",
      "------------------------------------------------------------\n",
      "------------------------------------------------------------\n",
      "------------------------------------------------------------\n",
      "------------------------------------------------------------\n",
      "------------------------------------------------------------\n",
      "------------------------------------------------------------\n",
      "------------------------------------------------------------\n",
      "------------------------------------------------------------\n",
      "------------------------------------------------------------\n",
      "------------------------------------------------------------\n",
      "------------------------------------------------------------\n",
      "------------------------------------------------------------\n",
      "------------------------------------------------------------\n",
      "------------------------------------------------------------\n",
      "------------------------------------------------------------\n",
      "------------------------------------------------------------\n",
      "------------------------------------------------------------\n",
      "------------------------------------------------------------\n",
      "------------------------------------------------------------\n",
      "------------------------------------------------------------\n",
      "------------------------------------------------------------\n",
      "------------------------------------------------------------\n",
      "------------------------------------------------------------\n",
      "------------------------------------------------------------\n",
      "------------------------------------------------------------\n",
      "------------------------------------------------------------\n",
      "------------------------------------------------------------\n",
      "------------------------------------------------------------\n",
      "------------------------------------------------------------\n",
      "------------------------------------------------------------\n",
      "------------------------------------------------------------\n",
      "------------------------------------------------------------\n",
      "------------------------------------------------------------\n",
      "------------------------------------------------------------\n",
      "------------------------------------------------------------\n",
      "------------------------------------------------------------\n",
      "------------------------------------------------------------\n",
      "------------------------------------------------------------\n",
      "------------------------------------------------------------\n",
      "------------------------------------------------------------\n",
      "------------------------------------------------------------\n",
      "------------------------------------------------------------\n",
      "------------------------------------------------------------\n",
      "------------------------------------------------------------\n",
      "------------------------------------------------------------\n",
      "------------------------------------------------------------\n",
      "------------------------------------------------------------\n",
      "------------------------------------------------------------\n",
      "------------------------------------------------------------\n",
      "------------------------------------------------------------\n",
      "------------------------------------------------------------\n",
      "------------------------------------------------------------\n",
      "------------------------------------------------------------\n",
      "------------------------------------------------------------\n",
      "------------------------------------------------------------\n",
      "------------------------------------------------------------\n",
      "------------------------------------------------------------\n",
      "------------------------------------------------------------\n",
      "------------------------------------------------------------\n",
      "------------------------------------------------------------\n",
      "------------------------------------------------------------\n",
      "------------------------------------------------------------\n",
      "------------------------------------------------------------\n",
      "------------------------------------------------------------\n",
      "------------------------------------------------------------\n",
      "------------------------------------------------------------\n",
      "------------------------------------------------------------\n",
      "------------------------------------------------------------\n",
      "------------------------------------------------------------\n",
      "------------------------------------------------------------\n",
      "------------------------------------------------------------\n",
      "------------------------------------------------------------\n",
      "------------------------------------------------------------\n",
      "------------------------------------------------------------\n",
      "------------------------------------------------------------\n",
      "------------------------------------------------------------\n",
      "------------------------------------------------------------\n",
      "------------------------------------------------------------\n",
      "------------------------------------------------------------\n",
      "------------------------------------------------------------\n"
     ]
    },
    {
     "name": "stdout",
     "output_type": "stream",
     "text": [
      "------------------------------------------------------------\n",
      "------------------------------------------------------------\n",
      "------------------------------------------------------------\n",
      "------------------------------------------------------------\n",
      "------------------------------------------------------------\n",
      "------------------------------------------------------------\n",
      "------------------------------------------------------------\n",
      "------------------------------------------------------------\n",
      "------------------------------------------------------------\n",
      "------------------------------------------------------------\n",
      "------------------------------------------------------------\n",
      "------------------------------------------------------------\n",
      "------------------------------------------------------------\n",
      "------------------------------------------------------------\n",
      "------------------------------------------------------------\n",
      "------------------------------------------------------------\n",
      "------------------------------------------------------------\n",
      "------------------------------------------------------------\n",
      "------------------------------------------------------------\n",
      "------------------------------------------------------------\n",
      "------------------------------------------------------------\n",
      "------------------------------------------------------------\n",
      "------------------------------------------------------------\n",
      "------------------------------------------------------------\n",
      "------------------------------------------------------------\n",
      "------------------------------------------------------------\n",
      "------------------------------------------------------------\n",
      "------------------------------------------------------------\n",
      "------------------------------------------------------------\n",
      "------------------------------------------------------------\n",
      "------------------------------------------------------------\n",
      "------------------------------------------------------------\n",
      "------------------------------------------------------------\n",
      "------------------------------------------------------------\n",
      "------------------------------------------------------------\n",
      "------------------------------------------------------------\n",
      "------------------------------------------------------------\n",
      "------------------------------------------------------------\n",
      "------------------------------------------------------------\n",
      "------------------------------------------------------------\n",
      "------------------------------------------------------------\n",
      "------------------------------------------------------------\n",
      "------------------------------------------------------------\n",
      "------------------------------------------------------------\n",
      "------------------------------------------------------------\n",
      "------------------------------------------------------------\n",
      "------------------------------------------------------------\n",
      "------------------------------------------------------------\n",
      "------------------------------------------------------------\n",
      "------------------------------------------------------------\n",
      "------------------------------------------------------------\n",
      "------------------------------------------------------------\n",
      "------------------------------------------------------------\n",
      "------------------------------------------------------------\n",
      "------------------------------------------------------------\n",
      "------------------------------------------------------------\n",
      "------------------------------------------------------------\n",
      "------------------------------------------------------------\n",
      "------------------------------------------------------------\n",
      "------------------------------------------------------------\n",
      "------------------------------------------------------------\n",
      "------------------------------------------------------------\n",
      "------------------------------------------------------------\n",
      "------------------------------------------------------------\n",
      "------------------------------------------------------------\n",
      "------------------------------------------------------------\n",
      "------------------------------------------------------------\n",
      "------------------------------------------------------------\n",
      "------------------------------------------------------------\n",
      "------------------------------------------------------------\n",
      "------------------------------------------------------------\n",
      "------------------------------------------------------------\n",
      "------------------------------------------------------------\n",
      "------------------------------------------------------------\n",
      "------------------------------------------------------------\n",
      "------------------------------------------------------------\n",
      "------------------------------------------------------------\n",
      "------------------------------------------------------------\n",
      "------------------------------------------------------------\n",
      "------------------------------------------------------------\n",
      "------------------------------------------------------------\n",
      "------------------------------------------------------------\n",
      "------------------------------------------------------------\n",
      "------------------------------------------------------------\n",
      "------------------------------------------------------------\n",
      "------------------------------------------------------------\n",
      "------------------------------------------------------------\n",
      "------------------------------------------------------------\n",
      "------------------------------------------------------------\n",
      "------------------------------------------------------------\n",
      "------------------------------------------------------------\n",
      "------------------------------------------------------------\n",
      "------------------------------------------------------------\n",
      "------------------------------------------------------------\n",
      "------------------------------------------------------------\n",
      "------------------------------------------------------------\n",
      "------------------------------------------------------------\n",
      "------------------------------------------------------------\n",
      "------------------------------------------------------------\n",
      "------------------------------------------------------------\n",
      "------------------------------------------------------------\n",
      "------------------------------------------------------------\n",
      "------------------------------------------------------------\n",
      "------------------------------------------------------------\n",
      "------------------------------------------------------------\n",
      "------------------------------------------------------------\n",
      "------------------------------------------------------------\n",
      "------------------------------------------------------------\n",
      "------------------------------------------------------------\n",
      "------------------------------------------------------------\n",
      "------------------------------------------------------------\n",
      "------------------------------------------------------------\n",
      "------------------------------------------------------------\n",
      "------------------------------------------------------------\n",
      "------------------------------------------------------------\n",
      "------------------------------------------------------------\n",
      "------------------------------------------------------------\n",
      "------------------------------------------------------------\n",
      "------------------------------------------------------------\n",
      "------------------------------------------------------------\n",
      "------------------------------------------------------------\n",
      "------------------------------------------------------------\n",
      "------------------------------------------------------------\n",
      "------------------------------------------------------------\n",
      "------------------------------------------------------------\n",
      "------------------------------------------------------------\n",
      "------------------------------------------------------------\n",
      "------------------------------------------------------------\n",
      "------------------------------------------------------------\n",
      "------------------------------------------------------------\n",
      "------------------------------------------------------------\n",
      "------------------------------------------------------------\n",
      "------------------------------------------------------------\n",
      "------------------------------------------------------------\n",
      "------------------------------------------------------------\n"
     ]
    },
    {
     "name": "stdout",
     "output_type": "stream",
     "text": [
      "------------------------------------------------------------\n",
      "------------------------------------------------------------\n",
      "------------------------------------------------------------\n",
      "------------------------------------------------------------\n",
      "------------------------------------------------------------\n",
      "------------------------------------------------------------\n",
      "------------------------------------------------------------\n",
      "------------------------------------------------------------\n",
      "------------------------------------------------------------\n",
      "------------------------------------------------------------\n",
      "------------------------------------------------------------\n",
      "------------------------------------------------------------\n",
      "------------------------------------------------------------\n",
      "------------------------------------------------------------\n",
      "------------------------------------------------------------\n",
      "------------------------------------------------------------\n",
      "------------------------------------------------------------\n",
      "------------------------------------------------------------\n",
      "------------------------------------------------------------\n",
      "------------------------------------------------------------\n",
      "------------------------------------------------------------\n",
      "------------------------------------------------------------\n"
     ]
    }
   ],
   "source": [
    "my_dict = {\"LearningRate\": [], \"Max_Depth\":[], \"Num_Parallel_Tree\":[], \"Gamma\":[],\n",
    "           \"Train_AUC\": [], \"Test_AUC\": [], \"Train_3rd_DC\": [], \"Test_3rd_DC\": []};\n",
    "for i in [0.19, 0.195, 0.2, 0.21]:\n",
    "    for j in [4, 5, 6, 7]:\n",
    "        for k in [2, 4, 5, 6, 7]:\n",
    "            for l in [70, 75, 80, 85, 90, 95]:\n",
    "                try:\n",
    "                    eta, md, npt, gam, train_res, test_res, train_3rd_cap, test_3rd_cap = best_result(i, j, k, l, train, test)\n",
    "                    my_dict[\"LearningRate\"].append(eta)\n",
    "                    my_dict[\"Max_Depth\"].append(md)\n",
    "                    my_dict[\"Num_Parallel_Tree\"].append(npt)\n",
    "                    my_dict[\"Gamma\"].append(gam)\n",
    "                    my_dict[\"Train_AUC\"].append(train_res)\n",
    "                    my_dict[\"Test_AUC\"].append(test_res)\n",
    "                    my_dict[\"Train_3rd_DC\"].append(train_3rd_cap)\n",
    "                    my_dict[\"Test_3rd_DC\"].append(test_3rd_cap)\n",
    "#                     print(my_dict)\n",
    "                except:\n",
    "                    pass\n",
    "\n",
    "                print(\"------------------------------------------------------------\")\n"
   ]
  },
  {
   "cell_type": "code",
   "execution_count": null,
   "id": "ca0f5a6a",
   "metadata": {},
   "outputs": [],
   "source": [
    "my_dict"
   ]
  },
  {
   "cell_type": "code",
   "execution_count": null,
   "id": "931a4036",
   "metadata": {
    "scrolled": true
   },
   "outputs": [],
   "source": [
    "# pd.DataFrame(my_dict).to_excel('output_v1.2.xlsx', index = False)"
   ]
  },
  {
   "cell_type": "code",
   "execution_count": null,
   "id": "5e139e40",
   "metadata": {},
   "outputs": [],
   "source": [
    "\n",
    "# X_validation_prob = list(xgb_cl.predict_proba(X_validation)[:,1])\n",
    "\n",
    "\n",
    "# validation['Prob_score_XGB'] = X_validation_prob\n",
    "\n",
    "\n",
    "# print(\"ROC AUC Score for validation:\", roc_auc_score(y_validation, X_validation_prob) * 100)\n"
   ]
  },
  {
   "cell_type": "code",
   "execution_count": null,
   "id": "af630342",
   "metadata": {},
   "outputs": [],
   "source": []
  },
  {
   "cell_type": "code",
   "execution_count": null,
   "id": "a58d7a47",
   "metadata": {
    "scrolled": true
   },
   "outputs": [],
   "source": [
    "feat_imp = pd.DataFrame.from_dict(zip(list(X_train.columns), xgb_cl.feature_importances_*100)).sort_values(by = 1, ascending = False)\n",
    "# feat_imp.to_excel('feature_imp_xgb.xlsx', index = False)\n",
    "feat_imp"
   ]
  },
  {
   "cell_type": "code",
   "execution_count": null,
   "id": "08d0a7f6",
   "metadata": {},
   "outputs": [],
   "source": [
    "feat_imp[0].values"
   ]
  },
  {
   "cell_type": "code",
   "execution_count": null,
   "id": "a56bf7d8",
   "metadata": {},
   "outputs": [],
   "source": [
    "# print()\n",
    "print(\"ROC AUC Score for train:\", roc_auc_score(y_train, y_pred_xg1) * 100)\n",
    "print(\"ROC AUC Score for test:\", roc_auc_score(y_test, y_pred_xg) * 100)\n",
    "# print(\"ROC AUC Score for valid:\", roc_auc_score(y_validation, y_pred_xg_v) * 100)"
   ]
  },
  {
   "cell_type": "code",
   "execution_count": null,
   "id": "9baccdb2",
   "metadata": {},
   "outputs": [],
   "source": [
    "# xg_train_ks.to_csv('xgboost_ks_train.csv', index = False)\n",
    "xg_train_ks.reset_index()['cum_eventrate'][2]"
   ]
  },
  {
   "cell_type": "code",
   "execution_count": null,
   "id": "9361afcb",
   "metadata": {},
   "outputs": [],
   "source": [
    "# xg_test_ks.to_csv('xgboost_ks_test.csv', index = False)\n",
    "xg_test_ks"
   ]
  },
  {
   "cell_type": "code",
   "execution_count": null,
   "id": "a145fec5",
   "metadata": {},
   "outputs": [],
   "source": [
    "# xg_validation_ks.to_csv('xgboost_ks_validation.csv', index = False)\n",
    "# xg_validation_ks"
   ]
  },
  {
   "cell_type": "code",
   "execution_count": null,
   "id": "04fb2fe5",
   "metadata": {},
   "outputs": [],
   "source": []
  },
  {
   "cell_type": "code",
   "execution_count": null,
   "id": "84595539",
   "metadata": {},
   "outputs": [],
   "source": []
  },
  {
   "cell_type": "code",
   "execution_count": null,
   "id": "02409758",
   "metadata": {},
   "outputs": [],
   "source": []
  },
  {
   "cell_type": "code",
   "execution_count": null,
   "id": "0d68bd1c",
   "metadata": {},
   "outputs": [],
   "source": []
  },
  {
   "cell_type": "code",
   "execution_count": null,
   "id": "cbfe080e",
   "metadata": {},
   "outputs": [],
   "source": []
  }
 ],
 "metadata": {
  "kernelspec": {
   "display_name": "Python 3 (ipykernel)",
   "language": "python",
   "name": "python3"
  },
  "language_info": {
   "codemirror_mode": {
    "name": "ipython",
    "version": 3
   },
   "file_extension": ".py",
   "mimetype": "text/x-python",
   "name": "python",
   "nbconvert_exporter": "python",
   "pygments_lexer": "ipython3",
   "version": "3.10.9"
  }
 },
 "nbformat": 4,
 "nbformat_minor": 5
}

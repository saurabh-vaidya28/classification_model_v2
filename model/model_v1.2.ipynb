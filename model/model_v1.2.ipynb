{
 "cells": [
  {
   "cell_type": "code",
   "execution_count": 1,
   "id": "13019234",
   "metadata": {},
   "outputs": [],
   "source": [
    "import numpy as np\n",
    "import pandas as pd\n",
    "import matplotlib.pyplot as plt\n",
    "%matplotlib inline\n",
    "import seaborn as sns\n",
    "\n",
    "import warnings\n",
    "warnings.simplefilter(action='ignore', category=FutureWarning)\n",
    "warnings.filterwarnings(\"ignore\")\n",
    "\n",
    "pd.set_option('display.max_rows', 500)\n",
    "pd.set_option('display.max_columns', 500)"
   ]
  },
  {
   "cell_type": "code",
   "execution_count": 2,
   "id": "374041c1",
   "metadata": {},
   "outputs": [],
   "source": [
    "from sklearn.preprocessing import StandardScaler\n",
    "from sklearn.linear_model import LogisticRegression\n",
    "from sklearn import svm\n",
    "from sklearn.tree import DecisionTreeClassifier\n",
    "from sklearn.ensemble import RandomForestClassifier\n",
    "from xgboost import XGBClassifier\n",
    "import xgboost as xgb"
   ]
  },
  {
   "cell_type": "code",
   "execution_count": 3,
   "id": "76c7d247",
   "metadata": {},
   "outputs": [],
   "source": [
    "\n",
    "from sklearn.metrics import accuracy_score\n",
    "from sklearn.metrics import recall_score\n",
    "from sklearn.metrics import precision_score\n",
    "from sklearn.metrics import f1_score\n",
    "from sklearn.metrics import jaccard_score\n",
    "from sklearn.metrics import log_loss\n",
    "from sklearn.metrics import roc_auc_score\n",
    "from sklearn.metrics import classification_report, confusion_matrix\n",
    "from sklearn.model_selection import GridSearchCV"
   ]
  },
  {
   "cell_type": "code",
   "execution_count": 4,
   "id": "42748d25",
   "metadata": {},
   "outputs": [],
   "source": [
    "df_train = pd.read_csv(r'C:\\Users\\100_rabh\\1. protium\\Train.csv',sep=',',encoding='utf-8',parse_dates=True)\n",
    "df_test = pd.read_csv(r'C:\\Users\\100_rabh\\1. protium\\Test.csv',sep=',',encoding='utf-8',parse_dates=True)"
   ]
  },
  {
   "cell_type": "code",
   "execution_count": 5,
   "id": "5c21ac63",
   "metadata": {},
   "outputs": [
    {
     "name": "stdout",
     "output_type": "stream",
     "text": [
      "Shape of train: (97485, 31)\n",
      "Shape of test: (24371, 31)\n"
     ]
    }
   ],
   "source": [
    "print(\"Shape of train:\", df_train.shape)\n",
    "print(\"Shape of test:\", df_test.shape)"
   ]
  },
  {
   "cell_type": "code",
   "execution_count": 6,
   "id": "804a32d8",
   "metadata": {
    "scrolled": true
   },
   "outputs": [
    {
     "name": "stdout",
     "output_type": "stream",
     "text": [
      "<class 'pandas.core.frame.DataFrame'>\n",
      "RangeIndex: 97485 entries, 0 to 97484\n",
      "Data columns (total 31 columns):\n",
      " #   Column                                      Non-Null Count  Dtype  \n",
      "---  ------                                      --------------  -----  \n",
      " 0   Patron_Salary                               97485 non-null  float64\n",
      " 1   Automobile_Possession                       97485 non-null  float64\n",
      " 2   Two-Wheeler_Ownership                       97485 non-null  float64\n",
      " 3   Ongoing_Borrowing                           97485 non-null  float64\n",
      " 4   Residence_Proprietorship                    97485 non-null  float64\n",
      " 5   Offspring_Number                            97485 non-null  float64\n",
      " 6   Loan_Capital                                97485 non-null  float64\n",
      " 7   Borrowing_Periodic_Payment                  97485 non-null  float64\n",
      " 8   Customer_Revenue_Category                   97485 non-null  object \n",
      " 9   Patron_Academic_Qualification               97485 non-null  object \n",
      " 10  Customer_Conjugal_State                     97485 non-null  object \n",
      " 11  Patron_Sex                                  97485 non-null  object \n",
      " 12  Borrowing_Agreement_Category                97485 non-null  object \n",
      " 13  Customer_Living_Arrangement                 97485 non-null  object \n",
      " 14  Population_Fraction_by_Region               97485 non-null  float64\n",
      " 15  Elderliness_in_Days                         97485 non-null  float64\n",
      " 16  Work_Duration_in_Days                       97485 non-null  float64\n",
      " 17  Enlistment_Period_in_Days                   97485 non-null  float64\n",
      " 18  Identity_Age_in_Days                        97485 non-null  float64\n",
      " 19  Cellphone_Marker                            97485 non-null  float64\n",
      " 20  Residential_Phone_Marker                    97485 non-null  float64\n",
      " 21  Employment_Phone_Operation                  97485 non-null  float64\n",
      " 22  Patron_Kin_Count                            97485 non-null  float64\n",
      " 23  Customer_Urban_Area_Ranking                 97485 non-null  float64\n",
      " 24  Request_Submission_Day                      97485 non-null  float64\n",
      " 25  Request_Submission_Hour                     97485 non-null  float64\n",
      " 26  Patron_Constant_Correspondence_Marker       97485 non-null  object \n",
      " 27  Customer_Professional_Communication_Marker  97485 non-null  object \n",
      " 28  Rating_Origin_2                             97485 non-null  float64\n",
      " 29  Telecommunication_Switch                    97485 non-null  float64\n",
      " 30  Default                                     97485 non-null  int64  \n",
      "dtypes: float64(22), int64(1), object(8)\n",
      "memory usage: 23.1+ MB\n"
     ]
    }
   ],
   "source": [
    "df_train.info()"
   ]
  },
  {
   "cell_type": "code",
   "execution_count": 7,
   "id": "654bc3ed",
   "metadata": {},
   "outputs": [],
   "source": [
    "for i in df_train.columns:\n",
    "    if df_train[i].dtypes == 'object':\n",
    "        df_train[i] = df_train[i].str.upper()\n",
    "        df_train[i] = df_train[i].str.strip()\n",
    "        \n",
    "        df_test[i] = df_test[i].str.upper()\n",
    "        df_test[i] = df_test[i].str.strip()"
   ]
  },
  {
   "cell_type": "code",
   "execution_count": 8,
   "id": "3e07b1b2",
   "metadata": {},
   "outputs": [],
   "source": [
    "# converting float to integer if column have 2 unique value\n",
    "for i in df_train.columns:\n",
    "    if df_train[i].dtypes == 'float':\n",
    "        if df_train[i].nunique() <= 2:\n",
    "            df_train[i] = df_train[i].astype(int)"
   ]
  },
  {
   "cell_type": "code",
   "execution_count": 9,
   "id": "05901bb9",
   "metadata": {},
   "outputs": [],
   "source": [
    "# converting float to integer if column have 2 unique value\n",
    "for i in df_test.columns:\n",
    "    if df_test[i].dtypes == 'float':\n",
    "        if df_test[i].nunique() <= 2:\n",
    "            df_test[i] = df_test[i].astype(int)"
   ]
  },
  {
   "cell_type": "markdown",
   "id": "9c5e75c4",
   "metadata": {},
   "source": [
    "### IV"
   ]
  },
  {
   "cell_type": "code",
   "execution_count": 10,
   "id": "bf938eff",
   "metadata": {},
   "outputs": [],
   "source": [
    "def iv_woe(data, target, bins, show_woe=False):\n",
    "    \n",
    "    #Empty Dataframe\n",
    "    newDF,woeDF = pd.DataFrame(), pd.DataFrame()\n",
    "    \n",
    "    #Extract Column Names\n",
    "    cols = data.columns\n",
    "    \n",
    "    #Run WOE and IV on all the independent variables\n",
    "    for ivars in cols[~cols.isin([target])]:\n",
    "        if (data[ivars].dtype.kind in 'bifc') and (len(np.unique(data[ivars]))>10):\n",
    "            binned_x = pd.qcut(data[ivars], bins,  duplicates='drop')\n",
    "            d0 = pd.DataFrame({'x': binned_x, 'y': data[target]})\n",
    "        else:\n",
    "            d0 = pd.DataFrame({'x': data[ivars], 'y': data[target]})\n",
    "        d = d0.groupby(\"x\", as_index=False).agg({\"y\": [\"count\", \"sum\"]})\n",
    "        d.columns = ['Cutoff', 'N', 'Events']\n",
    "        d['% of Events'] = np.maximum(d['Events'], 0.5) / d['Events'].sum()\n",
    "        d['Non-Events'] = d['N'] - d['Events']\n",
    "        d['% of Non-Events'] = np.maximum(d['Non-Events'], 0.5) / d['Non-Events'].sum()\n",
    "        d['WoE'] = np.log(d['% of Events']/d['% of Non-Events'])\n",
    "        d['IV'] = d['WoE'] * (d['% of Events'] - d['% of Non-Events'])\n",
    "        d.insert(loc=0, column='Variable', value=ivars)\n",
    "        print(\"Information value of \" + ivars + \" is \" + str(round(d['IV'].sum(),6)))\n",
    "        temp =pd.DataFrame({\"Variable\" : [ivars], \"IV\" : [d['IV'].sum()]}, columns = [\"Variable\", \"IV\"])\n",
    "        newDF=pd.concat([newDF,temp], axis=0)\n",
    "        woeDF=pd.concat([woeDF,d], axis=0)\n",
    "\n",
    "        #Show WOE Table\n",
    "        if show_woe == True:\n",
    "            print(d)\n",
    "    return newDF, woeDF"
   ]
  },
  {
   "cell_type": "code",
   "execution_count": 11,
   "id": "0db1e8d8",
   "metadata": {
    "scrolled": true
   },
   "outputs": [
    {
     "name": "stdout",
     "output_type": "stream",
     "text": [
      "Information value of Patron_Salary is 0.010092\n",
      "        Variable               Cutoff      N  Events  % of Events  Non-Events  \\\n",
      "0  Patron_Salary  (8099.999, 11250.0]  30985    2573     0.326606       28412   \n",
      "1  Patron_Salary   (11250.0, 14400.0]  19226    1657     0.210333       17569   \n",
      "2  Patron_Salary   (14400.0, 20250.0]  25278    2162     0.274435       23116   \n",
      "3  Patron_Salary   (20250.0, 27000.0]  21996    1486     0.188627       20510   \n",
      "\n",
      "   % of Non-Events       WoE        IV  \n",
      "0         0.317073  0.029620  0.000282  \n",
      "1         0.196067  0.070232  0.001002  \n",
      "2         0.257971  0.061868  0.001019  \n",
      "3         0.228888 -0.193465  0.007789  \n",
      "Information value of Automobile_Possession is 0.007117\n",
      "                Variable  Cutoff      N  Events  % of Events  Non-Events  \\\n",
      "0  Automobile_Possession       0  65027    5539     0.703097       59488   \n",
      "1  Automobile_Possession       1  32458    2339     0.296903       30119   \n",
      "\n",
      "   % of Non-Events       WoE        IV  \n",
      "0         0.663877  0.057399  0.002251  \n",
      "1         0.336123 -0.124073  0.004866  \n",
      "Information value of Two-Wheeler_Ownership is 3.2e-05\n",
      "                Variable  Cutoff      N  Events  % of Events  Non-Events  \\\n",
      "0  Two-Wheeler_Ownership       0  66080    5321     0.675425       60759   \n",
      "1  Two-Wheeler_Ownership       1  31405    2557     0.324575       28848   \n",
      "\n",
      "   % of Non-Events       WoE        IV  \n",
      "0         0.678061 -0.003895  0.000010  \n",
      "1         0.321939  0.008153  0.000021  \n",
      "Information value of Ongoing_Borrowing is 1.8e-05\n",
      "            Variable  Cutoff      N  Events  % of Events  Non-Events  \\\n",
      "0  Ongoing_Borrowing       0  50307    4050      0.51409       46257   \n",
      "1  Ongoing_Borrowing       1  47178    3828      0.48591       43350   \n",
      "\n",
      "   % of Non-Events       WoE        IV  \n",
      "0         0.516221 -0.004137  0.000009  \n",
      "1         0.483779  0.004395  0.000009  \n",
      "Information value of Residence_Proprietorship is 6e-06\n",
      "                   Variable  Cutoff      N  Events  % of Events  Non-Events  \\\n",
      "0  Residence_Proprietorship       0  29181    2350     0.298299       26831   \n",
      "1  Residence_Proprietorship       1  68304    5528     0.701701       62776   \n",
      "\n",
      "   % of Non-Events       WoE        IV  \n",
      "0          0.29943 -0.003783  0.000004  \n",
      "1          0.70057  0.001613  0.000002  \n",
      "Information value of Offspring_Number is 0.007091\n",
      "           Variable  Cutoff      N  Events  % of Events  Non-Events  \\\n",
      "0  Offspring_Number       0  69197    5311     0.674156       63886   \n",
      "1  Offspring_Number       1  28288    2567     0.325844       25721   \n",
      "\n",
      "   % of Non-Events       WoE        IV  \n",
      "0         0.712958 -0.055961  0.002171  \n",
      "1         0.287042  0.126790  0.004920  \n",
      "Information value of Loan_Capital is 0.036872\n",
      "       Variable                Cutoff      N  Events  % of Events  Non-Events  \\\n",
      "0  Loan_Capital  (17999.999, 27504.0]  24392    1738     0.220614       22654   \n",
      "1  Loan_Capital    (27504.0, 51750.0]  25860    2454     0.311500       23406   \n",
      "2  Loan_Capital    (51750.0, 80865.0]  23861    2232     0.283321       21629   \n",
      "3  Loan_Capital   (80865.0, 112500.0]  23372    1454     0.184565       21918   \n",
      "\n",
      "   % of Non-Events       WoE        IV  \n",
      "0         0.252815 -0.136242  0.004387  \n",
      "1         0.261207  0.176086  0.008856  \n",
      "2         0.241376  0.160222  0.006720  \n",
      "3         0.244601 -0.281630  0.016908  \n",
      "Information value of Borrowing_Periodic_Payment is 0.014114\n",
      "                     Variable              Cutoff      N  Events  % of Events  \\\n",
      "0  Borrowing_Periodic_Payment  (1124.999, 1687.5]  24499    1726     0.219091   \n",
      "1  Borrowing_Periodic_Payment   (1687.5, 2501.55]  26208    2305     0.292587   \n",
      "2  Borrowing_Periodic_Payment  (2501.55, 3411.45]  22433    2047     0.259838   \n",
      "3  Borrowing_Periodic_Payment   (3411.45, 4558.5]  24345    1800     0.228484   \n",
      "\n",
      "   Non-Events  % of Non-Events       WoE        IV  \n",
      "0       22773         0.254143 -0.148410  0.005202  \n",
      "1       23903         0.266754  0.092436  0.002388  \n",
      "2       20386         0.227505  0.132886  0.004297  \n",
      "3       22545         0.251599 -0.096367  0.002227  \n",
      "Information value of Customer_Revenue_Category is 0.049118\n",
      "                    Variable           Cutoff      N  Events  % of Events  \\\n",
      "0  Customer_Revenue_Category      BUSINESSMAN      1       0     0.000063   \n",
      "1  Customer_Revenue_Category       COMMERCIAL  22237    1690     0.214521   \n",
      "2  Customer_Revenue_Category         GOVT JOB   6678     391     0.049632   \n",
      "3  Customer_Revenue_Category  MATERNITY LEAVE      1       0     0.000063   \n",
      "4  Customer_Revenue_Category          RETIRED  16895     935     0.118685   \n",
      "5  Customer_Revenue_Category          SERVICE  51662    4859     0.616781   \n",
      "6  Customer_Revenue_Category          STUDENT      6       0     0.000063   \n",
      "7  Customer_Revenue_Category       UNEMPLOYED      5       3     0.000381   \n",
      "\n",
      "   Non-Events  % of Non-Events       WoE            IV  \n",
      "0           1         0.000011  1.738212  9.092248e-05  \n",
      "1       20547         0.229301 -0.066627  9.847363e-04  \n",
      "2        6287         0.070162 -0.346172  7.106933e-03  \n",
      "3           1         0.000011  1.738212  9.092248e-05  \n",
      "4       15960         0.178111 -0.405935  2.412315e-02  \n",
      "5       46803         0.522314  0.166245  1.570461e-02  \n",
      "6           6         0.000067 -0.053547  1.869426e-07  \n",
      "7           2         0.000022  2.836824  1.016966e-03  \n",
      "Information value of Patron_Academic_Qualification is 0.059449\n",
      "                        Variable              Cutoff      N  Events  \\\n",
      "0  Patron_Academic_Qualification          GRADUATION  23092    1176   \n",
      "1  Patron_Academic_Qualification  GRADUATION DROPOUT   3160     272   \n",
      "2  Patron_Academic_Qualification    JUNIOR SECONDARY   1151     118   \n",
      "3  Patron_Academic_Qualification           POST GRAD     50       1   \n",
      "4  Patron_Academic_Qualification           SECONDARY  70032    6311   \n",
      "\n",
      "   % of Events  Non-Events  % of Non-Events       WoE        IV  \n",
      "0     0.149276       21916         0.244579 -0.493739  0.047055  \n",
      "1     0.034527        2888         0.032230  0.068842  0.000158  \n",
      "2     0.014978        1033         0.011528  0.261822  0.000903  \n",
      "3     0.000127          49         0.000547 -1.460461  0.000613  \n",
      "4     0.801092       63721         0.711116  0.119139  0.010720  \n",
      "Information value of Customer_Conjugal_State is 0.010329\n",
      "                  Variable Cutoff      N  Events  % of Events  Non-Events  \\\n",
      "0  Customer_Conjugal_State      D   6016     449     0.056994        5567   \n",
      "1  Customer_Conjugal_State      M  72639    5760     0.731150       66879   \n",
      "2  Customer_Conjugal_State      S  13951    1359     0.172506       12592   \n",
      "3  Customer_Conjugal_State      W   4879     310     0.039350        4569   \n",
      "\n",
      "   % of Non-Events       WoE        IV  \n",
      "0         0.062127 -0.086229  0.000443  \n",
      "1         0.746359 -0.020588  0.000313  \n",
      "2         0.140525  0.205047  0.006558  \n",
      "3         0.050989 -0.259118  0.003016  \n",
      "Information value of Patron_Sex is 0.031512\n",
      "     Variable  Cutoff      N  Events  % of Events  Non-Events  \\\n",
      "0  Patron_Sex  FEMALE  32835    3274     0.415588       29561   \n",
      "1  Patron_Sex    MALE  64650    4604     0.584412       60046   \n",
      "\n",
      "   % of Non-Events       WoE        IV  \n",
      "0         0.329896  0.230916  0.019788  \n",
      "1         0.670104 -0.136826  0.011725  \n",
      "Information value of Borrowing_Agreement_Category is 0.011556\n",
      "                       Variable Cutoff      N  Events  % of Events  \\\n",
      "0  Borrowing_Agreement_Category     CL  88659    7373     0.935897   \n",
      "1  Borrowing_Agreement_Category     RL   8826     505     0.064103   \n",
      "\n",
      "   Non-Events  % of Non-Events      WoE        IV  \n",
      "0       81286         0.907139  0.03121  0.000898  \n",
      "1        8321         0.092861 -0.37062  0.010658  \n",
      "Information value of Customer_Living_Arrangement is 0.013294\n",
      "                      Variable     Cutoff      N  Events  % of Events  \\\n",
      "0  Customer_Living_Arrangement     FAMILY   4636     516     0.065499   \n",
      "1  Customer_Living_Arrangement       HOME  86839    6791     0.862021   \n",
      "2  Customer_Living_Arrangement  MUNICIPAL   3407     294     0.037319   \n",
      "3  Customer_Living_Arrangement     OFFICE    807      57     0.007235   \n",
      "4  Customer_Living_Arrangement     RENTAL   1446     183     0.023229   \n",
      "5  Customer_Living_Arrangement     SHARED    350      37     0.004697   \n",
      "\n",
      "   Non-Events  % of Non-Events       WoE        IV  \n",
      "0        4120         0.045979  0.353858  0.006907  \n",
      "1       80048         0.893323 -0.035669  0.001117  \n",
      "2        3113         0.034741  0.071597  0.000185  \n",
      "3         750         0.008370 -0.145663  0.000165  \n",
      "4        1263         0.014095  0.499600  0.004564  \n",
      "5         313         0.003493  0.296074  0.000356  \n",
      "Information value of Population_Fraction_by_Region is 0.009741\n",
      "                        Variable            Cutoff      N  Events  \\\n",
      "0  Population_Fraction_by_Region   (0.00567, 0.01]  24975    2170   \n",
      "1  Population_Fraction_by_Region    (0.01, 0.0188]  26863    2290   \n",
      "2  Population_Fraction_by_Region  (0.0188, 0.0264]  21286    1743   \n",
      "3  Population_Fraction_by_Region  (0.0264, 0.0358]  24361    1675   \n",
      "\n",
      "   % of Events  Non-Events  % of Non-Events       WoE        IV  \n",
      "0     0.275451       22805         0.254500  0.079107  0.001657  \n",
      "1     0.290683       24573         0.274231  0.058263  0.000959  \n",
      "2     0.221249       19543         0.218097  0.014350  0.000045  \n",
      "3     0.212617       22686         0.253172 -0.174575  0.007080  \n",
      "Information value of Elderliness_in_Days is 0.071491\n",
      "              Variable                Cutoff      N  Events  % of Events  \\\n",
      "0  Elderliness_in_Days  (10310.999, 12502.0]  24374    2650     0.336380   \n",
      "1  Elderliness_in_Days    (12502.0, 15722.0]  25805    2180     0.276720   \n",
      "2  Elderliness_in_Days    (15722.0, 19545.0]  22936    1731     0.219726   \n",
      "3  Elderliness_in_Days    (19545.0, 22160.0]  24370    1317     0.167174   \n",
      "\n",
      "   Non-Events  % of Non-Events       WoE        IV  \n",
      "0       21724         0.242436  0.327501  0.030767  \n",
      "1       23625         0.263651  0.048379  0.000632  \n",
      "2       21205         0.236644 -0.074178  0.001255  \n",
      "3       23053         0.257268 -0.431080  0.038837  \n",
      "Information value of Work_Duration_in_Days is 0.098381\n",
      "                Variable              Cutoff      N  Events  % of Events  \\\n",
      "0  Work_Duration_in_Days    (402.999, 964.0]  24388    2734     0.347042   \n",
      "1  Work_Duration_in_Days     (964.0, 2218.0]  25826    2371     0.300965   \n",
      "2  Work_Duration_in_Days    (2218.0, 5403.0]  22901    1485     0.188500   \n",
      "3  Work_Duration_in_Days  (5403.0, 365243.0]  24370    1288     0.163493   \n",
      "\n",
      "   Non-Events  % of Non-Events       WoE        IV  \n",
      "0       21654         0.241655  0.361935  0.038143  \n",
      "1       23455         0.261754  0.139587  0.005473  \n",
      "2       21416         0.238999 -0.237364  0.011987  \n",
      "3       23082         0.257591 -0.454603  0.042777  \n",
      "Information value of Enlistment_Period_in_Days is 0.01891\n",
      "                    Variable             Cutoff      N  Events  % of Events  \\\n",
      "0  Enlistment_Period_in_Days  (708.999, 2088.0]  24380    2191     0.278116   \n",
      "1  Enlistment_Period_in_Days   (2088.0, 4491.0]  25819    2227     0.282686   \n",
      "2  Enlistment_Period_in_Days   (4491.0, 7352.0]  22915    1895     0.240543   \n",
      "3  Enlistment_Period_in_Days   (7352.0, 9852.0]  24371    1565     0.198654   \n",
      "\n",
      "   Non-Events  % of Non-Events       WoE        IV  \n",
      "0       22189         0.247626  0.116121  0.003541  \n",
      "1       23592         0.263283  0.071107  0.001380  \n",
      "2       21020         0.234580  0.025104  0.000150  \n",
      "3       22806         0.254511 -0.247778  0.013840  \n",
      "Information value of Identity_Age_in_Days is 0.039736\n",
      "               Variable             Cutoff      N  Events  % of Events  \\\n",
      "0  Identity_Age_in_Days  (752.999, 1789.0]  24376    2444     0.310231   \n",
      "1  Identity_Age_in_Days   (1789.0, 3247.0]  26749    2270     0.288144   \n",
      "2  Identity_Age_in_Days   (3247.0, 4262.0]  22007    1709     0.216933   \n",
      "3  Identity_Age_in_Days   (4262.0, 4700.0]  24353    1455     0.184692   \n",
      "\n",
      "   Non-Events  % of Non-Events       WoE        IV  \n",
      "0       21932         0.244758  0.237049  0.015520  \n",
      "1       24479         0.273182  0.053324  0.000798  \n",
      "2       20298         0.226522 -0.043255  0.000415  \n",
      "3       22898         0.255538 -0.324684  0.023003  \n",
      "Information value of Cellphone_Marker is 0.0\n",
      "           Variable  Cutoff      N  Events  % of Events  Non-Events  \\\n",
      "0  Cellphone_Marker       1  97485    7878          1.0       89607   \n",
      "\n",
      "   % of Non-Events  WoE   IV  \n",
      "0              1.0  0.0  0.0  \n",
      "Information value of Residential_Phone_Marker is 0.007243\n",
      "                   Variable  Cutoff      N  Events  % of Events  Non-Events  \\\n",
      "0  Residential_Phone_Marker       0  77981    6049     0.767834       71932   \n",
      "1  Residential_Phone_Marker       1  19504    1829     0.232166       17675   \n",
      "\n",
      "   % of Non-Events       WoE        IV  \n",
      "0          0.80275 -0.044469  0.001553  \n",
      "1          0.19725  0.162978  0.005690  \n",
      "Information value of Employment_Phone_Operation is 0.007891\n",
      "                     Variable  Cutoff      N  Events  % of Events  Non-Events  \\\n",
      "0  Employment_Phone_Operation       0  70068    5946      0.75476       64122   \n",
      "1  Employment_Phone_Operation       1  27417    1932      0.24524       25485   \n",
      "\n",
      "   % of Non-Events       WoE        IV  \n",
      "0         0.715591  0.053291  0.002087  \n",
      "1         0.284409 -0.148175  0.005804  \n",
      "Information value of Patron_Kin_Count is 0.005755\n",
      "           Variable  Cutoff      N  Events  % of Events  Non-Events  \\\n",
      "0  Patron_Kin_Count     1.0  21052    1746      0.22163       19306   \n",
      "1  Patron_Kin_Count     2.0  51141    3877      0.49213       47264   \n",
      "2  Patron_Kin_Count     3.0  25292    2255      0.28624       23037   \n",
      "\n",
      "   % of Non-Events       WoE        IV  \n",
      "0         0.215452  0.028271  0.000175  \n",
      "1         0.527459 -0.069328  0.002449  \n",
      "2         0.257089  0.107408  0.003131  \n"
     ]
    },
    {
     "name": "stdout",
     "output_type": "stream",
     "text": [
      "Information value of Customer_Urban_Area_Ranking is 0.042981\n",
      "                      Variable  Cutoff      N  Events  % of Events  \\\n",
      "0  Customer_Urban_Area_Ranking     1.0  10768     568     0.072100   \n",
      "1  Customer_Urban_Area_Ranking     2.0  73051    5757     0.730769   \n",
      "2  Customer_Urban_Area_Ranking     3.0  13666    1553     0.197131   \n",
      "\n",
      "   Non-Events  % of Non-Events       WoE        IV  \n",
      "0       10200         0.113830 -0.456662  0.019057  \n",
      "1       67294         0.750990 -0.027295  0.000552  \n",
      "2       12113         0.135179  0.377269  0.023373  \n",
      "Information value of Request_Submission_Day is 0.002219\n",
      "                 Variable  Cutoff      N  Events  % of Events  Non-Events  \\\n",
      "0  Request_Submission_Day     1.0  20792    1553     0.197131       19239   \n",
      "1  Request_Submission_Day     2.0  16744    1413     0.179360       15331   \n",
      "2  Request_Submission_Day     3.0  18048    1502     0.190658       16546   \n",
      "3  Request_Submission_Day     4.0  15721    1261     0.160066       14460   \n",
      "4  Request_Submission_Day     5.0  15700    1276     0.161970       14424   \n",
      "5  Request_Submission_Day     6.0  10480     873     0.110815        9607   \n",
      "\n",
      "   % of Non-Events       WoE        IV  \n",
      "0         0.214704 -0.085392  0.001501  \n",
      "1         0.171092  0.047198  0.000390  \n",
      "2         0.184651  0.032013  0.000192  \n",
      "3         0.161371 -0.008122  0.000011  \n",
      "4         0.160970  0.006196  0.000006  \n",
      "5         0.107213  0.033048  0.000119  \n",
      "Information value of Request_Submission_Hour is 0.006918\n",
      "                  Variable  Cutoff      N  Events  % of Events  Non-Events  \\\n",
      "0  Request_Submission_Hour     8.0  11578    1103     0.140010       10475   \n",
      "1  Request_Submission_Hour     9.0   8372     692     0.087840        7680   \n",
      "2  Request_Submission_Hour    10.0  11639     947     0.120208       10692   \n",
      "3  Request_Submission_Hour    11.0  11552     914     0.116019       10638   \n",
      "4  Request_Submission_Hour    12.0  13258    1092     0.138614       12166   \n",
      "5  Request_Submission_Hour    13.0   9381     733     0.093044        8648   \n",
      "6  Request_Submission_Hour    14.0   8546     663     0.084158        7883   \n",
      "7  Request_Submission_Hour    15.0   7705     619     0.078573        7086   \n",
      "8  Request_Submission_Hour    16.0  15454    1115     0.141533       14339   \n",
      "\n",
      "   % of Non-Events       WoE        IV  \n",
      "0         0.116899  0.180402  0.004169  \n",
      "1         0.085708  0.024571  0.000052  \n",
      "2         0.119321  0.007407  0.000007  \n",
      "3         0.118718 -0.022998  0.000062  \n",
      "4         0.135771  0.020725  0.000059  \n",
      "5         0.096510 -0.036578  0.000127  \n",
      "6         0.087973 -0.044329  0.000169  \n",
      "7         0.079079 -0.006412  0.000003  \n",
      "8         0.160021 -0.122769  0.002270  \n",
      "Information value of Patron_Constant_Correspondence_Marker is 0.020809\n",
      "                                Variable Cutoff      N  Events  % of Events  \\\n",
      "0  Patron_Constant_Correspondence_Marker     NO   7548     914     0.116019   \n",
      "1  Patron_Constant_Correspondence_Marker    YES  89937    6964     0.883981   \n",
      "\n",
      "   Non-Events  % of Non-Events       WoE        IV  \n",
      "0        6634         0.074034  0.449227  0.018861  \n",
      "1       82973         0.925966 -0.046402  0.001948  \n",
      "Information value of Customer_Professional_Communication_Marker is 0.01045\n",
      "                                     Variable Cutoff      N  Events  \\\n",
      "0  Customer_Professional_Communication_Marker     NO  17374    1697   \n",
      "1  Customer_Professional_Communication_Marker    YES  80111    6181   \n",
      "\n",
      "   % of Events  Non-Events  % of Non-Events       WoE        IV  \n",
      "0      0.21541       15677         0.174953  0.208027  0.008416  \n",
      "1      0.78459       73930         0.825047 -0.050279  0.002034  \n",
      "Information value of Rating_Origin_2 is 0.227511\n",
      "          Variable          Cutoff      N  Events  % of Events  Non-Events  \\\n",
      "0  Rating_Origin_2  (0.221, 0.403]  24372    3344     0.424473       21028   \n",
      "1  Rating_Origin_2  (0.403, 0.566]  26649    2123     0.269485       24526   \n",
      "2  Rating_Origin_2   (0.566, 0.66]  22093    1442     0.183041       20651   \n",
      "3  Rating_Origin_2    (0.66, 0.72]  24371     969     0.123001       23402   \n",
      "\n",
      "   % of Non-Events       WoE        IV  \n",
      "0         0.234669  0.592672  0.112492  \n",
      "1         0.273706 -0.015544  0.000066  \n",
      "2         0.230462 -0.230373  0.010924  \n",
      "3         0.261163 -0.752953  0.104029  \n",
      "Information value of Telecommunication_Switch is 0.04209\n",
      "                   Variable            Cutoff      N  Events  % of Events  \\\n",
      "0  Telecommunication_Switch   (-0.001, 287.0]  24413    2343     0.297411   \n",
      "1  Telecommunication_Switch    (287.0, 754.0]  25854    2399     0.304519   \n",
      "2  Telecommunication_Switch   (754.0, 1548.0]  22882    1691     0.214648   \n",
      "3  Telecommunication_Switch  (1548.0, 2147.6]  24336    1445     0.183422   \n",
      "\n",
      "   Non-Events  % of Non-Events       WoE        IV  \n",
      "0       22070         0.246298  0.188572  0.009638  \n",
      "1       23455         0.261754  0.151328  0.006471  \n",
      "2       21191         0.236488 -0.096897  0.002116  \n",
      "3       22891         0.255460 -0.331275  0.023864  \n"
     ]
    }
   ],
   "source": [
    "iv, woe = iv_woe(data = df_train, target = 'Default', bins = 4, show_woe = True)"
   ]
  },
  {
   "cell_type": "code",
   "execution_count": 12,
   "id": "4e3b106e",
   "metadata": {},
   "outputs": [],
   "source": [
    "# iv.to_excel('IV.xlsx', index = False)"
   ]
  },
  {
   "cell_type": "markdown",
   "id": "0e90a2e9",
   "metadata": {},
   "source": [
    "### VIF"
   ]
  },
  {
   "cell_type": "code",
   "execution_count": 13,
   "id": "937daf53",
   "metadata": {},
   "outputs": [],
   "source": [
    "from statsmodels.stats.outliers_influence import variance_inflation_factor\n",
    "\n",
    "def calc_vif(df1):\n",
    "\n",
    "    # Calculating VIF\n",
    "    vif = pd.DataFrame()\n",
    "    vif[\"variables\"] = df1.columns\n",
    "    vif[\"VIF\"] = [float(format(variance_inflation_factor(df1.values, i),'f') )for i in range(df1.shape[1])]\n",
    "\n",
    "    return(vif)"
   ]
  },
  {
   "cell_type": "code",
   "execution_count": 14,
   "id": "19abeedd",
   "metadata": {},
   "outputs": [],
   "source": [
    "df2 = df_train._get_numeric_data()"
   ]
  },
  {
   "cell_type": "code",
   "execution_count": 15,
   "id": "215cfbde",
   "metadata": {},
   "outputs": [],
   "source": [
    "VIF=calc_vif(df2)"
   ]
  },
  {
   "cell_type": "code",
   "execution_count": 16,
   "id": "b78e8710",
   "metadata": {
    "scrolled": true
   },
   "outputs": [
    {
     "data": {
      "text/html": [
       "<div>\n",
       "<style scoped>\n",
       "    .dataframe tbody tr th:only-of-type {\n",
       "        vertical-align: middle;\n",
       "    }\n",
       "\n",
       "    .dataframe tbody tr th {\n",
       "        vertical-align: top;\n",
       "    }\n",
       "\n",
       "    .dataframe thead th {\n",
       "        text-align: right;\n",
       "    }\n",
       "</style>\n",
       "<table border=\"1\" class=\"dataframe\">\n",
       "  <thead>\n",
       "    <tr style=\"text-align: right;\">\n",
       "      <th></th>\n",
       "      <th>variables</th>\n",
       "      <th>VIF</th>\n",
       "    </tr>\n",
       "  </thead>\n",
       "  <tbody>\n",
       "    <tr>\n",
       "      <th>13</th>\n",
       "      <td>Cellphone_Marker</td>\n",
       "      <td>142.880310</td>\n",
       "    </tr>\n",
       "    <tr>\n",
       "      <th>7</th>\n",
       "      <td>Borrowing_Periodic_Payment</td>\n",
       "      <td>2.724688</td>\n",
       "    </tr>\n",
       "    <tr>\n",
       "      <th>5</th>\n",
       "      <td>Offspring_Number</td>\n",
       "      <td>2.637150</td>\n",
       "    </tr>\n",
       "    <tr>\n",
       "      <th>6</th>\n",
       "      <td>Loan_Capital</td>\n",
       "      <td>2.560769</td>\n",
       "    </tr>\n",
       "    <tr>\n",
       "      <th>16</th>\n",
       "      <td>Patron_Kin_Count</td>\n",
       "      <td>2.516137</td>\n",
       "    </tr>\n",
       "    <tr>\n",
       "      <th>9</th>\n",
       "      <td>Elderliness_in_Days</td>\n",
       "      <td>1.894194</td>\n",
       "    </tr>\n",
       "    <tr>\n",
       "      <th>10</th>\n",
       "      <td>Work_Duration_in_Days</td>\n",
       "      <td>1.732862</td>\n",
       "    </tr>\n",
       "    <tr>\n",
       "      <th>0</th>\n",
       "      <td>Patron_Salary</td>\n",
       "      <td>1.404152</td>\n",
       "    </tr>\n",
       "    <tr>\n",
       "      <th>17</th>\n",
       "      <td>Customer_Urban_Area_Ranking</td>\n",
       "      <td>1.387601</td>\n",
       "    </tr>\n",
       "    <tr>\n",
       "      <th>8</th>\n",
       "      <td>Population_Fraction_by_Region</td>\n",
       "      <td>1.216904</td>\n",
       "    </tr>\n",
       "    <tr>\n",
       "      <th>14</th>\n",
       "      <td>Residential_Phone_Marker</td>\n",
       "      <td>1.193210</td>\n",
       "    </tr>\n",
       "    <tr>\n",
       "      <th>20</th>\n",
       "      <td>Rating_Origin_2</td>\n",
       "      <td>1.179341</td>\n",
       "    </tr>\n",
       "    <tr>\n",
       "      <th>15</th>\n",
       "      <td>Employment_Phone_Operation</td>\n",
       "      <td>1.124930</td>\n",
       "    </tr>\n",
       "    <tr>\n",
       "      <th>11</th>\n",
       "      <td>Enlistment_Period_in_Days</td>\n",
       "      <td>1.124051</td>\n",
       "    </tr>\n",
       "    <tr>\n",
       "      <th>12</th>\n",
       "      <td>Identity_Age_in_Days</td>\n",
       "      <td>1.120593</td>\n",
       "    </tr>\n",
       "    <tr>\n",
       "      <th>19</th>\n",
       "      <td>Request_Submission_Hour</td>\n",
       "      <td>1.097569</td>\n",
       "    </tr>\n",
       "    <tr>\n",
       "      <th>1</th>\n",
       "      <td>Automobile_Possession</td>\n",
       "      <td>1.088437</td>\n",
       "    </tr>\n",
       "    <tr>\n",
       "      <th>21</th>\n",
       "      <td>Telecommunication_Switch</td>\n",
       "      <td>1.065841</td>\n",
       "    </tr>\n",
       "    <tr>\n",
       "      <th>4</th>\n",
       "      <td>Residence_Proprietorship</td>\n",
       "      <td>1.039746</td>\n",
       "    </tr>\n",
       "    <tr>\n",
       "      <th>22</th>\n",
       "      <td>Default</td>\n",
       "      <td>1.028070</td>\n",
       "    </tr>\n",
       "    <tr>\n",
       "      <th>18</th>\n",
       "      <td>Request_Submission_Day</td>\n",
       "      <td>1.001450</td>\n",
       "    </tr>\n",
       "    <tr>\n",
       "      <th>2</th>\n",
       "      <td>Two-Wheeler_Ownership</td>\n",
       "      <td>1.000260</td>\n",
       "    </tr>\n",
       "    <tr>\n",
       "      <th>3</th>\n",
       "      <td>Ongoing_Borrowing</td>\n",
       "      <td>1.000238</td>\n",
       "    </tr>\n",
       "  </tbody>\n",
       "</table>\n",
       "</div>"
      ],
      "text/plain": [
       "                        variables         VIF\n",
       "13               Cellphone_Marker  142.880310\n",
       "7      Borrowing_Periodic_Payment    2.724688\n",
       "5                Offspring_Number    2.637150\n",
       "6                    Loan_Capital    2.560769\n",
       "16               Patron_Kin_Count    2.516137\n",
       "9             Elderliness_in_Days    1.894194\n",
       "10          Work_Duration_in_Days    1.732862\n",
       "0                   Patron_Salary    1.404152\n",
       "17    Customer_Urban_Area_Ranking    1.387601\n",
       "8   Population_Fraction_by_Region    1.216904\n",
       "14       Residential_Phone_Marker    1.193210\n",
       "20                Rating_Origin_2    1.179341\n",
       "15     Employment_Phone_Operation    1.124930\n",
       "11      Enlistment_Period_in_Days    1.124051\n",
       "12           Identity_Age_in_Days    1.120593\n",
       "19        Request_Submission_Hour    1.097569\n",
       "1           Automobile_Possession    1.088437\n",
       "21       Telecommunication_Switch    1.065841\n",
       "4        Residence_Proprietorship    1.039746\n",
       "22                        Default    1.028070\n",
       "18         Request_Submission_Day    1.001450\n",
       "2           Two-Wheeler_Ownership    1.000260\n",
       "3               Ongoing_Borrowing    1.000238"
      ]
     },
     "execution_count": 16,
     "metadata": {},
     "output_type": "execute_result"
    }
   ],
   "source": [
    "VIF.sort_values('VIF',ascending=False)"
   ]
  },
  {
   "cell_type": "code",
   "execution_count": 17,
   "id": "a6f575c1",
   "metadata": {},
   "outputs": [],
   "source": [
    "# VIF.to_excel('VIF.xlsx', index = False)"
   ]
  },
  {
   "cell_type": "markdown",
   "id": "58569332",
   "metadata": {},
   "source": [
    "### Information Gain"
   ]
  },
  {
   "cell_type": "code",
   "execution_count": 18,
   "id": "aa953bcd",
   "metadata": {},
   "outputs": [],
   "source": [
    "def calc_entropy(column):\n",
    "    \"\"\"\n",
    "    Calculate entropy given a series, list, or numpy array.\n",
    "    \"\"\"\n",
    "    # Compute the counts of each given value in the column\n",
    "    counts = np.bincount(column)\n",
    "    # Divide by the total column length to get a probability\n",
    "    probabilities = counts / len(column)\n",
    "    \n",
    "    # Initialize the entropy to 0\n",
    "    entropy = 0\n",
    "    # Loop through the probabilities, and add each one to the total entropy\n",
    "    for prob in probabilities:\n",
    "        if prob > 0:\n",
    "            # use log from math and set base to 2\n",
    "            entropy += prob * math.log(prob, 2)\n",
    "    \n",
    "    return -entropy"
   ]
  },
  {
   "cell_type": "code",
   "execution_count": 19,
   "id": "0dcde03e",
   "metadata": {},
   "outputs": [],
   "source": [
    "def calc_information_gain(data, split_name, target_name):\n",
    "    \"\"\"\n",
    "    Calculate information gain given a data set, column to split on and target.\n",
    "    \"\"\"\n",
    "    # Calculate the original entropy\n",
    "    original_entropy = calc_entropy(data[target_name])\n",
    "    \n",
    "    # Find the unique values in the column\n",
    "    values = data[split_name].unique()\n",
    "    \n",
    "    print(split_name, ':', values)\n",
    "    left_split = (data[data[split_name] == values[0]])\n",
    "    right_split = (data[data[split_name] == values[1]])\n",
    "    \n",
    "    # Loop through the splits and calculate the subset entropies\n",
    "    to_subtract = 0\n",
    "    for subset in [left_split, right_split]:\n",
    "        prob = (subset.shape[0] / data.shape[0])\n",
    "        to_subtract += prob * calc_entropy(subset[target_name])\n",
    "        \n",
    "    # Return information gain\n",
    "    return original_entropy - to_subtract"
   ]
  },
  {
   "cell_type": "code",
   "execution_count": 20,
   "id": "3127fc8d",
   "metadata": {
    "scrolled": true
   },
   "outputs": [],
   "source": [
    "inf_gain = []\n",
    "\n",
    "for i in df_train.columns:\n",
    "    try:\n",
    "        inf = calc_information_gain(df_train, i, 'Default')\n",
    "    except:\n",
    "        inf = \"error\"\n",
    "        \n",
    "    inf_gain.append({\n",
    "        'VARIABLE': i,\n",
    "        'Information Gain': inf\n",
    "    })\n",
    "\n",
    "df_inf_gain = pd.DataFrame(inf_gain)"
   ]
  },
  {
   "cell_type": "code",
   "execution_count": 21,
   "id": "d5be27ee",
   "metadata": {},
   "outputs": [],
   "source": [
    "# df_inf_gain.to_excel('IG.xlsx', index = False)\n",
    "# df_inf_gain.head()"
   ]
  },
  {
   "cell_type": "code",
   "execution_count": 22,
   "id": "57db03b7",
   "metadata": {},
   "outputs": [],
   "source": [
    "model_var = [\n",
    "    'Patron_Salary',\n",
    "    'Automobile_Possession',\n",
    "    'Offspring_Number',\n",
    "    'Loan_Capital',\n",
    "    'Patron_Academic_Qualification',\n",
    "    'Patron_Sex',\n",
    "    'Borrowing_Agreement_Category',\n",
    "    'Customer_Living_Arrangement',\n",
    "    'Elderliness_in_Days',\n",
    "    'Work_Duration_in_Days',\n",
    "    'Identity_Age_in_Days',\n",
    "    'Employment_Phone_Operation',\n",
    "    'Patron_Constant_Correspondence_Marker',\n",
    "    'Rating_Origin_2',\n",
    "    'Telecommunication_Switch',\n",
    "]"
   ]
  },
  {
   "cell_type": "markdown",
   "id": "98b3d755",
   "metadata": {},
   "source": [
    "### WOE Binning"
   ]
  },
  {
   "cell_type": "code",
   "execution_count": 23,
   "id": "9459be1c",
   "metadata": {},
   "outputs": [],
   "source": [
    "num_biv = pd.read_excel(r'C:\\Users\\100_rabh\\1. protium\\model\\bivariate\\numerical_bi_variate.xlsx')"
   ]
  },
  {
   "cell_type": "code",
   "execution_count": 24,
   "id": "e9080e23",
   "metadata": {
    "scrolled": true
   },
   "outputs": [
    {
     "data": {
      "text/html": [
       "<div>\n",
       "<style scoped>\n",
       "    .dataframe tbody tr th:only-of-type {\n",
       "        vertical-align: middle;\n",
       "    }\n",
       "\n",
       "    .dataframe tbody tr th {\n",
       "        vertical-align: top;\n",
       "    }\n",
       "\n",
       "    .dataframe thead th {\n",
       "        text-align: right;\n",
       "    }\n",
       "</style>\n",
       "<table border=\"1\" class=\"dataframe\">\n",
       "  <thead>\n",
       "    <tr style=\"text-align: right;\">\n",
       "      <th></th>\n",
       "      <th>variable</th>\n",
       "      <th>bin</th>\n",
       "      <th>good</th>\n",
       "      <th>bad</th>\n",
       "      <th>count</th>\n",
       "      <th>percentage</th>\n",
       "    </tr>\n",
       "  </thead>\n",
       "  <tbody>\n",
       "    <tr>\n",
       "      <th>0</th>\n",
       "      <td>Patron_Salary</td>\n",
       "      <td>[-inf,22500.0)</td>\n",
       "      <td>70132</td>\n",
       "      <td>6491</td>\n",
       "      <td>76623</td>\n",
       "      <td>0.085</td>\n",
       "    </tr>\n",
       "    <tr>\n",
       "      <th>1</th>\n",
       "      <td>Patron_Salary</td>\n",
       "      <td>[22500.0,26500.0)</td>\n",
       "      <td>8468</td>\n",
       "      <td>665</td>\n",
       "      <td>9133</td>\n",
       "      <td>0.073</td>\n",
       "    </tr>\n",
       "    <tr>\n",
       "      <th>2</th>\n",
       "      <td>Patron_Salary</td>\n",
       "      <td>[26500.0,inf)</td>\n",
       "      <td>11007</td>\n",
       "      <td>722</td>\n",
       "      <td>11729</td>\n",
       "      <td>0.062</td>\n",
       "    </tr>\n",
       "    <tr>\n",
       "      <th>3</th>\n",
       "      <td>Automobile_Possession</td>\n",
       "      <td>[-inf,1.0)</td>\n",
       "      <td>59488</td>\n",
       "      <td>5539</td>\n",
       "      <td>65027</td>\n",
       "      <td>0.085</td>\n",
       "    </tr>\n",
       "    <tr>\n",
       "      <th>4</th>\n",
       "      <td>Automobile_Possession</td>\n",
       "      <td>[1.0,inf)</td>\n",
       "      <td>30119</td>\n",
       "      <td>2339</td>\n",
       "      <td>32458</td>\n",
       "      <td>0.072</td>\n",
       "    </tr>\n",
       "  </tbody>\n",
       "</table>\n",
       "</div>"
      ],
      "text/plain": [
       "                variable                bin   good   bad  count  percentage\n",
       "0          Patron_Salary     [-inf,22500.0)  70132  6491  76623       0.085\n",
       "1          Patron_Salary  [22500.0,26500.0)   8468   665   9133       0.073\n",
       "2          Patron_Salary      [26500.0,inf)  11007   722  11729       0.062\n",
       "3  Automobile_Possession         [-inf,1.0)  59488  5539  65027       0.085\n",
       "4  Automobile_Possession          [1.0,inf)  30119  2339  32458       0.072"
      ]
     },
     "execution_count": 24,
     "metadata": {},
     "output_type": "execute_result"
    }
   ],
   "source": [
    "num_biv.head()"
   ]
  },
  {
   "cell_type": "code",
   "execution_count": 25,
   "id": "a3d5867e",
   "metadata": {},
   "outputs": [],
   "source": [
    "def find(text):\n",
    "    str1 = text\n",
    "\n",
    "    return (str1.translate({ord(i): None for i in '%'}))"
   ]
  },
  {
   "cell_type": "code",
   "execution_count": 26,
   "id": "44e48212",
   "metadata": {},
   "outputs": [],
   "source": [
    "num_biv['bin'] = num_biv.apply(lambda x: find(x['bin']), axis=1)"
   ]
  },
  {
   "cell_type": "markdown",
   "id": "2bff5665",
   "metadata": {},
   "source": [
    "### NUMERICAL VARIABLE BINNING"
   ]
  },
  {
   "cell_type": "code",
   "execution_count": 27,
   "id": "eee3d9c8",
   "metadata": {},
   "outputs": [],
   "source": [
    "def num_label(row, col, conditions):\n",
    "    if len(conditions) == 2:\n",
    "        if (row[col] < conditions[0]):\n",
    "            return 'Group0'\n",
    "        elif (conditions[0] <= row[col]) & (row[col] < conditions[1]):\n",
    "            return 'Group1'\n",
    "        else:\n",
    "            return 'Group2'\n",
    "        \n",
    "    elif len(conditions) == 3:\n",
    "        if (row[col] < conditions[0]):\n",
    "            return 'Group0'\n",
    "        elif (conditions[0] <= row[col]) & (row[col] < conditions[1]):\n",
    "            return 'Group1'\n",
    "        elif (conditions[1] <= row[col]) & (row[col] < conditions[2]):\n",
    "            return 'Group2'\n",
    "        else:\n",
    "            return 'Group3'\n",
    "        \n",
    "    elif len(conditions) == 4:\n",
    "        if (row[col] < conditions[0]):\n",
    "            return 'Group0'\n",
    "        elif (conditions[0] <= row[col]) & (row[col] < conditions[1]):\n",
    "            return 'Group1'\n",
    "        elif (conditions[1] <= row[col]) & (row[col] < conditions[2]):\n",
    "            return 'Group2'\n",
    "        elif (conditions[2] <= row[col]) & (row[col] < conditions[3]):\n",
    "            return 'Group3'\n",
    "        else:\n",
    "            return'Group4'\n",
    "    \n",
    "    elif len(conditions) == 5:\n",
    "        if (row[col] < conditions[0]):\n",
    "            return 'Group0'\n",
    "        elif (conditions[0] <= row[col]) & (row[col] < conditions[1]):\n",
    "            return 'Group1'\n",
    "        elif (conditions[1] <= row[col]) & (row[col] < conditions[2]):\n",
    "            return 'Group2'\n",
    "        elif (conditions[2] <= row[col]) & (row[col] < conditions[3]):\n",
    "            return 'Group3'\n",
    "        elif (conditions[3] <= row[col]) & (row[col] < conditions[4]):\n",
    "            return'Group4'\n",
    "        else:\n",
    "            return 'Group5'\n",
    "    \n",
    "    else:\n",
    "        return 'NONE'\n",
    "        \n",
    "def catg_bin_num(row, col, num_biv):\n",
    "    num_biv_1 = num_biv[num_biv['variable'] == col].reset_index(drop = True)\n",
    "    conditions = []\n",
    "    for i in num_biv_1.index:\n",
    "        conditions.append(float(num_biv_1['bin'][i][1:-1].split(',')[1]))\n",
    "    conditions = conditions[:-1]\n",
    "    print(conditions)\n",
    "    row[col + str('_BIN')] = row.apply(lambda row: num_label(row, col, conditions), axis=1)\n",
    "    return row"
   ]
  },
  {
   "cell_type": "code",
   "execution_count": 28,
   "id": "e80ffa43",
   "metadata": {},
   "outputs": [
    {
     "name": "stdout",
     "output_type": "stream",
     "text": [
      "[22500.0, 26500.0]\n",
      "[22500.0, 26500.0]\n"
     ]
    }
   ],
   "source": [
    "df_train = catg_bin_num(df_train, 'Patron_Salary', num_biv)\n",
    "df_test = catg_bin_num(df_test, 'Patron_Salary', num_biv)"
   ]
  },
  {
   "cell_type": "code",
   "execution_count": 29,
   "id": "9b42c9f2",
   "metadata": {},
   "outputs": [
    {
     "data": {
      "text/plain": [
       "Group0    76623\n",
       "Group2    11729\n",
       "Group1     9133\n",
       "Name: Patron_Salary_BIN, dtype: int64"
      ]
     },
     "execution_count": 29,
     "metadata": {},
     "output_type": "execute_result"
    }
   ],
   "source": [
    "df_train['Patron_Salary_BIN'].value_counts()"
   ]
  },
  {
   "cell_type": "code",
   "execution_count": 30,
   "id": "ced78eae",
   "metadata": {},
   "outputs": [
    {
     "name": "stdout",
     "output_type": "stream",
     "text": [
      "[66000.0, 90000.0, 108000.0]\n",
      "[66000.0, 90000.0, 108000.0]\n"
     ]
    }
   ],
   "source": [
    "df_train = catg_bin_num(df_train, 'Loan_Capital', num_biv)\n",
    "df_test = catg_bin_num(df_test, 'Loan_Capital', num_biv)"
   ]
  },
  {
   "cell_type": "code",
   "execution_count": 31,
   "id": "eb85621d",
   "metadata": {},
   "outputs": [
    {
     "data": {
      "text/plain": [
       "Group0    62405\n",
       "Group1    15043\n",
       "Group3    11784\n",
       "Group2     8253\n",
       "Name: Loan_Capital_BIN, dtype: int64"
      ]
     },
     "execution_count": 31,
     "metadata": {},
     "output_type": "execute_result"
    }
   ],
   "source": [
    "df_train['Loan_Capital_BIN'].value_counts()"
   ]
  },
  {
   "cell_type": "code",
   "execution_count": 32,
   "id": "8089d5a1",
   "metadata": {},
   "outputs": [
    {
     "name": "stdout",
     "output_type": "stream",
     "text": [
      "[12600.0, 14800.0, 20200.0]\n",
      "[12600.0, 14800.0, 20200.0]\n"
     ]
    }
   ],
   "source": [
    "df_train = catg_bin_num(df_train, 'Elderliness_in_Days', num_biv)\n",
    "df_test = catg_bin_num(df_test, 'Elderliness_in_Days', num_biv)"
   ]
  },
  {
   "cell_type": "code",
   "execution_count": 33,
   "id": "0a896108",
   "metadata": {},
   "outputs": [
    {
     "data": {
      "text/plain": [
       "Group2    36413\n",
       "Group0    24988\n",
       "Group3    20348\n",
       "Group1    15736\n",
       "Name: Elderliness_in_Days_BIN, dtype: int64"
      ]
     },
     "execution_count": 33,
     "metadata": {},
     "output_type": "execute_result"
    }
   ],
   "source": [
    "df_train['Elderliness_in_Days_BIN'].value_counts()"
   ]
  },
  {
   "cell_type": "code",
   "execution_count": 34,
   "id": "eaf4f89d",
   "metadata": {},
   "outputs": [
    {
     "name": "stdout",
     "output_type": "stream",
     "text": [
      "[1000.0, 2000.0, 4000.0]\n",
      "[1000.0, 2000.0, 4000.0]\n"
     ]
    }
   ],
   "source": [
    "df_train = catg_bin_num(df_train, 'Work_Duration_in_Days', num_biv)\n",
    "df_test = catg_bin_num(df_test, 'Work_Duration_in_Days', num_biv)"
   ]
  },
  {
   "cell_type": "code",
   "execution_count": 35,
   "id": "7ce8b3a2",
   "metadata": {},
   "outputs": [
    {
     "data": {
      "text/plain": [
       "Group3    30390\n",
       "Group0    25241\n",
       "Group2    22626\n",
       "Group1    19228\n",
       "Name: Work_Duration_in_Days_BIN, dtype: int64"
      ]
     },
     "execution_count": 35,
     "metadata": {},
     "output_type": "execute_result"
    }
   ],
   "source": [
    "df_train['Work_Duration_in_Days_BIN'].value_counts()"
   ]
  },
  {
   "cell_type": "code",
   "execution_count": 36,
   "id": "756ff3c6",
   "metadata": {},
   "outputs": [
    {
     "name": "stdout",
     "output_type": "stream",
     "text": [
      "[1600.0, 4100.0, 4600.0]\n",
      "[1600.0, 4100.0, 4600.0]\n"
     ]
    }
   ],
   "source": [
    "df_train = catg_bin_num(df_train, 'Identity_Age_in_Days', num_biv)\n",
    "df_test = catg_bin_num(df_test, 'Identity_Age_in_Days', num_biv)"
   ]
  },
  {
   "cell_type": "code",
   "execution_count": 37,
   "id": "4db115be",
   "metadata": {},
   "outputs": [
    {
     "data": {
      "text/plain": [
       "Group1    45323\n",
       "Group0    21724\n",
       "Group2    17690\n",
       "Group3    12748\n",
       "Name: Identity_Age_in_Days_BIN, dtype: int64"
      ]
     },
     "execution_count": 37,
     "metadata": {},
     "output_type": "execute_result"
    }
   ],
   "source": [
    "df_train['Identity_Age_in_Days_BIN'].value_counts()"
   ]
  },
  {
   "cell_type": "code",
   "execution_count": 38,
   "id": "1008f516",
   "metadata": {
    "scrolled": true
   },
   "outputs": [
    {
     "name": "stdout",
     "output_type": "stream",
     "text": [
      "[1600.0, 4100.0, 4600.0]\n",
      "[1600.0, 4100.0, 4600.0]\n"
     ]
    }
   ],
   "source": [
    "df_train = catg_bin_num(df_train, 'Identity_Age_in_Days', num_biv)\n",
    "df_test = catg_bin_num(df_test, 'Identity_Age_in_Days', num_biv)"
   ]
  },
  {
   "cell_type": "code",
   "execution_count": 39,
   "id": "d70db514",
   "metadata": {},
   "outputs": [
    {
     "data": {
      "text/plain": [
       "Group1    45323\n",
       "Group0    21724\n",
       "Group2    17690\n",
       "Group3    12748\n",
       "Name: Identity_Age_in_Days_BIN, dtype: int64"
      ]
     },
     "execution_count": 39,
     "metadata": {},
     "output_type": "execute_result"
    }
   ],
   "source": [
    "df_train['Identity_Age_in_Days_BIN'].value_counts()"
   ]
  },
  {
   "cell_type": "code",
   "execution_count": 40,
   "id": "f9d7fc68",
   "metadata": {
    "scrolled": true
   },
   "outputs": [
    {
     "name": "stdout",
     "output_type": "stream",
     "text": [
      "[0.23, 0.4600000000000002, 0.6700000000000004, 0.7200000000000004]\n",
      "[0.23, 0.4600000000000002, 0.6700000000000004, 0.7200000000000004]\n"
     ]
    }
   ],
   "source": [
    "df_train = catg_bin_num(df_train, 'Rating_Origin_2', num_biv)\n",
    "df_test = catg_bin_num(df_test, 'Rating_Origin_2', num_biv)"
   ]
  },
  {
   "cell_type": "code",
   "execution_count": 41,
   "id": "586ee6a2",
   "metadata": {},
   "outputs": [
    {
     "data": {
      "text/plain": [
       "Group2    45489\n",
       "Group1    20038\n",
       "Group3    11919\n",
       "Group0    10271\n",
       "Group4     9768\n",
       "Name: Rating_Origin_2_BIN, dtype: int64"
      ]
     },
     "execution_count": 41,
     "metadata": {},
     "output_type": "execute_result"
    }
   ],
   "source": [
    "df_train['Rating_Origin_2_BIN'].value_counts()"
   ]
  },
  {
   "cell_type": "code",
   "execution_count": 42,
   "id": "097f3561",
   "metadata": {
    "scrolled": true
   },
   "outputs": [
    {
     "name": "stdout",
     "output_type": "stream",
     "text": [
      "[1050.0, 1950.0]\n",
      "[1050.0, 1950.0]\n"
     ]
    }
   ],
   "source": [
    "df_train = catg_bin_num(df_train, 'Telecommunication_Switch', num_biv)\n",
    "df_test = catg_bin_num(df_test, 'Telecommunication_Switch', num_biv)"
   ]
  },
  {
   "cell_type": "code",
   "execution_count": 43,
   "id": "1719a192",
   "metadata": {},
   "outputs": [
    {
     "data": {
      "text/plain": [
       "Group0    59529\n",
       "Group1    25119\n",
       "Group2    12837\n",
       "Name: Telecommunication_Switch_BIN, dtype: int64"
      ]
     },
     "execution_count": 43,
     "metadata": {},
     "output_type": "execute_result"
    }
   ],
   "source": [
    "df_train['Telecommunication_Switch_BIN'].value_counts()"
   ]
  },
  {
   "cell_type": "markdown",
   "id": "ac770559",
   "metadata": {},
   "source": [
    "### CATEGORICAL VARIABLE BINNING "
   ]
  },
  {
   "cell_type": "code",
   "execution_count": 44,
   "id": "1bd4ea45",
   "metadata": {},
   "outputs": [],
   "source": [
    "def label(row, col, conditions):\n",
    "    for i in range(len(conditions)):\n",
    "        if row[col] in conditions[i]:\n",
    "            return 'Group' + str(i)\n",
    "        \n",
    "    \n",
    "def catg_bin(row, col, num_biv):\n",
    "    num_biv_1 = num_biv[num_biv['variable'] == col].reset_index(drop = True)\n",
    "    conditions = []\n",
    "    for i in num_biv_1.index:\n",
    "        conditions.append(num_biv_1['bin'][i].split(','))\n",
    "    \n",
    "    print(conditions)\n",
    "    row[col + str('_BIN')] = row.apply(lambda row: label(row, col, conditions), axis=1)\n",
    "    return row"
   ]
  },
  {
   "cell_type": "code",
   "execution_count": 45,
   "id": "7415d41e",
   "metadata": {},
   "outputs": [
    {
     "name": "stdout",
     "output_type": "stream",
     "text": [
      "[['POST GRAD', 'GRADUATION'], ['GRADUATION DROPOUT', 'SECONDARY', 'JUNIOR SECONDARY']]\n",
      "[['POST GRAD', 'GRADUATION'], ['GRADUATION DROPOUT', 'SECONDARY', 'JUNIOR SECONDARY']]\n"
     ]
    }
   ],
   "source": [
    "df_train = catg_bin(df_train, 'Patron_Academic_Qualification', num_biv)\n",
    "df_test = catg_bin(df_test, 'Patron_Academic_Qualification', num_biv)"
   ]
  },
  {
   "cell_type": "code",
   "execution_count": 46,
   "id": "8ff7a05b",
   "metadata": {},
   "outputs": [
    {
     "data": {
      "text/plain": [
       "Group1    74343\n",
       "Group0    23142\n",
       "Name: Patron_Academic_Qualification_BIN, dtype: int64"
      ]
     },
     "execution_count": 46,
     "metadata": {},
     "output_type": "execute_result"
    }
   ],
   "source": [
    "df_train['Patron_Academic_Qualification_BIN'].value_counts()"
   ]
  },
  {
   "cell_type": "code",
   "execution_count": 47,
   "id": "91054902",
   "metadata": {},
   "outputs": [],
   "source": [
    "df_train['Patron_Academic_Qualification_BIN'].replace({'Group0': 0, 'Group1': 1}, inplace = True)\n",
    "df_test['Patron_Academic_Qualification_BIN'].replace({'Group0': 0, 'Group1': 1}, inplace = True)"
   ]
  },
  {
   "cell_type": "code",
   "execution_count": 48,
   "id": "50481bf5",
   "metadata": {},
   "outputs": [
    {
     "data": {
      "text/plain": [
       "1    74343\n",
       "0    23142\n",
       "Name: Patron_Academic_Qualification_BIN, dtype: int64"
      ]
     },
     "execution_count": 48,
     "metadata": {},
     "output_type": "execute_result"
    }
   ],
   "source": [
    "df_train['Patron_Academic_Qualification_BIN'].value_counts()"
   ]
  },
  {
   "cell_type": "code",
   "execution_count": 49,
   "id": "bd707662",
   "metadata": {},
   "outputs": [
    {
     "data": {
      "text/plain": [
       "SECONDARY             17524\n",
       "GRADUATION             5727\n",
       "GRADUATION DROPOUT      800\n",
       "JUNIOR SECONDARY        304\n",
       "POST GRAD                16\n",
       "Name: Patron_Academic_Qualification, dtype: int64"
      ]
     },
     "execution_count": 49,
     "metadata": {},
     "output_type": "execute_result"
    }
   ],
   "source": [
    "df_test['Patron_Academic_Qualification'].value_counts()"
   ]
  },
  {
   "cell_type": "code",
   "execution_count": 50,
   "id": "3ef320bb",
   "metadata": {},
   "outputs": [
    {
     "data": {
      "text/plain": [
       "1    18628\n",
       "0     5743\n",
       "Name: Patron_Academic_Qualification_BIN, dtype: int64"
      ]
     },
     "execution_count": 50,
     "metadata": {},
     "output_type": "execute_result"
    }
   ],
   "source": [
    "df_test['Patron_Academic_Qualification_BIN'].value_counts()"
   ]
  },
  {
   "cell_type": "code",
   "execution_count": 51,
   "id": "f408b792",
   "metadata": {
    "scrolled": true
   },
   "outputs": [
    {
     "name": "stdout",
     "output_type": "stream",
     "text": [
      "[['MALE'], ['FEMALE']]\n",
      "[['MALE'], ['FEMALE']]\n"
     ]
    }
   ],
   "source": [
    "df_train = catg_bin(df_train, 'Patron_Sex', num_biv)\n",
    "df_test = catg_bin(df_test, 'Patron_Sex', num_biv)"
   ]
  },
  {
   "cell_type": "code",
   "execution_count": 52,
   "id": "45e9466b",
   "metadata": {},
   "outputs": [
    {
     "data": {
      "text/plain": [
       "Group0    64650\n",
       "Group1    32835\n",
       "Name: Patron_Sex_BIN, dtype: int64"
      ]
     },
     "execution_count": 52,
     "metadata": {},
     "output_type": "execute_result"
    }
   ],
   "source": [
    "df_train['Patron_Sex_BIN'].value_counts()"
   ]
  },
  {
   "cell_type": "code",
   "execution_count": 53,
   "id": "186d329f",
   "metadata": {},
   "outputs": [],
   "source": [
    "df_train['Patron_Sex_BIN'].replace({'Group0': 0, 'Group1': 1}, inplace = True)\n",
    "df_test['Patron_Sex_BIN'].replace({'Group0': 0, 'Group1': 1}, inplace = True)"
   ]
  },
  {
   "cell_type": "code",
   "execution_count": 54,
   "id": "f2014291",
   "metadata": {},
   "outputs": [
    {
     "data": {
      "text/plain": [
       "0    64650\n",
       "1    32835\n",
       "Name: Patron_Sex_BIN, dtype: int64"
      ]
     },
     "execution_count": 54,
     "metadata": {},
     "output_type": "execute_result"
    }
   ],
   "source": [
    "df_train['Patron_Sex_BIN'].value_counts()"
   ]
  },
  {
   "cell_type": "code",
   "execution_count": 55,
   "id": "80a37443",
   "metadata": {},
   "outputs": [
    {
     "name": "stdout",
     "output_type": "stream",
     "text": [
      "[['RL'], ['CL']]\n",
      "[['RL'], ['CL']]\n"
     ]
    }
   ],
   "source": [
    "df_train = catg_bin(df_train, 'Borrowing_Agreement_Category', num_biv)\n",
    "df_test = catg_bin(df_test, 'Borrowing_Agreement_Category', num_biv)"
   ]
  },
  {
   "cell_type": "code",
   "execution_count": 56,
   "id": "50c228d2",
   "metadata": {},
   "outputs": [
    {
     "data": {
      "text/plain": [
       "Group1    88659\n",
       "Group0     8826\n",
       "Name: Borrowing_Agreement_Category_BIN, dtype: int64"
      ]
     },
     "execution_count": 56,
     "metadata": {},
     "output_type": "execute_result"
    }
   ],
   "source": [
    "df_train['Borrowing_Agreement_Category_BIN'].value_counts()"
   ]
  },
  {
   "cell_type": "code",
   "execution_count": 57,
   "id": "a287193c",
   "metadata": {},
   "outputs": [],
   "source": [
    "df_train['Borrowing_Agreement_Category_BIN'].replace({'Group0': 0, 'Group1': 1}, inplace = True)\n",
    "df_test['Borrowing_Agreement_Category_BIN'].replace({'Group0': 0, 'Group1': 1}, inplace = True)"
   ]
  },
  {
   "cell_type": "code",
   "execution_count": 58,
   "id": "8f550ba8",
   "metadata": {},
   "outputs": [
    {
     "data": {
      "text/plain": [
       "1    88659\n",
       "0     8826\n",
       "Name: Borrowing_Agreement_Category_BIN, dtype: int64"
      ]
     },
     "execution_count": 58,
     "metadata": {},
     "output_type": "execute_result"
    }
   ],
   "source": [
    "df_train['Borrowing_Agreement_Category_BIN'].value_counts()"
   ]
  },
  {
   "cell_type": "code",
   "execution_count": 59,
   "id": "2df80200",
   "metadata": {},
   "outputs": [
    {
     "name": "stdout",
     "output_type": "stream",
     "text": [
      "[['OFFICE', 'HOME', 'MUNICIPAL'], ['SHARED', 'FAMILY', 'RENTAL']]\n",
      "[['OFFICE', 'HOME', 'MUNICIPAL'], ['SHARED', 'FAMILY', 'RENTAL']]\n"
     ]
    }
   ],
   "source": [
    "df_train = catg_bin(df_train, 'Customer_Living_Arrangement', num_biv)\n",
    "df_test = catg_bin(df_test, 'Customer_Living_Arrangement', num_biv)"
   ]
  },
  {
   "cell_type": "code",
   "execution_count": 60,
   "id": "0469f9d0",
   "metadata": {},
   "outputs": [
    {
     "data": {
      "text/plain": [
       "Group0    91053\n",
       "Group1     6432\n",
       "Name: Customer_Living_Arrangement_BIN, dtype: int64"
      ]
     },
     "execution_count": 60,
     "metadata": {},
     "output_type": "execute_result"
    }
   ],
   "source": [
    "df_train['Customer_Living_Arrangement_BIN'].value_counts()"
   ]
  },
  {
   "cell_type": "code",
   "execution_count": 61,
   "id": "9907b6b5",
   "metadata": {},
   "outputs": [],
   "source": [
    "df_train['Customer_Living_Arrangement_BIN'].replace({'Group0': 0, 'Group1': 1}, inplace = True)\n",
    "df_test['Customer_Living_Arrangement_BIN'].replace({'Group0': 0, 'Group1': 1}, inplace = True)\n"
   ]
  },
  {
   "cell_type": "code",
   "execution_count": 62,
   "id": "5ec113b0",
   "metadata": {},
   "outputs": [
    {
     "data": {
      "text/plain": [
       "0    91053\n",
       "1     6432\n",
       "Name: Customer_Living_Arrangement_BIN, dtype: int64"
      ]
     },
     "execution_count": 62,
     "metadata": {},
     "output_type": "execute_result"
    }
   ],
   "source": [
    "df_train['Customer_Living_Arrangement_BIN'].value_counts()"
   ]
  },
  {
   "cell_type": "code",
   "execution_count": 63,
   "id": "fcdc4885",
   "metadata": {},
   "outputs": [
    {
     "name": "stdout",
     "output_type": "stream",
     "text": [
      "[['YES'], ['NO']]\n",
      "[['YES'], ['NO']]\n"
     ]
    }
   ],
   "source": [
    "df_train = catg_bin(df_train, 'Patron_Constant_Correspondence_Marker', num_biv)\n",
    "df_test = catg_bin(df_test, 'Patron_Constant_Correspondence_Marker', num_biv)"
   ]
  },
  {
   "cell_type": "code",
   "execution_count": 64,
   "id": "b51335a2",
   "metadata": {},
   "outputs": [
    {
     "data": {
      "text/plain": [
       "Group0    89937\n",
       "Group1     7548\n",
       "Name: Patron_Constant_Correspondence_Marker_BIN, dtype: int64"
      ]
     },
     "execution_count": 64,
     "metadata": {},
     "output_type": "execute_result"
    }
   ],
   "source": [
    "df_train['Patron_Constant_Correspondence_Marker_BIN'].value_counts()"
   ]
  },
  {
   "cell_type": "code",
   "execution_count": 65,
   "id": "4302c0e1",
   "metadata": {},
   "outputs": [],
   "source": [
    "df_train['Patron_Constant_Correspondence_Marker_BIN'].replace({'Group0': 0, 'Group1': 1}, inplace = True)\n",
    "df_test['Patron_Constant_Correspondence_Marker_BIN'].replace({'Group0': 0, 'Group1': 1}, inplace = True)\n"
   ]
  },
  {
   "cell_type": "code",
   "execution_count": 66,
   "id": "45c2e268",
   "metadata": {},
   "outputs": [
    {
     "data": {
      "text/plain": [
       "0    89937\n",
       "1     7548\n",
       "Name: Patron_Constant_Correspondence_Marker_BIN, dtype: int64"
      ]
     },
     "execution_count": 66,
     "metadata": {},
     "output_type": "execute_result"
    }
   ],
   "source": [
    "df_train['Patron_Constant_Correspondence_Marker_BIN'].value_counts()"
   ]
  },
  {
   "cell_type": "code",
   "execution_count": 67,
   "id": "135b6fa3",
   "metadata": {},
   "outputs": [],
   "source": [
    "train = df_train.copy()\n",
    "test = df_test.copy()"
   ]
  },
  {
   "cell_type": "markdown",
   "id": "e459c2bb",
   "metadata": {},
   "source": [
    "### Model Development"
   ]
  },
  {
   "cell_type": "code",
   "execution_count": 68,
   "id": "e98f8ccc",
   "metadata": {},
   "outputs": [],
   "source": [
    "df_train = train.copy()\n",
    "df_test = test.copy()"
   ]
  },
  {
   "cell_type": "code",
   "execution_count": 69,
   "id": "233bd13e",
   "metadata": {},
   "outputs": [],
   "source": [
    "model_var = [\n",
    "#     'Patron_Salary_BIN',\n",
    "    'Patron_Salary',\n",
    "    'Automobile_Possession',\n",
    "#     'Offspring_Number',\n",
    "    'Loan_Capital',\n",
    "#     'Loan_Capital_BIN',\n",
    "    'Patron_Academic_Qualification_BIN',\n",
    "#     'Patron_Sex_BIN',\n",
    "    'Borrowing_Agreement_Category_BIN',\n",
    "    'Customer_Living_Arrangement_BIN',\n",
    "    'Elderliness_in_Days',\n",
    "#     'Elderliness_in_Days_BIN',\n",
    "    'Work_Duration_in_Days',\n",
    "#     'Work_Duration_in_Days_BIN',\n",
    "    'Identity_Age_in_Days',\n",
    "#     'Identity_Age_in_Days_BIN',\n",
    "    'Employment_Phone_Operation',\n",
    "    'Patron_Constant_Correspondence_Marker_BIN',\n",
    "    'Rating_Origin_2',\n",
    "#     'Rating_Origin_2_BIN',\n",
    "    'Telecommunication_Switch',\n",
    "#     'Telecommunication_Switch_BIN',\n",
    "]"
   ]
  },
  {
   "cell_type": "code",
   "execution_count": 70,
   "id": "11eb87b9",
   "metadata": {},
   "outputs": [
    {
     "name": "stdout",
     "output_type": "stream",
     "text": [
      "Training set :  (97485, 13)\n",
      "Test set :  (24371, 13)\n"
     ]
    }
   ],
   "source": [
    "df_train1 = df_train[model_var]\n",
    "\n",
    "cat_vars = [i for i in df_train1.columns if df_train1[i].dtype == 'object']\n",
    "\n",
    "for var in cat_vars:\n",
    "    cat_list='var'+'_'+var\n",
    "    cat_list = pd.get_dummies(df_train1[var], prefix=var)\n",
    "    df_train1=df_train1.join(cat_list)\n",
    "    \n",
    "df_train1=df_train1.drop(cat_vars,axis=1)\n",
    "\n",
    "df_test1 = df_test[model_var]\n",
    "for var in cat_vars:\n",
    "    cat_list='var'+'_'+var\n",
    "    cat_list = pd.get_dummies(df_test1[var], prefix=var)\n",
    "    df_test1=df_test1.join(cat_list)\n",
    "    \n",
    "df_test1=df_test1.drop(cat_vars,axis=1)\n",
    "\n",
    "print(\"Training set : \",df_train1.shape)\n",
    "print(\"Test set : \",df_test1.shape)"
   ]
  },
  {
   "cell_type": "code",
   "execution_count": 71,
   "id": "21032d90",
   "metadata": {},
   "outputs": [
    {
     "name": "stdout",
     "output_type": "stream",
     "text": [
      "Maximum shape of train dataframe!!!\n"
     ]
    }
   ],
   "source": [
    "def maximum(a, b):\n",
    "    if a != b:\n",
    "        if a[0] >= b[0]:\n",
    "            largest = a[1]\n",
    "        else:\n",
    "            largest = b[1]\n",
    "            \n",
    "        return largest\n",
    "    else:\n",
    "        print(\"Equal shapes\")\n",
    "        \n",
    "tr1 = [len(df_train1.columns), \"train\"]\n",
    "te1 = [len(df_test1.columns), \"test\"]\n",
    "\n",
    "largest = maximum(tr1, te1)\n",
    "print(\"Maximum shape of\", largest, \"dataframe!!!\")"
   ]
  },
  {
   "cell_type": "code",
   "execution_count": 72,
   "id": "4c36c710",
   "metadata": {},
   "outputs": [
    {
     "name": "stdout",
     "output_type": "stream",
     "text": [
      "----------------------------------------\n",
      "Training set:  (97485, 13)\n",
      "Testing set:  (24371, 13)\n"
     ]
    }
   ],
   "source": [
    "tr_col = set(df_train1.columns.to_list())\n",
    "te_col = set(df_test1.columns.to_list())\n",
    "\n",
    "if largest == 'train':\n",
    "    x = tr_col.intersection(te_col)\n",
    "    for i in list(tr_col):\n",
    "        if i not in list(x):\n",
    "            print(\"test:\", i)\n",
    "            df_test1[i] = 0\n",
    "\n",
    "if largest == 'test':\n",
    "    x = te_col.intersection(tr_col)\n",
    "    for i in list(tr_col):\n",
    "        if i not in list(x):\n",
    "            print(\"train:\", i)\n",
    "            df_train1[i] = 0\n",
    "\n",
    "else:\n",
    "    pass\n",
    "\n",
    "print(\"----------------------------------------\")\n",
    "print(\"Training set: \", df_train1.shape)\n",
    "print(\"Testing set: \", df_test1.shape)"
   ]
  },
  {
   "cell_type": "code",
   "execution_count": 73,
   "id": "8f636098",
   "metadata": {},
   "outputs": [
    {
     "name": "stdout",
     "output_type": "stream",
     "text": [
      "Shape of X_train:  (97485, 13)\n",
      "Shape of y_train:  (97485,)\n",
      "\n",
      "\n",
      "Shape of X_test:  (24371, 13)\n",
      "Shape of y_test:  (24371,)\n",
      "\n",
      "\n"
     ]
    }
   ],
   "source": [
    "X_train = df_train1.copy()\n",
    "y_train = df_train['Default']\n",
    "print(\"Shape of X_train: \", X_train.shape)\n",
    "print(\"Shape of y_train: \", y_train.shape)\n",
    "print(\"\\n\")\n",
    "\n",
    "X_test = df_test1.copy()\n",
    "y_test = df_test['Default']\n",
    "print(\"Shape of X_test: \", X_test.shape)\n",
    "print(\"Shape of y_test: \", y_test.shape)\n",
    "print(\"\\n\")"
   ]
  },
  {
   "cell_type": "code",
   "execution_count": 74,
   "id": "ac5f6f77",
   "metadata": {},
   "outputs": [],
   "source": [
    "f_imp = [\n",
    "    'Rating_Origin_2', 'Work_Duration_in_Days',\n",
    "       'Patron_Academic_Qualification_BIN', 'Elderliness_in_Days',\n",
    "       'Telecommunication_Switch',\n",
    "       'Customer_Living_Arrangement_BIN', 'Automobile_Possession',\n",
    "       'Patron_Constant_Correspondence_Marker_BIN',\n",
    "       'Identity_Age_in_Days', 'Loan_Capital',\n",
    "#        'Borrowing_Agreement_Category_BIN', 'Patron_Salary',\n",
    "#        'Employment_Phone_Operation'\n",
    "]"
   ]
  },
  {
   "cell_type": "code",
   "execution_count": 75,
   "id": "11609063",
   "metadata": {},
   "outputs": [],
   "source": [
    "X_train = X_train[f_imp]\n",
    "X_test = X_test[f_imp]"
   ]
  },
  {
   "cell_type": "code",
   "execution_count": 76,
   "id": "e04d1df9",
   "metadata": {},
   "outputs": [
    {
     "data": {
      "text/plain": [
       "(97485, 10)"
      ]
     },
     "execution_count": 76,
     "metadata": {},
     "output_type": "execute_result"
    }
   ],
   "source": [
    "X_train.shape"
   ]
  },
  {
   "cell_type": "code",
   "execution_count": 77,
   "id": "5a614b0f",
   "metadata": {},
   "outputs": [
    {
     "data": {
      "text/html": [
       "<div>\n",
       "<style scoped>\n",
       "    .dataframe tbody tr th:only-of-type {\n",
       "        vertical-align: middle;\n",
       "    }\n",
       "\n",
       "    .dataframe tbody tr th {\n",
       "        vertical-align: top;\n",
       "    }\n",
       "\n",
       "    .dataframe thead th {\n",
       "        text-align: right;\n",
       "    }\n",
       "</style>\n",
       "<table border=\"1\" class=\"dataframe\">\n",
       "  <thead>\n",
       "    <tr style=\"text-align: right;\">\n",
       "      <th></th>\n",
       "      <th>Rating_Origin_2</th>\n",
       "      <th>Work_Duration_in_Days</th>\n",
       "      <th>Patron_Academic_Qualification_BIN</th>\n",
       "      <th>Elderliness_in_Days</th>\n",
       "      <th>Telecommunication_Switch</th>\n",
       "      <th>Customer_Living_Arrangement_BIN</th>\n",
       "      <th>Automobile_Possession</th>\n",
       "      <th>Patron_Constant_Correspondence_Marker_BIN</th>\n",
       "      <th>Identity_Age_in_Days</th>\n",
       "      <th>Loan_Capital</th>\n",
       "    </tr>\n",
       "  </thead>\n",
       "  <tbody>\n",
       "    <tr>\n",
       "      <th>0</th>\n",
       "      <td>0.221772</td>\n",
       "      <td>365243.0</td>\n",
       "      <td>1</td>\n",
       "      <td>20099.0</td>\n",
       "      <td>0.0</td>\n",
       "      <td>0</td>\n",
       "      <td>0</td>\n",
       "      <td>0</td>\n",
       "      <td>3514.0</td>\n",
       "      <td>101961.0</td>\n",
       "    </tr>\n",
       "    <tr>\n",
       "      <th>1</th>\n",
       "      <td>0.720076</td>\n",
       "      <td>1344.0</td>\n",
       "      <td>0</td>\n",
       "      <td>10534.0</td>\n",
       "      <td>1745.0</td>\n",
       "      <td>0</td>\n",
       "      <td>1</td>\n",
       "      <td>0</td>\n",
       "      <td>3131.0</td>\n",
       "      <td>112500.0</td>\n",
       "    </tr>\n",
       "  </tbody>\n",
       "</table>\n",
       "</div>"
      ],
      "text/plain": [
       "   Rating_Origin_2  Work_Duration_in_Days  Patron_Academic_Qualification_BIN  \\\n",
       "0         0.221772               365243.0                                  1   \n",
       "1         0.720076                 1344.0                                  0   \n",
       "\n",
       "   Elderliness_in_Days  Telecommunication_Switch  \\\n",
       "0              20099.0                       0.0   \n",
       "1              10534.0                    1745.0   \n",
       "\n",
       "   Customer_Living_Arrangement_BIN  Automobile_Possession  \\\n",
       "0                                0                      0   \n",
       "1                                0                      1   \n",
       "\n",
       "   Patron_Constant_Correspondence_Marker_BIN  Identity_Age_in_Days  \\\n",
       "0                                          0                3514.0   \n",
       "1                                          0                3131.0   \n",
       "\n",
       "   Loan_Capital  \n",
       "0      101961.0  \n",
       "1      112500.0  "
      ]
     },
     "execution_count": 77,
     "metadata": {},
     "output_type": "execute_result"
    }
   ],
   "source": [
    "X_train.head(2)"
   ]
  },
  {
   "cell_type": "code",
   "execution_count": 78,
   "id": "822d31ff",
   "metadata": {},
   "outputs": [
    {
     "data": {
      "text/plain": [
       "(24371, 10)"
      ]
     },
     "execution_count": 78,
     "metadata": {},
     "output_type": "execute_result"
    }
   ],
   "source": [
    "X_test.shape"
   ]
  },
  {
   "cell_type": "code",
   "execution_count": 79,
   "id": "6f9dfefa",
   "metadata": {},
   "outputs": [
    {
     "data": {
      "text/html": [
       "<div>\n",
       "<style scoped>\n",
       "    .dataframe tbody tr th:only-of-type {\n",
       "        vertical-align: middle;\n",
       "    }\n",
       "\n",
       "    .dataframe tbody tr th {\n",
       "        vertical-align: top;\n",
       "    }\n",
       "\n",
       "    .dataframe thead th {\n",
       "        text-align: right;\n",
       "    }\n",
       "</style>\n",
       "<table border=\"1\" class=\"dataframe\">\n",
       "  <thead>\n",
       "    <tr style=\"text-align: right;\">\n",
       "      <th></th>\n",
       "      <th>Rating_Origin_2</th>\n",
       "      <th>Work_Duration_in_Days</th>\n",
       "      <th>Patron_Academic_Qualification_BIN</th>\n",
       "      <th>Elderliness_in_Days</th>\n",
       "      <th>Telecommunication_Switch</th>\n",
       "      <th>Customer_Living_Arrangement_BIN</th>\n",
       "      <th>Automobile_Possession</th>\n",
       "      <th>Patron_Constant_Correspondence_Marker_BIN</th>\n",
       "      <th>Identity_Age_in_Days</th>\n",
       "      <th>Loan_Capital</th>\n",
       "    </tr>\n",
       "  </thead>\n",
       "  <tbody>\n",
       "    <tr>\n",
       "      <th>0</th>\n",
       "      <td>0.552795</td>\n",
       "      <td>5102.0</td>\n",
       "      <td>1</td>\n",
       "      <td>16790.0</td>\n",
       "      <td>277.0</td>\n",
       "      <td>1</td>\n",
       "      <td>0</td>\n",
       "      <td>0</td>\n",
       "      <td>754.0</td>\n",
       "      <td>59527.35</td>\n",
       "    </tr>\n",
       "    <tr>\n",
       "      <th>1</th>\n",
       "      <td>0.719935</td>\n",
       "      <td>2263.0</td>\n",
       "      <td>0</td>\n",
       "      <td>14816.0</td>\n",
       "      <td>1799.0</td>\n",
       "      <td>0</td>\n",
       "      <td>0</td>\n",
       "      <td>0</td>\n",
       "      <td>4640.0</td>\n",
       "      <td>67500.00</td>\n",
       "    </tr>\n",
       "  </tbody>\n",
       "</table>\n",
       "</div>"
      ],
      "text/plain": [
       "   Rating_Origin_2  Work_Duration_in_Days  Patron_Academic_Qualification_BIN  \\\n",
       "0         0.552795                 5102.0                                  1   \n",
       "1         0.719935                 2263.0                                  0   \n",
       "\n",
       "   Elderliness_in_Days  Telecommunication_Switch  \\\n",
       "0              16790.0                     277.0   \n",
       "1              14816.0                    1799.0   \n",
       "\n",
       "   Customer_Living_Arrangement_BIN  Automobile_Possession  \\\n",
       "0                                1                      0   \n",
       "1                                0                      0   \n",
       "\n",
       "   Patron_Constant_Correspondence_Marker_BIN  Identity_Age_in_Days  \\\n",
       "0                                          0                 754.0   \n",
       "1                                          0                4640.0   \n",
       "\n",
       "   Loan_Capital  \n",
       "0      59527.35  \n",
       "1      67500.00  "
      ]
     },
     "execution_count": 79,
     "metadata": {},
     "output_type": "execute_result"
    }
   ],
   "source": [
    "X_test.head(2)"
   ]
  },
  {
   "cell_type": "code",
   "execution_count": 80,
   "id": "79785658",
   "metadata": {},
   "outputs": [
    {
     "data": {
      "text/plain": [
       "Index(['Rating_Origin_2', 'Work_Duration_in_Days',\n",
       "       'Patron_Academic_Qualification_BIN', 'Elderliness_in_Days',\n",
       "       'Telecommunication_Switch', 'Customer_Living_Arrangement_BIN',\n",
       "       'Automobile_Possession', 'Patron_Constant_Correspondence_Marker_BIN',\n",
       "       'Identity_Age_in_Days', 'Loan_Capital'],\n",
       "      dtype='object')"
      ]
     },
     "execution_count": 80,
     "metadata": {},
     "output_type": "execute_result"
    }
   ],
   "source": [
    "X_train.columns"
   ]
  },
  {
   "cell_type": "markdown",
   "id": "da7dba95",
   "metadata": {},
   "source": [
    "### XG Boost"
   ]
  },
  {
   "cell_type": "code",
   "execution_count": 81,
   "id": "081e0873",
   "metadata": {},
   "outputs": [],
   "source": [
    "import xgboost as xgb\n",
    "xgb_cl = xgb.XGBClassifier(objective='binary:logistic', booster='gbtree',learning_rate=0.18,max_depth=6,\n",
    "                               base_score=0.4, n_estimators=200, num_parallel_tree=5, eval_metric='auc',\n",
    "                               tree_method='hist', grow_policy='lossguide', scale_pos_weight = 11,\n",
    "                               gamma = 89, colsample_bytree = 0.5\n",
    "                              ).fit(X_train, y_train)\n",
    "\n",
    "y_pred_xg1 = xgb_cl.predict(X_train)\n",
    "y_pred_xg = xgb_cl.predict(X_test)\n",
    "\n",
    "X_train_prob = list(xgb_cl.predict_proba(X_train)[:,1])\n",
    "X_test_prob = list(xgb_cl.predict_proba(X_test)[:,1])\n",
    "\n",
    "train['Prob_score_XGB'] = X_train_prob\n",
    "test['Prob_score_XGB'] = X_test_prob"
   ]
  },
  {
   "cell_type": "code",
   "execution_count": 82,
   "id": "4a6b6ded",
   "metadata": {},
   "outputs": [
    {
     "name": "stdout",
     "output_type": "stream",
     "text": [
      "ROC AUC Score for train: 69.81916264390328\n",
      "ROC AUC Score for test: 70.07874506213803\n"
     ]
    }
   ],
   "source": [
    "print(\"ROC AUC Score for train:\", roc_auc_score(y_train, X_train_prob) * 100)\n",
    "print(\"ROC AUC Score for test:\", roc_auc_score(y_test, X_test_prob) * 100)"
   ]
  },
  {
   "cell_type": "code",
   "execution_count": 83,
   "id": "a04fe90f",
   "metadata": {
    "scrolled": true
   },
   "outputs": [
    {
     "data": {
      "text/html": [
       "<div>\n",
       "<style scoped>\n",
       "    .dataframe tbody tr th:only-of-type {\n",
       "        vertical-align: middle;\n",
       "    }\n",
       "\n",
       "    .dataframe tbody tr th {\n",
       "        vertical-align: top;\n",
       "    }\n",
       "\n",
       "    .dataframe thead th {\n",
       "        text-align: right;\n",
       "    }\n",
       "</style>\n",
       "<table border=\"1\" class=\"dataframe\">\n",
       "  <thead>\n",
       "    <tr style=\"text-align: right;\">\n",
       "      <th></th>\n",
       "      <th>0</th>\n",
       "      <th>1</th>\n",
       "    </tr>\n",
       "  </thead>\n",
       "  <tbody>\n",
       "    <tr>\n",
       "      <th>0</th>\n",
       "      <td>Rating_Origin_2</td>\n",
       "      <td>30.140537</td>\n",
       "    </tr>\n",
       "    <tr>\n",
       "      <th>1</th>\n",
       "      <td>Work_Duration_in_Days</td>\n",
       "      <td>15.596639</td>\n",
       "    </tr>\n",
       "    <tr>\n",
       "      <th>2</th>\n",
       "      <td>Patron_Academic_Qualification_BIN</td>\n",
       "      <td>12.474005</td>\n",
       "    </tr>\n",
       "    <tr>\n",
       "      <th>3</th>\n",
       "      <td>Elderliness_in_Days</td>\n",
       "      <td>9.749474</td>\n",
       "    </tr>\n",
       "    <tr>\n",
       "      <th>4</th>\n",
       "      <td>Telecommunication_Switch</td>\n",
       "      <td>7.350151</td>\n",
       "    </tr>\n",
       "    <tr>\n",
       "      <th>8</th>\n",
       "      <td>Identity_Age_in_Days</td>\n",
       "      <td>5.586968</td>\n",
       "    </tr>\n",
       "    <tr>\n",
       "      <th>7</th>\n",
       "      <td>Patron_Constant_Correspondence_Marker_BIN</td>\n",
       "      <td>5.210736</td>\n",
       "    </tr>\n",
       "    <tr>\n",
       "      <th>9</th>\n",
       "      <td>Loan_Capital</td>\n",
       "      <td>5.106344</td>\n",
       "    </tr>\n",
       "    <tr>\n",
       "      <th>5</th>\n",
       "      <td>Customer_Living_Arrangement_BIN</td>\n",
       "      <td>4.696291</td>\n",
       "    </tr>\n",
       "    <tr>\n",
       "      <th>6</th>\n",
       "      <td>Automobile_Possession</td>\n",
       "      <td>4.088860</td>\n",
       "    </tr>\n",
       "  </tbody>\n",
       "</table>\n",
       "</div>"
      ],
      "text/plain": [
       "                                           0          1\n",
       "0                            Rating_Origin_2  30.140537\n",
       "1                      Work_Duration_in_Days  15.596639\n",
       "2          Patron_Academic_Qualification_BIN  12.474005\n",
       "3                        Elderliness_in_Days   9.749474\n",
       "4                   Telecommunication_Switch   7.350151\n",
       "8                       Identity_Age_in_Days   5.586968\n",
       "7  Patron_Constant_Correspondence_Marker_BIN   5.210736\n",
       "9                               Loan_Capital   5.106344\n",
       "5            Customer_Living_Arrangement_BIN   4.696291\n",
       "6                      Automobile_Possession   4.088860"
      ]
     },
     "execution_count": 83,
     "metadata": {},
     "output_type": "execute_result"
    }
   ],
   "source": [
    "feat_imp = pd.DataFrame.from_dict(zip(list(X_train.columns), xgb_cl.feature_importances_*100)).sort_values(by = 1, ascending = False)\n",
    "# feat_imp.to_excel('feature_imp_xgb.xlsx', index = False)\n",
    "feat_imp"
   ]
  },
  {
   "cell_type": "code",
   "execution_count": 84,
   "id": "ea0efba2",
   "metadata": {},
   "outputs": [
    {
     "data": {
      "text/plain": [
       "array(['Rating_Origin_2', 'Work_Duration_in_Days',\n",
       "       'Patron_Academic_Qualification_BIN', 'Elderliness_in_Days',\n",
       "       'Telecommunication_Switch', 'Identity_Age_in_Days',\n",
       "       'Patron_Constant_Correspondence_Marker_BIN', 'Loan_Capital',\n",
       "       'Customer_Living_Arrangement_BIN', 'Automobile_Possession'],\n",
       "      dtype=object)"
      ]
     },
     "execution_count": 84,
     "metadata": {},
     "output_type": "execute_result"
    }
   ],
   "source": [
    "feat_imp[0].values"
   ]
  },
  {
   "cell_type": "code",
   "execution_count": 85,
   "id": "4a9afa1c",
   "metadata": {},
   "outputs": [],
   "source": [
    "def ks(data=None,target=None, prob=None):\n",
    "    data['target_xgb'] = 1 - data[target]\n",
    "    data['bucket'] = pd.qcut(data[prob], 10)\n",
    "    grouped = data.groupby('bucket', as_index = False)\n",
    "    kstable = pd.DataFrame()\n",
    "    kstable['min_prob'] = grouped.min()[prob]\n",
    "    kstable['max_prob'] = grouped.max()[prob]\n",
    "    kstable['total'] = (grouped.sum()[target] + grouped.sum()['target_xgb'])\n",
    "    kstable['events']   = grouped.sum()[target]\n",
    "    kstable['nonevents'] = grouped.sum()['target_xgb']\n",
    "    kstable = kstable.sort_values(by=\"min_prob\", ascending=False).reset_index(drop = True)\n",
    "    kstable['event_rate'] = (kstable.events / data[target].sum()).apply('{0:.2%}'.format)\n",
    "    kstable['nonevent_rate'] = (kstable.nonevents / data['target_xgb'].sum()).apply('{0:.2%}'.format)\n",
    "    kstable['cum_eventrate']=(kstable.events / data[target].sum()).cumsum()\n",
    "    kstable['cum_noneventrate']=(kstable.nonevents / data['target_xgb'].sum()).cumsum()\n",
    "    kstable['KS'] = np.round(kstable['cum_eventrate']-kstable['cum_noneventrate'], 3) * 100\n",
    "\n",
    "    #Formating\n",
    "    kstable['cum_eventrate']= kstable['cum_eventrate'].apply('{0:.2%}'.format)\n",
    "    kstable['cum_noneventrate']= kstable['cum_noneventrate'].apply('{0:.2%}'.format)\n",
    "    \n",
    "    kstable['ks_stats'] = np.round(((kstable['events'] / kstable['events'].sum()).cumsum() -(kstable['nonevents'] / kstable['nonevents'].sum()).cumsum()), 4) * 100\n",
    "    kstable['max_ks'] = kstable['ks_stats'].apply(lambda x: '*****' if x == kstable['ks_stats'].max() else '')\n",
    "    \n",
    "    kstable.index = range(1,11)\n",
    "    kstable.index.rename('Decile', inplace=True)\n",
    "    pd.set_option('display.max_columns', 20)\n",
    "#    print(kstable)\n",
    "#    print(type(kstable))    \n",
    "    #Display KS\n",
    "    from colorama import Fore\n",
    "#   print(Fore.RED + \"KS is \" + str(max(kstable['KS']))+\"%\"+ \" at decile \" + str((kstable.index[kstable['KS']==max(kstable['KS'])][0])))\n",
    "#     print(type(kstable))\n",
    "    return(kstable)\n"
   ]
  },
  {
   "cell_type": "code",
   "execution_count": 86,
   "id": "906503e7",
   "metadata": {},
   "outputs": [],
   "source": [
    "xg_train_ks = ks(train,'Default','Prob_score_XGB')\n",
    "xg_test_ks = ks(test,'Default','Prob_score_XGB')"
   ]
  },
  {
   "cell_type": "code",
   "execution_count": 87,
   "id": "238f9393",
   "metadata": {},
   "outputs": [
    {
     "data": {
      "text/html": [
       "<div>\n",
       "<style scoped>\n",
       "    .dataframe tbody tr th:only-of-type {\n",
       "        vertical-align: middle;\n",
       "    }\n",
       "\n",
       "    .dataframe tbody tr th {\n",
       "        vertical-align: top;\n",
       "    }\n",
       "\n",
       "    .dataframe thead th {\n",
       "        text-align: right;\n",
       "    }\n",
       "</style>\n",
       "<table border=\"1\" class=\"dataframe\">\n",
       "  <thead>\n",
       "    <tr style=\"text-align: right;\">\n",
       "      <th></th>\n",
       "      <th>min_prob</th>\n",
       "      <th>max_prob</th>\n",
       "      <th>total</th>\n",
       "      <th>events</th>\n",
       "      <th>nonevents</th>\n",
       "      <th>event_rate</th>\n",
       "      <th>nonevent_rate</th>\n",
       "      <th>cum_eventrate</th>\n",
       "      <th>cum_noneventrate</th>\n",
       "      <th>KS</th>\n",
       "      <th>ks_stats</th>\n",
       "      <th>max_ks</th>\n",
       "    </tr>\n",
       "    <tr>\n",
       "      <th>Decile</th>\n",
       "      <th></th>\n",
       "      <th></th>\n",
       "      <th></th>\n",
       "      <th></th>\n",
       "      <th></th>\n",
       "      <th></th>\n",
       "      <th></th>\n",
       "      <th></th>\n",
       "      <th></th>\n",
       "      <th></th>\n",
       "      <th></th>\n",
       "      <th></th>\n",
       "    </tr>\n",
       "  </thead>\n",
       "  <tbody>\n",
       "    <tr>\n",
       "      <th>1</th>\n",
       "      <td>0.642283</td>\n",
       "      <td>0.792226</td>\n",
       "      <td>9749</td>\n",
       "      <td>2055</td>\n",
       "      <td>7694</td>\n",
       "      <td>26.09%</td>\n",
       "      <td>8.59%</td>\n",
       "      <td>26.09%</td>\n",
       "      <td>8.59%</td>\n",
       "      <td>17.5</td>\n",
       "      <td>17.50</td>\n",
       "      <td></td>\n",
       "    </tr>\n",
       "    <tr>\n",
       "      <th>2</th>\n",
       "      <td>0.577387</td>\n",
       "      <td>0.642279</td>\n",
       "      <td>9748</td>\n",
       "      <td>1332</td>\n",
       "      <td>8416</td>\n",
       "      <td>16.91%</td>\n",
       "      <td>9.39%</td>\n",
       "      <td>42.99%</td>\n",
       "      <td>17.98%</td>\n",
       "      <td>25.0</td>\n",
       "      <td>25.01</td>\n",
       "      <td></td>\n",
       "    </tr>\n",
       "    <tr>\n",
       "      <th>3</th>\n",
       "      <td>0.527310</td>\n",
       "      <td>0.577369</td>\n",
       "      <td>9749</td>\n",
       "      <td>1012</td>\n",
       "      <td>8737</td>\n",
       "      <td>12.85%</td>\n",
       "      <td>9.75%</td>\n",
       "      <td>55.84%</td>\n",
       "      <td>27.73%</td>\n",
       "      <td>28.1</td>\n",
       "      <td>28.11</td>\n",
       "      <td></td>\n",
       "    </tr>\n",
       "    <tr>\n",
       "      <th>4</th>\n",
       "      <td>0.481428</td>\n",
       "      <td>0.527292</td>\n",
       "      <td>9748</td>\n",
       "      <td>830</td>\n",
       "      <td>8918</td>\n",
       "      <td>10.54%</td>\n",
       "      <td>9.95%</td>\n",
       "      <td>66.37%</td>\n",
       "      <td>37.68%</td>\n",
       "      <td>28.7</td>\n",
       "      <td>28.69</td>\n",
       "      <td>*****</td>\n",
       "    </tr>\n",
       "    <tr>\n",
       "      <th>5</th>\n",
       "      <td>0.439028</td>\n",
       "      <td>0.481428</td>\n",
       "      <td>9748</td>\n",
       "      <td>693</td>\n",
       "      <td>9055</td>\n",
       "      <td>8.80%</td>\n",
       "      <td>10.11%</td>\n",
       "      <td>75.17%</td>\n",
       "      <td>47.79%</td>\n",
       "      <td>27.4</td>\n",
       "      <td>27.38</td>\n",
       "      <td></td>\n",
       "    </tr>\n",
       "    <tr>\n",
       "      <th>6</th>\n",
       "      <td>0.402182</td>\n",
       "      <td>0.439024</td>\n",
       "      <td>9749</td>\n",
       "      <td>593</td>\n",
       "      <td>9156</td>\n",
       "      <td>7.53%</td>\n",
       "      <td>10.22%</td>\n",
       "      <td>82.70%</td>\n",
       "      <td>58.00%</td>\n",
       "      <td>24.7</td>\n",
       "      <td>24.69</td>\n",
       "      <td></td>\n",
       "    </tr>\n",
       "    <tr>\n",
       "      <th>7</th>\n",
       "      <td>0.364306</td>\n",
       "      <td>0.402180</td>\n",
       "      <td>9748</td>\n",
       "      <td>486</td>\n",
       "      <td>9262</td>\n",
       "      <td>6.17%</td>\n",
       "      <td>10.34%</td>\n",
       "      <td>88.87%</td>\n",
       "      <td>68.34%</td>\n",
       "      <td>20.5</td>\n",
       "      <td>20.53</td>\n",
       "      <td></td>\n",
       "    </tr>\n",
       "    <tr>\n",
       "      <th>8</th>\n",
       "      <td>0.323492</td>\n",
       "      <td>0.364303</td>\n",
       "      <td>9749</td>\n",
       "      <td>399</td>\n",
       "      <td>9350</td>\n",
       "      <td>5.06%</td>\n",
       "      <td>10.43%</td>\n",
       "      <td>93.93%</td>\n",
       "      <td>78.78%</td>\n",
       "      <td>15.2</td>\n",
       "      <td>15.16</td>\n",
       "      <td></td>\n",
       "    </tr>\n",
       "    <tr>\n",
       "      <th>9</th>\n",
       "      <td>0.276227</td>\n",
       "      <td>0.323490</td>\n",
       "      <td>9748</td>\n",
       "      <td>294</td>\n",
       "      <td>9454</td>\n",
       "      <td>3.73%</td>\n",
       "      <td>10.55%</td>\n",
       "      <td>97.66%</td>\n",
       "      <td>89.33%</td>\n",
       "      <td>8.3</td>\n",
       "      <td>8.34</td>\n",
       "      <td></td>\n",
       "    </tr>\n",
       "    <tr>\n",
       "      <th>10</th>\n",
       "      <td>0.167283</td>\n",
       "      <td>0.276211</td>\n",
       "      <td>9749</td>\n",
       "      <td>184</td>\n",
       "      <td>9565</td>\n",
       "      <td>2.34%</td>\n",
       "      <td>10.67%</td>\n",
       "      <td>100.00%</td>\n",
       "      <td>100.00%</td>\n",
       "      <td>0.0</td>\n",
       "      <td>0.00</td>\n",
       "      <td></td>\n",
       "    </tr>\n",
       "  </tbody>\n",
       "</table>\n",
       "</div>"
      ],
      "text/plain": [
       "        min_prob  max_prob  total  events  nonevents event_rate nonevent_rate  \\\n",
       "Decile                                                                          \n",
       "1       0.642283  0.792226   9749    2055       7694     26.09%         8.59%   \n",
       "2       0.577387  0.642279   9748    1332       8416     16.91%         9.39%   \n",
       "3       0.527310  0.577369   9749    1012       8737     12.85%         9.75%   \n",
       "4       0.481428  0.527292   9748     830       8918     10.54%         9.95%   \n",
       "5       0.439028  0.481428   9748     693       9055      8.80%        10.11%   \n",
       "6       0.402182  0.439024   9749     593       9156      7.53%        10.22%   \n",
       "7       0.364306  0.402180   9748     486       9262      6.17%        10.34%   \n",
       "8       0.323492  0.364303   9749     399       9350      5.06%        10.43%   \n",
       "9       0.276227  0.323490   9748     294       9454      3.73%        10.55%   \n",
       "10      0.167283  0.276211   9749     184       9565      2.34%        10.67%   \n",
       "\n",
       "       cum_eventrate cum_noneventrate    KS  ks_stats max_ks  \n",
       "Decile                                                        \n",
       "1             26.09%            8.59%  17.5     17.50         \n",
       "2             42.99%           17.98%  25.0     25.01         \n",
       "3             55.84%           27.73%  28.1     28.11         \n",
       "4             66.37%           37.68%  28.7     28.69  *****  \n",
       "5             75.17%           47.79%  27.4     27.38         \n",
       "6             82.70%           58.00%  24.7     24.69         \n",
       "7             88.87%           68.34%  20.5     20.53         \n",
       "8             93.93%           78.78%  15.2     15.16         \n",
       "9             97.66%           89.33%   8.3      8.34         \n",
       "10           100.00%          100.00%   0.0      0.00         "
      ]
     },
     "execution_count": 87,
     "metadata": {},
     "output_type": "execute_result"
    }
   ],
   "source": [
    "# xg_train_ks.to_csv('xgboost_ks_train.csv', index = False)\n",
    "xg_train_ks"
   ]
  },
  {
   "cell_type": "code",
   "execution_count": 88,
   "id": "de697c2e",
   "metadata": {},
   "outputs": [
    {
     "data": {
      "text/html": [
       "<div>\n",
       "<style scoped>\n",
       "    .dataframe tbody tr th:only-of-type {\n",
       "        vertical-align: middle;\n",
       "    }\n",
       "\n",
       "    .dataframe tbody tr th {\n",
       "        vertical-align: top;\n",
       "    }\n",
       "\n",
       "    .dataframe thead th {\n",
       "        text-align: right;\n",
       "    }\n",
       "</style>\n",
       "<table border=\"1\" class=\"dataframe\">\n",
       "  <thead>\n",
       "    <tr style=\"text-align: right;\">\n",
       "      <th></th>\n",
       "      <th>min_prob</th>\n",
       "      <th>max_prob</th>\n",
       "      <th>total</th>\n",
       "      <th>events</th>\n",
       "      <th>nonevents</th>\n",
       "      <th>event_rate</th>\n",
       "      <th>nonevent_rate</th>\n",
       "      <th>cum_eventrate</th>\n",
       "      <th>cum_noneventrate</th>\n",
       "      <th>KS</th>\n",
       "      <th>ks_stats</th>\n",
       "      <th>max_ks</th>\n",
       "    </tr>\n",
       "    <tr>\n",
       "      <th>Decile</th>\n",
       "      <th></th>\n",
       "      <th></th>\n",
       "      <th></th>\n",
       "      <th></th>\n",
       "      <th></th>\n",
       "      <th></th>\n",
       "      <th></th>\n",
       "      <th></th>\n",
       "      <th></th>\n",
       "      <th></th>\n",
       "      <th></th>\n",
       "      <th></th>\n",
       "    </tr>\n",
       "  </thead>\n",
       "  <tbody>\n",
       "    <tr>\n",
       "      <th>1</th>\n",
       "      <td>0.643541</td>\n",
       "      <td>0.789590</td>\n",
       "      <td>2437</td>\n",
       "      <td>508</td>\n",
       "      <td>1929</td>\n",
       "      <td>25.83%</td>\n",
       "      <td>8.61%</td>\n",
       "      <td>25.83%</td>\n",
       "      <td>8.61%</td>\n",
       "      <td>17.2</td>\n",
       "      <td>17.22</td>\n",
       "      <td></td>\n",
       "    </tr>\n",
       "    <tr>\n",
       "      <th>2</th>\n",
       "      <td>0.577931</td>\n",
       "      <td>0.643538</td>\n",
       "      <td>2437</td>\n",
       "      <td>337</td>\n",
       "      <td>2100</td>\n",
       "      <td>17.13%</td>\n",
       "      <td>9.37%</td>\n",
       "      <td>42.96%</td>\n",
       "      <td>17.98%</td>\n",
       "      <td>25.0</td>\n",
       "      <td>24.98</td>\n",
       "      <td></td>\n",
       "    </tr>\n",
       "    <tr>\n",
       "      <th>3</th>\n",
       "      <td>0.527525</td>\n",
       "      <td>0.577921</td>\n",
       "      <td>2437</td>\n",
       "      <td>258</td>\n",
       "      <td>2179</td>\n",
       "      <td>13.12%</td>\n",
       "      <td>9.73%</td>\n",
       "      <td>56.08%</td>\n",
       "      <td>27.71%</td>\n",
       "      <td>28.4</td>\n",
       "      <td>28.37</td>\n",
       "      <td></td>\n",
       "    </tr>\n",
       "    <tr>\n",
       "      <th>4</th>\n",
       "      <td>0.482248</td>\n",
       "      <td>0.527515</td>\n",
       "      <td>2437</td>\n",
       "      <td>223</td>\n",
       "      <td>2214</td>\n",
       "      <td>11.34%</td>\n",
       "      <td>9.88%</td>\n",
       "      <td>67.41%</td>\n",
       "      <td>37.59%</td>\n",
       "      <td>29.8</td>\n",
       "      <td>29.82</td>\n",
       "      <td>*****</td>\n",
       "    </tr>\n",
       "    <tr>\n",
       "      <th>5</th>\n",
       "      <td>0.440787</td>\n",
       "      <td>0.482212</td>\n",
       "      <td>2437</td>\n",
       "      <td>170</td>\n",
       "      <td>2267</td>\n",
       "      <td>8.64%</td>\n",
       "      <td>10.12%</td>\n",
       "      <td>76.05%</td>\n",
       "      <td>47.71%</td>\n",
       "      <td>28.3</td>\n",
       "      <td>28.34</td>\n",
       "      <td></td>\n",
       "    </tr>\n",
       "    <tr>\n",
       "      <th>6</th>\n",
       "      <td>0.404019</td>\n",
       "      <td>0.440754</td>\n",
       "      <td>2436</td>\n",
       "      <td>149</td>\n",
       "      <td>2287</td>\n",
       "      <td>7.57%</td>\n",
       "      <td>10.21%</td>\n",
       "      <td>83.63%</td>\n",
       "      <td>57.92%</td>\n",
       "      <td>25.7</td>\n",
       "      <td>25.71</td>\n",
       "      <td></td>\n",
       "    </tr>\n",
       "    <tr>\n",
       "      <th>7</th>\n",
       "      <td>0.363923</td>\n",
       "      <td>0.404018</td>\n",
       "      <td>2438</td>\n",
       "      <td>97</td>\n",
       "      <td>2341</td>\n",
       "      <td>4.93%</td>\n",
       "      <td>10.45%</td>\n",
       "      <td>88.56%</td>\n",
       "      <td>68.37%</td>\n",
       "      <td>20.2</td>\n",
       "      <td>20.19</td>\n",
       "      <td></td>\n",
       "    </tr>\n",
       "    <tr>\n",
       "      <th>8</th>\n",
       "      <td>0.325100</td>\n",
       "      <td>0.363898</td>\n",
       "      <td>2437</td>\n",
       "      <td>94</td>\n",
       "      <td>2343</td>\n",
       "      <td>4.78%</td>\n",
       "      <td>10.46%</td>\n",
       "      <td>93.34%</td>\n",
       "      <td>78.83%</td>\n",
       "      <td>14.5</td>\n",
       "      <td>14.51</td>\n",
       "      <td></td>\n",
       "    </tr>\n",
       "    <tr>\n",
       "      <th>9</th>\n",
       "      <td>0.280217</td>\n",
       "      <td>0.325097</td>\n",
       "      <td>2437</td>\n",
       "      <td>78</td>\n",
       "      <td>2359</td>\n",
       "      <td>3.97%</td>\n",
       "      <td>10.53%</td>\n",
       "      <td>97.31%</td>\n",
       "      <td>89.35%</td>\n",
       "      <td>8.0</td>\n",
       "      <td>7.95</td>\n",
       "      <td></td>\n",
       "    </tr>\n",
       "    <tr>\n",
       "      <th>10</th>\n",
       "      <td>0.175559</td>\n",
       "      <td>0.280198</td>\n",
       "      <td>2438</td>\n",
       "      <td>53</td>\n",
       "      <td>2385</td>\n",
       "      <td>2.69%</td>\n",
       "      <td>10.65%</td>\n",
       "      <td>100.00%</td>\n",
       "      <td>100.00%</td>\n",
       "      <td>0.0</td>\n",
       "      <td>0.00</td>\n",
       "      <td></td>\n",
       "    </tr>\n",
       "  </tbody>\n",
       "</table>\n",
       "</div>"
      ],
      "text/plain": [
       "        min_prob  max_prob  total  events  nonevents event_rate nonevent_rate  \\\n",
       "Decile                                                                          \n",
       "1       0.643541  0.789590   2437     508       1929     25.83%         8.61%   \n",
       "2       0.577931  0.643538   2437     337       2100     17.13%         9.37%   \n",
       "3       0.527525  0.577921   2437     258       2179     13.12%         9.73%   \n",
       "4       0.482248  0.527515   2437     223       2214     11.34%         9.88%   \n",
       "5       0.440787  0.482212   2437     170       2267      8.64%        10.12%   \n",
       "6       0.404019  0.440754   2436     149       2287      7.57%        10.21%   \n",
       "7       0.363923  0.404018   2438      97       2341      4.93%        10.45%   \n",
       "8       0.325100  0.363898   2437      94       2343      4.78%        10.46%   \n",
       "9       0.280217  0.325097   2437      78       2359      3.97%        10.53%   \n",
       "10      0.175559  0.280198   2438      53       2385      2.69%        10.65%   \n",
       "\n",
       "       cum_eventrate cum_noneventrate    KS  ks_stats max_ks  \n",
       "Decile                                                        \n",
       "1             25.83%            8.61%  17.2     17.22         \n",
       "2             42.96%           17.98%  25.0     24.98         \n",
       "3             56.08%           27.71%  28.4     28.37         \n",
       "4             67.41%           37.59%  29.8     29.82  *****  \n",
       "5             76.05%           47.71%  28.3     28.34         \n",
       "6             83.63%           57.92%  25.7     25.71         \n",
       "7             88.56%           68.37%  20.2     20.19         \n",
       "8             93.34%           78.83%  14.5     14.51         \n",
       "9             97.31%           89.35%   8.0      7.95         \n",
       "10           100.00%          100.00%   0.0      0.00         "
      ]
     },
     "execution_count": 88,
     "metadata": {},
     "output_type": "execute_result"
    }
   ],
   "source": [
    "# xg_test_ks.to_csv('xgboost_ks_test.csv', index = False)\n",
    "xg_test_ks"
   ]
  },
  {
   "cell_type": "code",
   "execution_count": null,
   "id": "6cac2246",
   "metadata": {},
   "outputs": [],
   "source": []
  },
  {
   "cell_type": "code",
   "execution_count": null,
   "id": "9c41c7df",
   "metadata": {},
   "outputs": [],
   "source": []
  },
  {
   "cell_type": "code",
   "execution_count": null,
   "id": "b53066d7",
   "metadata": {},
   "outputs": [],
   "source": []
  },
  {
   "cell_type": "code",
   "execution_count": 89,
   "id": "a0f9ca67",
   "metadata": {},
   "outputs": [],
   "source": [
    "\n",
    "\n",
    "# Init classifier\n",
    "def best_result(eta, md, npt, gam, train, test):\n",
    "    xgb_cl = xgb.XGBClassifier(objective='binary:logistic', booster='gbtree',learning_rate=eta,max_depth=md,\n",
    "                               base_score=0.4, n_estimators=200, num_parallel_tree=npt, eval_metric='auc',\n",
    "                               tree_method='hist', grow_policy='lossguide', scale_pos_weight = 9,\n",
    "                               gamma = gam, colsample_bytree = 0.5\n",
    "                              ).fit(X_train, y_train)\n",
    "\n",
    "    y_pred_xg1 = xgb_cl.predict(X_train)\n",
    "    y_pred_xg = xgb_cl.predict(X_test)\n",
    "    \n",
    "    X_train_prob = list(xgb_cl.predict_proba(X_train)[:,1])\n",
    "    X_test_prob = list(xgb_cl.predict_proba(X_test)[:,1])\n",
    "#     print(\"max depth: \" , md , \", num parallel tree: \" , npt , \"gamma: \" , gam)\n",
    "    train_res = roc_auc_score(y_train, X_train_prob) * 100\n",
    "    test_res = roc_auc_score(y_test, X_test_prob) * 100\n",
    "    \n",
    "    train['Prob_score_XGB'] = X_train_prob\n",
    "    test['Prob_score_XGB'] = X_test_prob\n",
    "\n",
    "    xg_train_ks = ks(train,'Default','Prob_score_XGB')\n",
    "    xg_test_ks = ks(test,'Default','Prob_score_XGB')\n",
    "    \n",
    "    train_3rd_cap = xg_train_ks.reset_index()['cum_eventrate'][2]\n",
    "    test_3rd_cap = xg_test_ks.reset_index()['cum_eventrate'][2]\n",
    "#     print(train_3rd_cap, test_3rd_cap)\n",
    "#     print(\"ROC AUC Score for train:\", train_res)\n",
    "#     print(\"ROC AUC Score for test:\", test_res)\n",
    "    return eta, md, npt, gam, train_res, test_res, train_3rd_cap, test_3rd_cap"
   ]
  },
  {
   "cell_type": "code",
   "execution_count": null,
   "id": "e020aa18",
   "metadata": {
    "scrolled": true
   },
   "outputs": [
    {
     "name": "stdout",
     "output_type": "stream",
     "text": [
      "------------------------------------------------------------\n",
      "------------------------------------------------------------\n",
      "------------------------------------------------------------\n",
      "------------------------------------------------------------\n",
      "------------------------------------------------------------\n",
      "------------------------------------------------------------\n",
      "------------------------------------------------------------\n",
      "------------------------------------------------------------\n",
      "------------------------------------------------------------\n",
      "------------------------------------------------------------\n",
      "------------------------------------------------------------\n",
      "------------------------------------------------------------\n",
      "------------------------------------------------------------\n",
      "------------------------------------------------------------\n",
      "------------------------------------------------------------\n",
      "------------------------------------------------------------\n",
      "------------------------------------------------------------\n",
      "------------------------------------------------------------\n",
      "------------------------------------------------------------\n",
      "------------------------------------------------------------\n",
      "------------------------------------------------------------\n",
      "------------------------------------------------------------\n",
      "------------------------------------------------------------\n",
      "------------------------------------------------------------\n",
      "------------------------------------------------------------\n",
      "------------------------------------------------------------\n",
      "------------------------------------------------------------\n",
      "------------------------------------------------------------\n",
      "------------------------------------------------------------\n",
      "------------------------------------------------------------\n",
      "------------------------------------------------------------\n",
      "------------------------------------------------------------\n",
      "------------------------------------------------------------\n",
      "------------------------------------------------------------\n",
      "------------------------------------------------------------\n",
      "------------------------------------------------------------\n",
      "------------------------------------------------------------\n",
      "------------------------------------------------------------\n",
      "------------------------------------------------------------\n",
      "------------------------------------------------------------\n",
      "------------------------------------------------------------\n",
      "------------------------------------------------------------\n",
      "------------------------------------------------------------\n",
      "------------------------------------------------------------\n",
      "------------------------------------------------------------\n",
      "------------------------------------------------------------\n",
      "------------------------------------------------------------\n",
      "------------------------------------------------------------\n",
      "------------------------------------------------------------\n",
      "------------------------------------------------------------\n",
      "------------------------------------------------------------\n",
      "------------------------------------------------------------\n",
      "------------------------------------------------------------\n",
      "------------------------------------------------------------\n",
      "------------------------------------------------------------\n",
      "------------------------------------------------------------\n",
      "------------------------------------------------------------\n",
      "------------------------------------------------------------\n",
      "------------------------------------------------------------\n",
      "------------------------------------------------------------\n",
      "------------------------------------------------------------\n",
      "------------------------------------------------------------\n",
      "------------------------------------------------------------\n",
      "------------------------------------------------------------\n",
      "------------------------------------------------------------\n",
      "------------------------------------------------------------\n",
      "------------------------------------------------------------\n",
      "------------------------------------------------------------\n",
      "------------------------------------------------------------\n",
      "------------------------------------------------------------\n",
      "------------------------------------------------------------\n",
      "------------------------------------------------------------\n",
      "------------------------------------------------------------\n",
      "------------------------------------------------------------\n",
      "------------------------------------------------------------\n",
      "------------------------------------------------------------\n",
      "------------------------------------------------------------\n",
      "------------------------------------------------------------\n",
      "------------------------------------------------------------\n",
      "------------------------------------------------------------\n",
      "------------------------------------------------------------\n",
      "------------------------------------------------------------\n",
      "------------------------------------------------------------\n",
      "------------------------------------------------------------\n",
      "------------------------------------------------------------\n",
      "------------------------------------------------------------\n",
      "------------------------------------------------------------\n",
      "------------------------------------------------------------\n",
      "------------------------------------------------------------\n",
      "------------------------------------------------------------\n",
      "------------------------------------------------------------\n",
      "------------------------------------------------------------\n",
      "------------------------------------------------------------\n",
      "------------------------------------------------------------\n",
      "------------------------------------------------------------\n",
      "------------------------------------------------------------\n",
      "------------------------------------------------------------\n",
      "------------------------------------------------------------\n",
      "------------------------------------------------------------\n",
      "------------------------------------------------------------\n",
      "------------------------------------------------------------\n",
      "------------------------------------------------------------\n",
      "------------------------------------------------------------\n",
      "------------------------------------------------------------\n",
      "------------------------------------------------------------\n",
      "------------------------------------------------------------\n",
      "------------------------------------------------------------\n",
      "------------------------------------------------------------\n",
      "------------------------------------------------------------\n",
      "------------------------------------------------------------\n",
      "------------------------------------------------------------\n",
      "------------------------------------------------------------\n",
      "------------------------------------------------------------\n",
      "------------------------------------------------------------\n",
      "------------------------------------------------------------\n",
      "------------------------------------------------------------\n",
      "------------------------------------------------------------\n",
      "------------------------------------------------------------\n",
      "------------------------------------------------------------\n",
      "------------------------------------------------------------\n",
      "------------------------------------------------------------\n",
      "------------------------------------------------------------\n",
      "------------------------------------------------------------\n",
      "------------------------------------------------------------\n",
      "------------------------------------------------------------\n",
      "------------------------------------------------------------\n",
      "------------------------------------------------------------\n",
      "------------------------------------------------------------\n",
      "------------------------------------------------------------\n",
      "------------------------------------------------------------\n",
      "------------------------------------------------------------\n",
      "------------------------------------------------------------\n",
      "------------------------------------------------------------\n",
      "------------------------------------------------------------\n",
      "------------------------------------------------------------\n"
     ]
    },
    {
     "name": "stdout",
     "output_type": "stream",
     "text": [
      "------------------------------------------------------------\n",
      "------------------------------------------------------------\n",
      "------------------------------------------------------------\n",
      "------------------------------------------------------------\n",
      "------------------------------------------------------------\n",
      "------------------------------------------------------------\n",
      "------------------------------------------------------------\n",
      "------------------------------------------------------------\n",
      "------------------------------------------------------------\n",
      "------------------------------------------------------------\n",
      "------------------------------------------------------------\n",
      "------------------------------------------------------------\n",
      "------------------------------------------------------------\n",
      "------------------------------------------------------------\n",
      "------------------------------------------------------------\n",
      "------------------------------------------------------------\n",
      "------------------------------------------------------------\n",
      "------------------------------------------------------------\n",
      "------------------------------------------------------------\n",
      "------------------------------------------------------------\n",
      "------------------------------------------------------------\n",
      "------------------------------------------------------------\n",
      "------------------------------------------------------------\n",
      "------------------------------------------------------------\n",
      "------------------------------------------------------------\n",
      "------------------------------------------------------------\n",
      "------------------------------------------------------------\n",
      "------------------------------------------------------------\n",
      "------------------------------------------------------------\n",
      "------------------------------------------------------------\n",
      "------------------------------------------------------------\n",
      "------------------------------------------------------------\n",
      "------------------------------------------------------------\n",
      "------------------------------------------------------------\n",
      "------------------------------------------------------------\n",
      "------------------------------------------------------------\n",
      "------------------------------------------------------------\n",
      "------------------------------------------------------------\n",
      "------------------------------------------------------------\n",
      "------------------------------------------------------------\n",
      "------------------------------------------------------------\n",
      "------------------------------------------------------------\n",
      "------------------------------------------------------------\n",
      "------------------------------------------------------------\n",
      "------------------------------------------------------------\n",
      "------------------------------------------------------------\n",
      "------------------------------------------------------------\n",
      "------------------------------------------------------------\n",
      "------------------------------------------------------------\n",
      "------------------------------------------------------------\n",
      "------------------------------------------------------------\n",
      "------------------------------------------------------------\n",
      "------------------------------------------------------------\n",
      "------------------------------------------------------------\n",
      "------------------------------------------------------------\n",
      "------------------------------------------------------------\n",
      "------------------------------------------------------------\n",
      "------------------------------------------------------------\n",
      "------------------------------------------------------------\n",
      "------------------------------------------------------------\n",
      "------------------------------------------------------------\n",
      "------------------------------------------------------------\n",
      "------------------------------------------------------------\n",
      "------------------------------------------------------------\n",
      "------------------------------------------------------------\n",
      "------------------------------------------------------------\n",
      "------------------------------------------------------------\n",
      "------------------------------------------------------------\n",
      "------------------------------------------------------------\n",
      "------------------------------------------------------------\n",
      "------------------------------------------------------------\n",
      "------------------------------------------------------------\n",
      "------------------------------------------------------------\n",
      "------------------------------------------------------------\n",
      "------------------------------------------------------------\n",
      "------------------------------------------------------------\n",
      "------------------------------------------------------------\n",
      "------------------------------------------------------------\n",
      "------------------------------------------------------------\n",
      "------------------------------------------------------------\n",
      "------------------------------------------------------------\n",
      "------------------------------------------------------------\n",
      "------------------------------------------------------------\n",
      "------------------------------------------------------------\n",
      "------------------------------------------------------------\n",
      "------------------------------------------------------------\n",
      "------------------------------------------------------------\n",
      "------------------------------------------------------------\n",
      "------------------------------------------------------------\n",
      "------------------------------------------------------------\n",
      "------------------------------------------------------------\n",
      "------------------------------------------------------------\n",
      "------------------------------------------------------------\n",
      "------------------------------------------------------------\n",
      "------------------------------------------------------------\n",
      "------------------------------------------------------------\n",
      "------------------------------------------------------------\n",
      "------------------------------------------------------------\n",
      "------------------------------------------------------------\n",
      "------------------------------------------------------------\n",
      "------------------------------------------------------------\n",
      "------------------------------------------------------------\n",
      "------------------------------------------------------------\n",
      "------------------------------------------------------------\n",
      "------------------------------------------------------------\n",
      "------------------------------------------------------------\n",
      "------------------------------------------------------------\n",
      "------------------------------------------------------------\n",
      "------------------------------------------------------------\n",
      "------------------------------------------------------------\n",
      "------------------------------------------------------------\n",
      "------------------------------------------------------------\n",
      "------------------------------------------------------------\n",
      "------------------------------------------------------------\n",
      "------------------------------------------------------------\n",
      "------------------------------------------------------------\n",
      "------------------------------------------------------------\n",
      "------------------------------------------------------------\n",
      "------------------------------------------------------------\n",
      "------------------------------------------------------------\n",
      "------------------------------------------------------------\n",
      "------------------------------------------------------------\n",
      "------------------------------------------------------------\n",
      "------------------------------------------------------------\n",
      "------------------------------------------------------------\n",
      "------------------------------------------------------------\n",
      "------------------------------------------------------------\n",
      "------------------------------------------------------------\n",
      "------------------------------------------------------------\n",
      "------------------------------------------------------------\n",
      "------------------------------------------------------------\n",
      "------------------------------------------------------------\n",
      "------------------------------------------------------------\n",
      "------------------------------------------------------------\n",
      "------------------------------------------------------------\n"
     ]
    },
    {
     "name": "stdout",
     "output_type": "stream",
     "text": [
      "------------------------------------------------------------\n",
      "------------------------------------------------------------\n",
      "------------------------------------------------------------\n",
      "------------------------------------------------------------\n",
      "------------------------------------------------------------\n",
      "------------------------------------------------------------\n",
      "------------------------------------------------------------\n",
      "------------------------------------------------------------\n",
      "------------------------------------------------------------\n",
      "------------------------------------------------------------\n",
      "------------------------------------------------------------\n",
      "------------------------------------------------------------\n",
      "------------------------------------------------------------\n",
      "------------------------------------------------------------\n",
      "------------------------------------------------------------\n",
      "------------------------------------------------------------\n",
      "------------------------------------------------------------\n",
      "------------------------------------------------------------\n",
      "------------------------------------------------------------\n",
      "------------------------------------------------------------\n",
      "------------------------------------------------------------\n",
      "------------------------------------------------------------\n",
      "------------------------------------------------------------\n",
      "------------------------------------------------------------\n",
      "------------------------------------------------------------\n",
      "------------------------------------------------------------\n",
      "------------------------------------------------------------\n",
      "------------------------------------------------------------\n",
      "------------------------------------------------------------\n",
      "------------------------------------------------------------\n",
      "------------------------------------------------------------\n",
      "------------------------------------------------------------\n",
      "------------------------------------------------------------\n",
      "------------------------------------------------------------\n",
      "------------------------------------------------------------\n",
      "------------------------------------------------------------\n",
      "------------------------------------------------------------\n",
      "------------------------------------------------------------\n",
      "------------------------------------------------------------\n",
      "------------------------------------------------------------\n",
      "------------------------------------------------------------\n",
      "------------------------------------------------------------\n",
      "------------------------------------------------------------\n",
      "------------------------------------------------------------\n",
      "------------------------------------------------------------\n",
      "------------------------------------------------------------\n",
      "------------------------------------------------------------\n",
      "------------------------------------------------------------\n",
      "------------------------------------------------------------\n",
      "------------------------------------------------------------\n",
      "------------------------------------------------------------\n",
      "------------------------------------------------------------\n",
      "------------------------------------------------------------\n",
      "------------------------------------------------------------\n",
      "------------------------------------------------------------\n",
      "------------------------------------------------------------\n",
      "------------------------------------------------------------\n",
      "------------------------------------------------------------\n",
      "------------------------------------------------------------\n",
      "------------------------------------------------------------\n",
      "------------------------------------------------------------\n",
      "------------------------------------------------------------\n",
      "------------------------------------------------------------\n",
      "------------------------------------------------------------\n",
      "------------------------------------------------------------\n",
      "------------------------------------------------------------\n",
      "------------------------------------------------------------\n",
      "------------------------------------------------------------\n",
      "------------------------------------------------------------\n",
      "------------------------------------------------------------\n",
      "------------------------------------------------------------\n",
      "------------------------------------------------------------\n",
      "------------------------------------------------------------\n",
      "------------------------------------------------------------\n",
      "------------------------------------------------------------\n"
     ]
    }
   ],
   "source": [
    "my_dict = {\"LearningRate\": [], \"Max_Depth\":[], \"Num_Parallel_Tree\":[], \"Gamma\":[],\n",
    "           \"Train_AUC\": [], \"Test_AUC\": [], \"Train_3rd_DC\": [], \"Test_3rd_DC\": []};\n",
    "for i in [0.19, 0.195, 0.2, 0.21]:\n",
    "    for j in [4, 5, 6, 7]:\n",
    "        for k in [2, 4, 5, 6, 7]:\n",
    "            for l in [70, 75, 80, 85, 90, 95]:\n",
    "                try:\n",
    "                    eta, md, npt, gam, train_res, test_res, train_3rd_cap, test_3rd_cap = best_result(i, j, k, l, train, test)\n",
    "                    my_dict[\"LearningRate\"].append(eta)\n",
    "                    my_dict[\"Max_Depth\"].append(md)\n",
    "                    my_dict[\"Num_Parallel_Tree\"].append(npt)\n",
    "                    my_dict[\"Gamma\"].append(gam)\n",
    "                    my_dict[\"Train_AUC\"].append(train_res)\n",
    "                    my_dict[\"Test_AUC\"].append(test_res)\n",
    "                    my_dict[\"Train_3rd_DC\"].append(train_3rd_cap)\n",
    "                    my_dict[\"Test_3rd_DC\"].append(test_3rd_cap)\n",
    "#                     print(my_dict)\n",
    "                except:\n",
    "                    pass\n",
    "\n",
    "                print(\"------------------------------------------------------------\")\n"
   ]
  },
  {
   "cell_type": "code",
   "execution_count": null,
   "id": "acbb17a0",
   "metadata": {},
   "outputs": [],
   "source": [
    "my_dict"
   ]
  },
  {
   "cell_type": "code",
   "execution_count": null,
   "id": "931a4036",
   "metadata": {
    "scrolled": true
   },
   "outputs": [],
   "source": [
    "# pd.DataFrame(my_dict).to_excel('output_v1.2.xlsx', index = False)"
   ]
  },
  {
   "cell_type": "code",
   "execution_count": null,
   "id": "5e139e40",
   "metadata": {},
   "outputs": [],
   "source": [
    "\n",
    "# X_validation_prob = list(xgb_cl.predict_proba(X_validation)[:,1])\n",
    "\n",
    "\n",
    "# validation['Prob_score_XGB'] = X_validation_prob\n",
    "\n",
    "\n",
    "# print(\"ROC AUC Score for validation:\", roc_auc_score(y_validation, X_validation_prob) * 100)\n"
   ]
  },
  {
   "cell_type": "code",
   "execution_count": null,
   "id": "af630342",
   "metadata": {},
   "outputs": [],
   "source": []
  },
  {
   "cell_type": "code",
   "execution_count": null,
   "id": "a58d7a47",
   "metadata": {
    "scrolled": true
   },
   "outputs": [],
   "source": [
    "feat_imp = pd.DataFrame.from_dict(zip(list(X_train.columns), xgb_cl.feature_importances_*100)).sort_values(by = 1, ascending = False)\n",
    "# feat_imp.to_excel('feature_imp_xgb.xlsx', index = False)\n",
    "feat_imp"
   ]
  },
  {
   "cell_type": "code",
   "execution_count": null,
   "id": "08d0a7f6",
   "metadata": {},
   "outputs": [],
   "source": [
    "feat_imp[0].values"
   ]
  },
  {
   "cell_type": "code",
   "execution_count": null,
   "id": "a56bf7d8",
   "metadata": {},
   "outputs": [],
   "source": [
    "# print()\n",
    "print(\"ROC AUC Score for train:\", roc_auc_score(y_train, y_pred_xg1) * 100)\n",
    "print(\"ROC AUC Score for test:\", roc_auc_score(y_test, y_pred_xg) * 100)\n",
    "# print(\"ROC AUC Score for valid:\", roc_auc_score(y_validation, y_pred_xg_v) * 100)"
   ]
  },
  {
   "cell_type": "code",
   "execution_count": null,
   "id": "9baccdb2",
   "metadata": {},
   "outputs": [],
   "source": [
    "# xg_train_ks.to_csv('xgboost_ks_train.csv', index = False)\n",
    "xg_train_ks.reset_index()['cum_eventrate'][2]"
   ]
  },
  {
   "cell_type": "code",
   "execution_count": null,
   "id": "9361afcb",
   "metadata": {},
   "outputs": [],
   "source": [
    "# xg_test_ks.to_csv('xgboost_ks_test.csv', index = False)\n",
    "xg_test_ks"
   ]
  },
  {
   "cell_type": "code",
   "execution_count": null,
   "id": "a145fec5",
   "metadata": {},
   "outputs": [],
   "source": [
    "# xg_validation_ks.to_csv('xgboost_ks_validation.csv', index = False)\n",
    "# xg_validation_ks"
   ]
  },
  {
   "cell_type": "code",
   "execution_count": null,
   "id": "04fb2fe5",
   "metadata": {},
   "outputs": [],
   "source": []
  },
  {
   "cell_type": "code",
   "execution_count": null,
   "id": "84595539",
   "metadata": {},
   "outputs": [],
   "source": []
  },
  {
   "cell_type": "code",
   "execution_count": null,
   "id": "02409758",
   "metadata": {},
   "outputs": [],
   "source": []
  },
  {
   "cell_type": "code",
   "execution_count": null,
   "id": "0d68bd1c",
   "metadata": {},
   "outputs": [],
   "source": []
  },
  {
   "cell_type": "code",
   "execution_count": null,
   "id": "cbfe080e",
   "metadata": {},
   "outputs": [],
   "source": []
  }
 ],
 "metadata": {
  "kernelspec": {
   "display_name": "Python 3 (ipykernel)",
   "language": "python",
   "name": "python3"
  },
  "language_info": {
   "codemirror_mode": {
    "name": "ipython",
    "version": 3
   },
   "file_extension": ".py",
   "mimetype": "text/x-python",
   "name": "python",
   "nbconvert_exporter": "python",
   "pygments_lexer": "ipython3",
   "version": "3.10.9"
  }
 },
 "nbformat": 4,
 "nbformat_minor": 5
}

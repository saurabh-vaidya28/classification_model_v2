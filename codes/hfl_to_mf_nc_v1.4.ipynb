{
 "cells": [
  {
   "cell_type": "code",
   "execution_count": 1,
   "id": "13019234",
   "metadata": {},
   "outputs": [],
   "source": [
    "import numpy as np\n",
    "import pandas as pd\n",
    "import matplotlib.pyplot as plt\n",
    "%matplotlib inline\n",
    "import seaborn as sns\n",
    "\n",
    "import warnings\n",
    "warnings.simplefilter(action='ignore', category=FutureWarning)\n",
    "warnings.filterwarnings(\"ignore\")\n",
    "\n",
    "pd.set_option('display.max_rows', 500)\n",
    "pd.set_option('display.max_columns', 500)"
   ]
  },
  {
   "cell_type": "code",
   "execution_count": 2,
   "id": "6f37a176",
   "metadata": {},
   "outputs": [],
   "source": [
    "import math\n",
    "import re\n",
    "import requests\n",
    "import random"
   ]
  },
  {
   "cell_type": "code",
   "execution_count": 3,
   "id": "374041c1",
   "metadata": {},
   "outputs": [],
   "source": [
    "from sklearn import preprocessing\n",
    "from sklearn.model_selection import train_test_split\n",
    "from sklearn.preprocessing import StandardScaler\n",
    "from sklearn.linear_model import LogisticRegression\n",
    "from sklearn import svm\n",
    "from sklearn.neighbors import KNeighborsClassifier\n",
    "from sklearn.tree import DecisionTreeClassifier\n",
    "from sklearn.ensemble import RandomForestClassifier\n",
    "from sklearn.naive_bayes import GaussianNB\n",
    "from xgboost import XGBClassifier\n",
    "from sklearn.svm import SVC\n",
    "from sklearn.ensemble import BaggingClassifier"
   ]
  },
  {
   "cell_type": "code",
   "execution_count": 4,
   "id": "76c7d247",
   "metadata": {},
   "outputs": [],
   "source": [
    "\n",
    "from sklearn.metrics import accuracy_score\n",
    "from sklearn.metrics import recall_score\n",
    "from sklearn.metrics import precision_score\n",
    "from sklearn.metrics import f1_score\n",
    "from sklearn.metrics import jaccard_score\n",
    "from sklearn.metrics import log_loss\n",
    "from sklearn.metrics import roc_auc_score\n",
    "from sklearn.metrics import classification_report, confusion_matrix\n",
    "from sklearn.metrics import ConfusionMatrixDisplay,plot_confusion_matrix\n",
    "from sklearn.model_selection import GridSearchCV\n",
    "import itertools"
   ]
  },
  {
   "cell_type": "code",
   "execution_count": 5,
   "id": "42748d25",
   "metadata": {},
   "outputs": [],
   "source": [
    "df_train = pd.read_csv(r'C:\\Users\\saurabh.vaidya\\CROSS-SELL\\NON_CIBIL\\Train.csv',sep=',',encoding='utf-8',parse_dates=True)\n",
    "df_test = pd.read_csv(r'C:\\Users\\saurabh.vaidya\\CROSS-SELL\\NON_CIBIL\\Test.csv',sep=',',encoding='utf-8',parse_dates=True)\n",
    "# df_validation = pd.read_csv(r'C:\\Users\\saurabh.vaidya\\37TH_NAP_NEW\\Validation_with_cibil_v2.csv',sep=',',encoding='utf-8',parse_dates=True)"
   ]
  },
  {
   "cell_type": "code",
   "execution_count": 6,
   "id": "5c21ac63",
   "metadata": {},
   "outputs": [
    {
     "name": "stdout",
     "output_type": "stream",
     "text": [
      "Shape of train: (15846, 41)\n",
      "Shape of test: (6791, 41)\n"
     ]
    }
   ],
   "source": [
    "print(\"Shape of train:\", df_train.shape)\n",
    "print(\"Shape of test:\", df_test.shape)\n",
    "# print(\"Shape of validation\", df_validation.shape)"
   ]
  },
  {
   "cell_type": "code",
   "execution_count": 7,
   "id": "804a32d8",
   "metadata": {
    "scrolled": true
   },
   "outputs": [
    {
     "name": "stdout",
     "output_type": "stream",
     "text": [
      "<class 'pandas.core.frame.DataFrame'>\n",
      "RangeIndex: 15846 entries, 0 to 15845\n",
      "Data columns (total 41 columns):\n",
      " #   Column                       Non-Null Count  Dtype  \n",
      "---  ------                       --------------  -----  \n",
      " 0   RESIDENTIAL_STATUS           15846 non-null  object \n",
      " 1   INCOME_SLAB                  15846 non-null  float64\n",
      " 2   NUMBER_OF_DEPENDENT          15846 non-null  float64\n",
      " 3   HFL_CHANNEL                  15846 non-null  object \n",
      " 4   HFL_STATUS                   15846 non-null  object \n",
      " 5   LOAN_SECTOR_TYPE             15846 non-null  object \n",
      " 6   LOAN_REPAYMENT_MODE          15846 non-null  object \n",
      " 7   SUB_SCHEME                   15846 non-null  object \n",
      " 8   PRODUCT_DESC                 15846 non-null  object \n",
      " 9   LOAN_STATUS                  15846 non-null  object \n",
      " 10  INT_TYPE                     15846 non-null  object \n",
      " 11  INSTALLMENT_TYPE             15846 non-null  object \n",
      " 12  ROI                          15846 non-null  float64\n",
      " 13  LOAN_TENURE                  15846 non-null  float64\n",
      " 14  LOAN_RATE_METHOD             15846 non-null  object \n",
      " 15  SCHEME                       15846 non-null  object \n",
      " 16  PORTFOLIO_DESC               15846 non-null  object \n",
      " 17  TENURE_REMAINING             15846 non-null  float64\n",
      " 18  DAYS_TILL_FIRST_DISBURSAL    15846 non-null  float64\n",
      " 19  CUSTOMER_STATUS              15846 non-null  object \n",
      " 20  TOTAL_PRINCIPAL_OUTSTANDING  15846 non-null  float64\n",
      " 21  NPA_STATUS                   15846 non-null  object \n",
      " 22  LAST_DISBURSED_AMOUNT        15846 non-null  float64\n",
      " 23  HFL_LOAN_COUNT               15846 non-null  float64\n",
      " 24  TOTAL_DISBURSED_AMOUNT       15846 non-null  float64\n",
      " 25  CURR_LOAN_VINTAGE            15846 non-null  float64\n",
      " 26  VINTAGE                      15846 non-null  float64\n",
      " 27  RECENCY                      15846 non-null  float64\n",
      " 28  PRINCIPAL_OUTSTANDING        15846 non-null  float64\n",
      " 29  EDU_DETAIL                   15846 non-null  object \n",
      " 30  TIER                         15846 non-null  object \n",
      " 31  YEARS_LEFT_FOR_RETIREMENT    15846 non-null  float64\n",
      " 32  NATIONALITY                  15846 non-null  object \n",
      " 33  MARITAL_STATUS               15846 non-null  object \n",
      " 34  CUSTOMER_CATEGORY            15846 non-null  object \n",
      " 35  HFL_AGE                      15846 non-null  float64\n",
      " 36  CUSTOMER_TYPE                15846 non-null  object \n",
      " 37  MF_TARGET                    15846 non-null  int64  \n",
      " 38  ABC_ASSOCIATION              15846 non-null  int64  \n",
      " 39  APPLICANT_TYPE               15846 non-null  object \n",
      " 40  CUSTOMER_CONSTITUTION        15846 non-null  object \n",
      "dtypes: float64(16), int64(2), object(23)\n",
      "memory usage: 5.0+ MB\n"
     ]
    }
   ],
   "source": [
    "df_train.info()"
   ]
  },
  {
   "cell_type": "code",
   "execution_count": 8,
   "id": "3ff82270",
   "metadata": {},
   "outputs": [],
   "source": [
    "df_train['ABC_ASSOCIATION_NEW'] = df_train['ABC_ASSOCIATION'] - df_train['MF_TARGET']\n",
    "df_test['ABC_ASSOCIATION_NEW'] = df_test['ABC_ASSOCIATION'] - df_test['MF_TARGET']"
   ]
  },
  {
   "cell_type": "markdown",
   "id": "9c5e75c4",
   "metadata": {},
   "source": [
    "### IV"
   ]
  },
  {
   "cell_type": "code",
   "execution_count": 9,
   "id": "bf938eff",
   "metadata": {},
   "outputs": [],
   "source": [
    "def iv_woe(data, target, bins, show_woe=False):\n",
    "    \n",
    "    #Empty Dataframe\n",
    "    newDF,woeDF = pd.DataFrame(), pd.DataFrame()\n",
    "    \n",
    "    #Extract Column Names\n",
    "    cols = data.columns\n",
    "    \n",
    "    #Run WOE and IV on all the independent variables\n",
    "    for ivars in cols[~cols.isin([target])]:\n",
    "        if (data[ivars].dtype.kind in 'bifc') and (len(np.unique(data[ivars]))>10):\n",
    "            binned_x = pd.qcut(data[ivars], bins,  duplicates='drop')\n",
    "            d0 = pd.DataFrame({'x': binned_x, 'y': data[target]})\n",
    "        else:\n",
    "            d0 = pd.DataFrame({'x': data[ivars], 'y': data[target]})\n",
    "        d = d0.groupby(\"x\", as_index=False).agg({\"y\": [\"count\", \"sum\"]})\n",
    "        d.columns = ['Cutoff', 'N', 'Events']\n",
    "        d['% of Events'] = np.maximum(d['Events'], 0.5) / d['Events'].sum()\n",
    "        d['Non-Events'] = d['N'] - d['Events']\n",
    "        d['% of Non-Events'] = np.maximum(d['Non-Events'], 0.5) / d['Non-Events'].sum()\n",
    "        d['WoE'] = np.log(d['% of Events']/d['% of Non-Events'])\n",
    "        d['IV'] = d['WoE'] * (d['% of Events'] - d['% of Non-Events'])\n",
    "        d.insert(loc=0, column='Variable', value=ivars)\n",
    "        print(\"Information value of \" + ivars + \" is \" + str(round(d['IV'].sum(),6)))\n",
    "        temp =pd.DataFrame({\"Variable\" : [ivars], \"IV\" : [d['IV'].sum()]}, columns = [\"Variable\", \"IV\"])\n",
    "        newDF=pd.concat([newDF,temp], axis=0)\n",
    "        woeDF=pd.concat([woeDF,d], axis=0)\n",
    "\n",
    "        #Show WOE Table\n",
    "        if show_woe == True:\n",
    "            print(d)\n",
    "    return newDF, woeDF"
   ]
  },
  {
   "cell_type": "code",
   "execution_count": 10,
   "id": "0db1e8d8",
   "metadata": {
    "scrolled": true
   },
   "outputs": [],
   "source": [
    "# iv, woe = iv_woe(data = df_train, target = 'MF_TARGET', bins = 4, show_woe = True)"
   ]
  },
  {
   "cell_type": "code",
   "execution_count": 11,
   "id": "4e3b106e",
   "metadata": {},
   "outputs": [],
   "source": [
    "# iv.to_excel('IV.xlsx', index = False)"
   ]
  },
  {
   "cell_type": "markdown",
   "id": "0e90a2e9",
   "metadata": {},
   "source": [
    "### VIF"
   ]
  },
  {
   "cell_type": "code",
   "execution_count": 12,
   "id": "937daf53",
   "metadata": {},
   "outputs": [],
   "source": [
    "from statsmodels.stats.outliers_influence import variance_inflation_factor\n",
    "\n",
    "def calc_vif(df1):\n",
    "\n",
    "    # Calculating VIF\n",
    "    vif = pd.DataFrame()\n",
    "    vif[\"variables\"] = df1.columns\n",
    "    vif[\"VIF\"] = [float(format(variance_inflation_factor(df1.values, i),'f') )for i in range(df1.shape[1])]\n",
    "\n",
    "    return(vif)"
   ]
  },
  {
   "cell_type": "code",
   "execution_count": 13,
   "id": "19abeedd",
   "metadata": {},
   "outputs": [],
   "source": [
    "df2 = df_train._get_numeric_data()"
   ]
  },
  {
   "cell_type": "code",
   "execution_count": 14,
   "id": "fac0cf7e",
   "metadata": {},
   "outputs": [],
   "source": [
    "# df2 = df2.drop(columns = 'INCOME')"
   ]
  },
  {
   "cell_type": "code",
   "execution_count": 15,
   "id": "215cfbde",
   "metadata": {},
   "outputs": [],
   "source": [
    "# VIF=calc_vif(df2)"
   ]
  },
  {
   "cell_type": "code",
   "execution_count": 16,
   "id": "b78e8710",
   "metadata": {
    "scrolled": true
   },
   "outputs": [],
   "source": [
    "# VIF.sort_values('VIF',ascending=False)"
   ]
  },
  {
   "cell_type": "code",
   "execution_count": 17,
   "id": "3fd17a31",
   "metadata": {},
   "outputs": [],
   "source": [
    "# VIF.to_csv('VIF.csv', index = False)"
   ]
  },
  {
   "cell_type": "code",
   "execution_count": 18,
   "id": "5186bf74",
   "metadata": {},
   "outputs": [],
   "source": [
    "# cols2 = VIF[VIF['VIF'] < 15]['variables'].to_list()\n",
    "\n",
    "# df3 = df2[cols2].copy()\n",
    "# VIF2=calc_vif(df3)"
   ]
  },
  {
   "cell_type": "code",
   "execution_count": 19,
   "id": "2a7b66f6",
   "metadata": {},
   "outputs": [],
   "source": [
    "# VIF2.to_csv('VIF2.csv', index = False)"
   ]
  },
  {
   "cell_type": "code",
   "execution_count": 20,
   "id": "351ed7a2",
   "metadata": {
    "scrolled": true
   },
   "outputs": [],
   "source": [
    "# VIF2.sort_values('VIF',ascending=False)"
   ]
  },
  {
   "cell_type": "code",
   "execution_count": 21,
   "id": "f6f1f78f",
   "metadata": {},
   "outputs": [],
   "source": [
    "# cols3 = VIF2[VIF2['VIF'] < 5]['variables'].to_list()\n",
    "\n",
    "# df4 = df3[cols3].copy()\n",
    "# VIF3=calc_vif(df4)"
   ]
  },
  {
   "cell_type": "code",
   "execution_count": 22,
   "id": "c704073c",
   "metadata": {
    "scrolled": true
   },
   "outputs": [],
   "source": [
    "# VIF3.sort_values('VIF',ascending=False)"
   ]
  },
  {
   "cell_type": "markdown",
   "id": "deafdfd5",
   "metadata": {},
   "source": [
    "### Chi-Square Test"
   ]
  },
  {
   "cell_type": "code",
   "execution_count": 23,
   "id": "d7c48b44",
   "metadata": {},
   "outputs": [],
   "source": [
    "# catg = df_train.select_dtypes(include=['object'])"
   ]
  },
  {
   "cell_type": "code",
   "execution_count": 24,
   "id": "511d3674",
   "metadata": {
    "scrolled": true
   },
   "outputs": [],
   "source": [
    "# from scipy.stats import chi2_contingency\n",
    "# #Chi-square test of independence.\n",
    "# p_value = []\n",
    "\n",
    "# for col in catg.columns:\n",
    "#     contigency= pd.crosstab('TARGET_37', catg[col])\n",
    "#     c, p, dof, expected = chi2_contingency(contigency, correction=False)\n",
    "    \n",
    "#     print(col)\n",
    "#     if p > 0.05: \n",
    "#         print(\"p_value: \",round(p,3))\n",
    "#         h0 = \"Accept H0\"\n",
    "#         print(h0)\n",
    "#     else:\n",
    "#         print(\"p_value: \",round(p,3))\n",
    "#         h0 = \"Reject H0\"\n",
    "#         print(h0)\n",
    "#     print()\n",
    "    \n",
    "#     p_value.append(\n",
    "#         {\n",
    "#             'VARIABLE': col,\n",
    "#             'P-VALUE': p,\n",
    "#             'H0': h0\n",
    "#         }\n",
    "#     )"
   ]
  },
  {
   "cell_type": "code",
   "execution_count": 25,
   "id": "5a3434f5",
   "metadata": {},
   "outputs": [],
   "source": [
    "# p_value1 = pd.DataFrame(p_value)"
   ]
  },
  {
   "cell_type": "code",
   "execution_count": 26,
   "id": "f3f8599c",
   "metadata": {},
   "outputs": [],
   "source": [
    "# p_value1.to_csv('p_value1.csv', index = False)"
   ]
  },
  {
   "cell_type": "markdown",
   "id": "58569332",
   "metadata": {},
   "source": [
    "### Information Gain"
   ]
  },
  {
   "cell_type": "code",
   "execution_count": 27,
   "id": "aa953bcd",
   "metadata": {},
   "outputs": [],
   "source": [
    "def calc_entropy(column):\n",
    "    \"\"\"\n",
    "    Calculate entropy given a series, list, or numpy array.\n",
    "    \"\"\"\n",
    "    # Compute the counts of each given value in the column\n",
    "    counts = np.bincount(column)\n",
    "    # Divide by the total column length to get a probability\n",
    "    probabilities = counts / len(column)\n",
    "    \n",
    "    # Initialize the entropy to 0\n",
    "    entropy = 0\n",
    "    # Loop through the probabilities, and add each one to the total entropy\n",
    "    for prob in probabilities:\n",
    "        if prob > 0:\n",
    "            # use log from math and set base to 2\n",
    "            entropy += prob * math.log(prob, 2)\n",
    "    \n",
    "    return -entropy"
   ]
  },
  {
   "cell_type": "code",
   "execution_count": 28,
   "id": "0dcde03e",
   "metadata": {},
   "outputs": [],
   "source": [
    "def calc_information_gain(data, split_name, target_name):\n",
    "    \"\"\"\n",
    "    Calculate information gain given a data set, column to split on and target.\n",
    "    \"\"\"\n",
    "    # Calculate the original entropy\n",
    "    original_entropy = calc_entropy(data[target_name])\n",
    "    \n",
    "    # Find the unique values in the column\n",
    "    values = data[split_name].unique()\n",
    "    \n",
    "    # Make two subsets of the data, based on the unique values\n",
    "#     print(data[data[split_name] == values[0]])\n",
    "#     print()\n",
    "#     print(data[data[split_name] == values[1]])\n",
    "\n",
    "    print(split_name, ':', values)\n",
    "    left_split = (data[data[split_name] == values[0]])\n",
    "    right_split = (data[data[split_name] == values[1]])\n",
    "    \n",
    "    # Loop through the splits and calculate the subset entropies\n",
    "    to_subtract = 0\n",
    "    for subset in [left_split, right_split]:\n",
    "        prob = (subset.shape[0] / data.shape[0])\n",
    "        to_subtract += prob * calc_entropy(subset[target_name])\n",
    "        \n",
    "    # Return information gain\n",
    "    return original_entropy - to_subtract"
   ]
  },
  {
   "cell_type": "code",
   "execution_count": 29,
   "id": "3127fc8d",
   "metadata": {
    "scrolled": true
   },
   "outputs": [],
   "source": [
    "# inf_gain = []\n",
    "\n",
    "# for i in df_train.columns:\n",
    "#     try:\n",
    "#         inf = calc_information_gain(df_train, i, 'MF_TARGET')\n",
    "#     except:\n",
    "#         inf = \"error\"\n",
    "        \n",
    "#     inf_gain.append({\n",
    "#         'VARIABLE': i,\n",
    "#         'Information Gain': inf\n",
    "#     })\n",
    "\n",
    "# df_inf_gain = pd.DataFrame(inf_gain)\n",
    "# df_inf_gain.to_excel('IG.xlsx', index = False)\n",
    "# df_inf_gain.head()"
   ]
  },
  {
   "cell_type": "code",
   "execution_count": 30,
   "id": "57db03b7",
   "metadata": {},
   "outputs": [],
   "source": [
    "model_var = [\n",
    "    'RESIDENTIAL_STATUS', #CATG\n",
    "    'HFL_CHANNEL', #CATG\n",
    "    'HFL_STATUS', #CATG\n",
    "    'LOAN_REPAYMENT_MODE', #CATG\n",
    "    'PRODUCT_DESC', #CATG\n",
    "    'LOAN_TENURE', #NUM\n",
    "    'PORTFOLIO_DESC', #CATG\n",
    "    'DAYS_TILL_FIRST_DISBURSAL', #NUM\n",
    "    'TOTAL_DISBURSED_AMOUNT', #NUM\n",
    "    'EDU_DETAIL', #CATG\n",
    "    'TIER', #CATG\n",
    "    'CUSTOMER_CATEGORY', #CATG\n",
    "    'CUSTOMER_TYPE', #CATG\n",
    "]"
   ]
  },
  {
   "cell_type": "code",
   "execution_count": 31,
   "id": "a07a0a0d",
   "metadata": {},
   "outputs": [],
   "source": [
    "# import scorecardpy as sc\n",
    "# appended_data = []\n",
    "# for col in model_var:\n",
    "#     Max = df_train[[col, 'TARGET_37']]\n",
    "#     Max_Del = sc.woebin(Max, y = 'TARGET_37')\n",
    "#     new = Max_Del[col]\n",
    "#     # store DataFrame in list\n",
    "#     appended_data.append(new)\n",
    "\n",
    "# appended_data = pd.concat(appended_data)\n",
    "\n",
    "# appended_data.to_excel('WOE_BIN.xlsx', index = False)"
   ]
  },
  {
   "cell_type": "markdown",
   "id": "98b3d755",
   "metadata": {},
   "source": [
    "### WOE Binning"
   ]
  },
  {
   "cell_type": "code",
   "execution_count": 32,
   "id": "9459be1c",
   "metadata": {},
   "outputs": [],
   "source": [
    "num_biv = pd.read_excel(r'C:\\Users\\saurabh.vaidya\\CROSS-SELL\\NON_CIBIL\\model_v1\\bivariate\\numerical_bi_variate.xlsx')"
   ]
  },
  {
   "cell_type": "code",
   "execution_count": 33,
   "id": "e9080e23",
   "metadata": {
    "scrolled": true
   },
   "outputs": [
    {
     "data": {
      "text/html": [
       "<div>\n",
       "<style scoped>\n",
       "    .dataframe tbody tr th:only-of-type {\n",
       "        vertical-align: middle;\n",
       "    }\n",
       "\n",
       "    .dataframe tbody tr th {\n",
       "        vertical-align: top;\n",
       "    }\n",
       "\n",
       "    .dataframe thead th {\n",
       "        text-align: right;\n",
       "    }\n",
       "</style>\n",
       "<table border=\"1\" class=\"dataframe\">\n",
       "  <thead>\n",
       "    <tr style=\"text-align: right;\">\n",
       "      <th></th>\n",
       "      <th>variable</th>\n",
       "      <th>bin</th>\n",
       "      <th>good</th>\n",
       "      <th>bad</th>\n",
       "      <th>count</th>\n",
       "      <th>percentage</th>\n",
       "    </tr>\n",
       "  </thead>\n",
       "  <tbody>\n",
       "    <tr>\n",
       "      <th>0</th>\n",
       "      <td>RESIDENTIAL_STATUS</td>\n",
       "      <td>NRI%,%RI%,%PIO</td>\n",
       "      <td>12073</td>\n",
       "      <td>1162</td>\n",
       "      <td>13235</td>\n",
       "      <td>0.088</td>\n",
       "    </tr>\n",
       "    <tr>\n",
       "      <th>1</th>\n",
       "      <td>RESIDENTIAL_STATUS</td>\n",
       "      <td>RESIDENT</td>\n",
       "      <td>2255</td>\n",
       "      <td>356</td>\n",
       "      <td>2611</td>\n",
       "      <td>0.136</td>\n",
       "    </tr>\n",
       "    <tr>\n",
       "      <th>2</th>\n",
       "      <td>INCOME_SLAB</td>\n",
       "      <td>[-inf,13000.0)</td>\n",
       "      <td>775</td>\n",
       "      <td>123</td>\n",
       "      <td>898</td>\n",
       "      <td>0.137</td>\n",
       "    </tr>\n",
       "    <tr>\n",
       "      <th>3</th>\n",
       "      <td>INCOME_SLAB</td>\n",
       "      <td>[13000.0,27000.0)</td>\n",
       "      <td>2162</td>\n",
       "      <td>261</td>\n",
       "      <td>2423</td>\n",
       "      <td>0.108</td>\n",
       "    </tr>\n",
       "    <tr>\n",
       "      <th>4</th>\n",
       "      <td>INCOME_SLAB</td>\n",
       "      <td>[27000.0,35000.0)</td>\n",
       "      <td>7515</td>\n",
       "      <td>639</td>\n",
       "      <td>8154</td>\n",
       "      <td>0.078</td>\n",
       "    </tr>\n",
       "  </tbody>\n",
       "</table>\n",
       "</div>"
      ],
      "text/plain": [
       "             variable                bin   good   bad  count  percentage\n",
       "0  RESIDENTIAL_STATUS     NRI%,%RI%,%PIO  12073  1162  13235       0.088\n",
       "1  RESIDENTIAL_STATUS           RESIDENT   2255   356   2611       0.136\n",
       "2         INCOME_SLAB     [-inf,13000.0)    775   123    898       0.137\n",
       "3         INCOME_SLAB  [13000.0,27000.0)   2162   261   2423       0.108\n",
       "4         INCOME_SLAB  [27000.0,35000.0)   7515   639   8154       0.078"
      ]
     },
     "execution_count": 33,
     "metadata": {},
     "output_type": "execute_result"
    }
   ],
   "source": [
    "num_biv.head()"
   ]
  },
  {
   "cell_type": "code",
   "execution_count": 34,
   "id": "a3d5867e",
   "metadata": {},
   "outputs": [],
   "source": [
    "def find(text):\n",
    "    str1 = text\n",
    "\n",
    "    return (str1.translate({ord(i): None for i in '%'}))"
   ]
  },
  {
   "cell_type": "code",
   "execution_count": 35,
   "id": "44e48212",
   "metadata": {},
   "outputs": [],
   "source": [
    "num_biv['bin'] = num_biv.apply(lambda x: find(x['bin']), axis=1)"
   ]
  },
  {
   "cell_type": "markdown",
   "id": "2bff5665",
   "metadata": {},
   "source": [
    "### NUMERICAL VARIABLE BINNING"
   ]
  },
  {
   "cell_type": "code",
   "execution_count": 36,
   "id": "eee3d9c8",
   "metadata": {},
   "outputs": [],
   "source": [
    "def num_label(row, col, conditions):\n",
    "    if len(conditions) == 3:\n",
    "        if (row[col] < conditions[0]):\n",
    "            return 0\n",
    "        elif (conditions[0] <= row[col]) & (row[col] < conditions[1]):\n",
    "            return 1\n",
    "        elif (conditions[1] <= row[col]) & (row[col] < conditions[2]):\n",
    "            return 2\n",
    "        else:\n",
    "            return 3\n",
    "        \n",
    "    elif len(conditions) == 4:\n",
    "        if (row[col] < conditions[0]):\n",
    "            return 0\n",
    "        elif (conditions[0] <= row[col]) & (row[col] < conditions[1]):\n",
    "            return 1\n",
    "        elif (conditions[1] <= row[col]) & (row[col] < conditions[2]):\n",
    "            return 2\n",
    "        elif (conditions[2] <= row[col]) & (row[col] < conditions[3]):\n",
    "            return 3\n",
    "        else:\n",
    "            return 4\n",
    "    \n",
    "    elif len(conditions) == 5:\n",
    "        if (row[col] < conditions[0]):\n",
    "            return 0\n",
    "        elif (conditions[0] <= row[col]) & (row[col] < conditions[1]):\n",
    "            return 1\n",
    "        elif (conditions[1] <= row[col]) & (row[col] < conditions[2]):\n",
    "            return 2\n",
    "        elif (conditions[2] <= row[col]) & (row[col] < conditions[3]):\n",
    "            return 3\n",
    "        elif (conditions[3] <= row[col]) & (row[col] < conditions[4]):\n",
    "            return 4\n",
    "        else:\n",
    "            return 5\n",
    "    \n",
    "    else:\n",
    "        return 'NONE'\n",
    "        \n",
    "def catg_bin(row, col, num_biv):\n",
    "    num_biv_1 = num_biv[num_biv['variable'] == col].reset_index(drop = True)\n",
    "    conditions = []\n",
    "    for i in num_biv_1.index:\n",
    "        conditions.append(float(num_biv_1['bin'][i][1:-1].split(',')[1]))\n",
    "    conditions = conditions[:-1]\n",
    "    print(conditions)\n",
    "    row[col + str('_BIN')] = row.apply(lambda row: num_label(row, col, conditions), axis=1)\n",
    "    return row"
   ]
  },
  {
   "cell_type": "code",
   "execution_count": 37,
   "id": "e80ffa43",
   "metadata": {},
   "outputs": [
    {
     "name": "stdout",
     "output_type": "stream",
     "text": [
      "[50.0, 200.0, 290.0, 340.0]\n",
      "[50.0, 200.0, 290.0, 340.0]\n"
     ]
    }
   ],
   "source": [
    "df_train = catg_bin(df_train, 'LOAN_TENURE', num_biv)\n",
    "df_test = catg_bin(df_test, 'LOAN_TENURE', num_biv)\n",
    "# df_validation = catg_bin(df_validation, 'LOAN_TENURE', num_biv)"
   ]
  },
  {
   "cell_type": "code",
   "execution_count": 38,
   "id": "9b42c9f2",
   "metadata": {},
   "outputs": [
    {
     "data": {
      "text/plain": [
       "2    8253\n",
       "1    3513\n",
       "4    2286\n",
       "3     905\n",
       "0     889\n",
       "Name: LOAN_TENURE_BIN, dtype: int64"
      ]
     },
     "execution_count": 38,
     "metadata": {},
     "output_type": "execute_result"
    }
   ],
   "source": [
    "df_train['LOAN_TENURE_BIN'].value_counts()"
   ]
  },
  {
   "cell_type": "code",
   "execution_count": 39,
   "id": "8c7b390e",
   "metadata": {},
   "outputs": [],
   "source": [
    "df_train['LOAN_TENURE_BIN'].mask(df_train['LOAN_TENURE_BIN'] == 3, 2, inplace = True)\n",
    "df_test['LOAN_TENURE_BIN'].mask(df_test['LOAN_TENURE_BIN'] == 3, 2, inplace = True)\n",
    "# df_validation['LOAN_TENURE_BIN'].mask(df_validation['LOAN_TENURE_BIN'] == 3, 2, inplace = True)\n"
   ]
  },
  {
   "cell_type": "code",
   "execution_count": 40,
   "id": "9653ec80",
   "metadata": {},
   "outputs": [
    {
     "data": {
      "text/plain": [
       "2    9158\n",
       "1    3513\n",
       "4    2286\n",
       "0     889\n",
       "Name: LOAN_TENURE_BIN, dtype: int64"
      ]
     },
     "execution_count": 40,
     "metadata": {},
     "output_type": "execute_result"
    }
   ],
   "source": [
    "df_train['LOAN_TENURE_BIN'].value_counts()"
   ]
  },
  {
   "cell_type": "code",
   "execution_count": 41,
   "id": "ced78eae",
   "metadata": {},
   "outputs": [
    {
     "name": "stdout",
     "output_type": "stream",
     "text": [
      "[12.0, 14.0, 18.0]\n",
      "[12.0, 14.0, 18.0]\n"
     ]
    }
   ],
   "source": [
    "df_train = catg_bin(df_train, 'DAYS_TILL_FIRST_DISBURSAL', num_biv)\n",
    "df_test = catg_bin(df_test, 'DAYS_TILL_FIRST_DISBURSAL', num_biv)\n",
    "# df_validation = catg_bin(df_validation, 'DAYS_TILL_FIRST_DISBURSAL', num_biv)"
   ]
  },
  {
   "cell_type": "code",
   "execution_count": 42,
   "id": "eb85621d",
   "metadata": {},
   "outputs": [
    {
     "data": {
      "text/plain": [
       "0    5541\n",
       "3    5042\n",
       "1    4286\n",
       "2     977\n",
       "Name: DAYS_TILL_FIRST_DISBURSAL_BIN, dtype: int64"
      ]
     },
     "execution_count": 42,
     "metadata": {},
     "output_type": "execute_result"
    }
   ],
   "source": [
    "df_train['DAYS_TILL_FIRST_DISBURSAL_BIN'].value_counts()"
   ]
  },
  {
   "cell_type": "code",
   "execution_count": 43,
   "id": "a41b797f",
   "metadata": {},
   "outputs": [],
   "source": [
    "df_train['DAYS_TILL_FIRST_DISBURSAL_BIN'].mask(df_train['DAYS_TILL_FIRST_DISBURSAL_BIN'] == 0, 1, inplace = True)\n",
    "df_test['DAYS_TILL_FIRST_DISBURSAL_BIN'].mask(df_test['DAYS_TILL_FIRST_DISBURSAL_BIN'] == 0, 1, inplace = True)\n",
    "# df_validation['DAYS_TILL_FIRST_DISBURSAL_BIN'].mask(df_validation['DAYS_TILL_FIRST_DISBURSAL_BIN'] == 0, 1, inplace = True)\n"
   ]
  },
  {
   "cell_type": "code",
   "execution_count": 44,
   "id": "00e3aee1",
   "metadata": {},
   "outputs": [
    {
     "data": {
      "text/plain": [
       "1    9827\n",
       "3    5042\n",
       "2     977\n",
       "Name: DAYS_TILL_FIRST_DISBURSAL_BIN, dtype: int64"
      ]
     },
     "execution_count": 44,
     "metadata": {},
     "output_type": "execute_result"
    }
   ],
   "source": [
    "df_train['DAYS_TILL_FIRST_DISBURSAL_BIN'].value_counts()"
   ]
  },
  {
   "cell_type": "code",
   "execution_count": 45,
   "id": "c6fe8ead",
   "metadata": {},
   "outputs": [
    {
     "name": "stdout",
     "output_type": "stream",
     "text": [
      "[1700000.0, 1900000.0, 2100000.0, 3800000.0, 5600000.0]\n",
      "[1700000.0, 1900000.0, 2100000.0, 3800000.0, 5600000.0]\n"
     ]
    }
   ],
   "source": [
    "df_train = catg_bin(df_train, 'TOTAL_DISBURSED_AMOUNT', num_biv)\n",
    "df_test = catg_bin(df_test, 'TOTAL_DISBURSED_AMOUNT', num_biv)\n",
    "# df_validation = catg_bin(df_validation, 'TOTAL_DISBURSED_AMOUNT', num_biv)"
   ]
  },
  {
   "cell_type": "code",
   "execution_count": 46,
   "id": "d062f801",
   "metadata": {},
   "outputs": [
    {
     "data": {
      "text/plain": [
       "0    6135\n",
       "3    3308\n",
       "1    2900\n",
       "5    1516\n",
       "4    1058\n",
       "2     929\n",
       "Name: TOTAL_DISBURSED_AMOUNT_BIN, dtype: int64"
      ]
     },
     "execution_count": 46,
     "metadata": {},
     "output_type": "execute_result"
    }
   ],
   "source": [
    "df_train['TOTAL_DISBURSED_AMOUNT_BIN'].value_counts()"
   ]
  },
  {
   "cell_type": "code",
   "execution_count": 47,
   "id": "5f1b0feb",
   "metadata": {},
   "outputs": [],
   "source": [
    "df_train['TOTAL_DISBURSED_AMOUNT_BIN'].mask(df_train['TOTAL_DISBURSED_AMOUNT_BIN'] == 0, 1, inplace = True)\n",
    "df_test['TOTAL_DISBURSED_AMOUNT_BIN'].mask(df_test['TOTAL_DISBURSED_AMOUNT_BIN'] == 0, 1, inplace = True)\n",
    "# df_validation['TOTAL_DISBURSED_AMOUNT_BIN'].mask(df_validation['TOTAL_DISBURSED_AMOUNT_BIN'] == 0, 1, inplace = True)\n"
   ]
  },
  {
   "cell_type": "code",
   "execution_count": 48,
   "id": "076e45bd",
   "metadata": {},
   "outputs": [
    {
     "data": {
      "text/plain": [
       "1    9035\n",
       "3    3308\n",
       "5    1516\n",
       "4    1058\n",
       "2     929\n",
       "Name: TOTAL_DISBURSED_AMOUNT_BIN, dtype: int64"
      ]
     },
     "execution_count": 48,
     "metadata": {},
     "output_type": "execute_result"
    }
   ],
   "source": [
    "df_train['TOTAL_DISBURSED_AMOUNT_BIN'].value_counts()"
   ]
  },
  {
   "cell_type": "markdown",
   "id": "ac770559",
   "metadata": {},
   "source": [
    "### CATEGORICAL VARIABLE BINNING "
   ]
  },
  {
   "cell_type": "code",
   "execution_count": 49,
   "id": "1bd4ea45",
   "metadata": {},
   "outputs": [],
   "source": [
    "def label(row, col, conditions):\n",
    "    for i in range(len(conditions)):\n",
    "        if row[col] in conditions[i]:\n",
    "            return 'Group' + str(i)\n",
    "        \n",
    "    \n",
    "def catg_bin(row, col, num_biv):\n",
    "    num_biv_1 = num_biv[num_biv['variable'] == col].reset_index(drop = True)\n",
    "    conditions = []\n",
    "    for i in num_biv_1.index:\n",
    "        conditions.append(num_biv_1['bin'][i].split(','))\n",
    "    \n",
    "    print(conditions)\n",
    "    row[col + str('_BIN')] = row.apply(lambda row: label(row, col, conditions), axis=1)\n",
    "    return row"
   ]
  },
  {
   "cell_type": "code",
   "execution_count": 50,
   "id": "7415d41e",
   "metadata": {},
   "outputs": [
    {
     "name": "stdout",
     "output_type": "stream",
     "text": [
      "[['UC BT', 'INDUSTRIAL', 'LAP RESI INSURANCE', 'LOAN AGAINST PLOT COMMERCIAL', 'U C BT AND EXTENSION', 'LOAN AGAINST PROPERTY INFORMAL PLOT RESIDENTIAL', 'LOAN AGAINST PROPERTY RESIDENTIAL', 'LAP COMM INSURANCE', 'EXTENSION', 'REFINANCE', 'COMM VACANT', 'COMM LET OUT', 'REPAIR AND RENOVATION', 'BT RENOVATION', 'RESI VACANT', 'CONSTRUCTION LOAN', 'LAND AND PROJECT CONSTRUCTION LOAN', 'BT', 'INSURANCE', 'PLOT CONSTRUCTION', 'BUILDER PURCHASE'], ['SELF CONSTRUCTION', 'PLOT AND HOME CONSTRUCTION LOAN', 'HOME CONSTRUCTION LOAN', 'RESALE PURCHASE', 'HOME IMPROVEMENT LOAN', 'BT AND TOP UP', 'HOME EXTENSION LOAN', 'PLOT  HOME CONSTRUCTION LOAN'], ['TOP UP', 'HL FIXED FOR 5 YRS', 'HOME LOAN PURCHASE', 'LOAN AGAINST PLOT RESIDENTIAL', 'PLOT PURCHASE LOAN', 'PLOT PURCHASE', 'SOCP'], ['NEW', 'RESIDENTIAL', 'COMMERCIAL', 'RESI LET OUT', 'PROJECT CONSTRUCTION COST']]\n",
      "[['UC BT', 'INDUSTRIAL', 'LAP RESI INSURANCE', 'LOAN AGAINST PLOT COMMERCIAL', 'U C BT AND EXTENSION', 'LOAN AGAINST PROPERTY INFORMAL PLOT RESIDENTIAL', 'LOAN AGAINST PROPERTY RESIDENTIAL', 'LAP COMM INSURANCE', 'EXTENSION', 'REFINANCE', 'COMM VACANT', 'COMM LET OUT', 'REPAIR AND RENOVATION', 'BT RENOVATION', 'RESI VACANT', 'CONSTRUCTION LOAN', 'LAND AND PROJECT CONSTRUCTION LOAN', 'BT', 'INSURANCE', 'PLOT CONSTRUCTION', 'BUILDER PURCHASE'], ['SELF CONSTRUCTION', 'PLOT AND HOME CONSTRUCTION LOAN', 'HOME CONSTRUCTION LOAN', 'RESALE PURCHASE', 'HOME IMPROVEMENT LOAN', 'BT AND TOP UP', 'HOME EXTENSION LOAN', 'PLOT  HOME CONSTRUCTION LOAN'], ['TOP UP', 'HL FIXED FOR 5 YRS', 'HOME LOAN PURCHASE', 'LOAN AGAINST PLOT RESIDENTIAL', 'PLOT PURCHASE LOAN', 'PLOT PURCHASE', 'SOCP'], ['NEW', 'RESIDENTIAL', 'COMMERCIAL', 'RESI LET OUT', 'PROJECT CONSTRUCTION COST']]\n"
     ]
    }
   ],
   "source": [
    "df_train = catg_bin(df_train, 'SCHEME', num_biv)\n",
    "df_test = catg_bin(df_test, 'SCHEME', num_biv)\n",
    "# df_validation = catg_bin(df_validation, 'SCHEME', num_biv)"
   ]
  },
  {
   "cell_type": "code",
   "execution_count": 51,
   "id": "8ff7a05b",
   "metadata": {},
   "outputs": [
    {
     "data": {
      "text/plain": [
       "Group2    10408\n",
       "Group3     2447\n",
       "Group1     2107\n",
       "Group0      884\n",
       "Name: SCHEME_BIN, dtype: int64"
      ]
     },
     "execution_count": 51,
     "metadata": {},
     "output_type": "execute_result"
    }
   ],
   "source": [
    "df_train['SCHEME_BIN'].value_counts()"
   ]
  },
  {
   "cell_type": "code",
   "execution_count": 52,
   "id": "f408b792",
   "metadata": {
    "scrolled": true
   },
   "outputs": [
    {
     "name": "stdout",
     "output_type": "stream",
     "text": [
      "[['HOME LOAN_PRIME RETAIL', 'MICRO CONSTRUCTION FINANCE', 'MICRO LAP_AFFORDABLE', 'HOME LOAN_AHF'], ['HOME LOAN'], ['LOAN AGAINST PROPERTY'], ['LAP_AHF', 'HOME LOAN_INFORMAL', 'COMMERCIAL PURCHASE (CP)', 'COMMERCIAL PROPERTY PURCHASE_AHF', 'CONSTRUCTION FINANCE', 'LOAN AGAINST PROPERTY_INFORMAL', 'LEASE RENTAL DISCOUNTING', 'CONSTRUCTION FINANCE INTERNAL']]\n",
      "[['HOME LOAN_PRIME RETAIL', 'MICRO CONSTRUCTION FINANCE', 'MICRO LAP_AFFORDABLE', 'HOME LOAN_AHF'], ['HOME LOAN'], ['LOAN AGAINST PROPERTY'], ['LAP_AHF', 'HOME LOAN_INFORMAL', 'COMMERCIAL PURCHASE (CP)', 'COMMERCIAL PROPERTY PURCHASE_AHF', 'CONSTRUCTION FINANCE', 'LOAN AGAINST PROPERTY_INFORMAL', 'LEASE RENTAL DISCOUNTING', 'CONSTRUCTION FINANCE INTERNAL']]\n"
     ]
    }
   ],
   "source": [
    "df_train = catg_bin(df_train, 'PRODUCT_DESC', num_biv)\n",
    "df_test = catg_bin(df_test, 'PRODUCT_DESC', num_biv)\n",
    "# df_validation = catg_bin(df_validation, 'PRODUCT_DESC', num_biv)"
   ]
  },
  {
   "cell_type": "code",
   "execution_count": 53,
   "id": "45e9466b",
   "metadata": {},
   "outputs": [
    {
     "data": {
      "text/plain": [
       "Group0    10295\n",
       "Group1     2662\n",
       "Group3     1998\n",
       "Group2      891\n",
       "Name: PRODUCT_DESC_BIN, dtype: int64"
      ]
     },
     "execution_count": 53,
     "metadata": {},
     "output_type": "execute_result"
    }
   ],
   "source": [
    "df_train['PRODUCT_DESC_BIN'].value_counts()"
   ]
  },
  {
   "cell_type": "code",
   "execution_count": 54,
   "id": "80a37443",
   "metadata": {},
   "outputs": [
    {
     "name": "stdout",
     "output_type": "stream",
     "text": [
      "[['NRI', 'RI', 'PIO'], ['RESIDENT']]\n",
      "[['NRI', 'RI', 'PIO'], ['RESIDENT']]\n"
     ]
    }
   ],
   "source": [
    "df_train = catg_bin(df_train, 'RESIDENTIAL_STATUS', num_biv)\n",
    "df_test = catg_bin(df_test, 'RESIDENTIAL_STATUS', num_biv)\n",
    "# df_validation = catg_bin(df_validation, 'RESIDENTIAL_STATUS', num_biv)"
   ]
  },
  {
   "cell_type": "code",
   "execution_count": 55,
   "id": "50c228d2",
   "metadata": {},
   "outputs": [
    {
     "data": {
      "text/plain": [
       "Group0    13235\n",
       "Group1     2611\n",
       "Name: RESIDENTIAL_STATUS_BIN, dtype: int64"
      ]
     },
     "execution_count": 55,
     "metadata": {},
     "output_type": "execute_result"
    }
   ],
   "source": [
    "df_train['RESIDENTIAL_STATUS_BIN'].value_counts()"
   ]
  },
  {
   "cell_type": "code",
   "execution_count": 56,
   "id": "a287193c",
   "metadata": {},
   "outputs": [],
   "source": [
    "df_train['RESIDENTIAL_STATUS_BIN'].replace({'Group0': 0, 'Group1': 1}, inplace = True)\n",
    "df_test['RESIDENTIAL_STATUS_BIN'].replace({'Group0': 0, 'Group1': 1}, inplace = True)\n",
    "# df_validation['RESIDENTIAL_STATUS_BIN'].replace({'Group0': 0, 'Group1': 1}, inplace = True)\n"
   ]
  },
  {
   "cell_type": "code",
   "execution_count": 57,
   "id": "8f550ba8",
   "metadata": {},
   "outputs": [
    {
     "data": {
      "text/plain": [
       "0    13235\n",
       "1     2611\n",
       "Name: RESIDENTIAL_STATUS_BIN, dtype: int64"
      ]
     },
     "execution_count": 57,
     "metadata": {},
     "output_type": "execute_result"
    }
   ],
   "source": [
    "df_train['RESIDENTIAL_STATUS_BIN'].value_counts()"
   ]
  },
  {
   "cell_type": "code",
   "execution_count": 58,
   "id": "2df80200",
   "metadata": {},
   "outputs": [
    {
     "name": "stdout",
     "output_type": "stream",
     "text": [
      "[['REFERRAL PARTNER', 'DIRECT'], ['(DSA)DIRECT SELLING AGENT']]\n",
      "[['REFERRAL PARTNER', 'DIRECT'], ['(DSA)DIRECT SELLING AGENT']]\n"
     ]
    }
   ],
   "source": [
    "df_train = catg_bin(df_train, 'HFL_CHANNEL', num_biv)\n",
    "df_test = catg_bin(df_test, 'HFL_CHANNEL', num_biv)\n",
    "# df_validation = catg_bin(df_validation, 'HFL_CHANNEL', num_biv)"
   ]
  },
  {
   "cell_type": "code",
   "execution_count": 59,
   "id": "0469f9d0",
   "metadata": {},
   "outputs": [
    {
     "data": {
      "text/plain": [
       "Group0    12608\n",
       "Group1     3238\n",
       "Name: HFL_CHANNEL_BIN, dtype: int64"
      ]
     },
     "execution_count": 59,
     "metadata": {},
     "output_type": "execute_result"
    }
   ],
   "source": [
    "df_train['HFL_CHANNEL_BIN'].value_counts()"
   ]
  },
  {
   "cell_type": "code",
   "execution_count": 60,
   "id": "9907b6b5",
   "metadata": {},
   "outputs": [],
   "source": [
    "df_train['HFL_CHANNEL_BIN'].replace({'Group0': 0, 'Group1': 1}, inplace = True)\n",
    "df_test['HFL_CHANNEL_BIN'].replace({'Group0': 0, 'Group1': 1}, inplace = True)\n",
    "# df_validation['HFL_CHANNEL_BIN'].replace({'Group0': 0, 'Group1': 1}, inplace = True)\n"
   ]
  },
  {
   "cell_type": "code",
   "execution_count": 61,
   "id": "5ec113b0",
   "metadata": {},
   "outputs": [
    {
     "data": {
      "text/plain": [
       "0    12608\n",
       "1     3238\n",
       "Name: HFL_CHANNEL_BIN, dtype: int64"
      ]
     },
     "execution_count": 61,
     "metadata": {},
     "output_type": "execute_result"
    }
   ],
   "source": [
    "df_train['HFL_CHANNEL_BIN'].value_counts()"
   ]
  },
  {
   "cell_type": "code",
   "execution_count": 62,
   "id": "fcdc4885",
   "metadata": {},
   "outputs": [
    {
     "name": "stdout",
     "output_type": "stream",
     "text": [
      "[['ACTIVE'], ['INACTIVE']]\n",
      "[['ACTIVE'], ['INACTIVE']]\n"
     ]
    }
   ],
   "source": [
    "df_train = catg_bin(df_train, 'HFL_STATUS', num_biv)\n",
    "df_test = catg_bin(df_test, 'HFL_STATUS', num_biv)\n",
    "# df_validation = catg_bin(df_validation, 'HFL_STATUS', num_biv)"
   ]
  },
  {
   "cell_type": "code",
   "execution_count": 63,
   "id": "b51335a2",
   "metadata": {},
   "outputs": [
    {
     "data": {
      "text/plain": [
       "Group0    12847\n",
       "Group1     2999\n",
       "Name: HFL_STATUS_BIN, dtype: int64"
      ]
     },
     "execution_count": 63,
     "metadata": {},
     "output_type": "execute_result"
    }
   ],
   "source": [
    "df_train['HFL_STATUS_BIN'].value_counts()"
   ]
  },
  {
   "cell_type": "code",
   "execution_count": 64,
   "id": "4302c0e1",
   "metadata": {},
   "outputs": [],
   "source": [
    "df_train['HFL_STATUS_BIN'].replace({'Group0': 0, 'Group1': 1}, inplace = True)\n",
    "df_test['HFL_STATUS_BIN'].replace({'Group0': 0, 'Group1': 1}, inplace = True)\n",
    "# df_validation['HFL_STATUS_BIN'].replace({'Group0': 0, 'Group1': 1}, inplace = True)\n"
   ]
  },
  {
   "cell_type": "code",
   "execution_count": 65,
   "id": "45c2e268",
   "metadata": {},
   "outputs": [
    {
     "data": {
      "text/plain": [
       "0    12847\n",
       "1     2999\n",
       "Name: HFL_STATUS_BIN, dtype: int64"
      ]
     },
     "execution_count": 65,
     "metadata": {},
     "output_type": "execute_result"
    }
   ],
   "source": [
    "df_train['HFL_STATUS_BIN'].value_counts()"
   ]
  },
  {
   "cell_type": "code",
   "execution_count": 66,
   "id": "3c0d55c4",
   "metadata": {},
   "outputs": [
    {
     "name": "stdout",
     "output_type": "stream",
     "text": [
      "[['PDC', 'ACH'], ['ECS']]\n",
      "[['PDC', 'ACH'], ['ECS']]\n"
     ]
    }
   ],
   "source": [
    "df_train = catg_bin(df_train, 'LOAN_REPAYMENT_MODE', num_biv)\n",
    "df_test = catg_bin(df_test, 'LOAN_REPAYMENT_MODE', num_biv)\n",
    "# df_validation = catg_bin(df_validation, 'LOAN_REPAYMENT_MODE', num_biv)"
   ]
  },
  {
   "cell_type": "code",
   "execution_count": 67,
   "id": "f665735b",
   "metadata": {},
   "outputs": [
    {
     "data": {
      "text/plain": [
       "Group0    14935\n",
       "Group1      911\n",
       "Name: LOAN_REPAYMENT_MODE_BIN, dtype: int64"
      ]
     },
     "execution_count": 67,
     "metadata": {},
     "output_type": "execute_result"
    }
   ],
   "source": [
    "df_train['LOAN_REPAYMENT_MODE_BIN'].value_counts()"
   ]
  },
  {
   "cell_type": "code",
   "execution_count": 68,
   "id": "95f71e0e",
   "metadata": {},
   "outputs": [],
   "source": [
    "df_train['LOAN_REPAYMENT_MODE_BIN'].replace({'Group0': 0, 'Group1': 1}, inplace = True)\n",
    "df_test['LOAN_REPAYMENT_MODE_BIN'].replace({'Group0': 0, 'Group1': 1}, inplace = True)\n",
    "# df_validation['LOAN_REPAYMENT_MODE_BIN'].replace({'Group0': 0, 'Group1': 1}, inplace = True)\n"
   ]
  },
  {
   "cell_type": "code",
   "execution_count": 69,
   "id": "882b1302",
   "metadata": {},
   "outputs": [
    {
     "data": {
      "text/plain": [
       "0    14935\n",
       "1      911\n",
       "Name: LOAN_REPAYMENT_MODE_BIN, dtype: int64"
      ]
     },
     "execution_count": 69,
     "metadata": {},
     "output_type": "execute_result"
    }
   ],
   "source": [
    "df_train['LOAN_REPAYMENT_MODE_BIN'].value_counts()"
   ]
  },
  {
   "cell_type": "code",
   "execution_count": 70,
   "id": "d950347f",
   "metadata": {},
   "outputs": [
    {
     "name": "stdout",
     "output_type": "stream",
     "text": [
      "[['MICRO CF', 'AFFORDABLE'], ['PRIME', 'INFRML', 'CF']]\n",
      "[['MICRO CF', 'AFFORDABLE'], ['PRIME', 'INFRML', 'CF']]\n"
     ]
    }
   ],
   "source": [
    "df_train = catg_bin(df_train, 'PORTFOLIO_DESC', num_biv)\n",
    "df_test = catg_bin(df_test, 'PORTFOLIO_DESC', num_biv)\n",
    "# df_validation = catg_bin(df_validation, 'PORTFOLIO_DESC', num_biv)"
   ]
  },
  {
   "cell_type": "code",
   "execution_count": 71,
   "id": "a43f01f2",
   "metadata": {},
   "outputs": [
    {
     "data": {
      "text/plain": [
       "Group0    11602\n",
       "Group1     4244\n",
       "Name: PORTFOLIO_DESC_BIN, dtype: int64"
      ]
     },
     "execution_count": 71,
     "metadata": {},
     "output_type": "execute_result"
    }
   ],
   "source": [
    "df_train['PORTFOLIO_DESC_BIN'].value_counts()"
   ]
  },
  {
   "cell_type": "code",
   "execution_count": 72,
   "id": "cbb13381",
   "metadata": {},
   "outputs": [],
   "source": [
    "df_train['PORTFOLIO_DESC_BIN'].replace({'Group0': 0, 'Group1': 1}, inplace = True)\n",
    "df_test['PORTFOLIO_DESC_BIN'].replace({'Group0': 0, 'Group1': 1}, inplace = True)\n",
    "# df_validation['PORTFOLIO_DESC_BIN'].replace({'Group0': 0, 'Group1': 1}, inplace = True)\n"
   ]
  },
  {
   "cell_type": "code",
   "execution_count": 73,
   "id": "948994c3",
   "metadata": {},
   "outputs": [
    {
     "data": {
      "text/plain": [
       "0    11602\n",
       "1     4244\n",
       "Name: PORTFOLIO_DESC_BIN, dtype: int64"
      ]
     },
     "execution_count": 73,
     "metadata": {},
     "output_type": "execute_result"
    }
   ],
   "source": [
    "df_train['PORTFOLIO_DESC_BIN'].value_counts()"
   ]
  },
  {
   "cell_type": "code",
   "execution_count": 74,
   "id": "7150488d",
   "metadata": {},
   "outputs": [
    {
     "name": "stdout",
     "output_type": "stream",
     "text": [
      "[['DOC', 'UP TO 9TH', 'HG_SCHOOL', 'MAT', '12TH', 'O', 'OTH', 'DPLM'], ['UG'], ['GRAD'], ['PG', 'PRO']]\n",
      "[['DOC', 'UP TO 9TH', 'HG_SCHOOL', 'MAT', '12TH', 'O', 'OTH', 'DPLM'], ['UG'], ['GRAD'], ['PG', 'PRO']]\n"
     ]
    }
   ],
   "source": [
    "df_train = catg_bin(df_train, 'EDU_DETAIL', num_biv)\n",
    "df_test = catg_bin(df_test, 'EDU_DETAIL', num_biv)\n",
    "# df_validation = catg_bin(df_validation, 'EDU_DETAIL', num_biv)"
   ]
  },
  {
   "cell_type": "code",
   "execution_count": 75,
   "id": "dc2174b6",
   "metadata": {},
   "outputs": [
    {
     "data": {
      "text/plain": [
       "Group2    7849\n",
       "Group1    3558\n",
       "Group0    2424\n",
       "Group3    2015\n",
       "Name: EDU_DETAIL_BIN, dtype: int64"
      ]
     },
     "execution_count": 75,
     "metadata": {},
     "output_type": "execute_result"
    }
   ],
   "source": [
    "df_train['EDU_DETAIL_BIN'].value_counts()"
   ]
  },
  {
   "cell_type": "code",
   "execution_count": 76,
   "id": "fabc2e89",
   "metadata": {},
   "outputs": [],
   "source": [
    "df_train['EDU_DETAIL_BIN'].replace({'Group0': 0, 'Group1': 1, 'Group2': 2, 'Group3': 3}, inplace = True)\n",
    "df_test['EDU_DETAIL_BIN'].replace({'Group0': 0, 'Group1': 1, 'Group2': 2, 'Group3': 3}, inplace = True)\n",
    "# df_validation['EDU_DETAIL_BIN'].replace({'Group0': 0, 'Group1': 1, 'Group2': 2, 'Group3': 3}, inplace = True)\n"
   ]
  },
  {
   "cell_type": "code",
   "execution_count": 77,
   "id": "767262f7",
   "metadata": {},
   "outputs": [
    {
     "data": {
      "text/plain": [
       "2    7849\n",
       "1    3558\n",
       "0    2424\n",
       "3    2015\n",
       "Name: EDU_DETAIL_BIN, dtype: int64"
      ]
     },
     "execution_count": 77,
     "metadata": {},
     "output_type": "execute_result"
    }
   ],
   "source": [
    "df_train['EDU_DETAIL_BIN'].value_counts()"
   ]
  },
  {
   "cell_type": "code",
   "execution_count": 78,
   "id": "ae969668",
   "metadata": {},
   "outputs": [
    {
     "name": "stdout",
     "output_type": "stream",
     "text": [
      "[['TIER3'], ['TIER2'], ['TIER1']]\n",
      "[['TIER3'], ['TIER2'], ['TIER1']]\n"
     ]
    }
   ],
   "source": [
    "df_train = catg_bin(df_train, 'TIER', num_biv)\n",
    "df_test = catg_bin(df_test, 'TIER', num_biv)\n",
    "# df_validation = catg_bin(df_validation, 'TIER', num_biv)"
   ]
  },
  {
   "cell_type": "code",
   "execution_count": 79,
   "id": "51e613cf",
   "metadata": {},
   "outputs": [
    {
     "data": {
      "text/plain": [
       "Group1    7739\n",
       "Group2    5376\n",
       "Group0    2731\n",
       "Name: TIER_BIN, dtype: int64"
      ]
     },
     "execution_count": 79,
     "metadata": {},
     "output_type": "execute_result"
    }
   ],
   "source": [
    "df_train['TIER_BIN'].value_counts()"
   ]
  },
  {
   "cell_type": "code",
   "execution_count": 80,
   "id": "41d6f94a",
   "metadata": {},
   "outputs": [],
   "source": [
    "df_train['TIER_BIN'].replace({'Group2': 0, 'Group1': 1, 'Group0': 2}, inplace = True)\n",
    "df_test['TIER_BIN'].replace({'Group2': 0, 'Group1': 1, 'Group0': 2}, inplace = True)\n",
    "# # df_validation['TIER_BIN'].replace({'Group2': 0, 'Group1': 1, 'Group0': 2}, inplace = True)\n"
   ]
  },
  {
   "cell_type": "code",
   "execution_count": 81,
   "id": "1245a00d",
   "metadata": {},
   "outputs": [
    {
     "data": {
      "text/plain": [
       "1    7739\n",
       "0    5376\n",
       "2    2731\n",
       "Name: TIER_BIN, dtype: int64"
      ]
     },
     "execution_count": 81,
     "metadata": {},
     "output_type": "execute_result"
    }
   ],
   "source": [
    "df_train['TIER_BIN'].value_counts()"
   ]
  },
  {
   "cell_type": "code",
   "execution_count": 82,
   "id": "03a3a17c",
   "metadata": {},
   "outputs": [
    {
     "name": "stdout",
     "output_type": "stream",
     "text": [
      "[['LOW'], ['HIGH', 'MEDIUM']]\n",
      "[['LOW'], ['HIGH', 'MEDIUM']]\n"
     ]
    }
   ],
   "source": [
    "df_train = catg_bin(df_train, 'CUSTOMER_CATEGORY', num_biv)\n",
    "df_test = catg_bin(df_test, 'CUSTOMER_CATEGORY', num_biv)\n",
    "# df_validation = catg_bin(df_validation, 'CUSTOMER_CATEGORY', num_biv)"
   ]
  },
  {
   "cell_type": "code",
   "execution_count": 83,
   "id": "f17e84d0",
   "metadata": {},
   "outputs": [
    {
     "data": {
      "text/plain": [
       "Group0    8689\n",
       "Group1    7157\n",
       "Name: CUSTOMER_CATEGORY_BIN, dtype: int64"
      ]
     },
     "execution_count": 83,
     "metadata": {},
     "output_type": "execute_result"
    }
   ],
   "source": [
    "df_train['CUSTOMER_CATEGORY_BIN'].value_counts()"
   ]
  },
  {
   "cell_type": "code",
   "execution_count": 84,
   "id": "c82b91e1",
   "metadata": {},
   "outputs": [],
   "source": [
    "df_train['CUSTOMER_CATEGORY_BIN'].replace({'Group0': 0, 'Group1': 1}, inplace = True)\n",
    "df_test['CUSTOMER_CATEGORY_BIN'].replace({'Group0': 0, 'Group1': 1}, inplace = True)\n",
    "# df_validation['CUSTOMER_CATEGORY_BIN'].replace({'Group0': 0, 'Group1': 1}, inplace = True)\n"
   ]
  },
  {
   "cell_type": "code",
   "execution_count": 85,
   "id": "77bae909",
   "metadata": {},
   "outputs": [
    {
     "data": {
      "text/plain": [
       "0    8689\n",
       "1    7157\n",
       "Name: CUSTOMER_CATEGORY_BIN, dtype: int64"
      ]
     },
     "execution_count": 85,
     "metadata": {},
     "output_type": "execute_result"
    }
   ],
   "source": [
    "df_train['CUSTOMER_CATEGORY_BIN'].value_counts()"
   ]
  },
  {
   "cell_type": "code",
   "execution_count": 86,
   "id": "4b2c9bf7",
   "metadata": {},
   "outputs": [
    {
     "name": "stdout",
     "output_type": "stream",
     "text": [
      "[['I'], ['C', 'INDIVIDUAL', 'CORPORATE']]\n",
      "[['I'], ['C', 'INDIVIDUAL', 'CORPORATE']]\n"
     ]
    }
   ],
   "source": [
    "df_train = catg_bin(df_train, 'CUSTOMER_TYPE', num_biv)\n",
    "df_test = catg_bin(df_test, 'CUSTOMER_TYPE', num_biv)\n",
    "# df_validation = catg_bin(df_validation, 'CUSTOMER_TYPE', num_biv)"
   ]
  },
  {
   "cell_type": "code",
   "execution_count": 87,
   "id": "23db1bcb",
   "metadata": {},
   "outputs": [
    {
     "data": {
      "text/plain": [
       "Group1    11688\n",
       "Group0     4158\n",
       "Name: CUSTOMER_TYPE_BIN, dtype: int64"
      ]
     },
     "execution_count": 87,
     "metadata": {},
     "output_type": "execute_result"
    }
   ],
   "source": [
    "df_train['CUSTOMER_TYPE_BIN'].value_counts()"
   ]
  },
  {
   "cell_type": "code",
   "execution_count": 88,
   "id": "3ca96557",
   "metadata": {},
   "outputs": [],
   "source": [
    "df_train['CUSTOMER_TYPE_BIN'].replace({'Group0': 0, 'Group1': 1}, inplace = True)\n",
    "df_test['CUSTOMER_TYPE_BIN'].replace({'Group0': 0, 'Group1': 1}, inplace = True)\n",
    "# df_validation['CUSTOMER_TYPE_BIN'].replace({'Group0': 0, 'Group1': 1}, inplace = True)\n"
   ]
  },
  {
   "cell_type": "code",
   "execution_count": 89,
   "id": "84ce1eb2",
   "metadata": {},
   "outputs": [
    {
     "data": {
      "text/plain": [
       "0    8689\n",
       "1    7157\n",
       "Name: CUSTOMER_CATEGORY_BIN, dtype: int64"
      ]
     },
     "execution_count": 89,
     "metadata": {},
     "output_type": "execute_result"
    }
   ],
   "source": [
    "df_train['CUSTOMER_CATEGORY_BIN'].value_counts()"
   ]
  },
  {
   "cell_type": "code",
   "execution_count": 90,
   "id": "da5e2621",
   "metadata": {},
   "outputs": [],
   "source": [
    "from sklearn.preprocessing import MinMaxScaler\n",
    "\n",
    "df_train['LOAN_TENURE'] = MinMaxScaler().fit_transform(np.array(df_train['LOAN_TENURE']).reshape(-1,1)) \n",
    "df_test['LOAN_TENURE'] = MinMaxScaler().fit_transform(np.array(df_test['LOAN_TENURE']).reshape(-1,1)) \n"
   ]
  },
  {
   "cell_type": "code",
   "execution_count": 91,
   "id": "f149e4cb",
   "metadata": {},
   "outputs": [],
   "source": [
    "df_train['DAYS_TILL_FIRST_DISBURSAL'] = MinMaxScaler().fit_transform(np.array(df_train['DAYS_TILL_FIRST_DISBURSAL']).reshape(-1,1)) \n",
    "df_test['DAYS_TILL_FIRST_DISBURSAL'] = MinMaxScaler().fit_transform(np.array(df_test['DAYS_TILL_FIRST_DISBURSAL']).reshape(-1,1)) \n"
   ]
  },
  {
   "cell_type": "code",
   "execution_count": 92,
   "id": "689d4bbe",
   "metadata": {},
   "outputs": [],
   "source": [
    "df_train['TOTAL_DISBURSED_AMOUNT'] = MinMaxScaler().fit_transform(np.array(df_train['TOTAL_DISBURSED_AMOUNT']).reshape(-1,1)) \n",
    "df_test['TOTAL_DISBURSED_AMOUNT'] = MinMaxScaler().fit_transform(np.array(df_test['TOTAL_DISBURSED_AMOUNT']).reshape(-1,1)) \n"
   ]
  },
  {
   "cell_type": "code",
   "execution_count": 93,
   "id": "135b6fa3",
   "metadata": {},
   "outputs": [],
   "source": [
    "train = df_train.copy()\n",
    "test = df_test.copy()\n",
    "# validation = df_validation.copy()"
   ]
  },
  {
   "cell_type": "markdown",
   "id": "e459c2bb",
   "metadata": {},
   "source": [
    "### Model Development"
   ]
  },
  {
   "cell_type": "code",
   "execution_count": 107,
   "id": "e98f8ccc",
   "metadata": {},
   "outputs": [],
   "source": [
    "df_train = train.copy()\n",
    "df_test = test.copy()\n",
    "# df_validation = validation.copy()"
   ]
  },
  {
   "cell_type": "code",
   "execution_count": 108,
   "id": "233bd13e",
   "metadata": {},
   "outputs": [],
   "source": [
    "model_var = [\n",
    "    'RESIDENTIAL_STATUS_BIN', #CATG\n",
    "    'HFL_CHANNEL_BIN', #CATG\n",
    "    'HFL_STATUS_BIN', #CATG\n",
    "#     'LOAN_REPAYMENT_MODE_BIN', #CATG\n",
    "    'PRODUCT_DESC_BIN', #CATG\n",
    "    'SCHEME_BIN', #CATG\n",
    "#     'LOAN_TENURE_BIN', #NUM\n",
    "    'LOAN_TENURE', #NUM\n",
    "    'PORTFOLIO_DESC_BIN', #CATG\n",
    "#     'DAYS_TILL_FIRST_DISBURSAL_BIN', #NUM\n",
    "#     'TOTAL_DISBURSED_AMOUNT_BIN', #NUM\n",
    "#     'DAYS_TILL_FIRST_DISBURSAL', #NUM\n",
    "    'TOTAL_DISBURSED_AMOUNT', #NUM\n",
    "    'EDU_DETAIL_BIN', #CATG\n",
    "    'TIER_BIN', #CATG\n",
    "    'CUSTOMER_CATEGORY_BIN', #CATG\n",
    "    'CUSTOMER_TYPE_BIN', #CATG\n",
    "    'PRINCIPAL_OUTSTANDING',\n",
    "    'ABC_ASSOCIATION_NEW'\n",
    "]"
   ]
  },
  {
   "cell_type": "code",
   "execution_count": 109,
   "id": "11eb87b9",
   "metadata": {},
   "outputs": [
    {
     "name": "stdout",
     "output_type": "stream",
     "text": [
      "Training set :  (15846, 20)\n",
      "Test set :  (6791, 20)\n"
     ]
    }
   ],
   "source": [
    "df_train1 = df_train[model_var]\n",
    "\n",
    "cat_vars = [i for i in df_train1.columns if df_train1[i].dtype == 'object']\n",
    "\n",
    "for var in cat_vars:\n",
    "    cat_list='var'+'_'+var\n",
    "    cat_list = pd.get_dummies(df_train1[var], prefix=var)\n",
    "    df_train1=df_train1.join(cat_list)\n",
    "    \n",
    "df_train1=df_train1.drop(cat_vars,axis=1)\n",
    "\n",
    "df_test1 = df_test[model_var]\n",
    "for var in cat_vars:\n",
    "    cat_list='var'+'_'+var\n",
    "    cat_list = pd.get_dummies(df_test1[var], prefix=var)\n",
    "    df_test1=df_test1.join(cat_list)\n",
    "    \n",
    "df_test1=df_test1.drop(cat_vars,axis=1)\n",
    "\n",
    "# df_validation1 = df_validation[model_var]\n",
    "# for var in cat_vars:\n",
    "#     cat_list='var'+'_'+var\n",
    "#     cat_list = pd.get_dummies(df_validation1[var], prefix=var)\n",
    "#     df_validation1=df_validation1.join(cat_list)\n",
    "    \n",
    "# df_validation1=df_validation1.drop(cat_vars,axis=1)\n",
    "\n",
    "\n",
    "print(\"Training set : \",df_train1.shape)\n",
    "print(\"Test set : \",df_test1.shape)\n",
    "# print(\"Validation set : \",df_validation1.shape)"
   ]
  },
  {
   "cell_type": "code",
   "execution_count": 110,
   "id": "8f636098",
   "metadata": {},
   "outputs": [
    {
     "name": "stdout",
     "output_type": "stream",
     "text": [
      "Shape of X_train:  (15846, 20)\n",
      "Shape of y_train:  (15846,)\n",
      "\n",
      "\n",
      "Shape of X_test:  (6791, 20)\n",
      "Shape of y_test:  (6791,)\n",
      "\n",
      "\n"
     ]
    }
   ],
   "source": [
    "X_train = df_train1.copy()\n",
    "y_train = df_train['MF_TARGET']\n",
    "print(\"Shape of X_train: \", X_train.shape)\n",
    "print(\"Shape of y_train: \", y_train.shape)\n",
    "print(\"\\n\")\n",
    "\n",
    "X_test = df_test1.copy()\n",
    "y_test = df_test['MF_TARGET']\n",
    "print(\"Shape of X_test: \", X_test.shape)\n",
    "print(\"Shape of y_test: \", y_test.shape)\n",
    "print(\"\\n\")\n",
    "\n",
    "# X_validation = df_validation1.copy()\n",
    "# y_validation = df_validation['MF_TARGET']\n",
    "# print(\"Shape of X_validation: \", X_validation.shape)\n",
    "# print(\"Shape of y_validation: \", y_validation.shape)\n",
    "# print(\"\\n\")\n"
   ]
  },
  {
   "cell_type": "code",
   "execution_count": 111,
   "id": "09dfe2a4",
   "metadata": {},
   "outputs": [
    {
     "data": {
      "text/plain": [
       "Index(['RESIDENTIAL_STATUS_BIN', 'HFL_CHANNEL_BIN', 'HFL_STATUS_BIN',\n",
       "       'LOAN_TENURE', 'PORTFOLIO_DESC_BIN', 'TOTAL_DISBURSED_AMOUNT',\n",
       "       'EDU_DETAIL_BIN', 'TIER_BIN', 'CUSTOMER_CATEGORY_BIN',\n",
       "       'CUSTOMER_TYPE_BIN', 'PRINCIPAL_OUTSTANDING', 'ABC_ASSOCIATION_NEW',\n",
       "       'PRODUCT_DESC_BIN_Group0', 'PRODUCT_DESC_BIN_Group1',\n",
       "       'PRODUCT_DESC_BIN_Group2', 'PRODUCT_DESC_BIN_Group3',\n",
       "       'SCHEME_BIN_Group0', 'SCHEME_BIN_Group1', 'SCHEME_BIN_Group2',\n",
       "       'SCHEME_BIN_Group3'],\n",
       "      dtype='object')"
      ]
     },
     "execution_count": 111,
     "metadata": {},
     "output_type": "execute_result"
    }
   ],
   "source": [
    "X_train.columns"
   ]
  },
  {
   "cell_type": "code",
   "execution_count": 112,
   "id": "ac5f6f77",
   "metadata": {},
   "outputs": [],
   "source": [
    "f_imp = [\n",
    "#         'PRODUCT_DESC_BIN_Group3', 'SCHEME_BIN_Group0',\n",
    "    'PORTFOLIO_DESC_BIN','SCHEME_BIN_Group2', 'SCHEME_BIN_Group0',\n",
    "       'ABC_ASSOCIATION_NEW', 'SCHEME_BIN_Group1',\n",
    "       'TOTAL_DISBURSED_AMOUNT', 'PRINCIPAL_OUTSTANDING',\n",
    "       'PRODUCT_DESC_BIN_Group2', 'RESIDENTIAL_STATUS_BIN', \n",
    "       'PRODUCT_DESC_BIN_Group1', 'PRODUCT_DESC_BIN_Group3',\n",
    "        'EDU_DETAIL_BIN',  'TIER_BIN', #CATG\n",
    "#        'EDU_DETAIL_BIN_Group0', 'EDU_DETAIL_BIN_Group2',\n",
    "#        'EDU_DETAIL_BIN_Group1', 'EDU_DETAIL_BIN_Group3',\n",
    "#         'HFL_CHANNEL_BIN', 'CUSTOMER_CATEGORY_BIN',\n",
    "#     'LOAN_TENURE',         'DAYS_TILL_FIRST_DISBURSAL',\n",
    "]"
   ]
  },
  {
   "cell_type": "code",
   "execution_count": 113,
   "id": "11609063",
   "metadata": {},
   "outputs": [],
   "source": [
    "X_train = X_train[f_imp]\n",
    "X_test = X_test[f_imp]"
   ]
  },
  {
   "cell_type": "code",
   "execution_count": 114,
   "id": "95862386",
   "metadata": {},
   "outputs": [],
   "source": [
    "# X_train.to_csv('X_train.csv', index = False)\n",
    "# y_train.to_csv('y_train.csv', index = False)"
   ]
  },
  {
   "cell_type": "code",
   "execution_count": 115,
   "id": "6fdfe0e1",
   "metadata": {},
   "outputs": [],
   "source": [
    "# X_test.to_csv('X_test.csv', index = False)\n",
    "# y_test.to_csv('y_test.csv', index = False)"
   ]
  },
  {
   "cell_type": "code",
   "execution_count": 116,
   "id": "5a614b0f",
   "metadata": {},
   "outputs": [
    {
     "data": {
      "text/html": [
       "<div>\n",
       "<style scoped>\n",
       "    .dataframe tbody tr th:only-of-type {\n",
       "        vertical-align: middle;\n",
       "    }\n",
       "\n",
       "    .dataframe tbody tr th {\n",
       "        vertical-align: top;\n",
       "    }\n",
       "\n",
       "    .dataframe thead th {\n",
       "        text-align: right;\n",
       "    }\n",
       "</style>\n",
       "<table border=\"1\" class=\"dataframe\">\n",
       "  <thead>\n",
       "    <tr style=\"text-align: right;\">\n",
       "      <th></th>\n",
       "      <th>PORTFOLIO_DESC_BIN</th>\n",
       "      <th>SCHEME_BIN_Group2</th>\n",
       "      <th>SCHEME_BIN_Group0</th>\n",
       "      <th>ABC_ASSOCIATION_NEW</th>\n",
       "      <th>SCHEME_BIN_Group1</th>\n",
       "      <th>TOTAL_DISBURSED_AMOUNT</th>\n",
       "      <th>PRINCIPAL_OUTSTANDING</th>\n",
       "      <th>PRODUCT_DESC_BIN_Group2</th>\n",
       "      <th>RESIDENTIAL_STATUS_BIN</th>\n",
       "      <th>PRODUCT_DESC_BIN_Group1</th>\n",
       "      <th>PRODUCT_DESC_BIN_Group3</th>\n",
       "      <th>EDU_DETAIL_BIN</th>\n",
       "      <th>TIER_BIN</th>\n",
       "    </tr>\n",
       "  </thead>\n",
       "  <tbody>\n",
       "    <tr>\n",
       "      <th>0</th>\n",
       "      <td>1</td>\n",
       "      <td>1</td>\n",
       "      <td>0</td>\n",
       "      <td>0</td>\n",
       "      <td>0</td>\n",
       "      <td>0.001339</td>\n",
       "      <td>0.00</td>\n",
       "      <td>0</td>\n",
       "      <td>0</td>\n",
       "      <td>1</td>\n",
       "      <td>0</td>\n",
       "      <td>2</td>\n",
       "      <td>2</td>\n",
       "    </tr>\n",
       "    <tr>\n",
       "      <th>1</th>\n",
       "      <td>0</td>\n",
       "      <td>1</td>\n",
       "      <td>0</td>\n",
       "      <td>0</td>\n",
       "      <td>0</td>\n",
       "      <td>0.000557</td>\n",
       "      <td>2086398.32</td>\n",
       "      <td>0</td>\n",
       "      <td>0</td>\n",
       "      <td>0</td>\n",
       "      <td>0</td>\n",
       "      <td>0</td>\n",
       "      <td>1</td>\n",
       "    </tr>\n",
       "    <tr>\n",
       "      <th>2</th>\n",
       "      <td>0</td>\n",
       "      <td>1</td>\n",
       "      <td>0</td>\n",
       "      <td>0</td>\n",
       "      <td>0</td>\n",
       "      <td>0.003447</td>\n",
       "      <td>0.00</td>\n",
       "      <td>0</td>\n",
       "      <td>0</td>\n",
       "      <td>0</td>\n",
       "      <td>0</td>\n",
       "      <td>2</td>\n",
       "      <td>1</td>\n",
       "    </tr>\n",
       "    <tr>\n",
       "      <th>3</th>\n",
       "      <td>0</td>\n",
       "      <td>0</td>\n",
       "      <td>0</td>\n",
       "      <td>0</td>\n",
       "      <td>1</td>\n",
       "      <td>0.000934</td>\n",
       "      <td>3967620.00</td>\n",
       "      <td>0</td>\n",
       "      <td>0</td>\n",
       "      <td>0</td>\n",
       "      <td>0</td>\n",
       "      <td>0</td>\n",
       "      <td>2</td>\n",
       "    </tr>\n",
       "    <tr>\n",
       "      <th>4</th>\n",
       "      <td>0</td>\n",
       "      <td>1</td>\n",
       "      <td>0</td>\n",
       "      <td>0</td>\n",
       "      <td>0</td>\n",
       "      <td>0.000269</td>\n",
       "      <td>1181949.44</td>\n",
       "      <td>0</td>\n",
       "      <td>0</td>\n",
       "      <td>0</td>\n",
       "      <td>0</td>\n",
       "      <td>1</td>\n",
       "      <td>1</td>\n",
       "    </tr>\n",
       "  </tbody>\n",
       "</table>\n",
       "</div>"
      ],
      "text/plain": [
       "   PORTFOLIO_DESC_BIN  SCHEME_BIN_Group2  SCHEME_BIN_Group0  \\\n",
       "0                   1                  1                  0   \n",
       "1                   0                  1                  0   \n",
       "2                   0                  1                  0   \n",
       "3                   0                  0                  0   \n",
       "4                   0                  1                  0   \n",
       "\n",
       "   ABC_ASSOCIATION_NEW  SCHEME_BIN_Group1  TOTAL_DISBURSED_AMOUNT  \\\n",
       "0                    0                  0                0.001339   \n",
       "1                    0                  0                0.000557   \n",
       "2                    0                  0                0.003447   \n",
       "3                    0                  1                0.000934   \n",
       "4                    0                  0                0.000269   \n",
       "\n",
       "   PRINCIPAL_OUTSTANDING  PRODUCT_DESC_BIN_Group2  RESIDENTIAL_STATUS_BIN  \\\n",
       "0                   0.00                        0                       0   \n",
       "1             2086398.32                        0                       0   \n",
       "2                   0.00                        0                       0   \n",
       "3             3967620.00                        0                       0   \n",
       "4             1181949.44                        0                       0   \n",
       "\n",
       "   PRODUCT_DESC_BIN_Group1  PRODUCT_DESC_BIN_Group3  EDU_DETAIL_BIN  TIER_BIN  \n",
       "0                        1                        0               2         2  \n",
       "1                        0                        0               0         1  \n",
       "2                        0                        0               2         1  \n",
       "3                        0                        0               0         2  \n",
       "4                        0                        0               1         1  "
      ]
     },
     "execution_count": 116,
     "metadata": {},
     "output_type": "execute_result"
    }
   ],
   "source": [
    "X_train.head()"
   ]
  },
  {
   "cell_type": "code",
   "execution_count": 117,
   "id": "79785658",
   "metadata": {},
   "outputs": [
    {
     "data": {
      "text/plain": [
       "Index(['PORTFOLIO_DESC_BIN', 'SCHEME_BIN_Group2', 'SCHEME_BIN_Group0',\n",
       "       'ABC_ASSOCIATION_NEW', 'SCHEME_BIN_Group1', 'TOTAL_DISBURSED_AMOUNT',\n",
       "       'PRINCIPAL_OUTSTANDING', 'PRODUCT_DESC_BIN_Group2',\n",
       "       'RESIDENTIAL_STATUS_BIN', 'PRODUCT_DESC_BIN_Group1',\n",
       "       'PRODUCT_DESC_BIN_Group3', 'EDU_DETAIL_BIN', 'TIER_BIN'],\n",
       "      dtype='object')"
      ]
     },
     "execution_count": 117,
     "metadata": {},
     "output_type": "execute_result"
    }
   ],
   "source": [
    "X_train.columns"
   ]
  },
  {
   "cell_type": "markdown",
   "id": "da7dba95",
   "metadata": {},
   "source": [
    "### XG Boost"
   ]
  },
  {
   "cell_type": "code",
   "execution_count": 141,
   "id": "081e0873",
   "metadata": {},
   "outputs": [],
   "source": [
    "import xgboost as xgb\n",
    "xgb_cl = xgb.XGBClassifier(objective='binary:logistic', booster='gbtree',learning_rate=0.21,max_depth=8,\n",
    "                               base_score=0.4, n_estimators=200, num_parallel_tree=3, eval_metric='auc',\n",
    "                               tree_method='hist', grow_policy='lossguide', scale_pos_weight = 9,\n",
    "                               gamma = 89, colsample_bytree = 0.5\n",
    "                              ).fit(X_train, y_train)\n",
    "\n",
    "y_pred_xg1 = xgb_cl.predict(X_train)\n",
    "y_pred_xg = xgb_cl.predict(X_test)\n",
    "\n",
    "X_train_prob = list(xgb_cl.predict_proba(X_train)[:,1])\n",
    "X_test_prob = list(xgb_cl.predict_proba(X_test)[:,1])"
   ]
  },
  {
   "cell_type": "code",
   "execution_count": 142,
   "id": "4a6b6ded",
   "metadata": {},
   "outputs": [
    {
     "name": "stdout",
     "output_type": "stream",
     "text": [
      "ROC AUC Score for train: 72.45030368869674\n",
      "ROC AUC Score for test: 70.80266117838512\n"
     ]
    }
   ],
   "source": [
    "# print()\n",
    "print(\"ROC AUC Score for train:\", roc_auc_score(y_train, X_train_prob) * 100)\n",
    "print(\"ROC AUC Score for test:\", roc_auc_score(y_test, X_test_prob) * 100)\n",
    "# print(\"ROC AUC Score for valid:\", roc_auc_score(y_validation, y_pred_xg_v) * 100)"
   ]
  },
  {
   "cell_type": "code",
   "execution_count": 143,
   "id": "a04fe90f",
   "metadata": {
    "scrolled": true
   },
   "outputs": [
    {
     "data": {
      "text/html": [
       "<div>\n",
       "<style scoped>\n",
       "    .dataframe tbody tr th:only-of-type {\n",
       "        vertical-align: middle;\n",
       "    }\n",
       "\n",
       "    .dataframe tbody tr th {\n",
       "        vertical-align: top;\n",
       "    }\n",
       "\n",
       "    .dataframe thead th {\n",
       "        text-align: right;\n",
       "    }\n",
       "</style>\n",
       "<table border=\"1\" class=\"dataframe\">\n",
       "  <thead>\n",
       "    <tr style=\"text-align: right;\">\n",
       "      <th></th>\n",
       "      <th>0</th>\n",
       "      <th>1</th>\n",
       "    </tr>\n",
       "  </thead>\n",
       "  <tbody>\n",
       "    <tr>\n",
       "      <th>10</th>\n",
       "      <td>PRODUCT_DESC_BIN_Group3</td>\n",
       "      <td>27.060205</td>\n",
       "    </tr>\n",
       "    <tr>\n",
       "      <th>0</th>\n",
       "      <td>PORTFOLIO_DESC_BIN</td>\n",
       "      <td>15.233268</td>\n",
       "    </tr>\n",
       "    <tr>\n",
       "      <th>8</th>\n",
       "      <td>RESIDENTIAL_STATUS_BIN</td>\n",
       "      <td>9.881929</td>\n",
       "    </tr>\n",
       "    <tr>\n",
       "      <th>3</th>\n",
       "      <td>ABC_ASSOCIATION_NEW</td>\n",
       "      <td>9.562695</td>\n",
       "    </tr>\n",
       "    <tr>\n",
       "      <th>9</th>\n",
       "      <td>PRODUCT_DESC_BIN_Group1</td>\n",
       "      <td>8.017418</td>\n",
       "    </tr>\n",
       "    <tr>\n",
       "      <th>2</th>\n",
       "      <td>SCHEME_BIN_Group0</td>\n",
       "      <td>7.042231</td>\n",
       "    </tr>\n",
       "    <tr>\n",
       "      <th>4</th>\n",
       "      <td>SCHEME_BIN_Group1</td>\n",
       "      <td>6.988342</td>\n",
       "    </tr>\n",
       "    <tr>\n",
       "      <th>6</th>\n",
       "      <td>PRINCIPAL_OUTSTANDING</td>\n",
       "      <td>6.353462</td>\n",
       "    </tr>\n",
       "    <tr>\n",
       "      <th>11</th>\n",
       "      <td>EDU_DETAIL_BIN</td>\n",
       "      <td>4.207214</td>\n",
       "    </tr>\n",
       "    <tr>\n",
       "      <th>5</th>\n",
       "      <td>TOTAL_DISBURSED_AMOUNT</td>\n",
       "      <td>4.078832</td>\n",
       "    </tr>\n",
       "    <tr>\n",
       "      <th>12</th>\n",
       "      <td>TIER_BIN</td>\n",
       "      <td>1.574398</td>\n",
       "    </tr>\n",
       "    <tr>\n",
       "      <th>1</th>\n",
       "      <td>SCHEME_BIN_Group2</td>\n",
       "      <td>0.000000</td>\n",
       "    </tr>\n",
       "    <tr>\n",
       "      <th>7</th>\n",
       "      <td>PRODUCT_DESC_BIN_Group2</td>\n",
       "      <td>0.000000</td>\n",
       "    </tr>\n",
       "  </tbody>\n",
       "</table>\n",
       "</div>"
      ],
      "text/plain": [
       "                          0          1\n",
       "10  PRODUCT_DESC_BIN_Group3  27.060205\n",
       "0        PORTFOLIO_DESC_BIN  15.233268\n",
       "8    RESIDENTIAL_STATUS_BIN   9.881929\n",
       "3       ABC_ASSOCIATION_NEW   9.562695\n",
       "9   PRODUCT_DESC_BIN_Group1   8.017418\n",
       "2         SCHEME_BIN_Group0   7.042231\n",
       "4         SCHEME_BIN_Group1   6.988342\n",
       "6     PRINCIPAL_OUTSTANDING   6.353462\n",
       "11           EDU_DETAIL_BIN   4.207214\n",
       "5    TOTAL_DISBURSED_AMOUNT   4.078832\n",
       "12                 TIER_BIN   1.574398\n",
       "1         SCHEME_BIN_Group2   0.000000\n",
       "7   PRODUCT_DESC_BIN_Group2   0.000000"
      ]
     },
     "execution_count": 143,
     "metadata": {},
     "output_type": "execute_result"
    }
   ],
   "source": [
    "feat_imp = pd.DataFrame.from_dict(zip(list(X_train.columns), xgb_cl.feature_importances_*100)).sort_values(by = 1, ascending = False)\n",
    "# feat_imp.to_excel('feature_imp_xgb.xlsx', index = False)\n",
    "feat_imp"
   ]
  },
  {
   "cell_type": "code",
   "execution_count": 144,
   "id": "ea0efba2",
   "metadata": {},
   "outputs": [
    {
     "data": {
      "text/plain": [
       "array(['PRODUCT_DESC_BIN_Group3', 'PORTFOLIO_DESC_BIN',\n",
       "       'RESIDENTIAL_STATUS_BIN', 'ABC_ASSOCIATION_NEW',\n",
       "       'PRODUCT_DESC_BIN_Group1', 'SCHEME_BIN_Group0',\n",
       "       'SCHEME_BIN_Group1', 'PRINCIPAL_OUTSTANDING', 'EDU_DETAIL_BIN',\n",
       "       'TOTAL_DISBURSED_AMOUNT', 'TIER_BIN', 'SCHEME_BIN_Group2',\n",
       "       'PRODUCT_DESC_BIN_Group2'], dtype=object)"
      ]
     },
     "execution_count": 144,
     "metadata": {},
     "output_type": "execute_result"
    }
   ],
   "source": [
    "feat_imp[0].values"
   ]
  },
  {
   "cell_type": "code",
   "execution_count": 145,
   "id": "4a9afa1c",
   "metadata": {},
   "outputs": [],
   "source": [
    "def ks(data=None,target=None, prob=None):\n",
    "    data['target_xgb'] = 1 - data[target]\n",
    "    data['bucket'] = pd.qcut(data[prob], 10)\n",
    "    grouped = data.groupby('bucket', as_index = False)\n",
    "    kstable = pd.DataFrame()\n",
    "    kstable['min_prob'] = grouped.min()[prob]\n",
    "    kstable['max_prob'] = grouped.max()[prob]\n",
    "    kstable['total'] = (grouped.sum()[target] + grouped.sum()['target_xgb'])\n",
    "    kstable['events']   = grouped.sum()[target]\n",
    "    kstable['nonevents'] = grouped.sum()['target_xgb']\n",
    "    kstable = kstable.sort_values(by=\"min_prob\", ascending=False).reset_index(drop = True)\n",
    "    kstable['event_rate'] = (kstable.events / data[target].sum()).apply('{0:.2%}'.format)\n",
    "    kstable['nonevent_rate'] = (kstable.nonevents / data['target_xgb'].sum()).apply('{0:.2%}'.format)\n",
    "    kstable['cum_eventrate']=(kstable.events / data[target].sum()).cumsum()\n",
    "    kstable['cum_noneventrate']=(kstable.nonevents / data['target_xgb'].sum()).cumsum()\n",
    "    kstable['KS'] = np.round(kstable['cum_eventrate']-kstable['cum_noneventrate'], 3) * 100\n",
    "\n",
    "    #Formating\n",
    "    kstable['cum_eventrate']= kstable['cum_eventrate'].apply('{0:.2%}'.format)\n",
    "    kstable['cum_noneventrate']= kstable['cum_noneventrate'].apply('{0:.2%}'.format)\n",
    "    \n",
    "    kstable['ks_stats'] = np.round(((kstable['events'] / kstable['events'].sum()).cumsum() -(kstable['nonevents'] / kstable['nonevents'].sum()).cumsum()), 4) * 100\n",
    "    kstable['max_ks'] = kstable['ks_stats'].apply(lambda x: '*****' if x == kstable['ks_stats'].max() else '')\n",
    "    \n",
    "    kstable.index = range(1,11)\n",
    "    kstable.index.rename('Decile', inplace=True)\n",
    "    pd.set_option('display.max_columns', 20)\n",
    "#    print(kstable)\n",
    "#    print(type(kstable))    \n",
    "    #Display KS\n",
    "    from colorama import Fore\n",
    "#   print(Fore.RED + \"KS is \" + str(max(kstable['KS']))+\"%\"+ \" at decile \" + str((kstable.index[kstable['KS']==max(kstable['KS'])][0])))\n",
    "#     print(type(kstable))\n",
    "    return(kstable)\n"
   ]
  },
  {
   "cell_type": "code",
   "execution_count": 146,
   "id": "906503e7",
   "metadata": {},
   "outputs": [],
   "source": [
    "train['Prob_score_XGB'] = X_train_prob\n",
    "test['Prob_score_XGB'] = X_test_prob\n",
    "    \n",
    "xg_train_ks = ks(train,'MF_TARGET','Prob_score_XGB')\n",
    "xg_test_ks = ks(test,'MF_TARGET','Prob_score_XGB')"
   ]
  },
  {
   "cell_type": "code",
   "execution_count": 147,
   "id": "238f9393",
   "metadata": {},
   "outputs": [
    {
     "data": {
      "text/html": [
       "<div>\n",
       "<style scoped>\n",
       "    .dataframe tbody tr th:only-of-type {\n",
       "        vertical-align: middle;\n",
       "    }\n",
       "\n",
       "    .dataframe tbody tr th {\n",
       "        vertical-align: top;\n",
       "    }\n",
       "\n",
       "    .dataframe thead th {\n",
       "        text-align: right;\n",
       "    }\n",
       "</style>\n",
       "<table border=\"1\" class=\"dataframe\">\n",
       "  <thead>\n",
       "    <tr style=\"text-align: right;\">\n",
       "      <th></th>\n",
       "      <th>min_prob</th>\n",
       "      <th>max_prob</th>\n",
       "      <th>total</th>\n",
       "      <th>events</th>\n",
       "      <th>nonevents</th>\n",
       "      <th>event_rate</th>\n",
       "      <th>nonevent_rate</th>\n",
       "      <th>cum_eventrate</th>\n",
       "      <th>cum_noneventrate</th>\n",
       "      <th>KS</th>\n",
       "      <th>ks_stats</th>\n",
       "      <th>max_ks</th>\n",
       "    </tr>\n",
       "    <tr>\n",
       "      <th>Decile</th>\n",
       "      <th></th>\n",
       "      <th></th>\n",
       "      <th></th>\n",
       "      <th></th>\n",
       "      <th></th>\n",
       "      <th></th>\n",
       "      <th></th>\n",
       "      <th></th>\n",
       "      <th></th>\n",
       "      <th></th>\n",
       "      <th></th>\n",
       "      <th></th>\n",
       "    </tr>\n",
       "  </thead>\n",
       "  <tbody>\n",
       "    <tr>\n",
       "      <th>1</th>\n",
       "      <td>0.628764</td>\n",
       "      <td>0.872401</td>\n",
       "      <td>1585</td>\n",
       "      <td>452</td>\n",
       "      <td>1133</td>\n",
       "      <td>29.78%</td>\n",
       "      <td>7.91%</td>\n",
       "      <td>29.78%</td>\n",
       "      <td>7.91%</td>\n",
       "      <td>21.9</td>\n",
       "      <td>21.87</td>\n",
       "      <td></td>\n",
       "    </tr>\n",
       "    <tr>\n",
       "      <th>2</th>\n",
       "      <td>0.565062</td>\n",
       "      <td>0.628150</td>\n",
       "      <td>1583</td>\n",
       "      <td>273</td>\n",
       "      <td>1310</td>\n",
       "      <td>17.98%</td>\n",
       "      <td>9.14%</td>\n",
       "      <td>47.76%</td>\n",
       "      <td>17.05%</td>\n",
       "      <td>30.7</td>\n",
       "      <td>30.71</td>\n",
       "      <td></td>\n",
       "    </tr>\n",
       "    <tr>\n",
       "      <th>3</th>\n",
       "      <td>0.516227</td>\n",
       "      <td>0.564908</td>\n",
       "      <td>1583</td>\n",
       "      <td>176</td>\n",
       "      <td>1407</td>\n",
       "      <td>11.59%</td>\n",
       "      <td>9.82%</td>\n",
       "      <td>59.35%</td>\n",
       "      <td>26.87%</td>\n",
       "      <td>32.5</td>\n",
       "      <td>32.48</td>\n",
       "      <td>*****</td>\n",
       "    </tr>\n",
       "    <tr>\n",
       "      <th>4</th>\n",
       "      <td>0.480091</td>\n",
       "      <td>0.516056</td>\n",
       "      <td>1587</td>\n",
       "      <td>150</td>\n",
       "      <td>1437</td>\n",
       "      <td>9.88%</td>\n",
       "      <td>10.03%</td>\n",
       "      <td>69.24%</td>\n",
       "      <td>36.90%</td>\n",
       "      <td>32.3</td>\n",
       "      <td>32.34</td>\n",
       "      <td></td>\n",
       "    </tr>\n",
       "    <tr>\n",
       "      <th>5</th>\n",
       "      <td>0.421330</td>\n",
       "      <td>0.480061</td>\n",
       "      <td>1585</td>\n",
       "      <td>120</td>\n",
       "      <td>1465</td>\n",
       "      <td>7.91%</td>\n",
       "      <td>10.22%</td>\n",
       "      <td>77.14%</td>\n",
       "      <td>47.12%</td>\n",
       "      <td>30.0</td>\n",
       "      <td>30.02</td>\n",
       "      <td></td>\n",
       "    </tr>\n",
       "    <tr>\n",
       "      <th>6</th>\n",
       "      <td>0.391361</td>\n",
       "      <td>0.421328</td>\n",
       "      <td>1570</td>\n",
       "      <td>100</td>\n",
       "      <td>1470</td>\n",
       "      <td>6.59%</td>\n",
       "      <td>10.26%</td>\n",
       "      <td>83.73%</td>\n",
       "      <td>57.38%</td>\n",
       "      <td>26.3</td>\n",
       "      <td>26.34</td>\n",
       "      <td></td>\n",
       "    </tr>\n",
       "    <tr>\n",
       "      <th>7</th>\n",
       "      <td>0.355292</td>\n",
       "      <td>0.391335</td>\n",
       "      <td>1594</td>\n",
       "      <td>86</td>\n",
       "      <td>1508</td>\n",
       "      <td>5.67%</td>\n",
       "      <td>10.52%</td>\n",
       "      <td>89.39%</td>\n",
       "      <td>67.91%</td>\n",
       "      <td>21.5</td>\n",
       "      <td>21.48</td>\n",
       "      <td></td>\n",
       "    </tr>\n",
       "    <tr>\n",
       "      <th>8</th>\n",
       "      <td>0.297931</td>\n",
       "      <td>0.355260</td>\n",
       "      <td>1588</td>\n",
       "      <td>59</td>\n",
       "      <td>1529</td>\n",
       "      <td>3.89%</td>\n",
       "      <td>10.67%</td>\n",
       "      <td>93.28%</td>\n",
       "      <td>78.58%</td>\n",
       "      <td>14.7</td>\n",
       "      <td>14.70</td>\n",
       "      <td></td>\n",
       "    </tr>\n",
       "    <tr>\n",
       "      <th>9</th>\n",
       "      <td>0.268650</td>\n",
       "      <td>0.297481</td>\n",
       "      <td>1463</td>\n",
       "      <td>68</td>\n",
       "      <td>1395</td>\n",
       "      <td>4.48%</td>\n",
       "      <td>9.74%</td>\n",
       "      <td>97.76%</td>\n",
       "      <td>88.32%</td>\n",
       "      <td>9.4</td>\n",
       "      <td>9.44</td>\n",
       "      <td></td>\n",
       "    </tr>\n",
       "    <tr>\n",
       "      <th>10</th>\n",
       "      <td>0.182907</td>\n",
       "      <td>0.268477</td>\n",
       "      <td>1708</td>\n",
       "      <td>34</td>\n",
       "      <td>1674</td>\n",
       "      <td>2.24%</td>\n",
       "      <td>11.68%</td>\n",
       "      <td>100.00%</td>\n",
       "      <td>100.00%</td>\n",
       "      <td>-0.0</td>\n",
       "      <td>-0.00</td>\n",
       "      <td></td>\n",
       "    </tr>\n",
       "  </tbody>\n",
       "</table>\n",
       "</div>"
      ],
      "text/plain": [
       "        min_prob  max_prob  total  events  nonevents event_rate nonevent_rate  \\\n",
       "Decile                                                                          \n",
       "1       0.628764  0.872401   1585     452       1133     29.78%         7.91%   \n",
       "2       0.565062  0.628150   1583     273       1310     17.98%         9.14%   \n",
       "3       0.516227  0.564908   1583     176       1407     11.59%         9.82%   \n",
       "4       0.480091  0.516056   1587     150       1437      9.88%        10.03%   \n",
       "5       0.421330  0.480061   1585     120       1465      7.91%        10.22%   \n",
       "6       0.391361  0.421328   1570     100       1470      6.59%        10.26%   \n",
       "7       0.355292  0.391335   1594      86       1508      5.67%        10.52%   \n",
       "8       0.297931  0.355260   1588      59       1529      3.89%        10.67%   \n",
       "9       0.268650  0.297481   1463      68       1395      4.48%         9.74%   \n",
       "10      0.182907  0.268477   1708      34       1674      2.24%        11.68%   \n",
       "\n",
       "       cum_eventrate cum_noneventrate    KS  ks_stats max_ks  \n",
       "Decile                                                        \n",
       "1             29.78%            7.91%  21.9     21.87         \n",
       "2             47.76%           17.05%  30.7     30.71         \n",
       "3             59.35%           26.87%  32.5     32.48  *****  \n",
       "4             69.24%           36.90%  32.3     32.34         \n",
       "5             77.14%           47.12%  30.0     30.02         \n",
       "6             83.73%           57.38%  26.3     26.34         \n",
       "7             89.39%           67.91%  21.5     21.48         \n",
       "8             93.28%           78.58%  14.7     14.70         \n",
       "9             97.76%           88.32%   9.4      9.44         \n",
       "10           100.00%          100.00%  -0.0     -0.00         "
      ]
     },
     "execution_count": 147,
     "metadata": {},
     "output_type": "execute_result"
    }
   ],
   "source": [
    "# xg_train_ks.to_csv('xgboost_ks_train.csv', index = False)\n",
    "xg_train_ks"
   ]
  },
  {
   "cell_type": "code",
   "execution_count": 148,
   "id": "de697c2e",
   "metadata": {},
   "outputs": [
    {
     "data": {
      "text/html": [
       "<div>\n",
       "<style scoped>\n",
       "    .dataframe tbody tr th:only-of-type {\n",
       "        vertical-align: middle;\n",
       "    }\n",
       "\n",
       "    .dataframe tbody tr th {\n",
       "        vertical-align: top;\n",
       "    }\n",
       "\n",
       "    .dataframe thead th {\n",
       "        text-align: right;\n",
       "    }\n",
       "</style>\n",
       "<table border=\"1\" class=\"dataframe\">\n",
       "  <thead>\n",
       "    <tr style=\"text-align: right;\">\n",
       "      <th></th>\n",
       "      <th>min_prob</th>\n",
       "      <th>max_prob</th>\n",
       "      <th>total</th>\n",
       "      <th>events</th>\n",
       "      <th>nonevents</th>\n",
       "      <th>event_rate</th>\n",
       "      <th>nonevent_rate</th>\n",
       "      <th>cum_eventrate</th>\n",
       "      <th>cum_noneventrate</th>\n",
       "      <th>KS</th>\n",
       "      <th>ks_stats</th>\n",
       "      <th>max_ks</th>\n",
       "    </tr>\n",
       "    <tr>\n",
       "      <th>Decile</th>\n",
       "      <th></th>\n",
       "      <th></th>\n",
       "      <th></th>\n",
       "      <th></th>\n",
       "      <th></th>\n",
       "      <th></th>\n",
       "      <th></th>\n",
       "      <th></th>\n",
       "      <th></th>\n",
       "      <th></th>\n",
       "      <th></th>\n",
       "      <th></th>\n",
       "    </tr>\n",
       "  </thead>\n",
       "  <tbody>\n",
       "    <tr>\n",
       "      <th>1</th>\n",
       "      <td>0.637510</td>\n",
       "      <td>0.872401</td>\n",
       "      <td>677</td>\n",
       "      <td>184</td>\n",
       "      <td>493</td>\n",
       "      <td>28.48%</td>\n",
       "      <td>8.02%</td>\n",
       "      <td>28.48%</td>\n",
       "      <td>8.02%</td>\n",
       "      <td>20.5</td>\n",
       "      <td>20.46</td>\n",
       "      <td></td>\n",
       "    </tr>\n",
       "    <tr>\n",
       "      <th>2</th>\n",
       "      <td>0.579719</td>\n",
       "      <td>0.636535</td>\n",
       "      <td>673</td>\n",
       "      <td>108</td>\n",
       "      <td>565</td>\n",
       "      <td>16.72%</td>\n",
       "      <td>9.19%</td>\n",
       "      <td>45.20%</td>\n",
       "      <td>17.22%</td>\n",
       "      <td>28.0</td>\n",
       "      <td>27.98</td>\n",
       "      <td></td>\n",
       "    </tr>\n",
       "    <tr>\n",
       "      <th>3</th>\n",
       "      <td>0.535220</td>\n",
       "      <td>0.579691</td>\n",
       "      <td>686</td>\n",
       "      <td>87</td>\n",
       "      <td>599</td>\n",
       "      <td>13.47%</td>\n",
       "      <td>9.75%</td>\n",
       "      <td>58.67%</td>\n",
       "      <td>26.97%</td>\n",
       "      <td>31.7</td>\n",
       "      <td>31.70</td>\n",
       "      <td>*****</td>\n",
       "    </tr>\n",
       "    <tr>\n",
       "      <th>4</th>\n",
       "      <td>0.487035</td>\n",
       "      <td>0.535131</td>\n",
       "      <td>679</td>\n",
       "      <td>51</td>\n",
       "      <td>628</td>\n",
       "      <td>7.89%</td>\n",
       "      <td>10.22%</td>\n",
       "      <td>66.56%</td>\n",
       "      <td>37.18%</td>\n",
       "      <td>29.4</td>\n",
       "      <td>29.38</td>\n",
       "      <td></td>\n",
       "    </tr>\n",
       "    <tr>\n",
       "      <th>5</th>\n",
       "      <td>0.438244</td>\n",
       "      <td>0.486824</td>\n",
       "      <td>645</td>\n",
       "      <td>55</td>\n",
       "      <td>590</td>\n",
       "      <td>8.51%</td>\n",
       "      <td>9.60%</td>\n",
       "      <td>75.08%</td>\n",
       "      <td>46.79%</td>\n",
       "      <td>28.3</td>\n",
       "      <td>28.29</td>\n",
       "      <td></td>\n",
       "    </tr>\n",
       "    <tr>\n",
       "      <th>6</th>\n",
       "      <td>0.402793</td>\n",
       "      <td>0.437983</td>\n",
       "      <td>708</td>\n",
       "      <td>47</td>\n",
       "      <td>661</td>\n",
       "      <td>7.28%</td>\n",
       "      <td>10.76%</td>\n",
       "      <td>82.35%</td>\n",
       "      <td>57.54%</td>\n",
       "      <td>24.8</td>\n",
       "      <td>24.81</td>\n",
       "      <td></td>\n",
       "    </tr>\n",
       "    <tr>\n",
       "      <th>7</th>\n",
       "      <td>0.365836</td>\n",
       "      <td>0.402556</td>\n",
       "      <td>683</td>\n",
       "      <td>38</td>\n",
       "      <td>645</td>\n",
       "      <td>5.88%</td>\n",
       "      <td>10.50%</td>\n",
       "      <td>88.24%</td>\n",
       "      <td>68.04%</td>\n",
       "      <td>20.2</td>\n",
       "      <td>20.20</td>\n",
       "      <td></td>\n",
       "    </tr>\n",
       "    <tr>\n",
       "      <th>8</th>\n",
       "      <td>0.321299</td>\n",
       "      <td>0.365711</td>\n",
       "      <td>681</td>\n",
       "      <td>27</td>\n",
       "      <td>654</td>\n",
       "      <td>4.18%</td>\n",
       "      <td>10.64%</td>\n",
       "      <td>92.41%</td>\n",
       "      <td>78.68%</td>\n",
       "      <td>13.7</td>\n",
       "      <td>13.73</td>\n",
       "      <td></td>\n",
       "    </tr>\n",
       "    <tr>\n",
       "      <th>9</th>\n",
       "      <td>0.288214</td>\n",
       "      <td>0.321004</td>\n",
       "      <td>625</td>\n",
       "      <td>32</td>\n",
       "      <td>593</td>\n",
       "      <td>4.95%</td>\n",
       "      <td>9.65%</td>\n",
       "      <td>97.37%</td>\n",
       "      <td>88.33%</td>\n",
       "      <td>9.0</td>\n",
       "      <td>9.04</td>\n",
       "      <td></td>\n",
       "    </tr>\n",
       "    <tr>\n",
       "      <th>10</th>\n",
       "      <td>0.182907</td>\n",
       "      <td>0.287735</td>\n",
       "      <td>734</td>\n",
       "      <td>17</td>\n",
       "      <td>717</td>\n",
       "      <td>2.63%</td>\n",
       "      <td>11.67%</td>\n",
       "      <td>100.00%</td>\n",
       "      <td>100.00%</td>\n",
       "      <td>0.0</td>\n",
       "      <td>0.00</td>\n",
       "      <td></td>\n",
       "    </tr>\n",
       "  </tbody>\n",
       "</table>\n",
       "</div>"
      ],
      "text/plain": [
       "        min_prob  max_prob  total  events  nonevents event_rate nonevent_rate  \\\n",
       "Decile                                                                          \n",
       "1       0.637510  0.872401    677     184        493     28.48%         8.02%   \n",
       "2       0.579719  0.636535    673     108        565     16.72%         9.19%   \n",
       "3       0.535220  0.579691    686      87        599     13.47%         9.75%   \n",
       "4       0.487035  0.535131    679      51        628      7.89%        10.22%   \n",
       "5       0.438244  0.486824    645      55        590      8.51%         9.60%   \n",
       "6       0.402793  0.437983    708      47        661      7.28%        10.76%   \n",
       "7       0.365836  0.402556    683      38        645      5.88%        10.50%   \n",
       "8       0.321299  0.365711    681      27        654      4.18%        10.64%   \n",
       "9       0.288214  0.321004    625      32        593      4.95%         9.65%   \n",
       "10      0.182907  0.287735    734      17        717      2.63%        11.67%   \n",
       "\n",
       "       cum_eventrate cum_noneventrate    KS  ks_stats max_ks  \n",
       "Decile                                                        \n",
       "1             28.48%            8.02%  20.5     20.46         \n",
       "2             45.20%           17.22%  28.0     27.98         \n",
       "3             58.67%           26.97%  31.7     31.70  *****  \n",
       "4             66.56%           37.18%  29.4     29.38         \n",
       "5             75.08%           46.79%  28.3     28.29         \n",
       "6             82.35%           57.54%  24.8     24.81         \n",
       "7             88.24%           68.04%  20.2     20.20         \n",
       "8             92.41%           78.68%  13.7     13.73         \n",
       "9             97.37%           88.33%   9.0      9.04         \n",
       "10           100.00%          100.00%   0.0      0.00         "
      ]
     },
     "execution_count": 148,
     "metadata": {},
     "output_type": "execute_result"
    }
   ],
   "source": [
    "# xg_test_ks.to_csv('xgboost_ks_test.csv', index = False)\n",
    "xg_test_ks"
   ]
  },
  {
   "cell_type": "code",
   "execution_count": null,
   "id": "6cac2246",
   "metadata": {},
   "outputs": [],
   "source": []
  },
  {
   "cell_type": "code",
   "execution_count": null,
   "id": "9c41c7df",
   "metadata": {},
   "outputs": [],
   "source": []
  },
  {
   "cell_type": "code",
   "execution_count": null,
   "id": "b53066d7",
   "metadata": {},
   "outputs": [],
   "source": []
  },
  {
   "cell_type": "code",
   "execution_count": 149,
   "id": "a0f9ca67",
   "metadata": {},
   "outputs": [],
   "source": [
    "\n",
    "\n",
    "# Init classifier\n",
    "def best_result(eta, md, npt, gam, train, test):\n",
    "    xgb_cl = xgb.XGBClassifier(objective='binary:logistic', booster='gbtree',learning_rate=eta,max_depth=md,\n",
    "                               base_score=0.4, n_estimators=200, num_parallel_tree=npt, eval_metric='auc',\n",
    "                               tree_method='hist', grow_policy='lossguide', scale_pos_weight = 9,\n",
    "                               gamma = gam, colsample_bytree = 0.5\n",
    "                              ).fit(X_train, y_train)\n",
    "\n",
    "    y_pred_xg1 = xgb_cl.predict(X_train)\n",
    "    y_pred_xg = xgb_cl.predict(X_test)\n",
    "    \n",
    "    X_train_prob = list(xgb_cl.predict_proba(X_train)[:,1])\n",
    "    X_test_prob = list(xgb_cl.predict_proba(X_test)[:,1])\n",
    "    print(\"max depth: \" , md , \", num parallel tree: \" , npt , \"gamma: \" , gam)\n",
    "    train_res = roc_auc_score(y_train, X_train_prob) * 100\n",
    "    test_res = roc_auc_score(y_test, X_test_prob) * 100\n",
    "    \n",
    "    train['Prob_score_XGB'] = X_train_prob\n",
    "    test['Prob_score_XGB'] = X_test_prob\n",
    "\n",
    "    xg_train_ks = ks(train,'MF_TARGET','Prob_score_XGB')\n",
    "    xg_test_ks = ks(test,'MF_TARGET','Prob_score_XGB')\n",
    "    \n",
    "    train_3rd_cap = xg_train_ks.reset_index()['cum_eventrate'][2]\n",
    "    test_3rd_cap = xg_test_ks.reset_index()['cum_eventrate'][2]\n",
    "    \n",
    "#     print(\"ROC AUC Score for train:\", train_res)\n",
    "#     print(\"ROC AUC Score for test:\", test_res)\n",
    "    return eta, md, npt, gam, train_res, test_res, train_3rd_cap, test_3rd_cap"
   ]
  },
  {
   "cell_type": "code",
   "execution_count": 150,
   "id": "e020aa18",
   "metadata": {
    "scrolled": true
   },
   "outputs": [
    {
     "name": "stdout",
     "output_type": "stream",
     "text": [
      "max depth:  5 , num parallel tree:  2 gamma:  87\n",
      "------------------------------------------------------------\n",
      "max depth:  5 , num parallel tree:  2 gamma:  88\n",
      "------------------------------------------------------------\n",
      "max depth:  5 , num parallel tree:  2 gamma:  90\n",
      "------------------------------------------------------------\n",
      "max depth:  5 , num parallel tree:  2 gamma:  91\n",
      "------------------------------------------------------------\n",
      "max depth:  5 , num parallel tree:  4 gamma:  87\n",
      "------------------------------------------------------------\n",
      "max depth:  5 , num parallel tree:  4 gamma:  88\n",
      "------------------------------------------------------------\n",
      "max depth:  5 , num parallel tree:  4 gamma:  90\n",
      "------------------------------------------------------------\n",
      "max depth:  5 , num parallel tree:  4 gamma:  91\n",
      "------------------------------------------------------------\n",
      "max depth:  5 , num parallel tree:  5 gamma:  87\n",
      "------------------------------------------------------------\n",
      "max depth:  5 , num parallel tree:  5 gamma:  88\n",
      "------------------------------------------------------------\n",
      "max depth:  5 , num parallel tree:  5 gamma:  90\n",
      "------------------------------------------------------------\n",
      "max depth:  5 , num parallel tree:  5 gamma:  91\n",
      "------------------------------------------------------------\n",
      "max depth:  7 , num parallel tree:  2 gamma:  87\n",
      "------------------------------------------------------------\n",
      "max depth:  7 , num parallel tree:  2 gamma:  88\n",
      "------------------------------------------------------------\n",
      "max depth:  7 , num parallel tree:  2 gamma:  90\n",
      "------------------------------------------------------------\n",
      "max depth:  7 , num parallel tree:  2 gamma:  91\n",
      "------------------------------------------------------------\n",
      "max depth:  7 , num parallel tree:  4 gamma:  87\n",
      "------------------------------------------------------------\n",
      "max depth:  7 , num parallel tree:  4 gamma:  88\n",
      "------------------------------------------------------------\n",
      "max depth:  7 , num parallel tree:  4 gamma:  90\n",
      "------------------------------------------------------------\n",
      "max depth:  7 , num parallel tree:  4 gamma:  91\n",
      "------------------------------------------------------------\n",
      "max depth:  7 , num parallel tree:  5 gamma:  87\n",
      "------------------------------------------------------------\n",
      "max depth:  7 , num parallel tree:  5 gamma:  88\n",
      "------------------------------------------------------------\n",
      "max depth:  7 , num parallel tree:  5 gamma:  90\n",
      "------------------------------------------------------------\n",
      "max depth:  7 , num parallel tree:  5 gamma:  91\n",
      "------------------------------------------------------------\n",
      "max depth:  6 , num parallel tree:  2 gamma:  87\n",
      "------------------------------------------------------------\n",
      "max depth:  6 , num parallel tree:  2 gamma:  88\n",
      "------------------------------------------------------------\n",
      "max depth:  6 , num parallel tree:  2 gamma:  90\n",
      "------------------------------------------------------------\n",
      "max depth:  6 , num parallel tree:  2 gamma:  91\n",
      "------------------------------------------------------------\n",
      "max depth:  6 , num parallel tree:  4 gamma:  87\n",
      "------------------------------------------------------------\n",
      "max depth:  6 , num parallel tree:  4 gamma:  88\n",
      "------------------------------------------------------------\n",
      "max depth:  6 , num parallel tree:  4 gamma:  90\n",
      "------------------------------------------------------------\n",
      "max depth:  6 , num parallel tree:  4 gamma:  91\n",
      "------------------------------------------------------------\n",
      "max depth:  6 , num parallel tree:  5 gamma:  87\n",
      "------------------------------------------------------------\n",
      "max depth:  6 , num parallel tree:  5 gamma:  88\n",
      "------------------------------------------------------------\n",
      "max depth:  6 , num parallel tree:  5 gamma:  90\n",
      "------------------------------------------------------------\n",
      "max depth:  6 , num parallel tree:  5 gamma:  91\n",
      "------------------------------------------------------------\n",
      "max depth:  5 , num parallel tree:  2 gamma:  87\n",
      "------------------------------------------------------------\n",
      "max depth:  5 , num parallel tree:  2 gamma:  88\n",
      "------------------------------------------------------------\n",
      "max depth:  5 , num parallel tree:  2 gamma:  90\n",
      "------------------------------------------------------------\n",
      "max depth:  5 , num parallel tree:  2 gamma:  91\n",
      "------------------------------------------------------------\n",
      "max depth:  5 , num parallel tree:  4 gamma:  87\n",
      "------------------------------------------------------------\n",
      "max depth:  5 , num parallel tree:  4 gamma:  88\n",
      "------------------------------------------------------------\n",
      "max depth:  5 , num parallel tree:  4 gamma:  90\n",
      "------------------------------------------------------------\n",
      "max depth:  5 , num parallel tree:  4 gamma:  91\n",
      "------------------------------------------------------------\n",
      "max depth:  5 , num parallel tree:  5 gamma:  87\n",
      "------------------------------------------------------------\n",
      "max depth:  5 , num parallel tree:  5 gamma:  88\n",
      "------------------------------------------------------------\n",
      "max depth:  5 , num parallel tree:  5 gamma:  90\n",
      "------------------------------------------------------------\n",
      "max depth:  5 , num parallel tree:  5 gamma:  91\n",
      "------------------------------------------------------------\n",
      "max depth:  7 , num parallel tree:  2 gamma:  87\n",
      "------------------------------------------------------------\n",
      "max depth:  7 , num parallel tree:  2 gamma:  88\n",
      "------------------------------------------------------------\n",
      "max depth:  7 , num parallel tree:  2 gamma:  90\n",
      "------------------------------------------------------------\n",
      "max depth:  7 , num parallel tree:  2 gamma:  91\n",
      "------------------------------------------------------------\n",
      "max depth:  7 , num parallel tree:  4 gamma:  87\n",
      "------------------------------------------------------------\n",
      "max depth:  7 , num parallel tree:  4 gamma:  88\n",
      "------------------------------------------------------------\n",
      "max depth:  7 , num parallel tree:  4 gamma:  90\n",
      "------------------------------------------------------------\n",
      "max depth:  7 , num parallel tree:  4 gamma:  91\n",
      "------------------------------------------------------------\n",
      "max depth:  7 , num parallel tree:  5 gamma:  87\n",
      "------------------------------------------------------------\n",
      "max depth:  7 , num parallel tree:  5 gamma:  88\n",
      "------------------------------------------------------------\n",
      "max depth:  7 , num parallel tree:  5 gamma:  90\n",
      "------------------------------------------------------------\n",
      "max depth:  7 , num parallel tree:  5 gamma:  91\n",
      "------------------------------------------------------------\n",
      "max depth:  6 , num parallel tree:  2 gamma:  87\n",
      "------------------------------------------------------------\n",
      "max depth:  6 , num parallel tree:  2 gamma:  88\n",
      "------------------------------------------------------------\n",
      "max depth:  6 , num parallel tree:  2 gamma:  90\n",
      "------------------------------------------------------------\n",
      "max depth:  6 , num parallel tree:  2 gamma:  91\n",
      "------------------------------------------------------------\n",
      "max depth:  6 , num parallel tree:  4 gamma:  87\n",
      "------------------------------------------------------------\n",
      "max depth:  6 , num parallel tree:  4 gamma:  88\n",
      "------------------------------------------------------------\n",
      "max depth:  6 , num parallel tree:  4 gamma:  90\n",
      "------------------------------------------------------------\n",
      "max depth:  6 , num parallel tree:  4 gamma:  91\n",
      "------------------------------------------------------------\n",
      "max depth:  6 , num parallel tree:  5 gamma:  87\n",
      "------------------------------------------------------------\n",
      "max depth:  6 , num parallel tree:  5 gamma:  88\n",
      "------------------------------------------------------------\n",
      "max depth:  6 , num parallel tree:  5 gamma:  90\n",
      "------------------------------------------------------------\n",
      "max depth:  6 , num parallel tree:  5 gamma:  91\n",
      "------------------------------------------------------------\n",
      "max depth:  5 , num parallel tree:  2 gamma:  87\n",
      "------------------------------------------------------------\n",
      "max depth:  5 , num parallel tree:  2 gamma:  88\n",
      "------------------------------------------------------------\n",
      "max depth:  5 , num parallel tree:  2 gamma:  90\n",
      "------------------------------------------------------------\n"
     ]
    },
    {
     "name": "stdout",
     "output_type": "stream",
     "text": [
      "max depth:  5 , num parallel tree:  2 gamma:  91\n",
      "------------------------------------------------------------\n",
      "max depth:  5 , num parallel tree:  4 gamma:  87\n",
      "------------------------------------------------------------\n",
      "max depth:  5 , num parallel tree:  4 gamma:  88\n",
      "------------------------------------------------------------\n",
      "max depth:  5 , num parallel tree:  4 gamma:  90\n",
      "------------------------------------------------------------\n",
      "max depth:  5 , num parallel tree:  4 gamma:  91\n",
      "------------------------------------------------------------\n",
      "max depth:  5 , num parallel tree:  5 gamma:  87\n",
      "------------------------------------------------------------\n",
      "max depth:  5 , num parallel tree:  5 gamma:  88\n",
      "------------------------------------------------------------\n",
      "max depth:  5 , num parallel tree:  5 gamma:  90\n",
      "------------------------------------------------------------\n",
      "max depth:  5 , num parallel tree:  5 gamma:  91\n",
      "------------------------------------------------------------\n",
      "max depth:  7 , num parallel tree:  2 gamma:  87\n",
      "------------------------------------------------------------\n",
      "max depth:  7 , num parallel tree:  2 gamma:  88\n",
      "------------------------------------------------------------\n",
      "max depth:  7 , num parallel tree:  2 gamma:  90\n",
      "------------------------------------------------------------\n",
      "max depth:  7 , num parallel tree:  2 gamma:  91\n",
      "------------------------------------------------------------\n",
      "max depth:  7 , num parallel tree:  4 gamma:  87\n",
      "------------------------------------------------------------\n",
      "max depth:  7 , num parallel tree:  4 gamma:  88\n",
      "------------------------------------------------------------\n",
      "max depth:  7 , num parallel tree:  4 gamma:  90\n",
      "------------------------------------------------------------\n",
      "max depth:  7 , num parallel tree:  4 gamma:  91\n",
      "------------------------------------------------------------\n",
      "max depth:  7 , num parallel tree:  5 gamma:  87\n",
      "------------------------------------------------------------\n",
      "max depth:  7 , num parallel tree:  5 gamma:  88\n",
      "------------------------------------------------------------\n",
      "max depth:  7 , num parallel tree:  5 gamma:  90\n",
      "------------------------------------------------------------\n",
      "max depth:  7 , num parallel tree:  5 gamma:  91\n",
      "------------------------------------------------------------\n",
      "max depth:  6 , num parallel tree:  2 gamma:  87\n",
      "------------------------------------------------------------\n",
      "max depth:  6 , num parallel tree:  2 gamma:  88\n",
      "------------------------------------------------------------\n",
      "max depth:  6 , num parallel tree:  2 gamma:  90\n",
      "------------------------------------------------------------\n",
      "max depth:  6 , num parallel tree:  2 gamma:  91\n",
      "------------------------------------------------------------\n",
      "max depth:  6 , num parallel tree:  4 gamma:  87\n",
      "------------------------------------------------------------\n",
      "max depth:  6 , num parallel tree:  4 gamma:  88\n",
      "------------------------------------------------------------\n",
      "max depth:  6 , num parallel tree:  4 gamma:  90\n",
      "------------------------------------------------------------\n",
      "max depth:  6 , num parallel tree:  4 gamma:  91\n",
      "------------------------------------------------------------\n",
      "max depth:  6 , num parallel tree:  5 gamma:  87\n",
      "------------------------------------------------------------\n",
      "max depth:  6 , num parallel tree:  5 gamma:  88\n",
      "------------------------------------------------------------\n",
      "max depth:  6 , num parallel tree:  5 gamma:  90\n",
      "------------------------------------------------------------\n",
      "max depth:  6 , num parallel tree:  5 gamma:  91\n",
      "------------------------------------------------------------\n"
     ]
    }
   ],
   "source": [
    "my_dict = {\"LearningRate\": [], \"Max_Depth\":[], \"Num_Parallel_Tree\":[], \"Gamma\":[],\n",
    "           \"Train_AUC\": [], \"Test_AUC\": [], \"Train_3rd_DC\": [], \"Test_3rd_DC\": []};\n",
    "for i in [0.21, 0.215, 0.219]:\n",
    "    for j in [5, 7, 6]:\n",
    "        for k in [2, 4, 5]:\n",
    "            for l in [87, 88, 90, 91]:\n",
    "                eta, md, npt, gam, train_res, test_res, train_3rd_cap, test_3rd_cap = best_result(i, j, k, l, train, test)\n",
    "                my_dict[\"LearningRate\"].append(eta)\n",
    "                my_dict[\"Max_Depth\"].append(md)\n",
    "                my_dict[\"Num_Parallel_Tree\"].append(npt)\n",
    "                my_dict[\"Gamma\"].append(gam)\n",
    "                my_dict[\"Train_AUC\"].append(train_res)\n",
    "                my_dict[\"Test_AUC\"].append(test_res)\n",
    "                my_dict[\"Train_3rd_DC\"].append(train_3rd_cap)\n",
    "                my_dict[\"Test_3rd_DC\"].append(test_3rd_cap)\n",
    "\n",
    "\n",
    "                print(\"------------------------------------------------------------\")\n"
   ]
  },
  {
   "cell_type": "code",
   "execution_count": 151,
   "id": "931a4036",
   "metadata": {
    "scrolled": true
   },
   "outputs": [],
   "source": [
    "# pd.DataFrame(my_dict).to_excel('output_v1.4.xlsx', index = False)"
   ]
  },
  {
   "cell_type": "code",
   "execution_count": null,
   "id": "5e139e40",
   "metadata": {},
   "outputs": [],
   "source": [
    "\n",
    "# X_validation_prob = list(xgb_cl.predict_proba(X_validation)[:,1])\n",
    "\n",
    "\n",
    "# validation['Prob_score_XGB'] = X_validation_prob\n",
    "\n",
    "\n",
    "# print(\"ROC AUC Score for validation:\", roc_auc_score(y_validation, X_validation_prob) * 100)\n"
   ]
  },
  {
   "cell_type": "code",
   "execution_count": null,
   "id": "af630342",
   "metadata": {},
   "outputs": [],
   "source": []
  },
  {
   "cell_type": "code",
   "execution_count": null,
   "id": "a58d7a47",
   "metadata": {
    "scrolled": true
   },
   "outputs": [],
   "source": [
    "feat_imp = pd.DataFrame.from_dict(zip(list(X_train.columns), xgb_cl.feature_importances_*100)).sort_values(by = 1, ascending = False)\n",
    "# feat_imp.to_excel('feature_imp_xgb.xlsx', index = False)\n",
    "feat_imp"
   ]
  },
  {
   "cell_type": "code",
   "execution_count": null,
   "id": "08d0a7f6",
   "metadata": {},
   "outputs": [],
   "source": [
    "feat_imp[0].values"
   ]
  },
  {
   "cell_type": "code",
   "execution_count": null,
   "id": "a56bf7d8",
   "metadata": {},
   "outputs": [],
   "source": [
    "# print()\n",
    "print(\"ROC AUC Score for train:\", roc_auc_score(y_train, y_pred_xg1) * 100)\n",
    "print(\"ROC AUC Score for test:\", roc_auc_score(y_test, y_pred_xg) * 100)\n",
    "# print(\"ROC AUC Score for valid:\", roc_auc_score(y_validation, y_pred_xg_v) * 100)"
   ]
  },
  {
   "cell_type": "code",
   "execution_count": null,
   "id": "9baccdb2",
   "metadata": {},
   "outputs": [],
   "source": [
    "# xg_train_ks.to_csv('xgboost_ks_train.csv', index = False)\n",
    "xg_train_ks.reset_index()['cum_eventrate'][2]"
   ]
  },
  {
   "cell_type": "code",
   "execution_count": null,
   "id": "9361afcb",
   "metadata": {},
   "outputs": [],
   "source": [
    "# xg_test_ks.to_csv('xgboost_ks_test.csv', index = False)\n",
    "xg_test_ks"
   ]
  },
  {
   "cell_type": "code",
   "execution_count": null,
   "id": "a145fec5",
   "metadata": {},
   "outputs": [],
   "source": [
    "# xg_validation_ks.to_csv('xgboost_ks_validation.csv', index = False)\n",
    "# xg_validation_ks"
   ]
  },
  {
   "cell_type": "code",
   "execution_count": null,
   "id": "04fb2fe5",
   "metadata": {},
   "outputs": [],
   "source": []
  },
  {
   "cell_type": "code",
   "execution_count": null,
   "id": "84595539",
   "metadata": {},
   "outputs": [],
   "source": []
  },
  {
   "cell_type": "code",
   "execution_count": null,
   "id": "02409758",
   "metadata": {},
   "outputs": [],
   "source": []
  },
  {
   "cell_type": "code",
   "execution_count": null,
   "id": "0d68bd1c",
   "metadata": {},
   "outputs": [],
   "source": []
  },
  {
   "cell_type": "code",
   "execution_count": null,
   "id": "cbfe080e",
   "metadata": {},
   "outputs": [],
   "source": []
  }
 ],
 "metadata": {
  "kernelspec": {
   "display_name": "Python 3 (ipykernel)",
   "language": "python",
   "name": "python3"
  },
  "language_info": {
   "codemirror_mode": {
    "name": "ipython",
    "version": 3
   },
   "file_extension": ".py",
   "mimetype": "text/x-python",
   "name": "python",
   "nbconvert_exporter": "python",
   "pygments_lexer": "ipython3",
   "version": "3.10.9"
  }
 },
 "nbformat": 4,
 "nbformat_minor": 5
}
